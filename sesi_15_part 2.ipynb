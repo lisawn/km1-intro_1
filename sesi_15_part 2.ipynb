{
  "cells": [
    {
      "cell_type": "code",
      "execution_count": 1,
      "metadata": {},
      "outputs": [
        {
          "name": "stdout",
          "output_type": "stream",
          "text": [
            "Requirement already satisfied: pandas in c:\\users\\asus\\appdata\\local\\programs\\python\\python311\\lib\\site-packages (1.5.3)\n",
            "Requirement already satisfied: python-dateutil>=2.8.1 in c:\\users\\asus\\appdata\\roaming\\python\\python311\\site-packages (from pandas) (2.8.2)\n",
            "Requirement already satisfied: pytz>=2020.1 in c:\\users\\asus\\appdata\\local\\programs\\python\\python311\\lib\\site-packages (from pandas) (2023.2)\n",
            "Requirement already satisfied: numpy>=1.21.0 in c:\\users\\asus\\appdata\\local\\programs\\python\\python311\\lib\\site-packages (from pandas) (1.24.2)\n",
            "Requirement already satisfied: six>=1.5 in c:\\users\\asus\\appdata\\roaming\\python\\python311\\site-packages (from python-dateutil>=2.8.1->pandas) (1.16.0)\n",
            "Note: you may need to restart the kernel to use updated packages.\n"
          ]
        },
        {
          "name": "stderr",
          "output_type": "stream",
          "text": [
            "\n",
            "[notice] A new release of pip is available: 23.0.1 -> 23.1.2\n",
            "[notice] To update, run: python.exe -m pip install --upgrade pip\n"
          ]
        }
      ],
      "source": [
        "pip install pandas\n"
      ]
    },
    {
      "cell_type": "code",
      "execution_count": 2,
      "metadata": {},
      "outputs": [
        {
          "name": "stdout",
          "output_type": "stream",
          "text": [
            "Requirement already satisfied: numpy in c:\\users\\asus\\appdata\\local\\programs\\python\\python311\\lib\\site-packages (1.24.2)\n",
            "Note: you may need to restart the kernel to use updated packages.\n"
          ]
        },
        {
          "name": "stderr",
          "output_type": "stream",
          "text": [
            "\n",
            "[notice] A new release of pip is available: 23.0.1 -> 23.1.2\n",
            "[notice] To update, run: python.exe -m pip install --upgrade pip\n"
          ]
        }
      ],
      "source": [
        "pip install numpy\n"
      ]
    },
    {
      "cell_type": "code",
      "execution_count": 3,
      "metadata": {},
      "outputs": [
        {
          "name": "stdout",
          "output_type": "stream",
          "text": [
            "Requirement already satisfied: matplotlib in c:\\users\\asus\\appdata\\local\\programs\\python\\python311\\lib\\site-packages (3.7.1)\n",
            "Requirement already satisfied: contourpy>=1.0.1 in c:\\users\\asus\\appdata\\local\\programs\\python\\python311\\lib\\site-packages (from matplotlib) (1.0.7)\n",
            "Requirement already satisfied: cycler>=0.10 in c:\\users\\asus\\appdata\\local\\programs\\python\\python311\\lib\\site-packages (from matplotlib) (0.11.0)\n",
            "Requirement already satisfied: fonttools>=4.22.0 in c:\\users\\asus\\appdata\\local\\programs\\python\\python311\\lib\\site-packages (from matplotlib) (4.39.3)\n",
            "Requirement already satisfied: kiwisolver>=1.0.1 in c:\\users\\asus\\appdata\\local\\programs\\python\\python311\\lib\\site-packages (from matplotlib) (1.4.4)\n",
            "Requirement already satisfied: numpy>=1.20 in c:\\users\\asus\\appdata\\local\\programs\\python\\python311\\lib\\site-packages (from matplotlib) (1.24.2)\n",
            "Requirement already satisfied: packaging>=20.0 in c:\\users\\asus\\appdata\\roaming\\python\\python311\\site-packages (from matplotlib) (23.0)\n",
            "Requirement already satisfied: pillow>=6.2.0 in c:\\users\\asus\\appdata\\local\\programs\\python\\python311\\lib\\site-packages (from matplotlib) (9.5.0)\n",
            "Requirement already satisfied: pyparsing>=2.3.1 in c:\\users\\asus\\appdata\\local\\programs\\python\\python311\\lib\\site-packages (from matplotlib) (3.0.9)\n",
            "Requirement already satisfied: python-dateutil>=2.7 in c:\\users\\asus\\appdata\\roaming\\python\\python311\\site-packages (from matplotlib) (2.8.2)\n",
            "Requirement already satisfied: six>=1.5 in c:\\users\\asus\\appdata\\roaming\\python\\python311\\site-packages (from python-dateutil>=2.7->matplotlib) (1.16.0)\n",
            "Note: you may need to restart the kernel to use updated packages.\n"
          ]
        },
        {
          "name": "stderr",
          "output_type": "stream",
          "text": [
            "\n",
            "[notice] A new release of pip is available: 23.0.1 -> 23.1.2\n",
            "[notice] To update, run: python.exe -m pip install --upgrade pip\n"
          ]
        }
      ],
      "source": [
        "pip install matplotlib\n"
      ]
    },
    {
      "cell_type": "code",
      "execution_count": 4,
      "metadata": {},
      "outputs": [
        {
          "name": "stdout",
          "output_type": "stream",
          "text": [
            "Note: you may need to restart the kernel to use updated packages.\n"
          ]
        },
        {
          "name": "stderr",
          "output_type": "stream",
          "text": [
            "ERROR: Could not find a version that satisfies the requirement pyplot (from versions: none)\n",
            "ERROR: No matching distribution found for pyplot\n",
            "\n",
            "[notice] A new release of pip is available: 23.0.1 -> 23.1.2\n",
            "[notice] To update, run: python.exe -m pip install --upgrade pip\n"
          ]
        }
      ],
      "source": [
        "pip install pyplot \n"
      ]
    },
    {
      "cell_type": "code",
      "execution_count": 5,
      "metadata": {},
      "outputs": [
        {
          "name": "stdout",
          "output_type": "stream",
          "text": [
            "Requirement already satisfied: seaborn in c:\\users\\asus\\appdata\\local\\programs\\python\\python311\\lib\\site-packages (0.12.2)\n",
            "Requirement already satisfied: numpy!=1.24.0,>=1.17 in c:\\users\\asus\\appdata\\local\\programs\\python\\python311\\lib\\site-packages (from seaborn) (1.24.2)\n",
            "Requirement already satisfied: pandas>=0.25 in c:\\users\\asus\\appdata\\local\\programs\\python\\python311\\lib\\site-packages (from seaborn) (1.5.3)\n",
            "Requirement already satisfied: matplotlib!=3.6.1,>=3.1 in c:\\users\\asus\\appdata\\local\\programs\\python\\python311\\lib\\site-packages (from seaborn) (3.7.1)\n",
            "Requirement already satisfied: contourpy>=1.0.1 in c:\\users\\asus\\appdata\\local\\programs\\python\\python311\\lib\\site-packages (from matplotlib!=3.6.1,>=3.1->seaborn) (1.0.7)\n",
            "Requirement already satisfied: cycler>=0.10 in c:\\users\\asus\\appdata\\local\\programs\\python\\python311\\lib\\site-packages (from matplotlib!=3.6.1,>=3.1->seaborn) (0.11.0)\n",
            "Requirement already satisfied: fonttools>=4.22.0 in c:\\users\\asus\\appdata\\local\\programs\\python\\python311\\lib\\site-packages (from matplotlib!=3.6.1,>=3.1->seaborn) (4.39.3)\n",
            "Requirement already satisfied: kiwisolver>=1.0.1 in c:\\users\\asus\\appdata\\local\\programs\\python\\python311\\lib\\site-packages (from matplotlib!=3.6.1,>=3.1->seaborn) (1.4.4)\n",
            "Requirement already satisfied: packaging>=20.0 in c:\\users\\asus\\appdata\\roaming\\python\\python311\\site-packages (from matplotlib!=3.6.1,>=3.1->seaborn) (23.0)\n",
            "Requirement already satisfied: pillow>=6.2.0 in c:\\users\\asus\\appdata\\local\\programs\\python\\python311\\lib\\site-packages (from matplotlib!=3.6.1,>=3.1->seaborn) (9.5.0)\n",
            "Requirement already satisfied: pyparsing>=2.3.1 in c:\\users\\asus\\appdata\\local\\programs\\python\\python311\\lib\\site-packages (from matplotlib!=3.6.1,>=3.1->seaborn) (3.0.9)\n",
            "Requirement already satisfied: python-dateutil>=2.7 in c:\\users\\asus\\appdata\\roaming\\python\\python311\\site-packages (from matplotlib!=3.6.1,>=3.1->seaborn) (2.8.2)\n",
            "Requirement already satisfied: pytz>=2020.1 in c:\\users\\asus\\appdata\\local\\programs\\python\\python311\\lib\\site-packages (from pandas>=0.25->seaborn) (2023.2)\n",
            "Requirement already satisfied: six>=1.5 in c:\\users\\asus\\appdata\\roaming\\python\\python311\\site-packages (from python-dateutil>=2.7->matplotlib!=3.6.1,>=3.1->seaborn) (1.16.0)\n",
            "Note: you may need to restart the kernel to use updated packages.\n"
          ]
        },
        {
          "name": "stderr",
          "output_type": "stream",
          "text": [
            "\n",
            "[notice] A new release of pip is available: 23.0.1 -> 23.1.2\n",
            "[notice] To update, run: python.exe -m pip install --upgrade pip\n"
          ]
        }
      ],
      "source": [
        "\n",
        "pip install seaborn \n"
      ]
    },
    {
      "cell_type": "code",
      "execution_count": null,
      "metadata": {},
      "outputs": [],
      "source": []
    },
    {
      "cell_type": "code",
      "execution_count": 6,
      "metadata": {},
      "outputs": [
        {
          "name": "stdout",
          "output_type": "stream",
          "text": [
            "Requirement already satisfied: seaborn in c:\\users\\asus\\appdata\\local\\programs\\python\\python311\\lib\\site-packages (0.12.2)\n",
            "Requirement already satisfied: numpy!=1.24.0,>=1.17 in c:\\users\\asus\\appdata\\local\\programs\\python\\python311\\lib\\site-packages (from seaborn) (1.24.2)\n",
            "Requirement already satisfied: pandas>=0.25 in c:\\users\\asus\\appdata\\local\\programs\\python\\python311\\lib\\site-packages (from seaborn) (1.5.3)\n",
            "Requirement already satisfied: matplotlib!=3.6.1,>=3.1 in c:\\users\\asus\\appdata\\local\\programs\\python\\python311\\lib\\site-packages (from seaborn) (3.7.1)\n",
            "Requirement already satisfied: contourpy>=1.0.1 in c:\\users\\asus\\appdata\\local\\programs\\python\\python311\\lib\\site-packages (from matplotlib!=3.6.1,>=3.1->seaborn) (1.0.7)\n",
            "Requirement already satisfied: cycler>=0.10 in c:\\users\\asus\\appdata\\local\\programs\\python\\python311\\lib\\site-packages (from matplotlib!=3.6.1,>=3.1->seaborn) (0.11.0)\n",
            "Requirement already satisfied: fonttools>=4.22.0 in c:\\users\\asus\\appdata\\local\\programs\\python\\python311\\lib\\site-packages (from matplotlib!=3.6.1,>=3.1->seaborn) (4.39.3)\n",
            "Requirement already satisfied: kiwisolver>=1.0.1 in c:\\users\\asus\\appdata\\local\\programs\\python\\python311\\lib\\site-packages (from matplotlib!=3.6.1,>=3.1->seaborn) (1.4.4)\n",
            "Requirement already satisfied: packaging>=20.0 in c:\\users\\asus\\appdata\\roaming\\python\\python311\\site-packages (from matplotlib!=3.6.1,>=3.1->seaborn) (23.0)\n",
            "Requirement already satisfied: pillow>=6.2.0 in c:\\users\\asus\\appdata\\local\\programs\\python\\python311\\lib\\site-packages (from matplotlib!=3.6.1,>=3.1->seaborn) (9.5.0)\n",
            "Requirement already satisfied: pyparsing>=2.3.1 in c:\\users\\asus\\appdata\\local\\programs\\python\\python311\\lib\\site-packages (from matplotlib!=3.6.1,>=3.1->seaborn) (3.0.9)\n",
            "Requirement already satisfied: python-dateutil>=2.7 in c:\\users\\asus\\appdata\\roaming\\python\\python311\\site-packages (from matplotlib!=3.6.1,>=3.1->seaborn) (2.8.2)\n",
            "Requirement already satisfied: pytz>=2020.1 in c:\\users\\asus\\appdata\\local\\programs\\python\\python311\\lib\\site-packages (from pandas>=0.25->seaborn) (2023.2)\n",
            "Requirement already satisfied: six>=1.5 in c:\\users\\asus\\appdata\\roaming\\python\\python311\\site-packages (from python-dateutil>=2.7->matplotlib!=3.6.1,>=3.1->seaborn) (1.16.0)\n",
            "Note: you may need to restart the kernel to use updated packages.\n"
          ]
        },
        {
          "name": "stderr",
          "output_type": "stream",
          "text": [
            "\n",
            "[notice] A new release of pip is available: 23.0.1 -> 23.1.2\n",
            "[notice] To update, run: python.exe -m pip install --upgrade pip\n"
          ]
        }
      ],
      "source": [
        "\n",
        "pip install seaborn \n"
      ]
    },
    {
      "cell_type": "code",
      "execution_count": 7,
      "metadata": {},
      "outputs": [
        {
          "name": "stdout",
          "output_type": "stream",
          "text": [
            "Note: you may need to restart the kernel to use updated packages.\n"
          ]
        },
        {
          "name": "stderr",
          "output_type": "stream",
          "text": [
            "ERROR: Could not find a version that satisfies the requirement warnings (from versions: none)\n",
            "ERROR: No matching distribution found for warnings\n",
            "\n",
            "[notice] A new release of pip is available: 23.0.1 -> 23.1.2\n",
            "[notice] To update, run: python.exe -m pip install --upgrade pip\n"
          ]
        }
      ],
      "source": [
        "\n",
        "pip install warnings\n"
      ]
    },
    {
      "cell_type": "code",
      "execution_count": 8,
      "metadata": {},
      "outputs": [
        {
          "name": "stdout",
          "output_type": "stream",
          "text": [
            "Note: you may need to restart the kernel to use updated packages.\n"
          ]
        },
        {
          "name": "stderr",
          "output_type": "stream",
          "text": [
            "ERROR: Could not find a version that satisfies the requirement filterwarnings (from versions: none)\n",
            "ERROR: No matching distribution found for filterwarnings\n",
            "\n",
            "[notice] A new release of pip is available: 23.0.1 -> 23.1.2\n",
            "[notice] To update, run: python.exe -m pip install --upgrade pip\n"
          ]
        }
      ],
      "source": [
        "pip install filterwarnings\n"
      ]
    },
    {
      "cell_type": "code",
      "execution_count": 9,
      "metadata": {},
      "outputs": [
        {
          "name": "stdout",
          "output_type": "stream",
          "text": [
            "Requirement already satisfied: ignore in c:\\users\\asus\\appdata\\local\\programs\\python\\python311\\lib\\site-packages (0.1.4)\n",
            "Note: you may need to restart the kernel to use updated packages.\n"
          ]
        },
        {
          "name": "stderr",
          "output_type": "stream",
          "text": [
            "\n",
            "[notice] A new release of pip is available: 23.0.1 -> 23.1.2\n",
            "[notice] To update, run: python.exe -m pip install --upgrade pip\n"
          ]
        }
      ],
      "source": [
        "pip install ignore\n"
      ]
    },
    {
      "cell_type": "code",
      "execution_count": 10,
      "metadata": {},
      "outputs": [
        {
          "name": "stdout",
          "output_type": "stream",
          "text": [
            "Requirement already satisfied: scikit-learn in c:\\users\\asus\\appdata\\local\\programs\\python\\python311\\lib\\site-packages (1.2.2)\n",
            "Requirement already satisfied: numpy>=1.17.3 in c:\\users\\asus\\appdata\\local\\programs\\python\\python311\\lib\\site-packages (from scikit-learn) (1.24.2)\n",
            "Requirement already satisfied: scipy>=1.3.2 in c:\\users\\asus\\appdata\\local\\programs\\python\\python311\\lib\\site-packages (from scikit-learn) (1.10.1)\n",
            "Requirement already satisfied: joblib>=1.1.1 in c:\\users\\asus\\appdata\\local\\programs\\python\\python311\\lib\\site-packages (from scikit-learn) (1.2.0)\n",
            "Requirement already satisfied: threadpoolctl>=2.0.0 in c:\\users\\asus\\appdata\\local\\programs\\python\\python311\\lib\\site-packages (from scikit-learn) (3.1.0)\n",
            "Note: you may need to restart the kernel to use updated packages.\n"
          ]
        },
        {
          "name": "stderr",
          "output_type": "stream",
          "text": [
            "\n",
            "[notice] A new release of pip is available: 23.0.1 -> 23.1.2\n",
            "[notice] To update, run: python.exe -m pip install --upgrade pip\n"
          ]
        }
      ],
      "source": [
        "\n",
        "pip install scikit-learn\n"
      ]
    },
    {
      "cell_type": "code",
      "execution_count": 11,
      "metadata": {},
      "outputs": [
        {
          "name": "stdout",
          "output_type": "stream",
          "text": [
            "Note: you may need to restart the kernel to use updated packages.\n"
          ]
        },
        {
          "name": "stderr",
          "output_type": "stream",
          "text": [
            "ERROR: Could not find a version that satisfies the requirement linear_model (from versions: none)\n",
            "ERROR: No matching distribution found for linear_model\n",
            "\n",
            "[notice] A new release of pip is available: 23.0.1 -> 23.1.2\n",
            "[notice] To update, run: python.exe -m pip install --upgrade pip\n"
          ]
        }
      ],
      "source": [
        "pip install linear_model \n"
      ]
    },
    {
      "cell_type": "code",
      "execution_count": 12,
      "metadata": {},
      "outputs": [
        {
          "name": "stdout",
          "output_type": "stream",
          "text": [
            "Requirement already satisfied: LinearRegression in c:\\users\\asus\\appdata\\local\\programs\\python\\python311\\lib\\site-packages (0.0.1)\n",
            "Note: you may need to restart the kernel to use updated packages.\n"
          ]
        },
        {
          "name": "stderr",
          "output_type": "stream",
          "text": [
            "\n",
            "[notice] A new release of pip is available: 23.0.1 -> 23.1.2\n",
            "[notice] To update, run: python.exe -m pip install --upgrade pip\n"
          ]
        }
      ],
      "source": [
        "pip install LinearRegression\n"
      ]
    },
    {
      "cell_type": "code",
      "execution_count": 13,
      "metadata": {},
      "outputs": [
        {
          "name": "stdout",
          "output_type": "stream",
          "text": [
            "Requirement already satisfied: ensemble in c:\\users\\asus\\appdata\\local\\programs\\python\\python311\\lib\\site-packages (0.0.dev1)\n",
            "Requirement already satisfied: docopt in c:\\users\\asus\\appdata\\local\\programs\\python\\python311\\lib\\site-packages (from ensemble) (0.6.2)\n",
            "Requirement already satisfied: lxml in c:\\users\\asus\\appdata\\local\\programs\\python\\python311\\lib\\site-packages (from ensemble) (4.9.2)\n",
            "Requirement already satisfied: numpy in c:\\users\\asus\\appdata\\local\\programs\\python\\python311\\lib\\site-packages (from ensemble) (1.24.2)\n",
            "Requirement already satisfied: pandas in c:\\users\\asus\\appdata\\local\\programs\\python\\python311\\lib\\site-packages (from ensemble) (1.5.3)\n",
            "Requirement already satisfied: pyprind in c:\\users\\asus\\appdata\\local\\programs\\python\\python311\\lib\\site-packages (from ensemble) (2.11.3)\n",
            "Requirement already satisfied: pysut in c:\\users\\asus\\appdata\\local\\programs\\python\\python311\\lib\\site-packages (from ensemble) (1.1)\n",
            "Requirement already satisfied: pytest in c:\\users\\asus\\appdata\\local\\programs\\python\\python311\\lib\\site-packages (from ensemble) (7.3.1)\n",
            "Requirement already satisfied: stats_arrays in c:\\users\\asus\\appdata\\local\\programs\\python\\python311\\lib\\site-packages (from ensemble) (0.6.5)\n",
            "Requirement already satisfied: wrapt in c:\\users\\asus\\appdata\\local\\programs\\python\\python311\\lib\\site-packages (from ensemble) (1.15.0)\n",
            "Requirement already satisfied: python-dateutil>=2.8.1 in c:\\users\\asus\\appdata\\roaming\\python\\python311\\site-packages (from pandas->ensemble) (2.8.2)\n",
            "Requirement already satisfied: pytz>=2020.1 in c:\\users\\asus\\appdata\\local\\programs\\python\\python311\\lib\\site-packages (from pandas->ensemble) (2023.2)\n",
            "Requirement already satisfied: scipy in c:\\users\\asus\\appdata\\local\\programs\\python\\python311\\lib\\site-packages (from pysut->ensemble) (1.10.1)\n",
            "Requirement already satisfied: iniconfig in c:\\users\\asus\\appdata\\local\\programs\\python\\python311\\lib\\site-packages (from pytest->ensemble) (2.0.0)\n",
            "Requirement already satisfied: packaging in c:\\users\\asus\\appdata\\roaming\\python\\python311\\site-packages (from pytest->ensemble) (23.0)\n",
            "Requirement already satisfied: pluggy<2.0,>=0.12 in c:\\users\\asus\\appdata\\local\\programs\\python\\python311\\lib\\site-packages (from pytest->ensemble) (1.0.0)\n",
            "Requirement already satisfied: colorama in c:\\users\\asus\\appdata\\roaming\\python\\python311\\site-packages (from pytest->ensemble) (0.4.6)\n",
            "Requirement already satisfied: six>=1.5 in c:\\users\\asus\\appdata\\roaming\\python\\python311\\site-packages (from python-dateutil>=2.8.1->pandas->ensemble) (1.16.0)\n",
            "Note: you may need to restart the kernel to use updated packages.\n"
          ]
        },
        {
          "name": "stderr",
          "output_type": "stream",
          "text": [
            "\n",
            "[notice] A new release of pip is available: 23.0.1 -> 23.1.2\n",
            "[notice] To update, run: python.exe -m pip install --upgrade pip\n"
          ]
        }
      ],
      "source": [
        "pip install ensemble \n"
      ]
    },
    {
      "cell_type": "code",
      "execution_count": 14,
      "metadata": {},
      "outputs": [
        {
          "name": "stdout",
          "output_type": "stream",
          "text": [
            "Note: you may need to restart the kernel to use updated packages.\n"
          ]
        },
        {
          "name": "stderr",
          "output_type": "stream",
          "text": [
            "ERROR: Could not find a version that satisfies the requirement RandomForestRegressor (from versions: none)\n",
            "ERROR: No matching distribution found for RandomForestRegressor\n",
            "\n",
            "[notice] A new release of pip is available: 23.0.1 -> 23.1.2\n",
            "[notice] To update, run: python.exe -m pip install --upgrade pip\n"
          ]
        }
      ],
      "source": [
        "pip install RandomForestRegressor\n"
      ]
    },
    {
      "cell_type": "code",
      "execution_count": 15,
      "metadata": {},
      "outputs": [
        {
          "name": "stdout",
          "output_type": "stream",
          "text": [
            "Note: you may need to restart the kernel to use updated packages.\n"
          ]
        },
        {
          "name": "stderr",
          "output_type": "stream",
          "text": [
            "ERROR: Could not find a version that satisfies the requirement LogisticRegression (from versions: none)\n",
            "ERROR: No matching distribution found for LogisticRegression\n",
            "\n",
            "[notice] A new release of pip is available: 23.0.1 -> 23.1.2\n",
            "[notice] To update, run: python.exe -m pip install --upgrade pip\n"
          ]
        }
      ],
      "source": [
        "\n",
        "\n",
        "pip install LogisticRegression\n"
      ]
    },
    {
      "cell_type": "code",
      "execution_count": 16,
      "metadata": {},
      "outputs": [
        {
          "name": "stdout",
          "output_type": "stream",
          "text": [
            "Note: you may need to restart the kernel to use updated packages.\n"
          ]
        },
        {
          "name": "stderr",
          "output_type": "stream",
          "text": [
            "ERROR: Could not find a version that satisfies the requirement RandomForestClassifier (from versions: none)\n",
            "ERROR: No matching distribution found for RandomForestClassifier\n",
            "\n",
            "[notice] A new release of pip is available: 23.0.1 -> 23.1.2\n",
            "[notice] To update, run: python.exe -m pip install --upgrade pip\n"
          ]
        }
      ],
      "source": [
        "pip install RandomForestClassifier\n"
      ]
    },
    {
      "cell_type": "code",
      "execution_count": 17,
      "metadata": {},
      "outputs": [
        {
          "name": "stdout",
          "output_type": "stream",
          "text": [
            "Requirement already satisfied: svm in c:\\users\\asus\\appdata\\local\\programs\\python\\python311\\lib\\site-packages (0.1.0)\n",
            "Requirement already satisfied: requests in c:\\users\\asus\\appdata\\local\\programs\\python\\python311\\lib\\site-packages (from svm) (2.28.2)\n",
            "Requirement already satisfied: colorama in c:\\users\\asus\\appdata\\roaming\\python\\python311\\site-packages (from svm) (0.4.6)\n",
            "Requirement already satisfied: xmltodict in c:\\users\\asus\\appdata\\local\\programs\\python\\python311\\lib\\site-packages (from svm) (0.13.0)\n",
            "Requirement already satisfied: charset-normalizer<4,>=2 in c:\\users\\asus\\appdata\\local\\programs\\python\\python311\\lib\\site-packages (from requests->svm) (3.1.0)\n",
            "Requirement already satisfied: idna<4,>=2.5 in c:\\users\\asus\\appdata\\roaming\\python\\python311\\site-packages (from requests->svm) (3.4)\n",
            "Requirement already satisfied: urllib3<1.27,>=1.21.1 in c:\\users\\asus\\appdata\\local\\programs\\python\\python311\\lib\\site-packages (from requests->svm) (1.26.15)\n",
            "Requirement already satisfied: certifi>=2017.4.17 in c:\\users\\asus\\appdata\\local\\programs\\python\\python311\\lib\\site-packages (from requests->svm) (2022.12.7)\n",
            "Note: you may need to restart the kernel to use updated packages.\n"
          ]
        },
        {
          "name": "stderr",
          "output_type": "stream",
          "text": [
            "\n",
            "[notice] A new release of pip is available: 23.0.1 -> 23.1.2\n",
            "[notice] To update, run: python.exe -m pip install --upgrade pip\n"
          ]
        }
      ],
      "source": [
        "pip install svm"
      ]
    },
    {
      "cell_type": "code",
      "execution_count": 18,
      "metadata": {},
      "outputs": [
        {
          "name": "stdout",
          "output_type": "stream",
          "text": [
            "Requirement already satisfied: SVC in c:\\users\\asus\\appdata\\local\\programs\\python\\python311\\lib\\site-packages (0.1)\n",
            "Requirement already satisfied: xlrd>=0.9.3 in c:\\users\\asus\\appdata\\local\\programs\\python\\python311\\lib\\site-packages (from SVC) (2.0.1)\n",
            "Note: you may need to restart the kernel to use updated packages.\n"
          ]
        },
        {
          "name": "stderr",
          "output_type": "stream",
          "text": [
            "\n",
            "[notice] A new release of pip is available: 23.0.1 -> 23.1.2\n",
            "[notice] To update, run: python.exe -m pip install --upgrade pip\n"
          ]
        }
      ],
      "source": [
        "pip install SVC"
      ]
    },
    {
      "cell_type": "code",
      "execution_count": 19,
      "metadata": {},
      "outputs": [
        {
          "name": "stdout",
          "output_type": "stream",
          "text": [
            "Requirement already satisfied: model_selection in c:\\users\\asus\\appdata\\local\\programs\\python\\python311\\lib\\site-packages (0.0.1)\n",
            "Note: you may need to restart the kernel to use updated packages.\n"
          ]
        },
        {
          "name": "stderr",
          "output_type": "stream",
          "text": [
            "\n",
            "[notice] A new release of pip is available: 23.0.1 -> 23.1.2\n",
            "[notice] To update, run: python.exe -m pip install --upgrade pip\n"
          ]
        }
      ],
      "source": [
        "\n",
        "pip install model_selection \n"
      ]
    },
    {
      "cell_type": "code",
      "execution_count": 20,
      "metadata": {},
      "outputs": [
        {
          "name": "stdout",
          "output_type": "stream",
          "text": [
            "Note: you may need to restart the kernel to use updated packages.\n"
          ]
        },
        {
          "name": "stderr",
          "output_type": "stream",
          "text": [
            "ERROR: Could not find a version that satisfies the requirement train_test_split (from versions: none)\n",
            "ERROR: No matching distribution found for train_test_split\n",
            "\n",
            "[notice] A new release of pip is available: 23.0.1 -> 23.1.2\n",
            "[notice] To update, run: python.exe -m pip install --upgrade pip\n"
          ]
        }
      ],
      "source": [
        "pip install train_test_split\n"
      ]
    },
    {
      "cell_type": "code",
      "execution_count": 21,
      "metadata": {},
      "outputs": [
        {
          "name": "stdout",
          "output_type": "stream",
          "text": [
            "Requirement already satisfied: preprocessing in c:\\users\\asus\\appdata\\local\\programs\\python\\python311\\lib\\site-packages (0.1.13)\n",
            "Requirement already satisfied: nltk==3.2.4 in c:\\users\\asus\\appdata\\local\\programs\\python\\python311\\lib\\site-packages (from preprocessing) (3.2.4)\n",
            "Requirement already satisfied: sphinx-rtd-theme==0.2.4 in c:\\users\\asus\\appdata\\local\\programs\\python\\python311\\lib\\site-packages (from preprocessing) (0.2.4)\n",
            "Requirement already satisfied: six in c:\\users\\asus\\appdata\\roaming\\python\\python311\\site-packages (from nltk==3.2.4->preprocessing) (1.16.0)\n",
            "Note: you may need to restart the kernel to use updated packages.\n"
          ]
        },
        {
          "name": "stderr",
          "output_type": "stream",
          "text": [
            "\n",
            "[notice] A new release of pip is available: 23.0.1 -> 23.1.2\n",
            "[notice] To update, run: python.exe -m pip install --upgrade pip\n"
          ]
        }
      ],
      "source": [
        "pip install preprocessing"
      ]
    },
    {
      "cell_type": "code",
      "execution_count": 22,
      "metadata": {},
      "outputs": [
        {
          "name": "stdout",
          "output_type": "stream",
          "text": [
            "Requirement already satisfied: StandardScaler in c:\\users\\asus\\appdata\\local\\programs\\python\\python311\\lib\\site-packages (0.5)\n",
            "Requirement already satisfied: numpy in c:\\users\\asus\\appdata\\local\\programs\\python\\python311\\lib\\site-packages (from StandardScaler) (1.24.2)\n",
            "Requirement already satisfied: pandas in c:\\users\\asus\\appdata\\local\\programs\\python\\python311\\lib\\site-packages (from StandardScaler) (1.5.3)\n",
            "Requirement already satisfied: scikit-learn in c:\\users\\asus\\appdata\\local\\programs\\python\\python311\\lib\\site-packages (from StandardScaler) (1.2.2)\n",
            "Requirement already satisfied: scikit-elm in c:\\users\\asus\\appdata\\local\\programs\\python\\python311\\lib\\site-packages (from StandardScaler) (0.21a0)\n",
            "Requirement already satisfied: dask in c:\\users\\asus\\appdata\\local\\programs\\python\\python311\\lib\\site-packages (from StandardScaler) (2023.5.0)\n",
            "Requirement already satisfied: click>=8.0 in c:\\users\\asus\\appdata\\local\\programs\\python\\python311\\lib\\site-packages (from dask->StandardScaler) (8.1.3)\n",
            "Requirement already satisfied: cloudpickle>=1.5.0 in c:\\users\\asus\\appdata\\local\\programs\\python\\python311\\lib\\site-packages (from dask->StandardScaler) (2.2.1)\n",
            "Requirement already satisfied: fsspec>=2021.09.0 in c:\\users\\asus\\appdata\\local\\programs\\python\\python311\\lib\\site-packages (from dask->StandardScaler) (2023.5.0)\n",
            "Requirement already satisfied: packaging>=20.0 in c:\\users\\asus\\appdata\\roaming\\python\\python311\\site-packages (from dask->StandardScaler) (23.0)\n",
            "Requirement already satisfied: partd>=1.2.0 in c:\\users\\asus\\appdata\\local\\programs\\python\\python311\\lib\\site-packages (from dask->StandardScaler) (1.4.0)\n",
            "Requirement already satisfied: pyyaml>=5.3.1 in c:\\users\\asus\\appdata\\roaming\\python\\python311\\site-packages (from dask->StandardScaler) (6.0)\n",
            "Requirement already satisfied: toolz>=0.10.0 in c:\\users\\asus\\appdata\\local\\programs\\python\\python311\\lib\\site-packages (from dask->StandardScaler) (0.12.0)\n",
            "Requirement already satisfied: importlib-metadata>=4.13.0 in c:\\users\\asus\\appdata\\local\\programs\\python\\python311\\lib\\site-packages (from dask->StandardScaler) (6.6.0)\n",
            "Requirement already satisfied: python-dateutil>=2.8.1 in c:\\users\\asus\\appdata\\roaming\\python\\python311\\site-packages (from pandas->StandardScaler) (2.8.2)\n",
            "Requirement already satisfied: pytz>=2020.1 in c:\\users\\asus\\appdata\\local\\programs\\python\\python311\\lib\\site-packages (from pandas->StandardScaler) (2023.2)\n",
            "Requirement already satisfied: scipy in c:\\users\\asus\\appdata\\local\\programs\\python\\python311\\lib\\site-packages (from scikit-elm->StandardScaler) (1.10.1)\n",
            "Requirement already satisfied: joblib>=1.1.1 in c:\\users\\asus\\appdata\\local\\programs\\python\\python311\\lib\\site-packages (from scikit-learn->StandardScaler) (1.2.0)\n",
            "Requirement already satisfied: threadpoolctl>=2.0.0 in c:\\users\\asus\\appdata\\local\\programs\\python\\python311\\lib\\site-packages (from scikit-learn->StandardScaler) (3.1.0)\n",
            "Requirement already satisfied: colorama in c:\\users\\asus\\appdata\\roaming\\python\\python311\\site-packages (from click>=8.0->dask->StandardScaler) (0.4.6)\n",
            "Requirement already satisfied: zipp>=0.5 in c:\\users\\asus\\appdata\\local\\programs\\python\\python311\\lib\\site-packages (from importlib-metadata>=4.13.0->dask->StandardScaler) (3.15.0)\n",
            "Requirement already satisfied: locket in c:\\users\\asus\\appdata\\local\\programs\\python\\python311\\lib\\site-packages (from partd>=1.2.0->dask->StandardScaler) (1.0.0)\n",
            "Requirement already satisfied: six>=1.5 in c:\\users\\asus\\appdata\\roaming\\python\\python311\\site-packages (from python-dateutil>=2.8.1->pandas->StandardScaler) (1.16.0)\n",
            "Note: you may need to restart the kernel to use updated packages.\n"
          ]
        },
        {
          "name": "stderr",
          "output_type": "stream",
          "text": [
            "\n",
            "[notice] A new release of pip is available: 23.0.1 -> 23.1.2\n",
            "[notice] To update, run: python.exe -m pip install --upgrade pip\n"
          ]
        }
      ],
      "source": [
        " \n",
        "pip install StandardScaler\n"
      ]
    },
    {
      "cell_type": "code",
      "execution_count": 23,
      "metadata": {},
      "outputs": [
        {
          "name": "stdout",
          "output_type": "stream",
          "text": [
            "Requirement already satisfied: metrics in c:\\users\\asus\\appdata\\local\\programs\\python\\python311\\lib\\site-packages (0.3.3)\n",
            "Requirement already satisfied: Pygments==2.2.0 in c:\\users\\asus\\appdata\\local\\programs\\python\\python311\\lib\\site-packages (from metrics) (2.2.0)\n",
            "Requirement already satisfied: pathspec==0.5.5 in c:\\users\\asus\\appdata\\local\\programs\\python\\python311\\lib\\site-packages (from metrics) (0.5.5)\n",
            "Requirement already satisfied: pathlib2>=2.3.0 in c:\\users\\asus\\appdata\\local\\programs\\python\\python311\\lib\\site-packages (from metrics) (2.3.7.post1)\n",
            "Requirement already satisfied: six in c:\\users\\asus\\appdata\\roaming\\python\\python311\\site-packages (from pathlib2>=2.3.0->metrics) (1.16.0)\n",
            "Note: you may need to restart the kernel to use updated packages.\n"
          ]
        },
        {
          "name": "stderr",
          "output_type": "stream",
          "text": [
            "\n",
            "[notice] A new release of pip is available: 23.0.1 -> 23.1.2\n",
            "[notice] To update, run: python.exe -m pip install --upgrade pip\n"
          ]
        }
      ],
      "source": [
        "\n",
        "pip install metrics \n"
      ]
    },
    {
      "cell_type": "code",
      "execution_count": 24,
      "metadata": {},
      "outputs": [
        {
          "name": "stdout",
          "output_type": "stream",
          "text": [
            "Note: you may need to restart the kernel to use updated packages.\n"
          ]
        },
        {
          "name": "stderr",
          "output_type": "stream",
          "text": [
            "ERROR: Could not find a version that satisfies the requirement mean_squared_error (from versions: none)\n",
            "ERROR: No matching distribution found for mean_squared_error\n",
            "\n",
            "[notice] A new release of pip is available: 23.0.1 -> 23.1.2\n",
            "[notice] To update, run: python.exe -m pip install --upgrade pip\n"
          ]
        }
      ],
      "source": [
        "pip install mean_squared_error\n"
      ]
    },
    {
      "cell_type": "code",
      "execution_count": 25,
      "metadata": {},
      "outputs": [
        {
          "name": "stdout",
          "output_type": "stream",
          "text": [
            "Note: you may need to restart the kernel to use updated packages.\n"
          ]
        },
        {
          "name": "stderr",
          "output_type": "stream",
          "text": [
            "ERROR: Could not find a version that satisfies the requirement roc_auc_score (from versions: none)\n",
            "ERROR: No matching distribution found for roc_auc_score\n",
            "\n",
            "[notice] A new release of pip is available: 23.0.1 -> 23.1.2\n",
            "[notice] To update, run: python.exe -m pip install --upgrade pip\n"
          ]
        }
      ],
      "source": [
        "\n",
        "pip install roc_auc_score"
      ]
    },
    {
      "cell_type": "code",
      "execution_count": 26,
      "metadata": {
        "id": "ZESPJDBA8VWz"
      },
      "outputs": [],
      "source": [
        "# Define Libraries\n",
        "\n",
        "import pandas as pd\n",
        "import numpy as np\n",
        "import matplotlib.pyplot as plt\n",
        "%matplotlib inline\n",
        "import seaborn as sns\n",
        "\n",
        "import warnings\n",
        "warnings.filterwarnings('ignore')\n",
        "\n",
        "# For Regression Problems\n",
        "from sklearn.linear_model import LinearRegression\n",
        "from sklearn.ensemble import RandomForestRegressor\n",
        "\n",
        "# For Classification Problems\n",
        "from sklearn.linear_model import LogisticRegression\n",
        "from sklearn.ensemble import RandomForestClassifier\n",
        "from sklearn.svm import SVC\n",
        "\n",
        "# Split Dataset and Standarize the Datasets\n",
        "from sklearn.model_selection import train_test_split\n",
        "from sklearn.preprocessing import StandardScaler\n",
        "\n",
        "# Evaluate Regression Models\n",
        "from sklearn.metrics import mean_squared_error\n",
        "\n",
        "# Evaluate Classification Models\n",
        "from sklearn.metrics import roc_auc_score"
      ]
    },
    {
      "attachments": {},
      "cell_type": "markdown",
      "metadata": {
        "id": "3c-p_-XDUalH"
      },
      "source": [
        "# New Section"
      ]
    },
    {
      "attachments": {},
      "cell_type": "markdown",
      "metadata": {
        "id": "1A-yDnssYqpr"
      },
      "source": [
        "# A. Missing Values"
      ]
    },
    {
      "attachments": {},
      "cell_type": "markdown",
      "metadata": {
        "id": "VrgBN6qdYx-_"
      },
      "source": [
        "Missing data, or Missing values, occur when __no data__ / __no value__ is stored for a certain observation within a variable. \n",
        "\n",
        "Missing data are a common occurrence both in data science competitions and in business domain, and can have a significant effect on the conclusions that can be drawn from the data. **Incomplete data is an unavoidable problem in dealing with most data sources.**"
      ]
    },
    {
      "attachments": {},
      "cell_type": "markdown",
      "metadata": {
        "id": "Y8qv5PRAY8Q6"
      },
      "source": [
        "---\n",
        "## A.1. Why is data missing?"
      ]
    },
    {
      "attachments": {},
      "cell_type": "markdown",
      "metadata": {
        "id": "x5sh8hKnahFd"
      },
      "source": [
        "There are a variety of reasons why data could be missing.\n",
        "* A value can be **lost** or **not stored properly** at the time of data collection.\n",
        "  \n",
        "  Imagine for example that the data comes from a survey, and the data are entered manually into an online form. The data entry could easily forget to complete a field in the form, and therefore, that value for that form would be missing.\n",
        "\n",
        "* **Value does not exist**. \n",
        "\n",
        "  Example : Variables that are created by dividing one variable by the other, like debt to income ratio. If the person has no income, we can't generate a value because the division by zero is not defined.\n",
        "\n",
        "* Missing data also appears when people **refuse to answer** specific questions when filling in a form.\n",
        "  \n",
        "  The person being asked may not want to disclose the answer to one of the questions, for example, their income. That would be then a missing value for that person.\n",
        "\n",
        "Together with understanding the source of missing data, **it is important to understand the mechanisms by which missing fields are introduced in a dataset.** Depending on the mechanism, we may choose to process the missing values differently. In addition, by knowing the source of missing data, we may choose to take action to control that source, and decrease the number of missing data looking forward during data collection."
      ]
    },
    {
      "attachments": {},
      "cell_type": "markdown",
      "metadata": {
        "id": "iJmGcmY6gosV"
      },
      "source": [
        "---\n",
        "## A.2. Dataset"
      ]
    },
    {
      "attachments": {},
      "cell_type": "markdown",
      "metadata": {
        "id": "nRx_FnzEgrPF"
      },
      "source": [
        "Before we explore further about missing values, here are some of datasets that will be used to clarify the purpose of this notebook."
      ]
    },
    {
      "attachments": {},
      "cell_type": "markdown",
      "metadata": {
        "id": "PVvC_JZ2hDZc"
      },
      "source": [
        "### A.2.1. Titanic Datasets"
      ]
    },
    {
      "attachments": {},
      "cell_type": "markdown",
      "metadata": {
        "id": "4fcM_et9hHLb"
      },
      "source": [
        "Perhaps one of the most infamous shipwrecks in history, the Titanic sank after colliding with an iceberg, killing 1502 out of 2224 people on board. Interestingly, by analysing the probability of survival based on few attributes like `gender`, `age`, and `social status`, we can make very accurate predictions on **which passengers would survive**. \n",
        "\n",
        "Some groups of people were more likely to survive than others, such as women, children, and the upper-class. Therefore, we can learn about the society priorities and privileges at the time.\n",
        "\n",
        "To download the Titanic data, go ahead to the [Kaggle website](https://www.kaggle.com/c/titanic/data)\n",
        "\n"
      ]
    },
    {
      "attachments": {},
      "cell_type": "markdown",
      "metadata": {
        "id": "QNHHpf5Dh77H"
      },
      "source": [
        "---\n",
        "#### Data Description\n",
        "\n",
        "\n",
        "| Variable | Definition | Key |\n",
        "| --- | --- | --- |\n",
        "| Survival | Survival | 0 = No, <br><br> 1 = Yes |\n",
        "| Pclass\t| Passenger class\t<br><br> (is a proxy for socio-economy class)| 1 = 1st (Upper), <br><br> 2 = 2nd (Middle), <br><br> 3 = 3rd (Lower) |\n",
        "| Sex\t| Sex\t| - |\n",
        "| Age\t| Age in years | - |\n",
        "| Sibsp |\tNumber of siblings / spouses aboard the Titanic\t| - |\n",
        "| Parch\t| Number of parents / children aboard the Titanic\t| - |\n",
        "| Ticket |\tTicket number\t| - |\n",
        "| Fare\t| Passenger fare\t<br><br> (in GBP) | - |\n",
        "| Cabin\t| Cabin number | - |\n",
        "| Embarked\t| Port of Embarkation\t| C = Cherbourg, <br><br> Q = Queenstown, <br><br> S = Southampton |"
      ]
    },
    {
      "attachments": {},
      "cell_type": "markdown",
      "metadata": {
        "id": "x-r-Ew74jmCW"
      },
      "source": [
        "---\n",
        "#### Data Loading"
      ]
    },
    {
      "cell_type": "code",
      "execution_count": 27,
      "metadata": {
        "colab": {
          "base_uri": "https://localhost:8080/",
          "height": 459
        },
        "id": "ZUc_XCEdkDv5",
        "outputId": "74a3da81-4ceb-4032-af3d-f0770b612bd6"
      },
      "outputs": [
        {
          "data": {
            "text/html": [
              "<div>\n",
              "<style scoped>\n",
              "    .dataframe tbody tr th:only-of-type {\n",
              "        vertical-align: middle;\n",
              "    }\n",
              "\n",
              "    .dataframe tbody tr th {\n",
              "        vertical-align: top;\n",
              "    }\n",
              "\n",
              "    .dataframe thead th {\n",
              "        text-align: right;\n",
              "    }\n",
              "</style>\n",
              "<table border=\"1\" class=\"dataframe\">\n",
              "  <thead>\n",
              "    <tr style=\"text-align: right;\">\n",
              "      <th></th>\n",
              "      <th>PassengerId</th>\n",
              "      <th>Survived</th>\n",
              "      <th>Pclass</th>\n",
              "      <th>Name</th>\n",
              "      <th>Sex</th>\n",
              "      <th>Age</th>\n",
              "      <th>SibSp</th>\n",
              "      <th>Parch</th>\n",
              "      <th>Ticket</th>\n",
              "      <th>Fare</th>\n",
              "      <th>Cabin</th>\n",
              "      <th>Embarked</th>\n",
              "    </tr>\n",
              "  </thead>\n",
              "  <tbody>\n",
              "    <tr>\n",
              "      <th>0</th>\n",
              "      <td>1</td>\n",
              "      <td>0</td>\n",
              "      <td>3</td>\n",
              "      <td>Braund, Mr. Owen Harris</td>\n",
              "      <td>male</td>\n",
              "      <td>22.0</td>\n",
              "      <td>1</td>\n",
              "      <td>0</td>\n",
              "      <td>A/5 21171</td>\n",
              "      <td>7.2500</td>\n",
              "      <td>NaN</td>\n",
              "      <td>S</td>\n",
              "    </tr>\n",
              "    <tr>\n",
              "      <th>1</th>\n",
              "      <td>2</td>\n",
              "      <td>1</td>\n",
              "      <td>1</td>\n",
              "      <td>Cumings, Mrs. John Bradley (Florence Briggs Th...</td>\n",
              "      <td>female</td>\n",
              "      <td>38.0</td>\n",
              "      <td>1</td>\n",
              "      <td>0</td>\n",
              "      <td>PC 17599</td>\n",
              "      <td>71.2833</td>\n",
              "      <td>C85</td>\n",
              "      <td>C</td>\n",
              "    </tr>\n",
              "    <tr>\n",
              "      <th>2</th>\n",
              "      <td>3</td>\n",
              "      <td>1</td>\n",
              "      <td>3</td>\n",
              "      <td>Heikkinen, Miss. Laina</td>\n",
              "      <td>female</td>\n",
              "      <td>26.0</td>\n",
              "      <td>0</td>\n",
              "      <td>0</td>\n",
              "      <td>STON/O2. 3101282</td>\n",
              "      <td>7.9250</td>\n",
              "      <td>NaN</td>\n",
              "      <td>S</td>\n",
              "    </tr>\n",
              "    <tr>\n",
              "      <th>3</th>\n",
              "      <td>4</td>\n",
              "      <td>1</td>\n",
              "      <td>1</td>\n",
              "      <td>Futrelle, Mrs. Jacques Heath (Lily May Peel)</td>\n",
              "      <td>female</td>\n",
              "      <td>35.0</td>\n",
              "      <td>1</td>\n",
              "      <td>0</td>\n",
              "      <td>113803</td>\n",
              "      <td>53.1000</td>\n",
              "      <td>C123</td>\n",
              "      <td>S</td>\n",
              "    </tr>\n",
              "    <tr>\n",
              "      <th>4</th>\n",
              "      <td>5</td>\n",
              "      <td>0</td>\n",
              "      <td>3</td>\n",
              "      <td>Allen, Mr. William Henry</td>\n",
              "      <td>male</td>\n",
              "      <td>35.0</td>\n",
              "      <td>0</td>\n",
              "      <td>0</td>\n",
              "      <td>373450</td>\n",
              "      <td>8.0500</td>\n",
              "      <td>NaN</td>\n",
              "      <td>S</td>\n",
              "    </tr>\n",
              "    <tr>\n",
              "      <th>5</th>\n",
              "      <td>6</td>\n",
              "      <td>0</td>\n",
              "      <td>3</td>\n",
              "      <td>Moran, Mr. James</td>\n",
              "      <td>male</td>\n",
              "      <td>NaN</td>\n",
              "      <td>0</td>\n",
              "      <td>0</td>\n",
              "      <td>330877</td>\n",
              "      <td>8.4583</td>\n",
              "      <td>NaN</td>\n",
              "      <td>Q</td>\n",
              "    </tr>\n",
              "    <tr>\n",
              "      <th>6</th>\n",
              "      <td>7</td>\n",
              "      <td>0</td>\n",
              "      <td>1</td>\n",
              "      <td>McCarthy, Mr. Timothy J</td>\n",
              "      <td>male</td>\n",
              "      <td>54.0</td>\n",
              "      <td>0</td>\n",
              "      <td>0</td>\n",
              "      <td>17463</td>\n",
              "      <td>51.8625</td>\n",
              "      <td>E46</td>\n",
              "      <td>S</td>\n",
              "    </tr>\n",
              "    <tr>\n",
              "      <th>7</th>\n",
              "      <td>8</td>\n",
              "      <td>0</td>\n",
              "      <td>3</td>\n",
              "      <td>Palsson, Master. Gosta Leonard</td>\n",
              "      <td>male</td>\n",
              "      <td>2.0</td>\n",
              "      <td>3</td>\n",
              "      <td>1</td>\n",
              "      <td>349909</td>\n",
              "      <td>21.0750</td>\n",
              "      <td>NaN</td>\n",
              "      <td>S</td>\n",
              "    </tr>\n",
              "    <tr>\n",
              "      <th>8</th>\n",
              "      <td>9</td>\n",
              "      <td>1</td>\n",
              "      <td>3</td>\n",
              "      <td>Johnson, Mrs. Oscar W (Elisabeth Vilhelmina Berg)</td>\n",
              "      <td>female</td>\n",
              "      <td>27.0</td>\n",
              "      <td>0</td>\n",
              "      <td>2</td>\n",
              "      <td>347742</td>\n",
              "      <td>11.1333</td>\n",
              "      <td>NaN</td>\n",
              "      <td>S</td>\n",
              "    </tr>\n",
              "    <tr>\n",
              "      <th>9</th>\n",
              "      <td>10</td>\n",
              "      <td>1</td>\n",
              "      <td>2</td>\n",
              "      <td>Nasser, Mrs. Nicholas (Adele Achem)</td>\n",
              "      <td>female</td>\n",
              "      <td>14.0</td>\n",
              "      <td>1</td>\n",
              "      <td>0</td>\n",
              "      <td>237736</td>\n",
              "      <td>30.0708</td>\n",
              "      <td>NaN</td>\n",
              "      <td>C</td>\n",
              "    </tr>\n",
              "  </tbody>\n",
              "</table>\n",
              "</div>"
            ],
            "text/plain": [
              "   PassengerId  Survived  Pclass  \\\n",
              "0            1         0       3   \n",
              "1            2         1       1   \n",
              "2            3         1       3   \n",
              "3            4         1       1   \n",
              "4            5         0       3   \n",
              "5            6         0       3   \n",
              "6            7         0       1   \n",
              "7            8         0       3   \n",
              "8            9         1       3   \n",
              "9           10         1       2   \n",
              "\n",
              "                                                Name     Sex   Age  SibSp  \\\n",
              "0                            Braund, Mr. Owen Harris    male  22.0      1   \n",
              "1  Cumings, Mrs. John Bradley (Florence Briggs Th...  female  38.0      1   \n",
              "2                             Heikkinen, Miss. Laina  female  26.0      0   \n",
              "3       Futrelle, Mrs. Jacques Heath (Lily May Peel)  female  35.0      1   \n",
              "4                           Allen, Mr. William Henry    male  35.0      0   \n",
              "5                                   Moran, Mr. James    male   NaN      0   \n",
              "6                            McCarthy, Mr. Timothy J    male  54.0      0   \n",
              "7                     Palsson, Master. Gosta Leonard    male   2.0      3   \n",
              "8  Johnson, Mrs. Oscar W (Elisabeth Vilhelmina Berg)  female  27.0      0   \n",
              "9                Nasser, Mrs. Nicholas (Adele Achem)  female  14.0      1   \n",
              "\n",
              "   Parch            Ticket     Fare Cabin Embarked  \n",
              "0      0         A/5 21171   7.2500   NaN        S  \n",
              "1      0          PC 17599  71.2833   C85        C  \n",
              "2      0  STON/O2. 3101282   7.9250   NaN        S  \n",
              "3      0            113803  53.1000  C123        S  \n",
              "4      0            373450   8.0500   NaN        S  \n",
              "5      0            330877   8.4583   NaN        Q  \n",
              "6      0             17463  51.8625   E46        S  \n",
              "7      1            349909  21.0750   NaN        S  \n",
              "8      2            347742  11.1333   NaN        S  \n",
              "9      0            237736  30.0708   NaN        C  "
            ]
          },
          "execution_count": 27,
          "metadata": {},
          "output_type": "execute_result"
        }
      ],
      "source": [
        "# Load Titanic Dataset\n",
        "\n",
        "data_titanic_ori = pd.read_csv('https://raw.githubusercontent.com/ardhiraka/FSDS_Guidelines/master/p1/v3/w1/P1W1D2AM%20-%20Feature%20Engineering%20-%20Part%201%20-%20Titanic.csv')\n",
        "data_titanic = data_titanic_ori.copy()\n",
        "data_titanic.head(10)"
      ]
    },
    {
      "cell_type": "code",
      "execution_count": 28,
      "metadata": {
        "colab": {
          "base_uri": "https://localhost:8080/"
        },
        "id": "hZfJYs5IocGk",
        "outputId": "f4f87b65-66d0-4f64-967a-badd1f4be6f0"
      },
      "outputs": [
        {
          "data": {
            "text/plain": [
              "PassengerId      0\n",
              "Survived         0\n",
              "Pclass           0\n",
              "Name             0\n",
              "Sex              0\n",
              "Age            177\n",
              "SibSp            0\n",
              "Parch            0\n",
              "Ticket           0\n",
              "Fare             0\n",
              "Cabin          687\n",
              "Embarked         2\n",
              "dtype: int64"
            ]
          },
          "execution_count": 28,
          "metadata": {},
          "output_type": "execute_result"
        }
      ],
      "source": [
        "# Check Missing Values\n",
        "\n",
        "data_titanic.isnull().sum()"
      ]
    },
    {
      "cell_type": "code",
      "execution_count": 29,
      "metadata": {
        "colab": {
          "base_uri": "https://localhost:8080/"
        },
        "id": "hSoSzgfNopjZ",
        "outputId": "722fc3a7-a3d3-4b80-b537-d676ebc83893"
      },
      "outputs": [
        {
          "data": {
            "text/plain": [
              "PassengerId    0.000000\n",
              "Survived       0.000000\n",
              "Pclass         0.000000\n",
              "Name           0.000000\n",
              "Sex            0.000000\n",
              "Age            0.198653\n",
              "SibSp          0.000000\n",
              "Parch          0.000000\n",
              "Ticket         0.000000\n",
              "Fare           0.000000\n",
              "Cabin          0.771044\n",
              "Embarked       0.002245\n",
              "dtype: float64"
            ]
          },
          "execution_count": 29,
          "metadata": {},
          "output_type": "execute_result"
        }
      ],
      "source": [
        "# Check Missing Values as Percentage to Total Data\n",
        "\n",
        "data_titanic.isnull().mean()"
      ]
    },
    {
      "attachments": {},
      "cell_type": "markdown",
      "metadata": {
        "id": "juay9MrQpLNy"
      },
      "source": [
        "We can see that there are missing data in the variables `Age`, `Cabin` and `Embarked` (which is the port from which the passenger got into the Titanic)."
      ]
    },
    {
      "attachments": {},
      "cell_type": "markdown",
      "metadata": {
        "id": "epBE9BDR7wft"
      },
      "source": [
        "---\n",
        "### A.2.2. Mercedez-Benz Greener Manufacturing"
      ]
    },
    {
      "attachments": {},
      "cell_type": "markdown",
      "metadata": {
        "id": "gljcyS2x8Ej0"
      },
      "source": [
        "This dataset contains an anonymized set of variables, each representing a custom feature in a Mercedes car. For example, a variable could be 4WD, added air suspension, or a head-up display. The ground truth is labeled ‘y’ and represents the time (in seconds) that the car took to pass testing for each variable.\n",
        "\n",
        "You can see the dataset [here](https://www.kaggle.com/c/mercedes-benz-greener-manufacturing/data)"
      ]
    },
    {
      "attachments": {},
      "cell_type": "markdown",
      "metadata": {
        "id": "rzzV8SxK8srI"
      },
      "source": [
        "---\n",
        "#### Data Loading"
      ]
    },
    {
      "cell_type": "code",
      "execution_count": 30,
      "metadata": {
        "colab": {
          "base_uri": "https://localhost:8080/",
          "height": 392
        },
        "id": "MvG1SSZ68wwh",
        "outputId": "caecafbf-cb5a-4a20-84d1-5cfba73a544c"
      },
      "outputs": [
        {
          "data": {
            "text/html": [
              "<div>\n",
              "<style scoped>\n",
              "    .dataframe tbody tr th:only-of-type {\n",
              "        vertical-align: middle;\n",
              "    }\n",
              "\n",
              "    .dataframe tbody tr th {\n",
              "        vertical-align: top;\n",
              "    }\n",
              "\n",
              "    .dataframe thead th {\n",
              "        text-align: right;\n",
              "    }\n",
              "</style>\n",
              "<table border=\"1\" class=\"dataframe\">\n",
              "  <thead>\n",
              "    <tr style=\"text-align: right;\">\n",
              "      <th></th>\n",
              "      <th>ID</th>\n",
              "      <th>y</th>\n",
              "      <th>X0</th>\n",
              "      <th>X1</th>\n",
              "      <th>X2</th>\n",
              "      <th>X3</th>\n",
              "      <th>X4</th>\n",
              "      <th>X5</th>\n",
              "      <th>X6</th>\n",
              "      <th>X8</th>\n",
              "      <th>...</th>\n",
              "      <th>X375</th>\n",
              "      <th>X376</th>\n",
              "      <th>X377</th>\n",
              "      <th>X378</th>\n",
              "      <th>X379</th>\n",
              "      <th>X380</th>\n",
              "      <th>X382</th>\n",
              "      <th>X383</th>\n",
              "      <th>X384</th>\n",
              "      <th>X385</th>\n",
              "    </tr>\n",
              "  </thead>\n",
              "  <tbody>\n",
              "    <tr>\n",
              "      <th>0</th>\n",
              "      <td>0</td>\n",
              "      <td>130.81</td>\n",
              "      <td>k</td>\n",
              "      <td>v</td>\n",
              "      <td>at</td>\n",
              "      <td>a</td>\n",
              "      <td>d</td>\n",
              "      <td>u</td>\n",
              "      <td>j</td>\n",
              "      <td>o</td>\n",
              "      <td>...</td>\n",
              "      <td>0</td>\n",
              "      <td>0</td>\n",
              "      <td>1</td>\n",
              "      <td>0</td>\n",
              "      <td>0</td>\n",
              "      <td>0</td>\n",
              "      <td>0</td>\n",
              "      <td>0</td>\n",
              "      <td>0</td>\n",
              "      <td>0</td>\n",
              "    </tr>\n",
              "    <tr>\n",
              "      <th>1</th>\n",
              "      <td>6</td>\n",
              "      <td>88.53</td>\n",
              "      <td>k</td>\n",
              "      <td>t</td>\n",
              "      <td>av</td>\n",
              "      <td>e</td>\n",
              "      <td>d</td>\n",
              "      <td>y</td>\n",
              "      <td>l</td>\n",
              "      <td>o</td>\n",
              "      <td>...</td>\n",
              "      <td>1</td>\n",
              "      <td>0</td>\n",
              "      <td>0</td>\n",
              "      <td>0</td>\n",
              "      <td>0</td>\n",
              "      <td>0</td>\n",
              "      <td>0</td>\n",
              "      <td>0</td>\n",
              "      <td>0</td>\n",
              "      <td>0</td>\n",
              "    </tr>\n",
              "    <tr>\n",
              "      <th>2</th>\n",
              "      <td>7</td>\n",
              "      <td>76.26</td>\n",
              "      <td>az</td>\n",
              "      <td>w</td>\n",
              "      <td>n</td>\n",
              "      <td>c</td>\n",
              "      <td>d</td>\n",
              "      <td>x</td>\n",
              "      <td>j</td>\n",
              "      <td>x</td>\n",
              "      <td>...</td>\n",
              "      <td>0</td>\n",
              "      <td>0</td>\n",
              "      <td>0</td>\n",
              "      <td>0</td>\n",
              "      <td>0</td>\n",
              "      <td>0</td>\n",
              "      <td>1</td>\n",
              "      <td>0</td>\n",
              "      <td>0</td>\n",
              "      <td>0</td>\n",
              "    </tr>\n",
              "    <tr>\n",
              "      <th>3</th>\n",
              "      <td>9</td>\n",
              "      <td>80.62</td>\n",
              "      <td>az</td>\n",
              "      <td>t</td>\n",
              "      <td>n</td>\n",
              "      <td>f</td>\n",
              "      <td>d</td>\n",
              "      <td>x</td>\n",
              "      <td>l</td>\n",
              "      <td>e</td>\n",
              "      <td>...</td>\n",
              "      <td>0</td>\n",
              "      <td>0</td>\n",
              "      <td>0</td>\n",
              "      <td>0</td>\n",
              "      <td>0</td>\n",
              "      <td>0</td>\n",
              "      <td>0</td>\n",
              "      <td>0</td>\n",
              "      <td>0</td>\n",
              "      <td>0</td>\n",
              "    </tr>\n",
              "    <tr>\n",
              "      <th>4</th>\n",
              "      <td>13</td>\n",
              "      <td>78.02</td>\n",
              "      <td>az</td>\n",
              "      <td>v</td>\n",
              "      <td>n</td>\n",
              "      <td>f</td>\n",
              "      <td>d</td>\n",
              "      <td>h</td>\n",
              "      <td>d</td>\n",
              "      <td>n</td>\n",
              "      <td>...</td>\n",
              "      <td>0</td>\n",
              "      <td>0</td>\n",
              "      <td>0</td>\n",
              "      <td>0</td>\n",
              "      <td>0</td>\n",
              "      <td>0</td>\n",
              "      <td>0</td>\n",
              "      <td>0</td>\n",
              "      <td>0</td>\n",
              "      <td>0</td>\n",
              "    </tr>\n",
              "    <tr>\n",
              "      <th>5</th>\n",
              "      <td>18</td>\n",
              "      <td>92.93</td>\n",
              "      <td>t</td>\n",
              "      <td>b</td>\n",
              "      <td>e</td>\n",
              "      <td>c</td>\n",
              "      <td>d</td>\n",
              "      <td>g</td>\n",
              "      <td>h</td>\n",
              "      <td>s</td>\n",
              "      <td>...</td>\n",
              "      <td>0</td>\n",
              "      <td>0</td>\n",
              "      <td>1</td>\n",
              "      <td>0</td>\n",
              "      <td>0</td>\n",
              "      <td>0</td>\n",
              "      <td>0</td>\n",
              "      <td>0</td>\n",
              "      <td>0</td>\n",
              "      <td>0</td>\n",
              "    </tr>\n",
              "    <tr>\n",
              "      <th>6</th>\n",
              "      <td>24</td>\n",
              "      <td>128.76</td>\n",
              "      <td>al</td>\n",
              "      <td>r</td>\n",
              "      <td>e</td>\n",
              "      <td>f</td>\n",
              "      <td>d</td>\n",
              "      <td>f</td>\n",
              "      <td>h</td>\n",
              "      <td>s</td>\n",
              "      <td>...</td>\n",
              "      <td>0</td>\n",
              "      <td>0</td>\n",
              "      <td>0</td>\n",
              "      <td>0</td>\n",
              "      <td>0</td>\n",
              "      <td>0</td>\n",
              "      <td>0</td>\n",
              "      <td>0</td>\n",
              "      <td>0</td>\n",
              "      <td>0</td>\n",
              "    </tr>\n",
              "    <tr>\n",
              "      <th>7</th>\n",
              "      <td>25</td>\n",
              "      <td>91.91</td>\n",
              "      <td>o</td>\n",
              "      <td>l</td>\n",
              "      <td>as</td>\n",
              "      <td>f</td>\n",
              "      <td>d</td>\n",
              "      <td>f</td>\n",
              "      <td>j</td>\n",
              "      <td>a</td>\n",
              "      <td>...</td>\n",
              "      <td>0</td>\n",
              "      <td>0</td>\n",
              "      <td>0</td>\n",
              "      <td>0</td>\n",
              "      <td>0</td>\n",
              "      <td>0</td>\n",
              "      <td>0</td>\n",
              "      <td>0</td>\n",
              "      <td>0</td>\n",
              "      <td>0</td>\n",
              "    </tr>\n",
              "    <tr>\n",
              "      <th>8</th>\n",
              "      <td>27</td>\n",
              "      <td>108.67</td>\n",
              "      <td>w</td>\n",
              "      <td>s</td>\n",
              "      <td>as</td>\n",
              "      <td>e</td>\n",
              "      <td>d</td>\n",
              "      <td>f</td>\n",
              "      <td>i</td>\n",
              "      <td>h</td>\n",
              "      <td>...</td>\n",
              "      <td>1</td>\n",
              "      <td>0</td>\n",
              "      <td>0</td>\n",
              "      <td>0</td>\n",
              "      <td>0</td>\n",
              "      <td>0</td>\n",
              "      <td>0</td>\n",
              "      <td>0</td>\n",
              "      <td>0</td>\n",
              "      <td>0</td>\n",
              "    </tr>\n",
              "    <tr>\n",
              "      <th>9</th>\n",
              "      <td>30</td>\n",
              "      <td>126.99</td>\n",
              "      <td>j</td>\n",
              "      <td>b</td>\n",
              "      <td>aq</td>\n",
              "      <td>c</td>\n",
              "      <td>d</td>\n",
              "      <td>f</td>\n",
              "      <td>a</td>\n",
              "      <td>e</td>\n",
              "      <td>...</td>\n",
              "      <td>0</td>\n",
              "      <td>0</td>\n",
              "      <td>1</td>\n",
              "      <td>0</td>\n",
              "      <td>0</td>\n",
              "      <td>0</td>\n",
              "      <td>0</td>\n",
              "      <td>0</td>\n",
              "      <td>0</td>\n",
              "      <td>0</td>\n",
              "    </tr>\n",
              "  </tbody>\n",
              "</table>\n",
              "<p>10 rows × 378 columns</p>\n",
              "</div>"
            ],
            "text/plain": [
              "   ID       y  X0 X1  X2 X3 X4 X5 X6 X8  ...  X375  X376  X377  X378  X379  \\\n",
              "0   0  130.81   k  v  at  a  d  u  j  o  ...     0     0     1     0     0   \n",
              "1   6   88.53   k  t  av  e  d  y  l  o  ...     1     0     0     0     0   \n",
              "2   7   76.26  az  w   n  c  d  x  j  x  ...     0     0     0     0     0   \n",
              "3   9   80.62  az  t   n  f  d  x  l  e  ...     0     0     0     0     0   \n",
              "4  13   78.02  az  v   n  f  d  h  d  n  ...     0     0     0     0     0   \n",
              "5  18   92.93   t  b   e  c  d  g  h  s  ...     0     0     1     0     0   \n",
              "6  24  128.76  al  r   e  f  d  f  h  s  ...     0     0     0     0     0   \n",
              "7  25   91.91   o  l  as  f  d  f  j  a  ...     0     0     0     0     0   \n",
              "8  27  108.67   w  s  as  e  d  f  i  h  ...     1     0     0     0     0   \n",
              "9  30  126.99   j  b  aq  c  d  f  a  e  ...     0     0     1     0     0   \n",
              "\n",
              "   X380  X382  X383  X384  X385  \n",
              "0     0     0     0     0     0  \n",
              "1     0     0     0     0     0  \n",
              "2     0     1     0     0     0  \n",
              "3     0     0     0     0     0  \n",
              "4     0     0     0     0     0  \n",
              "5     0     0     0     0     0  \n",
              "6     0     0     0     0     0  \n",
              "7     0     0     0     0     0  \n",
              "8     0     0     0     0     0  \n",
              "9     0     0     0     0     0  \n",
              "\n",
              "[10 rows x 378 columns]"
            ]
          },
          "execution_count": 30,
          "metadata": {},
          "output_type": "execute_result"
        }
      ],
      "source": [
        "# Load Mercedes-Benz Dataset\n",
        "\n",
        "data_mercedes_ori = pd.read_csv('https://raw.githubusercontent.com/ardhiraka/FSDS_Guidelines/master/p1/v3/w1/P1W1D2AM%20-%20Feature%20Engineering%20-%20Part%201%20-%20Mercedes-Benz.csv')\n",
        "data_mercedes = data_mercedes_ori.copy()\n",
        "data_mercedes.head(10)"
      ]
    },
    {
      "attachments": {},
      "cell_type": "markdown",
      "metadata": {
        "id": "9XawmVW2SYqO"
      },
      "source": [
        "### A.2.3. House Sale"
      ]
    },
    {
      "attachments": {},
      "cell_type": "markdown",
      "metadata": {
        "id": "LAQoavO-SqW6"
      },
      "source": [
        "Let's use dataset from [Kaggle.com](https://www.kaggle.com/c/house-prices-advanced-regression-techniques/data). \n",
        "\n",
        "This dataset contains attributes of a house and its price. Our job is to make a prediction model that can predict price of a house based on given attributes. Each data contains more than 70 attributes/features. List of example features : \n",
        "\n",
        "* `SalePrice` : the property's sale price in dollars. This is the target variable that you're trying to predict.\n",
        "* `MSSubClass` : The building class\n",
        "* `MSZoning` : The general zoning classification\n",
        "* `LotFrontage` : Linear feet of street connected to property\n",
        "* `LotArea` : Lot size in square feet\n",
        "* `Street` : Type of road access\n",
        "* `Alley` : Type of alley access\n",
        "* `LotShape` : General shape of property\n",
        "* `LandContour` : Flatness of the property\n",
        "* `Utilities` : Type of utilities available\n",
        "* `LotConfig` : Lot configuration\n",
        "* `LandSlope`: Slope of property\n",
        "\n",
        "etc\n",
        "\n",
        "You can find more details about the dataset from the above link."
      ]
    },
    {
      "attachments": {},
      "cell_type": "markdown",
      "metadata": {
        "id": "Kxi2JQGlTNd7"
      },
      "source": [
        "---\n",
        "#### Data Loading"
      ]
    },
    {
      "cell_type": "code",
      "execution_count": 31,
      "metadata": {
        "colab": {
          "base_uri": "https://localhost:8080/",
          "height": 456
        },
        "id": "APeMnIEJTT9O",
        "outputId": "7916b162-2be2-40ad-df31-63eb640d6fbc"
      },
      "outputs": [
        {
          "data": {
            "text/html": [
              "<div>\n",
              "<style scoped>\n",
              "    .dataframe tbody tr th:only-of-type {\n",
              "        vertical-align: middle;\n",
              "    }\n",
              "\n",
              "    .dataframe tbody tr th {\n",
              "        vertical-align: top;\n",
              "    }\n",
              "\n",
              "    .dataframe thead th {\n",
              "        text-align: right;\n",
              "    }\n",
              "</style>\n",
              "<table border=\"1\" class=\"dataframe\">\n",
              "  <thead>\n",
              "    <tr style=\"text-align: right;\">\n",
              "      <th></th>\n",
              "      <th>Id</th>\n",
              "      <th>MSSubClass</th>\n",
              "      <th>MSZoning</th>\n",
              "      <th>LotFrontage</th>\n",
              "      <th>LotArea</th>\n",
              "      <th>Street</th>\n",
              "      <th>Alley</th>\n",
              "      <th>LotShape</th>\n",
              "      <th>LandContour</th>\n",
              "      <th>Utilities</th>\n",
              "      <th>...</th>\n",
              "      <th>PoolArea</th>\n",
              "      <th>PoolQC</th>\n",
              "      <th>Fence</th>\n",
              "      <th>MiscFeature</th>\n",
              "      <th>MiscVal</th>\n",
              "      <th>MoSold</th>\n",
              "      <th>YrSold</th>\n",
              "      <th>SaleType</th>\n",
              "      <th>SaleCondition</th>\n",
              "      <th>SalePrice</th>\n",
              "    </tr>\n",
              "  </thead>\n",
              "  <tbody>\n",
              "    <tr>\n",
              "      <th>0</th>\n",
              "      <td>1</td>\n",
              "      <td>60</td>\n",
              "      <td>RL</td>\n",
              "      <td>65.0</td>\n",
              "      <td>8450</td>\n",
              "      <td>Pave</td>\n",
              "      <td>NaN</td>\n",
              "      <td>Reg</td>\n",
              "      <td>Lvl</td>\n",
              "      <td>AllPub</td>\n",
              "      <td>...</td>\n",
              "      <td>0</td>\n",
              "      <td>NaN</td>\n",
              "      <td>NaN</td>\n",
              "      <td>NaN</td>\n",
              "      <td>0</td>\n",
              "      <td>2</td>\n",
              "      <td>2008</td>\n",
              "      <td>WD</td>\n",
              "      <td>Normal</td>\n",
              "      <td>208500</td>\n",
              "    </tr>\n",
              "    <tr>\n",
              "      <th>1</th>\n",
              "      <td>2</td>\n",
              "      <td>20</td>\n",
              "      <td>RL</td>\n",
              "      <td>80.0</td>\n",
              "      <td>9600</td>\n",
              "      <td>Pave</td>\n",
              "      <td>NaN</td>\n",
              "      <td>Reg</td>\n",
              "      <td>Lvl</td>\n",
              "      <td>AllPub</td>\n",
              "      <td>...</td>\n",
              "      <td>0</td>\n",
              "      <td>NaN</td>\n",
              "      <td>NaN</td>\n",
              "      <td>NaN</td>\n",
              "      <td>0</td>\n",
              "      <td>5</td>\n",
              "      <td>2007</td>\n",
              "      <td>WD</td>\n",
              "      <td>Normal</td>\n",
              "      <td>181500</td>\n",
              "    </tr>\n",
              "    <tr>\n",
              "      <th>2</th>\n",
              "      <td>3</td>\n",
              "      <td>60</td>\n",
              "      <td>RL</td>\n",
              "      <td>68.0</td>\n",
              "      <td>11250</td>\n",
              "      <td>Pave</td>\n",
              "      <td>NaN</td>\n",
              "      <td>IR1</td>\n",
              "      <td>Lvl</td>\n",
              "      <td>AllPub</td>\n",
              "      <td>...</td>\n",
              "      <td>0</td>\n",
              "      <td>NaN</td>\n",
              "      <td>NaN</td>\n",
              "      <td>NaN</td>\n",
              "      <td>0</td>\n",
              "      <td>9</td>\n",
              "      <td>2008</td>\n",
              "      <td>WD</td>\n",
              "      <td>Normal</td>\n",
              "      <td>223500</td>\n",
              "    </tr>\n",
              "    <tr>\n",
              "      <th>3</th>\n",
              "      <td>4</td>\n",
              "      <td>70</td>\n",
              "      <td>RL</td>\n",
              "      <td>60.0</td>\n",
              "      <td>9550</td>\n",
              "      <td>Pave</td>\n",
              "      <td>NaN</td>\n",
              "      <td>IR1</td>\n",
              "      <td>Lvl</td>\n",
              "      <td>AllPub</td>\n",
              "      <td>...</td>\n",
              "      <td>0</td>\n",
              "      <td>NaN</td>\n",
              "      <td>NaN</td>\n",
              "      <td>NaN</td>\n",
              "      <td>0</td>\n",
              "      <td>2</td>\n",
              "      <td>2006</td>\n",
              "      <td>WD</td>\n",
              "      <td>Abnorml</td>\n",
              "      <td>140000</td>\n",
              "    </tr>\n",
              "    <tr>\n",
              "      <th>4</th>\n",
              "      <td>5</td>\n",
              "      <td>60</td>\n",
              "      <td>RL</td>\n",
              "      <td>84.0</td>\n",
              "      <td>14260</td>\n",
              "      <td>Pave</td>\n",
              "      <td>NaN</td>\n",
              "      <td>IR1</td>\n",
              "      <td>Lvl</td>\n",
              "      <td>AllPub</td>\n",
              "      <td>...</td>\n",
              "      <td>0</td>\n",
              "      <td>NaN</td>\n",
              "      <td>NaN</td>\n",
              "      <td>NaN</td>\n",
              "      <td>0</td>\n",
              "      <td>12</td>\n",
              "      <td>2008</td>\n",
              "      <td>WD</td>\n",
              "      <td>Normal</td>\n",
              "      <td>250000</td>\n",
              "    </tr>\n",
              "    <tr>\n",
              "      <th>5</th>\n",
              "      <td>6</td>\n",
              "      <td>50</td>\n",
              "      <td>RL</td>\n",
              "      <td>85.0</td>\n",
              "      <td>14115</td>\n",
              "      <td>Pave</td>\n",
              "      <td>NaN</td>\n",
              "      <td>IR1</td>\n",
              "      <td>Lvl</td>\n",
              "      <td>AllPub</td>\n",
              "      <td>...</td>\n",
              "      <td>0</td>\n",
              "      <td>NaN</td>\n",
              "      <td>MnPrv</td>\n",
              "      <td>Shed</td>\n",
              "      <td>700</td>\n",
              "      <td>10</td>\n",
              "      <td>2009</td>\n",
              "      <td>WD</td>\n",
              "      <td>Normal</td>\n",
              "      <td>143000</td>\n",
              "    </tr>\n",
              "    <tr>\n",
              "      <th>6</th>\n",
              "      <td>7</td>\n",
              "      <td>20</td>\n",
              "      <td>RL</td>\n",
              "      <td>75.0</td>\n",
              "      <td>10084</td>\n",
              "      <td>Pave</td>\n",
              "      <td>NaN</td>\n",
              "      <td>Reg</td>\n",
              "      <td>Lvl</td>\n",
              "      <td>AllPub</td>\n",
              "      <td>...</td>\n",
              "      <td>0</td>\n",
              "      <td>NaN</td>\n",
              "      <td>NaN</td>\n",
              "      <td>NaN</td>\n",
              "      <td>0</td>\n",
              "      <td>8</td>\n",
              "      <td>2007</td>\n",
              "      <td>WD</td>\n",
              "      <td>Normal</td>\n",
              "      <td>307000</td>\n",
              "    </tr>\n",
              "    <tr>\n",
              "      <th>7</th>\n",
              "      <td>8</td>\n",
              "      <td>60</td>\n",
              "      <td>RL</td>\n",
              "      <td>NaN</td>\n",
              "      <td>10382</td>\n",
              "      <td>Pave</td>\n",
              "      <td>NaN</td>\n",
              "      <td>IR1</td>\n",
              "      <td>Lvl</td>\n",
              "      <td>AllPub</td>\n",
              "      <td>...</td>\n",
              "      <td>0</td>\n",
              "      <td>NaN</td>\n",
              "      <td>NaN</td>\n",
              "      <td>Shed</td>\n",
              "      <td>350</td>\n",
              "      <td>11</td>\n",
              "      <td>2009</td>\n",
              "      <td>WD</td>\n",
              "      <td>Normal</td>\n",
              "      <td>200000</td>\n",
              "    </tr>\n",
              "    <tr>\n",
              "      <th>8</th>\n",
              "      <td>9</td>\n",
              "      <td>50</td>\n",
              "      <td>RM</td>\n",
              "      <td>51.0</td>\n",
              "      <td>6120</td>\n",
              "      <td>Pave</td>\n",
              "      <td>NaN</td>\n",
              "      <td>Reg</td>\n",
              "      <td>Lvl</td>\n",
              "      <td>AllPub</td>\n",
              "      <td>...</td>\n",
              "      <td>0</td>\n",
              "      <td>NaN</td>\n",
              "      <td>NaN</td>\n",
              "      <td>NaN</td>\n",
              "      <td>0</td>\n",
              "      <td>4</td>\n",
              "      <td>2008</td>\n",
              "      <td>WD</td>\n",
              "      <td>Abnorml</td>\n",
              "      <td>129900</td>\n",
              "    </tr>\n",
              "    <tr>\n",
              "      <th>9</th>\n",
              "      <td>10</td>\n",
              "      <td>190</td>\n",
              "      <td>RL</td>\n",
              "      <td>50.0</td>\n",
              "      <td>7420</td>\n",
              "      <td>Pave</td>\n",
              "      <td>NaN</td>\n",
              "      <td>Reg</td>\n",
              "      <td>Lvl</td>\n",
              "      <td>AllPub</td>\n",
              "      <td>...</td>\n",
              "      <td>0</td>\n",
              "      <td>NaN</td>\n",
              "      <td>NaN</td>\n",
              "      <td>NaN</td>\n",
              "      <td>0</td>\n",
              "      <td>1</td>\n",
              "      <td>2008</td>\n",
              "      <td>WD</td>\n",
              "      <td>Normal</td>\n",
              "      <td>118000</td>\n",
              "    </tr>\n",
              "  </tbody>\n",
              "</table>\n",
              "<p>10 rows × 81 columns</p>\n",
              "</div>"
            ],
            "text/plain": [
              "   Id  MSSubClass MSZoning  LotFrontage  LotArea Street Alley LotShape  \\\n",
              "0   1          60       RL         65.0     8450   Pave   NaN      Reg   \n",
              "1   2          20       RL         80.0     9600   Pave   NaN      Reg   \n",
              "2   3          60       RL         68.0    11250   Pave   NaN      IR1   \n",
              "3   4          70       RL         60.0     9550   Pave   NaN      IR1   \n",
              "4   5          60       RL         84.0    14260   Pave   NaN      IR1   \n",
              "5   6          50       RL         85.0    14115   Pave   NaN      IR1   \n",
              "6   7          20       RL         75.0    10084   Pave   NaN      Reg   \n",
              "7   8          60       RL          NaN    10382   Pave   NaN      IR1   \n",
              "8   9          50       RM         51.0     6120   Pave   NaN      Reg   \n",
              "9  10         190       RL         50.0     7420   Pave   NaN      Reg   \n",
              "\n",
              "  LandContour Utilities  ... PoolArea PoolQC  Fence MiscFeature MiscVal  \\\n",
              "0         Lvl    AllPub  ...        0    NaN    NaN         NaN       0   \n",
              "1         Lvl    AllPub  ...        0    NaN    NaN         NaN       0   \n",
              "2         Lvl    AllPub  ...        0    NaN    NaN         NaN       0   \n",
              "3         Lvl    AllPub  ...        0    NaN    NaN         NaN       0   \n",
              "4         Lvl    AllPub  ...        0    NaN    NaN         NaN       0   \n",
              "5         Lvl    AllPub  ...        0    NaN  MnPrv        Shed     700   \n",
              "6         Lvl    AllPub  ...        0    NaN    NaN         NaN       0   \n",
              "7         Lvl    AllPub  ...        0    NaN    NaN        Shed     350   \n",
              "8         Lvl    AllPub  ...        0    NaN    NaN         NaN       0   \n",
              "9         Lvl    AllPub  ...        0    NaN    NaN         NaN       0   \n",
              "\n",
              "  MoSold YrSold  SaleType  SaleCondition  SalePrice  \n",
              "0      2   2008        WD         Normal     208500  \n",
              "1      5   2007        WD         Normal     181500  \n",
              "2      9   2008        WD         Normal     223500  \n",
              "3      2   2006        WD        Abnorml     140000  \n",
              "4     12   2008        WD         Normal     250000  \n",
              "5     10   2009        WD         Normal     143000  \n",
              "6      8   2007        WD         Normal     307000  \n",
              "7     11   2009        WD         Normal     200000  \n",
              "8      4   2008        WD        Abnorml     129900  \n",
              "9      1   2008        WD         Normal     118000  \n",
              "\n",
              "[10 rows x 81 columns]"
            ]
          },
          "execution_count": 31,
          "metadata": {},
          "output_type": "execute_result"
        }
      ],
      "source": [
        "# Load House Prices\n",
        "\n",
        "data_house_prices_ori = pd.read_csv('https://raw.githubusercontent.com/ardhiraka/FSDS_Guidelines/master/p1/v3/w1/P1W1D2AM%20-%20Feature%20Engineering%20-%20Part%201%20-%20House-Prices.csv')\n",
        "data_house_prices = data_house_prices_ori.copy()\n",
        "data_house_prices.head(10)"
      ]
    },
    {
      "attachments": {},
      "cell_type": "markdown",
      "metadata": {
        "id": "4Xk0GgTpacUv"
      },
      "source": [
        "---\n",
        "## A.3. Missing Data Mechanisms"
      ]
    },
    {
      "attachments": {},
      "cell_type": "markdown",
      "metadata": {
        "id": "AWgRcEo4a7iY"
      },
      "source": [
        "There are 3 mechanisms that lead to missing data, 2 of them involve missing data randomly or almost-randomly, and the third one involves a systematic loss of data."
      ]
    },
    {
      "attachments": {},
      "cell_type": "markdown",
      "metadata": {
        "id": "IBsIqZ0saxVb"
      },
      "source": [
        "### A.3.1. Missing Completely at Random (MCAR)"
      ]
    },
    {
      "attachments": {},
      "cell_type": "markdown",
      "metadata": {
        "id": "dreFiVhyfEkb"
      },
      "source": [
        "Characteristics of Missing Completely At Random (MCAR) :\n",
        "* **The probability of being missing is the same for all the observations (row).**\n",
        "* There is absolutely **no relationship between the data missing and any other values, observed or missing, within the dataset.** In other words, those mising data points are a random subset of the data. There is nothing systematic going on that makes some data more likely to be missing than other.\n",
        "* Disregarding those cases would not bias the inferences made *(only if total number of missing values is small)*."
      ]
    },
    {
      "cell_type": "code",
      "execution_count": 32,
      "metadata": {
        "colab": {
          "base_uri": "https://localhost:8080/",
          "height": 112
        },
        "id": "Y9SQmnZq3CDd",
        "outputId": "95e8f3fb-ef4b-46ea-c04b-c8637aeb7d86"
      },
      "outputs": [
        {
          "data": {
            "text/html": [
              "<div>\n",
              "<style scoped>\n",
              "    .dataframe tbody tr th:only-of-type {\n",
              "        vertical-align: middle;\n",
              "    }\n",
              "\n",
              "    .dataframe tbody tr th {\n",
              "        vertical-align: top;\n",
              "    }\n",
              "\n",
              "    .dataframe thead th {\n",
              "        text-align: right;\n",
              "    }\n",
              "</style>\n",
              "<table border=\"1\" class=\"dataframe\">\n",
              "  <thead>\n",
              "    <tr style=\"text-align: right;\">\n",
              "      <th></th>\n",
              "      <th>PassengerId</th>\n",
              "      <th>Survived</th>\n",
              "      <th>Pclass</th>\n",
              "      <th>Name</th>\n",
              "      <th>Sex</th>\n",
              "      <th>Age</th>\n",
              "      <th>SibSp</th>\n",
              "      <th>Parch</th>\n",
              "      <th>Ticket</th>\n",
              "      <th>Fare</th>\n",
              "      <th>Cabin</th>\n",
              "      <th>Embarked</th>\n",
              "    </tr>\n",
              "  </thead>\n",
              "  <tbody>\n",
              "    <tr>\n",
              "      <th>61</th>\n",
              "      <td>62</td>\n",
              "      <td>1</td>\n",
              "      <td>1</td>\n",
              "      <td>Icard, Miss. Amelie</td>\n",
              "      <td>female</td>\n",
              "      <td>38.0</td>\n",
              "      <td>0</td>\n",
              "      <td>0</td>\n",
              "      <td>113572</td>\n",
              "      <td>80.0</td>\n",
              "      <td>B28</td>\n",
              "      <td>NaN</td>\n",
              "    </tr>\n",
              "    <tr>\n",
              "      <th>829</th>\n",
              "      <td>830</td>\n",
              "      <td>1</td>\n",
              "      <td>1</td>\n",
              "      <td>Stone, Mrs. George Nelson (Martha Evelyn)</td>\n",
              "      <td>female</td>\n",
              "      <td>62.0</td>\n",
              "      <td>0</td>\n",
              "      <td>0</td>\n",
              "      <td>113572</td>\n",
              "      <td>80.0</td>\n",
              "      <td>B28</td>\n",
              "      <td>NaN</td>\n",
              "    </tr>\n",
              "  </tbody>\n",
              "</table>\n",
              "</div>"
            ],
            "text/plain": [
              "     PassengerId  Survived  Pclass                                       Name  \\\n",
              "61            62         1       1                        Icard, Miss. Amelie   \n",
              "829          830         1       1  Stone, Mrs. George Nelson (Martha Evelyn)   \n",
              "\n",
              "        Sex   Age  SibSp  Parch  Ticket  Fare Cabin Embarked  \n",
              "61   female  38.0      0      0  113572  80.0   B28      NaN  \n",
              "829  female  62.0      0      0  113572  80.0   B28      NaN  "
            ]
          },
          "execution_count": 32,
          "metadata": {},
          "output_type": "execute_result"
        }
      ],
      "source": [
        "# Check Missing Values for Variable `Embarked`\n",
        "\n",
        "data_titanic[data_titanic.Embarked.isnull()]"
      ]
    },
    {
      "attachments": {},
      "cell_type": "markdown",
      "metadata": {
        "id": "Y7IaiN4g3MCt"
      },
      "source": [
        "As you can see above, Miss Icard and Mrs Stones traveled together. This can be seen from the same type of `Ticket`. After searching the internet, it was found that Miss Icard was a maid of Mrs. Stone.\n",
        "\n",
        "Conclusions of missing values for `Embarked` (based on personal assumptions):\n",
        "* There does not seem to be an indication that the missing information in the variable Embarked is depending on any other variable.\n",
        "* The fact that these women survived, means that they could have been asked for this information.\n",
        "* Very likely this missingness was generated at the time of building the dataset and therefore we could assume that it is completely random. \n",
        "* We can assume that the probability of data being missing for these 2 women is the same as the probability for this variable to be missing for any other person. Of course this will be hard, if possible at all, to prove."
      ]
    },
    {
      "attachments": {},
      "cell_type": "markdown",
      "metadata": {
        "id": "gz4J1SKTbB0Q"
      },
      "source": [
        "---\n",
        "### A.3.2. Missing at Random (MAR)"
      ]
    },
    {
      "attachments": {},
      "cell_type": "markdown",
      "metadata": {
        "id": "yBqKzl_RfNCv"
      },
      "source": [
        "Characteristics of Missing At Random (MAR) :\n",
        "* The **probability an observation being missing depends only on available information**.\n",
        "* **There is a systematic relationship between the propensity of missing values and the observed data**."
      ]
    },
    {
      "attachments": {},
      "cell_type": "markdown",
      "metadata": {
        "id": "xocc9kkAbE37"
      },
      "source": [
        "---\n",
        "### A.3.3. Missing Not At Random (MNAR)\n",
        "\n"
      ]
    },
    {
      "attachments": {},
      "cell_type": "markdown",
      "metadata": {
        "id": "xBOJwpJ6fjFU"
      },
      "source": [
        "Characteristics of Missing Not At Random (MNAR) :\n",
        "* **There is a mechanism or a reason why missing values are introduced** in the dataset.\n",
        "* Their being missing depends on information not recorded in the dataset.\n",
        "* In this situation, we would be **better off flagging those missing values** in order to predict our target."
      ]
    },
    {
      "attachments": {},
      "cell_type": "markdown",
      "metadata": {
        "id": "OGoVNbWPpnBz"
      },
      "source": [
        "---\n",
        "Let's make assumption of Titanic dataset : \n",
        "\n",
        "> *For many of the people who did not survive, the `Age` they had or the `Cabin` they were staying in, could not be established. The people who survived could be asked for that information.*\n",
        "\n",
        "From the above assumption, we state that the loss of `Age` data and `Cabin` data is the effect of the `Survived` parameter, which is `0` where the passenger did not survive.\n",
        "\n",
        "Can we infer this by looking at the data? *We could expect a greater number of missing values for people who did not survive*."
      ]
    },
    {
      "cell_type": "code",
      "execution_count": 33,
      "metadata": {
        "colab": {
          "base_uri": "https://localhost:8080/",
          "height": 537
        },
        "id": "UgIhlst6pjyC",
        "outputId": "d34d9e26-d223-41c2-c197-a9d754be6959"
      },
      "outputs": [
        {
          "data": {
            "text/html": [
              "<div>\n",
              "<style scoped>\n",
              "    .dataframe tbody tr th:only-of-type {\n",
              "        vertical-align: middle;\n",
              "    }\n",
              "\n",
              "    .dataframe tbody tr th {\n",
              "        vertical-align: top;\n",
              "    }\n",
              "\n",
              "    .dataframe thead th {\n",
              "        text-align: right;\n",
              "    }\n",
              "</style>\n",
              "<table border=\"1\" class=\"dataframe\">\n",
              "  <thead>\n",
              "    <tr style=\"text-align: right;\">\n",
              "      <th></th>\n",
              "      <th>PassengerId</th>\n",
              "      <th>Survived</th>\n",
              "      <th>Pclass</th>\n",
              "      <th>Name</th>\n",
              "      <th>Sex</th>\n",
              "      <th>Age</th>\n",
              "      <th>SibSp</th>\n",
              "      <th>Parch</th>\n",
              "      <th>Ticket</th>\n",
              "      <th>Fare</th>\n",
              "      <th>Cabin</th>\n",
              "      <th>Embarked</th>\n",
              "      <th>cabin_null</th>\n",
              "    </tr>\n",
              "  </thead>\n",
              "  <tbody>\n",
              "    <tr>\n",
              "      <th>0</th>\n",
              "      <td>1</td>\n",
              "      <td>0</td>\n",
              "      <td>3</td>\n",
              "      <td>Braund, Mr. Owen Harris</td>\n",
              "      <td>male</td>\n",
              "      <td>22.0</td>\n",
              "      <td>1</td>\n",
              "      <td>0</td>\n",
              "      <td>A/5 21171</td>\n",
              "      <td>7.2500</td>\n",
              "      <td>NaN</td>\n",
              "      <td>S</td>\n",
              "      <td>1</td>\n",
              "    </tr>\n",
              "    <tr>\n",
              "      <th>1</th>\n",
              "      <td>2</td>\n",
              "      <td>1</td>\n",
              "      <td>1</td>\n",
              "      <td>Cumings, Mrs. John Bradley (Florence Briggs Th...</td>\n",
              "      <td>female</td>\n",
              "      <td>38.0</td>\n",
              "      <td>1</td>\n",
              "      <td>0</td>\n",
              "      <td>PC 17599</td>\n",
              "      <td>71.2833</td>\n",
              "      <td>C85</td>\n",
              "      <td>C</td>\n",
              "      <td>0</td>\n",
              "    </tr>\n",
              "    <tr>\n",
              "      <th>2</th>\n",
              "      <td>3</td>\n",
              "      <td>1</td>\n",
              "      <td>3</td>\n",
              "      <td>Heikkinen, Miss. Laina</td>\n",
              "      <td>female</td>\n",
              "      <td>26.0</td>\n",
              "      <td>0</td>\n",
              "      <td>0</td>\n",
              "      <td>STON/O2. 3101282</td>\n",
              "      <td>7.9250</td>\n",
              "      <td>NaN</td>\n",
              "      <td>S</td>\n",
              "      <td>1</td>\n",
              "    </tr>\n",
              "    <tr>\n",
              "      <th>3</th>\n",
              "      <td>4</td>\n",
              "      <td>1</td>\n",
              "      <td>1</td>\n",
              "      <td>Futrelle, Mrs. Jacques Heath (Lily May Peel)</td>\n",
              "      <td>female</td>\n",
              "      <td>35.0</td>\n",
              "      <td>1</td>\n",
              "      <td>0</td>\n",
              "      <td>113803</td>\n",
              "      <td>53.1000</td>\n",
              "      <td>C123</td>\n",
              "      <td>S</td>\n",
              "      <td>0</td>\n",
              "    </tr>\n",
              "    <tr>\n",
              "      <th>4</th>\n",
              "      <td>5</td>\n",
              "      <td>0</td>\n",
              "      <td>3</td>\n",
              "      <td>Allen, Mr. William Henry</td>\n",
              "      <td>male</td>\n",
              "      <td>35.0</td>\n",
              "      <td>0</td>\n",
              "      <td>0</td>\n",
              "      <td>373450</td>\n",
              "      <td>8.0500</td>\n",
              "      <td>NaN</td>\n",
              "      <td>S</td>\n",
              "      <td>1</td>\n",
              "    </tr>\n",
              "    <tr>\n",
              "      <th>...</th>\n",
              "      <td>...</td>\n",
              "      <td>...</td>\n",
              "      <td>...</td>\n",
              "      <td>...</td>\n",
              "      <td>...</td>\n",
              "      <td>...</td>\n",
              "      <td>...</td>\n",
              "      <td>...</td>\n",
              "      <td>...</td>\n",
              "      <td>...</td>\n",
              "      <td>...</td>\n",
              "      <td>...</td>\n",
              "      <td>...</td>\n",
              "    </tr>\n",
              "    <tr>\n",
              "      <th>886</th>\n",
              "      <td>887</td>\n",
              "      <td>0</td>\n",
              "      <td>2</td>\n",
              "      <td>Montvila, Rev. Juozas</td>\n",
              "      <td>male</td>\n",
              "      <td>27.0</td>\n",
              "      <td>0</td>\n",
              "      <td>0</td>\n",
              "      <td>211536</td>\n",
              "      <td>13.0000</td>\n",
              "      <td>NaN</td>\n",
              "      <td>S</td>\n",
              "      <td>1</td>\n",
              "    </tr>\n",
              "    <tr>\n",
              "      <th>887</th>\n",
              "      <td>888</td>\n",
              "      <td>1</td>\n",
              "      <td>1</td>\n",
              "      <td>Graham, Miss. Margaret Edith</td>\n",
              "      <td>female</td>\n",
              "      <td>19.0</td>\n",
              "      <td>0</td>\n",
              "      <td>0</td>\n",
              "      <td>112053</td>\n",
              "      <td>30.0000</td>\n",
              "      <td>B42</td>\n",
              "      <td>S</td>\n",
              "      <td>0</td>\n",
              "    </tr>\n",
              "    <tr>\n",
              "      <th>888</th>\n",
              "      <td>889</td>\n",
              "      <td>0</td>\n",
              "      <td>3</td>\n",
              "      <td>Johnston, Miss. Catherine Helen \"Carrie\"</td>\n",
              "      <td>female</td>\n",
              "      <td>NaN</td>\n",
              "      <td>1</td>\n",
              "      <td>2</td>\n",
              "      <td>W./C. 6607</td>\n",
              "      <td>23.4500</td>\n",
              "      <td>NaN</td>\n",
              "      <td>S</td>\n",
              "      <td>1</td>\n",
              "    </tr>\n",
              "    <tr>\n",
              "      <th>889</th>\n",
              "      <td>890</td>\n",
              "      <td>1</td>\n",
              "      <td>1</td>\n",
              "      <td>Behr, Mr. Karl Howell</td>\n",
              "      <td>male</td>\n",
              "      <td>26.0</td>\n",
              "      <td>0</td>\n",
              "      <td>0</td>\n",
              "      <td>111369</td>\n",
              "      <td>30.0000</td>\n",
              "      <td>C148</td>\n",
              "      <td>C</td>\n",
              "      <td>0</td>\n",
              "    </tr>\n",
              "    <tr>\n",
              "      <th>890</th>\n",
              "      <td>891</td>\n",
              "      <td>0</td>\n",
              "      <td>3</td>\n",
              "      <td>Dooley, Mr. Patrick</td>\n",
              "      <td>male</td>\n",
              "      <td>32.0</td>\n",
              "      <td>0</td>\n",
              "      <td>0</td>\n",
              "      <td>370376</td>\n",
              "      <td>7.7500</td>\n",
              "      <td>NaN</td>\n",
              "      <td>Q</td>\n",
              "      <td>1</td>\n",
              "    </tr>\n",
              "  </tbody>\n",
              "</table>\n",
              "<p>891 rows × 13 columns</p>\n",
              "</div>"
            ],
            "text/plain": [
              "     PassengerId  Survived  Pclass  \\\n",
              "0              1         0       3   \n",
              "1              2         1       1   \n",
              "2              3         1       3   \n",
              "3              4         1       1   \n",
              "4              5         0       3   \n",
              "..           ...       ...     ...   \n",
              "886          887         0       2   \n",
              "887          888         1       1   \n",
              "888          889         0       3   \n",
              "889          890         1       1   \n",
              "890          891         0       3   \n",
              "\n",
              "                                                  Name     Sex   Age  SibSp  \\\n",
              "0                              Braund, Mr. Owen Harris    male  22.0      1   \n",
              "1    Cumings, Mrs. John Bradley (Florence Briggs Th...  female  38.0      1   \n",
              "2                               Heikkinen, Miss. Laina  female  26.0      0   \n",
              "3         Futrelle, Mrs. Jacques Heath (Lily May Peel)  female  35.0      1   \n",
              "4                             Allen, Mr. William Henry    male  35.0      0   \n",
              "..                                                 ...     ...   ...    ...   \n",
              "886                              Montvila, Rev. Juozas    male  27.0      0   \n",
              "887                       Graham, Miss. Margaret Edith  female  19.0      0   \n",
              "888           Johnston, Miss. Catherine Helen \"Carrie\"  female   NaN      1   \n",
              "889                              Behr, Mr. Karl Howell    male  26.0      0   \n",
              "890                                Dooley, Mr. Patrick    male  32.0      0   \n",
              "\n",
              "     Parch            Ticket     Fare Cabin Embarked  cabin_null  \n",
              "0        0         A/5 21171   7.2500   NaN        S           1  \n",
              "1        0          PC 17599  71.2833   C85        C           0  \n",
              "2        0  STON/O2. 3101282   7.9250   NaN        S           1  \n",
              "3        0            113803  53.1000  C123        S           0  \n",
              "4        0            373450   8.0500   NaN        S           1  \n",
              "..     ...               ...      ...   ...      ...         ...  \n",
              "886      0            211536  13.0000   NaN        S           1  \n",
              "887      0            112053  30.0000   B42        S           0  \n",
              "888      2        W./C. 6607  23.4500   NaN        S           1  \n",
              "889      0            111369  30.0000  C148        C           0  \n",
              "890      0            370376   7.7500   NaN        Q           1  \n",
              "\n",
              "[891 rows x 13 columns]"
            ]
          },
          "execution_count": 33,
          "metadata": {},
          "output_type": "execute_result"
        }
      ],
      "source": [
        "# Create a variable that indicates whether the value of the variable `cabin` is missing or not\n",
        "\n",
        "data_titanic = data_titanic_ori.copy()\n",
        "data_titanic['cabin_null'] = np.where(data_titanic.Cabin.isnull(), 1, 0)\n",
        "data_titanic"
      ]
    },
    {
      "cell_type": "code",
      "execution_count": 34,
      "metadata": {
        "colab": {
          "base_uri": "https://localhost:8080/"
        },
        "id": "BD0kmAMDyIW7",
        "outputId": "4d8719be-4155-4c54-9119-e4fb55244118"
      },
      "outputs": [
        {
          "name": "stdout",
          "output_type": "stream",
          "text": [
            "Value Counts\n",
            "Survived  cabin_null\n",
            "0         1             481\n",
            "          0              68\n",
            "1         1             206\n",
            "          0             136\n",
            "Name: cabin_null, dtype: int64\n",
            "\n",
            "Mean\n",
            "Survived\n",
            "0    0.876138\n",
            "1    0.602339\n",
            "Name: cabin_null, dtype: float64\n"
          ]
        }
      ],
      "source": [
        "# Grouping data by Survived vs Non-Survived and find nulls for cabin\n",
        "\n",
        "print('Value Counts')\n",
        "print(data_titanic.groupby(['Survived'])['cabin_null'].value_counts())\n",
        "\n",
        "print('\\nMean')\n",
        "print(data_titanic.groupby(['Survived'])['cabin_null'].mean())"
      ]
    },
    {
      "attachments": {},
      "cell_type": "markdown",
      "metadata": {
        "id": "WRx444_u0sZn"
      },
      "source": [
        "We observe that the percentage of missing values is higher for people who did not survive (0.87), respect to people that survived (0.60).\n",
        "This finding is aligned with our assumption that the data is missing because after the people died, the information could not be retrieved.\n",
        "\n",
        "Having said this, to truly underpin whether the data is missing not at random, we would need to get extremely familiar with the way data was collected. **Analysing datasets, can only point us in the right direction or help us build assumptions but it won't provide the ultimate proof of why data is missing.**"
      ]
    },
    {
      "cell_type": "code",
      "execution_count": 35,
      "metadata": {
        "colab": {
          "base_uri": "https://localhost:8080/",
          "height": 676
        },
        "id": "04XIO-Fl1IfV",
        "outputId": "5fcd6347-3d73-446c-8273-bb8daabb3604"
      },
      "outputs": [
        {
          "data": {
            "text/html": [
              "<div>\n",
              "<style scoped>\n",
              "    .dataframe tbody tr th:only-of-type {\n",
              "        vertical-align: middle;\n",
              "    }\n",
              "\n",
              "    .dataframe tbody tr th {\n",
              "        vertical-align: top;\n",
              "    }\n",
              "\n",
              "    .dataframe thead th {\n",
              "        text-align: right;\n",
              "    }\n",
              "</style>\n",
              "<table border=\"1\" class=\"dataframe\">\n",
              "  <thead>\n",
              "    <tr style=\"text-align: right;\">\n",
              "      <th></th>\n",
              "      <th>PassengerId</th>\n",
              "      <th>Survived</th>\n",
              "      <th>Pclass</th>\n",
              "      <th>Name</th>\n",
              "      <th>Sex</th>\n",
              "      <th>Age</th>\n",
              "      <th>SibSp</th>\n",
              "      <th>Parch</th>\n",
              "      <th>Ticket</th>\n",
              "      <th>Fare</th>\n",
              "      <th>Cabin</th>\n",
              "      <th>Embarked</th>\n",
              "      <th>cabin_null</th>\n",
              "      <th>age_null</th>\n",
              "    </tr>\n",
              "  </thead>\n",
              "  <tbody>\n",
              "    <tr>\n",
              "      <th>0</th>\n",
              "      <td>1</td>\n",
              "      <td>0</td>\n",
              "      <td>3</td>\n",
              "      <td>Braund, Mr. Owen Harris</td>\n",
              "      <td>male</td>\n",
              "      <td>22.0</td>\n",
              "      <td>1</td>\n",
              "      <td>0</td>\n",
              "      <td>A/5 21171</td>\n",
              "      <td>7.2500</td>\n",
              "      <td>NaN</td>\n",
              "      <td>S</td>\n",
              "      <td>1</td>\n",
              "      <td>0</td>\n",
              "    </tr>\n",
              "    <tr>\n",
              "      <th>1</th>\n",
              "      <td>2</td>\n",
              "      <td>1</td>\n",
              "      <td>1</td>\n",
              "      <td>Cumings, Mrs. John Bradley (Florence Briggs Th...</td>\n",
              "      <td>female</td>\n",
              "      <td>38.0</td>\n",
              "      <td>1</td>\n",
              "      <td>0</td>\n",
              "      <td>PC 17599</td>\n",
              "      <td>71.2833</td>\n",
              "      <td>C85</td>\n",
              "      <td>C</td>\n",
              "      <td>0</td>\n",
              "      <td>0</td>\n",
              "    </tr>\n",
              "    <tr>\n",
              "      <th>2</th>\n",
              "      <td>3</td>\n",
              "      <td>1</td>\n",
              "      <td>3</td>\n",
              "      <td>Heikkinen, Miss. Laina</td>\n",
              "      <td>female</td>\n",
              "      <td>26.0</td>\n",
              "      <td>0</td>\n",
              "      <td>0</td>\n",
              "      <td>STON/O2. 3101282</td>\n",
              "      <td>7.9250</td>\n",
              "      <td>NaN</td>\n",
              "      <td>S</td>\n",
              "      <td>1</td>\n",
              "      <td>0</td>\n",
              "    </tr>\n",
              "    <tr>\n",
              "      <th>3</th>\n",
              "      <td>4</td>\n",
              "      <td>1</td>\n",
              "      <td>1</td>\n",
              "      <td>Futrelle, Mrs. Jacques Heath (Lily May Peel)</td>\n",
              "      <td>female</td>\n",
              "      <td>35.0</td>\n",
              "      <td>1</td>\n",
              "      <td>0</td>\n",
              "      <td>113803</td>\n",
              "      <td>53.1000</td>\n",
              "      <td>C123</td>\n",
              "      <td>S</td>\n",
              "      <td>0</td>\n",
              "      <td>0</td>\n",
              "    </tr>\n",
              "    <tr>\n",
              "      <th>4</th>\n",
              "      <td>5</td>\n",
              "      <td>0</td>\n",
              "      <td>3</td>\n",
              "      <td>Allen, Mr. William Henry</td>\n",
              "      <td>male</td>\n",
              "      <td>35.0</td>\n",
              "      <td>0</td>\n",
              "      <td>0</td>\n",
              "      <td>373450</td>\n",
              "      <td>8.0500</td>\n",
              "      <td>NaN</td>\n",
              "      <td>S</td>\n",
              "      <td>1</td>\n",
              "      <td>0</td>\n",
              "    </tr>\n",
              "    <tr>\n",
              "      <th>...</th>\n",
              "      <td>...</td>\n",
              "      <td>...</td>\n",
              "      <td>...</td>\n",
              "      <td>...</td>\n",
              "      <td>...</td>\n",
              "      <td>...</td>\n",
              "      <td>...</td>\n",
              "      <td>...</td>\n",
              "      <td>...</td>\n",
              "      <td>...</td>\n",
              "      <td>...</td>\n",
              "      <td>...</td>\n",
              "      <td>...</td>\n",
              "      <td>...</td>\n",
              "    </tr>\n",
              "    <tr>\n",
              "      <th>886</th>\n",
              "      <td>887</td>\n",
              "      <td>0</td>\n",
              "      <td>2</td>\n",
              "      <td>Montvila, Rev. Juozas</td>\n",
              "      <td>male</td>\n",
              "      <td>27.0</td>\n",
              "      <td>0</td>\n",
              "      <td>0</td>\n",
              "      <td>211536</td>\n",
              "      <td>13.0000</td>\n",
              "      <td>NaN</td>\n",
              "      <td>S</td>\n",
              "      <td>1</td>\n",
              "      <td>0</td>\n",
              "    </tr>\n",
              "    <tr>\n",
              "      <th>887</th>\n",
              "      <td>888</td>\n",
              "      <td>1</td>\n",
              "      <td>1</td>\n",
              "      <td>Graham, Miss. Margaret Edith</td>\n",
              "      <td>female</td>\n",
              "      <td>19.0</td>\n",
              "      <td>0</td>\n",
              "      <td>0</td>\n",
              "      <td>112053</td>\n",
              "      <td>30.0000</td>\n",
              "      <td>B42</td>\n",
              "      <td>S</td>\n",
              "      <td>0</td>\n",
              "      <td>0</td>\n",
              "    </tr>\n",
              "    <tr>\n",
              "      <th>888</th>\n",
              "      <td>889</td>\n",
              "      <td>0</td>\n",
              "      <td>3</td>\n",
              "      <td>Johnston, Miss. Catherine Helen \"Carrie\"</td>\n",
              "      <td>female</td>\n",
              "      <td>NaN</td>\n",
              "      <td>1</td>\n",
              "      <td>2</td>\n",
              "      <td>W./C. 6607</td>\n",
              "      <td>23.4500</td>\n",
              "      <td>NaN</td>\n",
              "      <td>S</td>\n",
              "      <td>1</td>\n",
              "      <td>1</td>\n",
              "    </tr>\n",
              "    <tr>\n",
              "      <th>889</th>\n",
              "      <td>890</td>\n",
              "      <td>1</td>\n",
              "      <td>1</td>\n",
              "      <td>Behr, Mr. Karl Howell</td>\n",
              "      <td>male</td>\n",
              "      <td>26.0</td>\n",
              "      <td>0</td>\n",
              "      <td>0</td>\n",
              "      <td>111369</td>\n",
              "      <td>30.0000</td>\n",
              "      <td>C148</td>\n",
              "      <td>C</td>\n",
              "      <td>0</td>\n",
              "      <td>0</td>\n",
              "    </tr>\n",
              "    <tr>\n",
              "      <th>890</th>\n",
              "      <td>891</td>\n",
              "      <td>0</td>\n",
              "      <td>3</td>\n",
              "      <td>Dooley, Mr. Patrick</td>\n",
              "      <td>male</td>\n",
              "      <td>32.0</td>\n",
              "      <td>0</td>\n",
              "      <td>0</td>\n",
              "      <td>370376</td>\n",
              "      <td>7.7500</td>\n",
              "      <td>NaN</td>\n",
              "      <td>Q</td>\n",
              "      <td>1</td>\n",
              "      <td>0</td>\n",
              "    </tr>\n",
              "  </tbody>\n",
              "</table>\n",
              "<p>891 rows × 14 columns</p>\n",
              "</div>"
            ],
            "text/plain": [
              "     PassengerId  Survived  Pclass  \\\n",
              "0              1         0       3   \n",
              "1              2         1       1   \n",
              "2              3         1       3   \n",
              "3              4         1       1   \n",
              "4              5         0       3   \n",
              "..           ...       ...     ...   \n",
              "886          887         0       2   \n",
              "887          888         1       1   \n",
              "888          889         0       3   \n",
              "889          890         1       1   \n",
              "890          891         0       3   \n",
              "\n",
              "                                                  Name     Sex   Age  SibSp  \\\n",
              "0                              Braund, Mr. Owen Harris    male  22.0      1   \n",
              "1    Cumings, Mrs. John Bradley (Florence Briggs Th...  female  38.0      1   \n",
              "2                               Heikkinen, Miss. Laina  female  26.0      0   \n",
              "3         Futrelle, Mrs. Jacques Heath (Lily May Peel)  female  35.0      1   \n",
              "4                             Allen, Mr. William Henry    male  35.0      0   \n",
              "..                                                 ...     ...   ...    ...   \n",
              "886                              Montvila, Rev. Juozas    male  27.0      0   \n",
              "887                       Graham, Miss. Margaret Edith  female  19.0      0   \n",
              "888           Johnston, Miss. Catherine Helen \"Carrie\"  female   NaN      1   \n",
              "889                              Behr, Mr. Karl Howell    male  26.0      0   \n",
              "890                                Dooley, Mr. Patrick    male  32.0      0   \n",
              "\n",
              "     Parch            Ticket     Fare Cabin Embarked  cabin_null  age_null  \n",
              "0        0         A/5 21171   7.2500   NaN        S           1         0  \n",
              "1        0          PC 17599  71.2833   C85        C           0         0  \n",
              "2        0  STON/O2. 3101282   7.9250   NaN        S           1         0  \n",
              "3        0            113803  53.1000  C123        S           0         0  \n",
              "4        0            373450   8.0500   NaN        S           1         0  \n",
              "..     ...               ...      ...   ...      ...         ...       ...  \n",
              "886      0            211536  13.0000   NaN        S           1         0  \n",
              "887      0            112053  30.0000   B42        S           0         0  \n",
              "888      2        W./C. 6607  23.4500   NaN        S           1         1  \n",
              "889      0            111369  30.0000  C148        C           0         0  \n",
              "890      0            370376   7.7500   NaN        Q           1         0  \n",
              "\n",
              "[891 rows x 14 columns]"
            ]
          },
          "execution_count": 35,
          "metadata": {},
          "output_type": "execute_result"
        }
      ],
      "source": [
        "# Create a variable that indicates whether the value of the variable `Age` is missing or not\n",
        "\n",
        "data_titanic['age_null'] = np.where(data_titanic.Age.isnull(), 1, 0)\n",
        "data_titanic"
      ]
    },
    {
      "cell_type": "code",
      "execution_count": 36,
      "metadata": {
        "colab": {
          "base_uri": "https://localhost:8080/"
        },
        "id": "SToWwGMP1-yl",
        "outputId": "ec247303-a7e1-4c3e-bfb6-09fafdbb921f"
      },
      "outputs": [
        {
          "name": "stdout",
          "output_type": "stream",
          "text": [
            "Value Counts\n",
            "Survived  age_null\n",
            "0         0           424\n",
            "          1           125\n",
            "1         0           290\n",
            "          1            52\n",
            "Name: age_null, dtype: int64\n",
            "\n",
            "Mean\n",
            "Survived\n",
            "0    0.227687\n",
            "1    0.152047\n",
            "Name: age_null, dtype: float64\n"
          ]
        }
      ],
      "source": [
        "# Grouping data by Survived vs Non-Survived and find nulls for `Age`\n",
        "\n",
        "print('Value Counts')\n",
        "print(data_titanic.groupby(['Survived'])['age_null'].value_counts())\n",
        "\n",
        "print('\\nMean')\n",
        "print(data_titanic.groupby(['Survived'])['age_null'].mean())"
      ]
    },
    {
      "attachments": {},
      "cell_type": "markdown",
      "metadata": {
        "id": "-UAdYdgk1KLi"
      },
      "source": [
        "Again, we observe an increase in missing data for the people who did not survive the tragedy. The analysis therefore suggests: \n",
        "\n",
        "**There is a systematic loss of data: people who did not survive tend to have more information missing. Presumably, the method chosen to gather the information, contributes to the generation of these missing data.**"
      ]
    },
    {
      "attachments": {},
      "cell_type": "markdown",
      "metadata": {
        "id": "EDLcH69W5x3G"
      },
      "source": [
        "---\n",
        "## A.4. Complete Case Analysis"
      ]
    },
    {
      "attachments": {},
      "cell_type": "markdown",
      "metadata": {
        "id": "1U5vFxoB55eK"
      },
      "source": [
        "### Explanation"
      ]
    },
    {
      "attachments": {},
      "cell_type": "markdown",
      "metadata": {
        "id": "0E-RLfDXSa2Y"
      },
      "source": [
        "Complete-case analysis (CCA), also called list-wise deletion of cases, consists in simply **discarding** observations where values in any of the variables are missing. Complete Case Analysis means literally analysing only those observations for which there is information in **all** of the variables (Xs). \n",
        "\n",
        "CCA can be applied to both categorical and numerical variables.\n",
        "\n",
        "**Assumptions** : \n",
        "* **CCA works well when the data are missing completely at random (MCAR).**\n",
        "* In this case, excluding observations with missing data would be the same as randomly excluding some observations from the dataset, given that the missing data are totally at random.\n",
        "* Works well if total number of missing values is small.\n",
        "\n",
        "**Advantages** : \n",
        "* Easy to implement\n",
        "* The same set of data (albeit a reduced set) is used for all analyses (no data manipulation)\n",
        "* Preserves variable distribution (if data is MCAR, then the distribution of the variables of the reduced dataset should match the distribution in the original dataset)\n",
        "\n",
        "**Disadvantages** :\n",
        "* It can exclude a large fraction of the original sample, which are potentially informative for the analysis\n",
        "* CCA will be biased if the complete cases systematically differ from the original sample (e.g. when the missing information is in fact MAR (Missing At Random) or MNAR (Missing Not At Random)."
      ]
    },
    {
      "attachments": {},
      "cell_type": "markdown",
      "metadata": {
        "id": "Pj2khUK5EL1P"
      },
      "source": [
        "---\n",
        "### Case Study\n",
        "\n",
        "Let's take a look at Titanic dataset. Assuming that the missing values are MCAR, which are not, if we chose to remove all the missing observations, we would end up with a very small dataset, given that `Cabin` is missing for 77% of the observations. See below."
      ]
    },
    {
      "cell_type": "code",
      "execution_count": 37,
      "metadata": {
        "colab": {
          "base_uri": "https://localhost:8080/"
        },
        "id": "YvFnHYDBEr17",
        "outputId": "7957aa1a-a9c3-43f8-d82e-877fe8dc0770"
      },
      "outputs": [
        {
          "name": "stdout",
          "output_type": "stream",
          "text": [
            "Total passengers in the Titanic               :  891\n",
            "Total passengers with values in all variables :  183\n",
            "Unexpected exception formatting exception. Falling back to standard exception\n"
          ]
        },
        {
          "name": "stderr",
          "output_type": "stream",
          "text": [
            "Traceback (most recent call last):\n",
            "  File \"C:\\Users\\ASUS\\AppData\\Roaming\\Python\\Python311\\site-packages\\IPython\\core\\interactiveshell.py\", line 3460, in run_code\n",
            "    exec(code_obj, self.user_global_ns, self.user_ns)\n",
            "  File \"C:\\Users\\ASUS\\AppData\\Local\\Temp\\ipykernel_10136\\363129046.py\", line 6, in <module>\n",
            "    print('Percentage of data without missing values (%) : ', data_titanic.dropna().shape[0] / np.float(data_titanic.shape[0]) * 100)\n",
            "                                                                                               ^^^^^^^^\n",
            "  File \"c:\\Users\\ASUS\\AppData\\Local\\Programs\\Python\\Python311\\Lib\\site-packages\\numpy\\__init__.py\", line 305, in __getattr__\n",
            "    raise AttributeError(__former_attrs__[attr])\n",
            "AttributeError: module 'numpy' has no attribute 'float'.\n",
            "`np.float` was a deprecated alias for the builtin `float`. To avoid this error in existing code, use `float` by itself. Doing this will not modify any behavior and is safe. If you specifically wanted the numpy scalar type, use `np.float64` here.\n",
            "The aliases was originally deprecated in NumPy 1.20; for more details and guidance see the original release note at:\n",
            "    https://numpy.org/devdocs/release/1.20.0-notes.html#deprecations\n",
            "\n",
            "During handling of the above exception, another exception occurred:\n",
            "\n",
            "Traceback (most recent call last):\n",
            "  File \"C:\\Users\\ASUS\\AppData\\Roaming\\Python\\Python311\\site-packages\\IPython\\core\\interactiveshell.py\", line 2057, in showtraceback\n",
            "    stb = self.InteractiveTB.structured_traceback(\n",
            "          ^^^^^^^^^^^^^^^^^^^^^^^^^^^^^^^^^^^^^^^^\n",
            "  File \"C:\\Users\\ASUS\\AppData\\Roaming\\Python\\Python311\\site-packages\\IPython\\core\\ultratb.py\", line 1118, in structured_traceback\n",
            "    return FormattedTB.structured_traceback(\n",
            "           ^^^^^^^^^^^^^^^^^^^^^^^^^^^^^^^^^\n",
            "  File \"C:\\Users\\ASUS\\AppData\\Roaming\\Python\\Python311\\site-packages\\IPython\\core\\ultratb.py\", line 1012, in structured_traceback\n",
            "    return VerboseTB.structured_traceback(\n",
            "           ^^^^^^^^^^^^^^^^^^^^^^^^^^^^^^^\n",
            "  File \"C:\\Users\\ASUS\\AppData\\Roaming\\Python\\Python311\\site-packages\\IPython\\core\\ultratb.py\", line 865, in structured_traceback\n",
            "    formatted_exception = self.format_exception_as_a_whole(etype, evalue, etb, number_of_lines_of_context,\n",
            "                          ^^^^^^^^^^^^^^^^^^^^^^^^^^^^^^^^^^^^^^^^^^^^^^^^^^^^^^^^^^^^^^^^^^^^^^^^^^^^^^^^\n",
            "  File \"C:\\Users\\ASUS\\AppData\\Roaming\\Python\\Python311\\site-packages\\IPython\\core\\ultratb.py\", line 799, in format_exception_as_a_whole\n",
            "    self.get_records(etb, number_of_lines_of_context, tb_offset) if etb else []\n",
            "    ^^^^^^^^^^^^^^^^^^^^^^^^^^^^^^^^^^^^^^^^^^^^^^^^^^^^^^^^^^^^\n",
            "  File \"C:\\Users\\ASUS\\AppData\\Roaming\\Python\\Python311\\site-packages\\IPython\\core\\ultratb.py\", line 845, in get_records\n",
            "    style = stack_data.style_with_executing_node(style, self._tb_highlight)\n",
            "            ^^^^^^^^^^^^^^^^^^^^^^^^^^^^^^^^^^^^^^^^^^^^^^^^^^^^^^^^^^^^^^^\n",
            "  File \"C:\\Users\\ASUS\\AppData\\Roaming\\Python\\Python311\\site-packages\\stack_data\\core.py\", line 455, in style_with_executing_node\n",
            "    class NewStyle(style):\n",
            "  File \"c:\\Users\\ASUS\\AppData\\Local\\Programs\\Python\\Python311\\Lib\\site-packages\\pygments\\style.py\", line 91, in __new__\n",
            "    ndef[4] = colorformat(styledef[3:])\n",
            "              ^^^^^^^^^^^^^^^^^^^^^^^^^\n",
            "  File \"c:\\Users\\ASUS\\AppData\\Local\\Programs\\Python\\Python311\\Lib\\site-packages\\pygments\\style.py\", line 58, in colorformat\n",
            "    assert False, \"wrong color format %r\" % text\n",
            "AssertionError: wrong color format 'ansiyellow'\n"
          ]
        }
      ],
      "source": [
        "# Count How Many Observations that We Would Drop\n",
        "\n",
        "data_titanic = data_titanic_ori.copy()\n",
        "print('Total passengers in the Titanic               : ', data_titanic.shape[0])\n",
        "print('Total passengers with values in all variables : ', data_titanic.dropna().shape[0])\n",
        "print('Percentage of data without missing values (%) : ', data_titanic.dropna().shape[0] / np.float(data_titanic.shape[0]) * 100)"
      ]
    },
    {
      "attachments": {},
      "cell_type": "markdown",
      "metadata": {
        "id": "YYCT42btGaUo"
      },
      "source": [
        "In fact, we have complete information for only 20% of our observations in the Titanic dataset. Thus, CCA would not be an option for this dataset.\n",
        "\n",
        "However, we could choose to : \n",
        "* Replace the missing values in the variables `Age` and `Cabin` by an appropriate method (as in the next sections), and \n",
        "* Remove the observations where `Embarked` is missing. That would be removing only 2 observations from the entire dataset."
      ]
    },
    {
      "attachments": {},
      "cell_type": "markdown",
      "metadata": {
        "id": "1tgvZa_LGdPU"
      },
      "source": [
        "---\n",
        "#### Distribution of the dataset after CCA\n",
        "\n",
        "**If we remove large number missing observations, the new dataset containing the people for whom all the data is available, will be quite different from the original group.** See below:"
      ]
    },
    {
      "cell_type": "code",
      "execution_count": 38,
      "metadata": {
        "colab": {
          "base_uri": "https://localhost:8080/"
        },
        "id": "Cn34d9I1zkbB",
        "outputId": "01810b8f-faee-4701-b0cd-58a1129e06c1"
      },
      "outputs": [
        {
          "data": {
            "text/plain": [
              "177"
            ]
          },
          "execution_count": 38,
          "metadata": {},
          "output_type": "execute_result"
        }
      ],
      "source": [
        "# Check How Many Missing Values in Variable `Age` Only\n",
        "\n",
        "data_titanic.Age.isnull().sum()"
      ]
    },
    {
      "cell_type": "code",
      "execution_count": 39,
      "metadata": {
        "colab": {
          "base_uri": "https://localhost:8080/",
          "height": 596
        },
        "id": "_VkkicatGd8b",
        "outputId": "123a6a3a-1b55-4c5e-f37e-d50771755879"
      },
      "outputs": [
        {
          "data": {
            "text/plain": [
              "<matplotlib.legend.Legend at 0x28beb68d150>"
            ]
          },
          "execution_count": 39,
          "metadata": {},
          "output_type": "execute_result"
        },
        {
          "data": {
            "image/png": "[encoded data removed]",
            "text/plain": [
              "<Figure size 1500x700 with 2 Axes>"
            ]
          },
          "metadata": {},
          "output_type": "display_data"
        }
      ],
      "source": [
        "# Visualization of Histogram Differences between the Original Dataset and CCA for the Variable `Age` Only\n",
        "# We Will Check the Effect of CCA Only to Variable `Fare` and `Pclass`\n",
        "\n",
        "fig, ax = plt.subplots(1, 2, figsize=(15, 7))\n",
        "\n",
        "data_titanic.Fare.hist(bins=50, ax=ax[0], label='Histogram of Original Dataset') # Histogram of original dataset\n",
        "data_titanic.dropna(axis=0, subset=['Age'])['Fare'].hist(bins=50, ax=ax[0], color='red', label='Histogram of CCA on Age') # Histogram of CCA on Age\n",
        "ax[0].set_xlim(0,100)\n",
        "ax[0].set_title('Comparison of Histograms')\n",
        "ax[0].set_xlabel('Fare')\n",
        "ax[0].set_ylabel('Number of Passengers')\n",
        "ax[0].legend(loc=\"upper right\")\n",
        "\n",
        "data_titanic.Pclass.hist(bins=50, ax=ax[1], label='Histogram of Original Dataset') # Histogram of original dataset\n",
        "data_titanic.dropna(axis=0, subset=['Age'])['Pclass'].hist(bins=50, ax=ax[1], color='red', label='Histogram of CCA on Age') # Histogram of CCA on Pclass\n",
        "ax[1].set_title('Comparison of Histograms')\n",
        "ax[1].set_xlabel('Pclass')\n",
        "ax[1].set_ylabel('Number of Passengers')\n",
        "ax[1].legend(loc=\"upper left\")"
      ]
    },
    {
      "attachments": {},
      "cell_type": "markdown",
      "metadata": {
        "id": "XiCOxwnQGg0i"
      },
      "source": [
        "Comparing the red and blue histograms we can observe that the distribution of the entire dataset before CCA do not match with the dataset after CCA. There are a lot of people for whom `Age` is missing, that paid lower fares to get on the titanic.\n",
        "\n",
        "Similarly, the original dataset shows a higher proportion of people that travelled in `Pclass` 3. \n",
        "\n",
        "Given that the distribution of the variables between the original dataset and that one after CCA are not equivalent, CCA is not a good option."
      ]
    },
    {
      "attachments": {},
      "cell_type": "markdown",
      "metadata": {
        "id": "OsllJg8ECzZq"
      },
      "source": [
        "---\n",
        "### Suggestions"
      ]
    },
    {
      "attachments": {},
      "cell_type": "markdown",
      "metadata": {
        "id": "0EgMFbKY589_"
      },
      "source": [
        "In practice, **CCA may be an acceptable method when the amount of missing information is small. Unfortunately, there is no rule of thumb to determine how much missing data is small or negligible.**\n",
        "\n",
        "In many real life datasets, the amount of missing data is never small, and therefore CCA is typically never an option. \n",
        "\n",
        "For building machine learning models, it would recommend replacing missing values by any of the methods. However, for a quick analysis, if the amount of missing values is not big, this could be the easiest and fastest approach."
      ]
    },
    {
      "attachments": {},
      "cell_type": "markdown",
      "metadata": {
        "id": "K_sxNRt7SdXM"
      },
      "source": [
        "## A.5. Mean and Median Imputation"
      ]
    },
    {
      "attachments": {},
      "cell_type": "markdown",
      "metadata": {
        "id": "s45kZjCYUZT4"
      },
      "source": [
        "### Explanation"
      ]
    },
    {
      "attachments": {},
      "cell_type": "markdown",
      "metadata": {
        "id": "eaoAO17ISry9"
      },
      "source": [
        "**Imputation is the act of replacing missing data with statistical estimates of the missing values.** The goal of any imputation technique is to produce a complete dataset that can be used for machine learning or deep learning.\n",
        "\n",
        "Mean/median imputation consists of replacing all occurrences of missing values (NA) within a variable with :\n",
        "* **Mean** : if the variable has a **Normal/Gaussian distribution**.\n",
        "* **Median** : if the variable has a **skewed distribution**.\n",
        "\n",
        "**Assumptions** : The data are missing completely at random (MCAR). \n",
        "\n",
        "If this is the case, we can think of replacing the NA with the most frequent occurrence of the variable, which is the mean if the variable has a Gaussian distribution, or the median otherwise.\n",
        "\n",
        "**Advantages** :\n",
        "* Easy to implement\n",
        "* Fast way of obtaining complete datasets\n",
        "\n",
        "**Limitations** :\n",
        "* Distortion of original variance\n",
        "  \n",
        "  When replacing NA with the mean or median, the variance of the variable will be distorted if the number of NA is big respect to the total number of observations (since the imputed values do not differ from the mean or from each other). Therefore leading to underestimation of the variance.\n",
        "\n",
        "* Distortion of covariance/correlation with remaining variables within the dataset\n",
        "\n",
        "  In addition, estimates of covariance and correlations with other variables in the dataset may also be affected. This is because we may be destroying intrinsic correlations since the mean/median that now replace NA will not preserve the relation with the remaining variables.\n",
        "\n",
        "**Imputation should be done over the training set, and then propagated to the test set.** This means that the mean/median to be used to fill missing values both in train and test set, should be extracted from the train set only."
      ]
    },
    {
      "attachments": {},
      "cell_type": "markdown",
      "metadata": {
        "id": "gdObJ8qI9CW-"
      },
      "source": [
        "### Case Study\n",
        "\n",
        "We will use Titanic dataset for this demonstration and use Mean/Median Imputation to handle missing values."
      ]
    },
    {
      "cell_type": "code",
      "execution_count": 40,
      "metadata": {
        "colab": {
          "base_uri": "https://localhost:8080/"
        },
        "id": "pKrIMrVSXXgm",
        "outputId": "5c089c82-d35b-4c59-d741-fad843dc2ad3"
      },
      "outputs": [
        {
          "data": {
            "text/plain": [
              "((623, 12), (268, 12))"
            ]
          },
          "execution_count": 40,
          "metadata": {},
          "output_type": "execute_result"
        }
      ],
      "source": [
        "# Let's Separate Dataset into Training Set and Testing Set\n",
        "\n",
        "data_titanic = data_titanic_ori.copy()\n",
        "X_train_titanic, X_test_titanic, y_train_titanic, y_test_titanic = train_test_split(data_titanic, \n",
        "                                                                                    data_titanic.Survived, \n",
        "                                                                                    test_size=0.3, \n",
        "                                                                                    random_state=0)\n",
        "X_train_titanic.shape, X_test_titanic.shape"
      ]
    },
    {
      "cell_type": "code",
      "execution_count": 41,
      "metadata": {
        "colab": {
          "base_uri": "https://localhost:8080/",
          "height": 600
        },
        "id": "EJwpER2TCFho",
        "outputId": "2965c27f-7c3a-4e63-d15c-6dc4992b2d49"
      },
      "outputs": [
        {
          "name": "stdout",
          "output_type": "stream",
          "text": [
            "Skewness :  0.3361317253050765\n"
          ]
        },
        {
          "data": {
            "image/png": "[encoded data removed]",
            "text/plain": [
              "<Figure size 1500x700 with 1 Axes>"
            ]
          },
          "metadata": {},
          "output_type": "display_data"
        }
      ],
      "source": [
        "# Let's Check Type of Distirbution of Variable `Age`\n",
        "fig, ax = plt.subplots(1, 1, figsize=(15, 7))\n",
        "\n",
        "X_train_titanic.Age.hist(bins=50, ax=ax, label='Histogram of Age') # Histogram of original dataset\n",
        "ax.set_title('Distribution of Age in Train Set')\n",
        "ax.set_xlabel('Age')\n",
        "ax.set_ylabel('Frequency')\n",
        "ax.legend(loc=\"upper right\")\n",
        "\n",
        "print('Skewness : ', X_train_titanic.Age.skew())"
      ]
    },
    {
      "cell_type": "code",
      "execution_count": 42,
      "metadata": {
        "colab": {
          "base_uri": "https://localhost:8080/"
        },
        "id": "IYerBprbZDMY",
        "outputId": "9a245aa0-44f3-4495-e25e-c06f57eee247"
      },
      "outputs": [
        {
          "name": "stdout",
          "output_type": "stream",
          "text": [
            "Mean Value - Train Set - Before Imputation   :  29.915338645418327\n",
            "Median Value - Train Set - Before Imputation :  29.0\n"
          ]
        }
      ],
      "source": [
        "# Display Value of Median Before Imputation\n",
        "\n",
        "mean_titanic_age = X_train_titanic.Age.mean()\n",
        "median_titanic_age = X_train_titanic.Age.median()\n",
        "\n",
        "print('Mean Value - Train Set - Before Imputation   : ', mean_titanic_age)\n",
        "print('Median Value - Train Set - Before Imputation : ', median_titanic_age)"
      ]
    },
    {
      "cell_type": "code",
      "execution_count": 43,
      "metadata": {
        "id": "HuJda0YTS38t"
      },
      "outputs": [],
      "source": [
        "# Function to Filling Missing Values with Zeroes, Mean, and Median\n",
        "\n",
        "def impute_na(df, variable, mean_value, median_value):\n",
        "  df[variable+'_mean'] = df[variable].fillna(mean_value)\n",
        "  df[variable+'_median'] = df[variable].fillna(median_value)\n",
        "  df[variable+'_zero'] = df[variable].fillna(0)\n",
        "  \n",
        "  return df"
      ]
    },
    {
      "attachments": {},
      "cell_type": "markdown",
      "metadata": {
        "id": "q_c3uy4H1emB"
      },
      "source": [
        "- impute data train dari mean data train atau median data train\n",
        "- impute data test dari mean data train atau median data train"
      ]
    },
    {
      "cell_type": "code",
      "execution_count": 44,
      "metadata": {
        "colab": {
          "base_uri": "https://localhost:8080/",
          "height": 938
        },
        "id": "URA-v-R0ZDl4",
        "outputId": "cc23d58c-a4d9-487f-d948-031f3caf9e90"
      },
      "outputs": [
        {
          "data": {
            "text/html": [
              "<div>\n",
              "<style scoped>\n",
              "    .dataframe tbody tr th:only-of-type {\n",
              "        vertical-align: middle;\n",
              "    }\n",
              "\n",
              "    .dataframe tbody tr th {\n",
              "        vertical-align: top;\n",
              "    }\n",
              "\n",
              "    .dataframe thead th {\n",
              "        text-align: right;\n",
              "    }\n",
              "</style>\n",
              "<table border=\"1\" class=\"dataframe\">\n",
              "  <thead>\n",
              "    <tr style=\"text-align: right;\">\n",
              "      <th></th>\n",
              "      <th>PassengerId</th>\n",
              "      <th>Survived</th>\n",
              "      <th>Pclass</th>\n",
              "      <th>Name</th>\n",
              "      <th>Sex</th>\n",
              "      <th>Age</th>\n",
              "      <th>SibSp</th>\n",
              "      <th>Parch</th>\n",
              "      <th>Ticket</th>\n",
              "      <th>Fare</th>\n",
              "      <th>Cabin</th>\n",
              "      <th>Embarked</th>\n",
              "      <th>Age_mean</th>\n",
              "      <th>Age_median</th>\n",
              "      <th>Age_zero</th>\n",
              "    </tr>\n",
              "  </thead>\n",
              "  <tbody>\n",
              "    <tr>\n",
              "      <th>857</th>\n",
              "      <td>858</td>\n",
              "      <td>1</td>\n",
              "      <td>1</td>\n",
              "      <td>Daly, Mr. Peter Denis</td>\n",
              "      <td>male</td>\n",
              "      <td>51.0</td>\n",
              "      <td>0</td>\n",
              "      <td>0</td>\n",
              "      <td>113055</td>\n",
              "      <td>26.5500</td>\n",
              "      <td>E17</td>\n",
              "      <td>S</td>\n",
              "      <td>51.000000</td>\n",
              "      <td>51.0</td>\n",
              "      <td>51.0</td>\n",
              "    </tr>\n",
              "    <tr>\n",
              "      <th>52</th>\n",
              "      <td>53</td>\n",
              "      <td>1</td>\n",
              "      <td>1</td>\n",
              "      <td>Harper, Mrs. Henry Sleeper (Myna Haxtun)</td>\n",
              "      <td>female</td>\n",
              "      <td>49.0</td>\n",
              "      <td>1</td>\n",
              "      <td>0</td>\n",
              "      <td>PC 17572</td>\n",
              "      <td>76.7292</td>\n",
              "      <td>D33</td>\n",
              "      <td>C</td>\n",
              "      <td>49.000000</td>\n",
              "      <td>49.0</td>\n",
              "      <td>49.0</td>\n",
              "    </tr>\n",
              "    <tr>\n",
              "      <th>386</th>\n",
              "      <td>387</td>\n",
              "      <td>0</td>\n",
              "      <td>3</td>\n",
              "      <td>Goodwin, Master. Sidney Leonard</td>\n",
              "      <td>male</td>\n",
              "      <td>1.0</td>\n",
              "      <td>5</td>\n",
              "      <td>2</td>\n",
              "      <td>CA 2144</td>\n",
              "      <td>46.9000</td>\n",
              "      <td>NaN</td>\n",
              "      <td>S</td>\n",
              "      <td>1.000000</td>\n",
              "      <td>1.0</td>\n",
              "      <td>1.0</td>\n",
              "    </tr>\n",
              "    <tr>\n",
              "      <th>124</th>\n",
              "      <td>125</td>\n",
              "      <td>0</td>\n",
              "      <td>1</td>\n",
              "      <td>White, Mr. Percival Wayland</td>\n",
              "      <td>male</td>\n",
              "      <td>54.0</td>\n",
              "      <td>0</td>\n",
              "      <td>1</td>\n",
              "      <td>35281</td>\n",
              "      <td>77.2875</td>\n",
              "      <td>D26</td>\n",
              "      <td>S</td>\n",
              "      <td>54.000000</td>\n",
              "      <td>54.0</td>\n",
              "      <td>54.0</td>\n",
              "    </tr>\n",
              "    <tr>\n",
              "      <th>578</th>\n",
              "      <td>579</td>\n",
              "      <td>0</td>\n",
              "      <td>3</td>\n",
              "      <td>Caram, Mrs. Joseph (Maria Elias)</td>\n",
              "      <td>female</td>\n",
              "      <td>NaN</td>\n",
              "      <td>1</td>\n",
              "      <td>0</td>\n",
              "      <td>2689</td>\n",
              "      <td>14.4583</td>\n",
              "      <td>NaN</td>\n",
              "      <td>C</td>\n",
              "      <td>29.915339</td>\n",
              "      <td>29.0</td>\n",
              "      <td>0.0</td>\n",
              "    </tr>\n",
              "    <tr>\n",
              "      <th>...</th>\n",
              "      <td>...</td>\n",
              "      <td>...</td>\n",
              "      <td>...</td>\n",
              "      <td>...</td>\n",
              "      <td>...</td>\n",
              "      <td>...</td>\n",
              "      <td>...</td>\n",
              "      <td>...</td>\n",
              "      <td>...</td>\n",
              "      <td>...</td>\n",
              "      <td>...</td>\n",
              "      <td>...</td>\n",
              "      <td>...</td>\n",
              "      <td>...</td>\n",
              "      <td>...</td>\n",
              "    </tr>\n",
              "    <tr>\n",
              "      <th>835</th>\n",
              "      <td>836</td>\n",
              "      <td>1</td>\n",
              "      <td>1</td>\n",
              "      <td>Compton, Miss. Sara Rebecca</td>\n",
              "      <td>female</td>\n",
              "      <td>39.0</td>\n",
              "      <td>1</td>\n",
              "      <td>1</td>\n",
              "      <td>PC 17756</td>\n",
              "      <td>83.1583</td>\n",
              "      <td>E49</td>\n",
              "      <td>C</td>\n",
              "      <td>39.000000</td>\n",
              "      <td>39.0</td>\n",
              "      <td>39.0</td>\n",
              "    </tr>\n",
              "    <tr>\n",
              "      <th>192</th>\n",
              "      <td>193</td>\n",
              "      <td>1</td>\n",
              "      <td>3</td>\n",
              "      <td>Andersen-Jensen, Miss. Carla Christine Nielsine</td>\n",
              "      <td>female</td>\n",
              "      <td>19.0</td>\n",
              "      <td>1</td>\n",
              "      <td>0</td>\n",
              "      <td>350046</td>\n",
              "      <td>7.8542</td>\n",
              "      <td>NaN</td>\n",
              "      <td>S</td>\n",
              "      <td>19.000000</td>\n",
              "      <td>19.0</td>\n",
              "      <td>19.0</td>\n",
              "    </tr>\n",
              "    <tr>\n",
              "      <th>629</th>\n",
              "      <td>630</td>\n",
              "      <td>0</td>\n",
              "      <td>3</td>\n",
              "      <td>O'Connell, Mr. Patrick D</td>\n",
              "      <td>male</td>\n",
              "      <td>NaN</td>\n",
              "      <td>0</td>\n",
              "      <td>0</td>\n",
              "      <td>334912</td>\n",
              "      <td>7.7333</td>\n",
              "      <td>NaN</td>\n",
              "      <td>Q</td>\n",
              "      <td>29.915339</td>\n",
              "      <td>29.0</td>\n",
              "      <td>0.0</td>\n",
              "    </tr>\n",
              "    <tr>\n",
              "      <th>559</th>\n",
              "      <td>560</td>\n",
              "      <td>1</td>\n",
              "      <td>3</td>\n",
              "      <td>de Messemaeker, Mrs. Guillaume Joseph (Emma)</td>\n",
              "      <td>female</td>\n",
              "      <td>36.0</td>\n",
              "      <td>1</td>\n",
              "      <td>0</td>\n",
              "      <td>345572</td>\n",
              "      <td>17.4000</td>\n",
              "      <td>NaN</td>\n",
              "      <td>S</td>\n",
              "      <td>36.000000</td>\n",
              "      <td>36.0</td>\n",
              "      <td>36.0</td>\n",
              "    </tr>\n",
              "    <tr>\n",
              "      <th>684</th>\n",
              "      <td>685</td>\n",
              "      <td>0</td>\n",
              "      <td>2</td>\n",
              "      <td>Brown, Mr. Thomas William Solomon</td>\n",
              "      <td>male</td>\n",
              "      <td>60.0</td>\n",
              "      <td>1</td>\n",
              "      <td>1</td>\n",
              "      <td>29750</td>\n",
              "      <td>39.0000</td>\n",
              "      <td>NaN</td>\n",
              "      <td>S</td>\n",
              "      <td>60.000000</td>\n",
              "      <td>60.0</td>\n",
              "      <td>60.0</td>\n",
              "    </tr>\n",
              "  </tbody>\n",
              "</table>\n",
              "<p>623 rows × 15 columns</p>\n",
              "</div>"
            ],
            "text/plain": [
              "     PassengerId  Survived  Pclass  \\\n",
              "857          858         1       1   \n",
              "52            53         1       1   \n",
              "386          387         0       3   \n",
              "124          125         0       1   \n",
              "578          579         0       3   \n",
              "..           ...       ...     ...   \n",
              "835          836         1       1   \n",
              "192          193         1       3   \n",
              "629          630         0       3   \n",
              "559          560         1       3   \n",
              "684          685         0       2   \n",
              "\n",
              "                                                Name     Sex   Age  SibSp  \\\n",
              "857                           Daly, Mr. Peter Denis     male  51.0      0   \n",
              "52          Harper, Mrs. Henry Sleeper (Myna Haxtun)  female  49.0      1   \n",
              "386                  Goodwin, Master. Sidney Leonard    male   1.0      5   \n",
              "124                      White, Mr. Percival Wayland    male  54.0      0   \n",
              "578                 Caram, Mrs. Joseph (Maria Elias)  female   NaN      1   \n",
              "..                                               ...     ...   ...    ...   \n",
              "835                      Compton, Miss. Sara Rebecca  female  39.0      1   \n",
              "192  Andersen-Jensen, Miss. Carla Christine Nielsine  female  19.0      1   \n",
              "629                         O'Connell, Mr. Patrick D    male   NaN      0   \n",
              "559     de Messemaeker, Mrs. Guillaume Joseph (Emma)  female  36.0      1   \n",
              "684                Brown, Mr. Thomas William Solomon    male  60.0      1   \n",
              "\n",
              "     Parch    Ticket     Fare Cabin Embarked   Age_mean  Age_median  Age_zero  \n",
              "857      0    113055  26.5500   E17        S  51.000000        51.0      51.0  \n",
              "52       0  PC 17572  76.7292   D33        C  49.000000        49.0      49.0  \n",
              "386      2   CA 2144  46.9000   NaN        S   1.000000         1.0       1.0  \n",
              "124      1     35281  77.2875   D26        S  54.000000        54.0      54.0  \n",
              "578      0      2689  14.4583   NaN        C  29.915339        29.0       0.0  \n",
              "..     ...       ...      ...   ...      ...        ...         ...       ...  \n",
              "835      1  PC 17756  83.1583   E49        C  39.000000        39.0      39.0  \n",
              "192      0    350046   7.8542   NaN        S  19.000000        19.0      19.0  \n",
              "629      0    334912   7.7333   NaN        Q  29.915339        29.0       0.0  \n",
              "559      0    345572  17.4000   NaN        S  36.000000        36.0      36.0  \n",
              "684      1     29750  39.0000   NaN        S  60.000000        60.0      60.0  \n",
              "\n",
              "[623 rows x 15 columns]"
            ]
          },
          "execution_count": 44,
          "metadata": {},
          "output_type": "execute_result"
        }
      ],
      "source": [
        "# Imputation Against Variable `Age`\n",
        "\n",
        "X_train_titanic = impute_na(X_train_titanic, 'Age', mean_titanic_age, median_titanic_age)\n",
        "X_test_titanic = impute_na(X_test_titanic, 'Age', mean_titanic_age, median_titanic_age)\n",
        "X_train_titanic"
      ]
    },
    {
      "attachments": {},
      "cell_type": "markdown",
      "metadata": {
        "id": "aXYJUUMuZIHT"
      },
      "source": [
        "---\n",
        "#### Effect of Mean/Median Imputation\n",
        "\n",
        "Mean/median imputation alters the variance of the original distribution of the variable"
      ]
    },
    {
      "cell_type": "code",
      "execution_count": 45,
      "metadata": {
        "colab": {
          "base_uri": "https://localhost:8080/"
        },
        "id": "WfS4oWusZIaH",
        "outputId": "c97aa320-4857-4b84-f662-cc3d4575a065"
      },
      "outputs": [
        {
          "name": "stdout",
          "output_type": "stream",
          "text": [
            "Variance - Orignal                 :  14.506993804588454\n",
            "Variance - After Mean Imputation   :  13.019703562523889\n",
            "Variance - After Median Imputation :  13.024746215318785\n"
          ]
        }
      ],
      "source": [
        "# We can see a change in the variance after imputation\n",
        "\n",
        "print('Variance - Orignal                 : ', X_train_titanic['Age'].std())\n",
        "print('Variance - After Mean Imputation   : ', X_train_titanic['Age_mean'].std())\n",
        "print('Variance - After Median Imputation : ', X_train_titanic['Age_median'].std())"
      ]
    },
    {
      "cell_type": "code",
      "execution_count": 46,
      "metadata": {
        "colab": {
          "base_uri": "https://localhost:8080/",
          "height": 575
        },
        "id": "ujPdBL-8ZKF5",
        "outputId": "a68a5c1f-6821-4c9b-a0b7-2747a616f206"
      },
      "outputs": [
        {
          "data": {
            "text/plain": [
              "<matplotlib.legend.Legend at 0x28bee51a910>"
            ]
          },
          "execution_count": 46,
          "metadata": {},
          "output_type": "execute_result"
        },
        {
          "data": {
            "text/plain": [
              "<Figure size 640x480 with 0 Axes>"
            ]
          },
          "metadata": {},
          "output_type": "display_data"
        },
        {
          "data": {
            "image/png": "[encoded data removed]",
            "text/plain": [
              "<Figure size 1500x700 with 1 Axes>"
            ]
          },
          "metadata": {},
          "output_type": "display_data"
        }
      ],
      "source": [
        "# Visualization Variable `Age` Before and After Imputation\n",
        "\n",
        "fig = plt.figure()\n",
        "fig, ax = plt.subplots(1, 1, figsize=(15, 7))\n",
        "\n",
        "X_train_titanic.Age.plot(kind='kde', ax=ax)\n",
        "X_train_titanic.Age_mean.plot(kind='kde', ax=ax, color='green')\n",
        "X_train_titanic.Age_median.plot(kind='kde', ax=ax, color='red')\n",
        "X_train_titanic.Age_zero.plot(kind='kde', ax=ax, color='purple')\n",
        "lines, labels = ax.get_legend_handles_labels()\n",
        "ax.legend(lines, labels, loc='best')"
      ]
    },
    {
      "attachments": {},
      "cell_type": "markdown",
      "metadata": {
        "id": "K04AUiZlZM9z"
      },
      "source": [
        "As mentioned above, the median imputation distorts the original distribution of the variable `Age`. The transformed variable shows more values around the mean/median value.\n",
        "\n",
        "Filling NA with `0` also distorts the distribution of the original variable, generating an accumulation of values around `0`. We will see in the next section a method of NA imputation that preserves variable distribution."
      ]
    },
    {
      "cell_type": "code",
      "execution_count": 47,
      "metadata": {
        "colab": {
          "base_uri": "https://localhost:8080/"
        },
        "id": "Ss2uaw6sFyc8",
        "outputId": "4191b43a-286a-4d34-dd90-859e13304a86"
      },
      "outputs": [
        {
          "name": "stdout",
          "output_type": "stream",
          "text": [
            "Train set zero imputation\n",
            "Random Forests roc-auc: 0.7555855621353116\n",
            "Test set zero imputation\n",
            "Random Forests zero imputation roc-auc: 0.7490476190476191\n",
            "\n",
            "Train set mean imputation\n",
            "Random Forests roc-auc: 0.751648554261296\n",
            "Test set mean imputation\n",
            "Random Forests roc-auc: 0.7698809523809523\n",
            "\n",
            "Train set median imputation\n",
            "Random Forests roc-auc: 0.7515021366130887\n",
            "Test set median imputation\n",
            "Random Forests roc-auc: 0.7697619047619049\n",
            "\n"
          ]
        }
      ],
      "source": [
        "# Let's Compare the Performance of Random Forests using `Age` filled with Zeros, Mean, and Median\n",
        "\n",
        "## Model with `Age_zero`\n",
        "rf_zero = RandomForestClassifier(n_estimators=100, random_state=39, max_depth=3)\n",
        "rf_zero.fit(X_train_titanic[['Age_zero', 'Fare']], y_train_titanic)\n",
        "\n",
        "pred_zero_train = rf_zero.predict_proba(X_train_titanic[['Age_zero', 'Fare']])\n",
        "pred_zero_test = rf_zero.predict_proba(X_test_titanic[['Age_zero', 'Fare']])\n",
        "\n",
        "print('Train set zero imputation')\n",
        "print('Random Forests roc-auc: {}'.format(roc_auc_score(y_train_titanic, pred_zero_train[:,1])))\n",
        "print('Test set zero imputation')\n",
        "print('Random Forests zero imputation roc-auc: {}'.format(roc_auc_score(y_test_titanic, pred_zero_test[:,1])))\n",
        "print()\n",
        "\n",
        "## Model with `Age_mean`\n",
        "rf_mean = RandomForestClassifier(n_estimators=100, random_state=39, max_depth=3)\n",
        "rf_mean.fit(X_train_titanic[['Age_mean', 'Fare']], y_train_titanic)\n",
        "\n",
        "pred_mean_train = rf_mean.predict_proba(X_train_titanic[['Age_mean', 'Fare']])\n",
        "pred_mean_test = rf_mean.predict_proba(X_test_titanic[['Age_mean', 'Fare']])\n",
        "\n",
        "print('Train set mean imputation')\n",
        "print('Random Forests roc-auc: {}'.format(roc_auc_score(y_train_titanic, pred_mean_train[:,1])))\n",
        "print('Test set mean imputation')\n",
        "print('Random Forests roc-auc: {}'.format(roc_auc_score(y_test_titanic, pred_mean_test[:,1])))\n",
        "print()\n",
        "\n",
        "## Model with `Age_median`\n",
        "rf_median = RandomForestClassifier(n_estimators=100, random_state=39, max_depth=3)\n",
        "rf_median.fit(X_train_titanic[['Age_median', 'Fare']], y_train_titanic)\n",
        "\n",
        "pred_median_train = rf_median.predict_proba(X_train_titanic[['Age_median', 'Fare']])\n",
        "pred_median_test = rf_median.predict_proba(X_test_titanic[['Age_median', 'Fare']])\n",
        "\n",
        "print('Train set median imputation')\n",
        "print('Random Forests roc-auc: {}'.format(roc_auc_score(y_train_titanic, pred_median_train[:,1])))\n",
        "print('Test set median imputation')\n",
        "print('Random Forests roc-auc: {}'.format(roc_auc_score(y_test_titanic, pred_median_test[:,1])))\n",
        "print()"
      ]
    },
    {
      "attachments": {},
      "cell_type": "markdown",
      "metadata": {
        "id": "Mbq-gWncGpiM"
      },
      "source": [
        "We see that mean/median imputation leads to better performance rather than using zero (`0`). Why?"
      ]
    },
    {
      "cell_type": "code",
      "execution_count": 48,
      "metadata": {
        "colab": {
          "base_uri": "https://localhost:8080/"
        },
        "id": "_2KvH9MwGrut",
        "outputId": "02e87e4d-dd16-48da-befd-728181b50717"
      },
      "outputs": [
        {
          "name": "stdout",
          "output_type": "stream",
          "text": [
            "Average total survival : 0.3884430176565008\n",
            "\n",
            "Average real survival of children :  0.5740740740740741\n",
            "Average survival of children when using Age imputed with zeroes :  0.38857142857142857\n",
            "Average survival of children when using Age imputed with mean   :  0.5740740740740741\n",
            "Average survival of children when using Age imputed with median :  0.5740740740740741\n"
          ]
        }
      ],
      "source": [
        "print('Average total survival :', X_train_titanic.Survived.mean())\n",
        "\n",
        "print('\\nAverage real survival of children : ', X_train_titanic[X_train_titanic.Age<15].Survived.mean())\n",
        "print('Average survival of children when using Age imputed with zeroes : ', X_train_titanic[X_train_titanic.Age_zero<15].Survived.mean())\n",
        "print('Average survival of children when using Age imputed with mean   : ', X_train_titanic[X_train_titanic.Age_mean<15].Survived.mean())\n",
        "print('Average survival of children when using Age imputed with median : ', X_train_titanic[X_train_titanic.Age_median<15].Survived.mean())"
      ]
    },
    {
      "attachments": {},
      "cell_type": "markdown",
      "metadata": {
        "id": "nYSsPZ3mGwnd"
      },
      "source": [
        "Evaluation notes : \n",
        "* **Children were more likely to survive the catastrophe** (0.57 for children vs 0.38 for the entire Titanic). Thus, smaller values of `Age` are a good indicator of survival.\n",
        "\n",
        "* **When we replace NA with zeroes, we are masking the predictive power of `Age`.** After zero imputation, it looks like children did not have a greater chance of survival, and therefore the model loses predictive power.\n",
        "\n",
        "* On the other hand, **replacing NA with the mean/median, preserves the predictive power of the variable Age**, as smaller Age values will favour survival."
      ]
    },
    {
      "attachments": {},
      "cell_type": "markdown",
      "metadata": {
        "id": "qcTFdbgj7nRk"
      },
      "source": [
        "---\n",
        "### Suggestions\n",
        "\n",
        "Replacement of NA with mean/median is widely used in the data science community and in various data science competitions. \n",
        "\n",
        "Typically, mean/median imputation is done together with adding a variable to capture those observations where the data was missing, thus covering 2 angles: if the data was missing completely at random, this would be contemplated by the mean/median imputation, and if it wasn't this would be captured by the additional variable.\n",
        "\n",
        "In addition, both methods are extremely straight forward to implement, and therefore are a top choice in data science competitions."
      ]
    },
    {
      "attachments": {},
      "cell_type": "markdown",
      "metadata": {
        "id": "qQ0mEP01IphH"
      },
      "source": [
        "## A.6. Random Sample Imputation"
      ]
    },
    {
      "attachments": {},
      "cell_type": "markdown",
      "metadata": {
        "id": "ls80WADCI0NB"
      },
      "source": [
        "### Explanation"
      ]
    },
    {
      "attachments": {},
      "cell_type": "markdown",
      "metadata": {
        "id": "1Y09uXiOJdh0"
      },
      "source": [
        "**Random sampling consist of taking a random observation from the pool of available observations of the variable, and using that randomly extracted value to fill the NA.** \n",
        "\n",
        "Random Sample Imputation is in principle similar to mean/median imputation, in the sense that it aims to preserve the statistical parameters of the original variable, for which data is missing.\n",
        "\n",
        "By random sampling observations of the variable for those instances where data is available, we guarantee that the mean and standard deviation of the variable are preserved.\n",
        "\n",
        "**Assumptions :**\n",
        "* The data are Missing Completely At Random (MCAR). \n",
        "\n",
        "  If this is the case, it makes sense to substitute the missing values, by values extracted from the original variable distribution. \n",
        "\n",
        "* From a probabilistic  point of view, values that are more frequent (like the mean or the median) will be selected more often (because there are more of them to select from), but other less frequent values will be selected as well. Thus, the variance of the variable is preserved. \n",
        "\n",
        "  The rationale is to replace the population of missing values with a population of values with the same distribution of the variable.\n",
        "\n",
        "**Advantages :**\n",
        "* Easy to implement\n",
        "* Fast way of obtaining complete datasets\n",
        "* Preserves the variance of the variable\n",
        "\n",
        "**Limitations :** Randomness\n",
        "\n",
        "Randomness may not seem much of a concern when replacing missing values for data competitions, where the whole batch of missing values is replaced once and then the dataset is scored and that is the end of the problem. However, in business scenarios the situation is very different."
      ]
    },
    {
      "attachments": {},
      "cell_type": "markdown",
      "metadata": {
        "id": "cyQNrKo57eqi"
      },
      "source": [
        "---\n",
        "Imagine for example the scenario of Mercedes-Benz, where they are trying to **predict how long a certain car will be in the garage before it passes all the security tests.** \n",
        "\n",
        "Scenarios : \n",
        "* Today, they receive a car with missing data in some of the variables. \n",
        "* They run the machine learning model to predict how long this car will stay in the garage.\n",
        "* The model replaces missing values by a random sample of the variable and then produces an estimate of time. \n",
        "* Tomorrow, when they run the same model on the same car with the same data, the model will randomly assign values to the missing data, that may or may not be the same as the ones it selected previously, \n",
        "* The final estimation of time in the garage, may or may not be the same as the one obtained the day before.\n",
        "* Because the missing data is randomly filled with values, the 2 cars, that are exactly the same, may end up with different estimates of time in the garage. \n",
        "\n",
        "This may sound completely trivial and unimportant, however, businesses must follow a variety of regulations, and some of them require that the **same treatment be provided to the same situation**. So if instead of cars, these were people *applying for a loan*, or *people seeking some disease treatment*, **the machine learning model would end up providing different solutions to candidates that are otherwise in the same conditions. And this is not fair or acceptable.**\n",
        "\n",
        "It is still possible to replace missing data by random sample, but these randomness needs to be controlled, so that individuals in the same situation end up with the same scores and therefore solutions.\n",
        "\n",
        "Finally, another potential limitation of random sampling, similarly to replacing with the mean and median, is that estimates of covariance and correlations with other variables in the dataset may also be washed off by the randomness."
      ]
    },
    {
      "attachments": {},
      "cell_type": "markdown",
      "metadata": {
        "id": "8UQ410El_Z9F"
      },
      "source": [
        "---\n",
        "### Case Study"
      ]
    },
    {
      "cell_type": "code",
      "execution_count": 49,
      "metadata": {
        "colab": {
          "base_uri": "https://localhost:8080/"
        },
        "id": "Ftkf9WwaZxPJ",
        "outputId": "afaabc07-8668-409c-e468-cd3243fb80d4"
      },
      "outputs": [
        {
          "data": {
            "text/plain": [
              "((623, 12), (268, 12))"
            ]
          },
          "execution_count": 49,
          "metadata": {},
          "output_type": "execute_result"
        }
      ],
      "source": [
        "# Let's Separate Dataset into Training Set and Testing Set\n",
        "\n",
        "data_titanic = data_titanic_ori.copy()\n",
        "X_train_titanic, X_test_titanic, y_train_titanic, y_test_titanic = train_test_split(data_titanic, \n",
        "                                                                                    data_titanic.Survived, \n",
        "                                                                                    test_size=0.3, \n",
        "                                                                                    random_state=0)\n",
        "X_train_titanic.shape, X_test_titanic.shape"
      ]
    },
    {
      "cell_type": "code",
      "execution_count": 50,
      "metadata": {
        "colab": {
          "base_uri": "https://localhost:8080/"
        },
        "id": "BN7oB-Q_FBim",
        "outputId": "cf8f0efa-01ec-42c9-e1a3-6aeaf60cc333"
      },
      "outputs": [
        {
          "name": "stdout",
          "output_type": "stream",
          "text": [
            "Mean Value - Train Set - Before Imputation   :  29.915338645418327\n",
            "Median Value - Train Set - Before Imputation :  29.0\n"
          ]
        }
      ],
      "source": [
        "# Display Value of Median Before Imputation\n",
        "\n",
        "mean_titanic_age = X_train_titanic.Age.mean()\n",
        "median_titanic_age = X_train_titanic.Age.median()\n",
        "\n",
        "print('Mean Value - Train Set - Before Imputation   : ', mean_titanic_age)\n",
        "print('Median Value - Train Set - Before Imputation : ', median_titanic_age)"
      ]
    },
    {
      "cell_type": "code",
      "execution_count": 51,
      "metadata": {
        "id": "3zW2hGenZyP0"
      },
      "outputs": [],
      "source": [
        "# Function to Filling Missing Values with Zeroes and Median\n",
        "\n",
        "def impute_na(df, variable, mean_value, median_value):\n",
        "  df[variable+'_mean'] = df[variable].fillna(mean_value)\n",
        "  df[variable+'_median'] = df[variable].fillna(median_value)\n",
        "  df[variable+'_zero'] = df[variable].fillna(0)\n",
        "  df[variable+'_random'] = df[variable]\n",
        "  \n",
        "  ## Extract the random sample to fill the NA\n",
        "  random_sample = X_train_titanic[variable].dropna().sample(df[variable].isnull().sum(), random_state=0)\n",
        "  \n",
        "  ## Pandas needs to have the same index in order to merge datasets\n",
        "  random_sample.index = df[df[variable].isnull()].index\n",
        "\n",
        "  ## Merge into one dataframe\n",
        "  df.loc[df[variable].isnull(), variable+'_random'] = random_sample\n",
        "  \n",
        "  return df"
      ]
    },
    {
      "cell_type": "code",
      "execution_count": 52,
      "metadata": {
        "colab": {
          "base_uri": "https://localhost:8080/",
          "height": 938
        },
        "id": "fVy4b4F8Z3oc",
        "outputId": "ee122d85-3247-4a32-94c9-1b326577f27a"
      },
      "outputs": [
        {
          "data": {
            "text/html": [
              "<div>\n",
              "<style scoped>\n",
              "    .dataframe tbody tr th:only-of-type {\n",
              "        vertical-align: middle;\n",
              "    }\n",
              "\n",
              "    .dataframe tbody tr th {\n",
              "        vertical-align: top;\n",
              "    }\n",
              "\n",
              "    .dataframe thead th {\n",
              "        text-align: right;\n",
              "    }\n",
              "</style>\n",
              "<table border=\"1\" class=\"dataframe\">\n",
              "  <thead>\n",
              "    <tr style=\"text-align: right;\">\n",
              "      <th></th>\n",
              "      <th>PassengerId</th>\n",
              "      <th>Survived</th>\n",
              "      <th>Pclass</th>\n",
              "      <th>Name</th>\n",
              "      <th>Sex</th>\n",
              "      <th>Age</th>\n",
              "      <th>SibSp</th>\n",
              "      <th>Parch</th>\n",
              "      <th>Ticket</th>\n",
              "      <th>Fare</th>\n",
              "      <th>Cabin</th>\n",
              "      <th>Embarked</th>\n",
              "      <th>Age_mean</th>\n",
              "      <th>Age_median</th>\n",
              "      <th>Age_zero</th>\n",
              "      <th>Age_random</th>\n",
              "    </tr>\n",
              "  </thead>\n",
              "  <tbody>\n",
              "    <tr>\n",
              "      <th>857</th>\n",
              "      <td>858</td>\n",
              "      <td>1</td>\n",
              "      <td>1</td>\n",
              "      <td>Daly, Mr. Peter Denis</td>\n",
              "      <td>male</td>\n",
              "      <td>51.0</td>\n",
              "      <td>0</td>\n",
              "      <td>0</td>\n",
              "      <td>113055</td>\n",
              "      <td>26.5500</td>\n",
              "      <td>E17</td>\n",
              "      <td>S</td>\n",
              "      <td>51.000000</td>\n",
              "      <td>51.0</td>\n",
              "      <td>51.0</td>\n",
              "      <td>51.0</td>\n",
              "    </tr>\n",
              "    <tr>\n",
              "      <th>52</th>\n",
              "      <td>53</td>\n",
              "      <td>1</td>\n",
              "      <td>1</td>\n",
              "      <td>Harper, Mrs. Henry Sleeper (Myna Haxtun)</td>\n",
              "      <td>female</td>\n",
              "      <td>49.0</td>\n",
              "      <td>1</td>\n",
              "      <td>0</td>\n",
              "      <td>PC 17572</td>\n",
              "      <td>76.7292</td>\n",
              "      <td>D33</td>\n",
              "      <td>C</td>\n",
              "      <td>49.000000</td>\n",
              "      <td>49.0</td>\n",
              "      <td>49.0</td>\n",
              "      <td>49.0</td>\n",
              "    </tr>\n",
              "    <tr>\n",
              "      <th>386</th>\n",
              "      <td>387</td>\n",
              "      <td>0</td>\n",
              "      <td>3</td>\n",
              "      <td>Goodwin, Master. Sidney Leonard</td>\n",
              "      <td>male</td>\n",
              "      <td>1.0</td>\n",
              "      <td>5</td>\n",
              "      <td>2</td>\n",
              "      <td>CA 2144</td>\n",
              "      <td>46.9000</td>\n",
              "      <td>NaN</td>\n",
              "      <td>S</td>\n",
              "      <td>1.000000</td>\n",
              "      <td>1.0</td>\n",
              "      <td>1.0</td>\n",
              "      <td>1.0</td>\n",
              "    </tr>\n",
              "    <tr>\n",
              "      <th>124</th>\n",
              "      <td>125</td>\n",
              "      <td>0</td>\n",
              "      <td>1</td>\n",
              "      <td>White, Mr. Percival Wayland</td>\n",
              "      <td>male</td>\n",
              "      <td>54.0</td>\n",
              "      <td>0</td>\n",
              "      <td>1</td>\n",
              "      <td>35281</td>\n",
              "      <td>77.2875</td>\n",
              "      <td>D26</td>\n",
              "      <td>S</td>\n",
              "      <td>54.000000</td>\n",
              "      <td>54.0</td>\n",
              "      <td>54.0</td>\n",
              "      <td>54.0</td>\n",
              "    </tr>\n",
              "    <tr>\n",
              "      <th>578</th>\n",
              "      <td>579</td>\n",
              "      <td>0</td>\n",
              "      <td>3</td>\n",
              "      <td>Caram, Mrs. Joseph (Maria Elias)</td>\n",
              "      <td>female</td>\n",
              "      <td>NaN</td>\n",
              "      <td>1</td>\n",
              "      <td>0</td>\n",
              "      <td>2689</td>\n",
              "      <td>14.4583</td>\n",
              "      <td>NaN</td>\n",
              "      <td>C</td>\n",
              "      <td>29.915339</td>\n",
              "      <td>29.0</td>\n",
              "      <td>0.0</td>\n",
              "      <td>16.0</td>\n",
              "    </tr>\n",
              "    <tr>\n",
              "      <th>...</th>\n",
              "      <td>...</td>\n",
              "      <td>...</td>\n",
              "      <td>...</td>\n",
              "      <td>...</td>\n",
              "      <td>...</td>\n",
              "      <td>...</td>\n",
              "      <td>...</td>\n",
              "      <td>...</td>\n",
              "      <td>...</td>\n",
              "      <td>...</td>\n",
              "      <td>...</td>\n",
              "      <td>...</td>\n",
              "      <td>...</td>\n",
              "      <td>...</td>\n",
              "      <td>...</td>\n",
              "      <td>...</td>\n",
              "    </tr>\n",
              "    <tr>\n",
              "      <th>835</th>\n",
              "      <td>836</td>\n",
              "      <td>1</td>\n",
              "      <td>1</td>\n",
              "      <td>Compton, Miss. Sara Rebecca</td>\n",
              "      <td>female</td>\n",
              "      <td>39.0</td>\n",
              "      <td>1</td>\n",
              "      <td>1</td>\n",
              "      <td>PC 17756</td>\n",
              "      <td>83.1583</td>\n",
              "      <td>E49</td>\n",
              "      <td>C</td>\n",
              "      <td>39.000000</td>\n",
              "      <td>39.0</td>\n",
              "      <td>39.0</td>\n",
              "      <td>39.0</td>\n",
              "    </tr>\n",
              "    <tr>\n",
              "      <th>192</th>\n",
              "      <td>193</td>\n",
              "      <td>1</td>\n",
              "      <td>3</td>\n",
              "      <td>Andersen-Jensen, Miss. Carla Christine Nielsine</td>\n",
              "      <td>female</td>\n",
              "      <td>19.0</td>\n",
              "      <td>1</td>\n",
              "      <td>0</td>\n",
              "      <td>350046</td>\n",
              "      <td>7.8542</td>\n",
              "      <td>NaN</td>\n",
              "      <td>S</td>\n",
              "      <td>19.000000</td>\n",
              "      <td>19.0</td>\n",
              "      <td>19.0</td>\n",
              "      <td>19.0</td>\n",
              "    </tr>\n",
              "    <tr>\n",
              "      <th>629</th>\n",
              "      <td>630</td>\n",
              "      <td>0</td>\n",
              "      <td>3</td>\n",
              "      <td>O'Connell, Mr. Patrick D</td>\n",
              "      <td>male</td>\n",
              "      <td>NaN</td>\n",
              "      <td>0</td>\n",
              "      <td>0</td>\n",
              "      <td>334912</td>\n",
              "      <td>7.7333</td>\n",
              "      <td>NaN</td>\n",
              "      <td>Q</td>\n",
              "      <td>29.915339</td>\n",
              "      <td>29.0</td>\n",
              "      <td>0.0</td>\n",
              "      <td>14.5</td>\n",
              "    </tr>\n",
              "    <tr>\n",
              "      <th>559</th>\n",
              "      <td>560</td>\n",
              "      <td>1</td>\n",
              "      <td>3</td>\n",
              "      <td>de Messemaeker, Mrs. Guillaume Joseph (Emma)</td>\n",
              "      <td>female</td>\n",
              "      <td>36.0</td>\n",
              "      <td>1</td>\n",
              "      <td>0</td>\n",
              "      <td>345572</td>\n",
              "      <td>17.4000</td>\n",
              "      <td>NaN</td>\n",
              "      <td>S</td>\n",
              "      <td>36.000000</td>\n",
              "      <td>36.0</td>\n",
              "      <td>36.0</td>\n",
              "      <td>36.0</td>\n",
              "    </tr>\n",
              "    <tr>\n",
              "      <th>684</th>\n",
              "      <td>685</td>\n",
              "      <td>0</td>\n",
              "      <td>2</td>\n",
              "      <td>Brown, Mr. Thomas William Solomon</td>\n",
              "      <td>male</td>\n",
              "      <td>60.0</td>\n",
              "      <td>1</td>\n",
              "      <td>1</td>\n",
              "      <td>29750</td>\n",
              "      <td>39.0000</td>\n",
              "      <td>NaN</td>\n",
              "      <td>S</td>\n",
              "      <td>60.000000</td>\n",
              "      <td>60.0</td>\n",
              "      <td>60.0</td>\n",
              "      <td>60.0</td>\n",
              "    </tr>\n",
              "  </tbody>\n",
              "</table>\n",
              "<p>623 rows × 16 columns</p>\n",
              "</div>"
            ],
            "text/plain": [
              "     PassengerId  Survived  Pclass  \\\n",
              "857          858         1       1   \n",
              "52            53         1       1   \n",
              "386          387         0       3   \n",
              "124          125         0       1   \n",
              "578          579         0       3   \n",
              "..           ...       ...     ...   \n",
              "835          836         1       1   \n",
              "192          193         1       3   \n",
              "629          630         0       3   \n",
              "559          560         1       3   \n",
              "684          685         0       2   \n",
              "\n",
              "                                                Name     Sex   Age  SibSp  \\\n",
              "857                           Daly, Mr. Peter Denis     male  51.0      0   \n",
              "52          Harper, Mrs. Henry Sleeper (Myna Haxtun)  female  49.0      1   \n",
              "386                  Goodwin, Master. Sidney Leonard    male   1.0      5   \n",
              "124                      White, Mr. Percival Wayland    male  54.0      0   \n",
              "578                 Caram, Mrs. Joseph (Maria Elias)  female   NaN      1   \n",
              "..                                               ...     ...   ...    ...   \n",
              "835                      Compton, Miss. Sara Rebecca  female  39.0      1   \n",
              "192  Andersen-Jensen, Miss. Carla Christine Nielsine  female  19.0      1   \n",
              "629                         O'Connell, Mr. Patrick D    male   NaN      0   \n",
              "559     de Messemaeker, Mrs. Guillaume Joseph (Emma)  female  36.0      1   \n",
              "684                Brown, Mr. Thomas William Solomon    male  60.0      1   \n",
              "\n",
              "     Parch    Ticket     Fare Cabin Embarked   Age_mean  Age_median  Age_zero  \\\n",
              "857      0    113055  26.5500   E17        S  51.000000        51.0      51.0   \n",
              "52       0  PC 17572  76.7292   D33        C  49.000000        49.0      49.0   \n",
              "386      2   CA 2144  46.9000   NaN        S   1.000000         1.0       1.0   \n",
              "124      1     35281  77.2875   D26        S  54.000000        54.0      54.0   \n",
              "578      0      2689  14.4583   NaN        C  29.915339        29.0       0.0   \n",
              "..     ...       ...      ...   ...      ...        ...         ...       ...   \n",
              "835      1  PC 17756  83.1583   E49        C  39.000000        39.0      39.0   \n",
              "192      0    350046   7.8542   NaN        S  19.000000        19.0      19.0   \n",
              "629      0    334912   7.7333   NaN        Q  29.915339        29.0       0.0   \n",
              "559      0    345572  17.4000   NaN        S  36.000000        36.0      36.0   \n",
              "684      1     29750  39.0000   NaN        S  60.000000        60.0      60.0   \n",
              "\n",
              "     Age_random  \n",
              "857        51.0  \n",
              "52         49.0  \n",
              "386         1.0  \n",
              "124        54.0  \n",
              "578        16.0  \n",
              "..          ...  \n",
              "835        39.0  \n",
              "192        19.0  \n",
              "629        14.5  \n",
              "559        36.0  \n",
              "684        60.0  \n",
              "\n",
              "[623 rows x 16 columns]"
            ]
          },
          "execution_count": 52,
          "metadata": {},
          "output_type": "execute_result"
        }
      ],
      "source": [
        "# Imputation Against Variable `Age`\n",
        "\n",
        "X_train_titanic = impute_na(X_train_titanic, 'Age', mean_titanic_age, median_titanic_age)\n",
        "X_test_titanic = impute_na(X_test_titanic, 'Age', mean_titanic_age, median_titanic_age)\n",
        "X_train_titanic"
      ]
    },
    {
      "attachments": {},
      "cell_type": "markdown",
      "metadata": {
        "id": "VxFGrlHRZw2t"
      },
      "source": [
        "#### Effect of Random Sample Imputation\n",
        "\n",
        "Random sampling preserves the original distribution of the variable."
      ]
    },
    {
      "cell_type": "code",
      "execution_count": 53,
      "metadata": {
        "colab": {
          "base_uri": "https://localhost:8080/",
          "height": 448
        },
        "id": "joysI3A3Zw_d",
        "outputId": "1566830e-dc68-4450-dafd-b192d18388e2"
      },
      "outputs": [
        {
          "data": {
            "text/plain": [
              "<matplotlib.legend.Legend at 0x28beecf4850>"
            ]
          },
          "execution_count": 53,
          "metadata": {},
          "output_type": "execute_result"
        },
        {
          "data": {
            "image/png": "[encoded data removed]",
            "text/plain": [
              "<Figure size 2000x700 with 3 Axes>"
            ]
          },
          "metadata": {},
          "output_type": "display_data"
        }
      ],
      "source": [
        "# Visualization Variable `Age` Before and After Random Sample Imputation\n",
        "\n",
        "fig, ax = plt.subplots(1, 3, figsize=(20, 7))\n",
        "\n",
        "X_train_titanic.Age.plot(kind='kde', ax=ax[0])\n",
        "X_train_titanic.Age_random.plot(kind='kde', ax=ax[0], color='red')\n",
        "lines, labels = ax[0].get_legend_handles_labels()\n",
        "ax[0].set_ylim(0, 0.05)\n",
        "ax[0].legend(lines, labels, loc='best')\n",
        "ax[0].set_title('Random Sample Imputation')\n",
        "ax[0].legend(loc=\"upper right\")\n",
        "\n",
        "X_train_titanic.Age.plot(kind='kde', ax=ax[1])\n",
        "X_train_titanic.Age_mean.plot(kind='kde', ax=ax[1], color='green')\n",
        "X_train_titanic.Age_median.plot(kind='kde', ax=ax[1], color='red')\n",
        "lines, labels = ax[1].get_legend_handles_labels()\n",
        "ax[1].set_ylim(0, 0.05)\n",
        "ax[1].legend(lines, labels, loc='best')\n",
        "ax[1].set_title('Mean/Median Imputation')\n",
        "ax[1].legend(loc=\"upper right\")\n",
        "\n",
        "X_train_titanic.Age.plot(kind='kde', ax=ax[2])\n",
        "X_train_titanic.Age_zero.plot(kind='kde', ax=ax[2], color='red')\n",
        "lines, labels = ax[2].get_legend_handles_labels()\n",
        "ax[2].set_ylim(0, 0.05)\n",
        "ax[2].legend(lines, labels, loc='best')\n",
        "ax[2].set_title('Zero Imputation')\n",
        "ax[2].legend(loc=\"upper right\")"
      ]
    },
    {
      "attachments": {},
      "cell_type": "markdown",
      "metadata": {
        "id": "p-bSHrYKaCyi"
      },
      "source": [
        "We can see that replacing missing values with a random sample from the training set preserves the original distribution of the variable. Whereas replacing by the mean, median, or zeros, alters the distribution."
      ]
    },
    {
      "cell_type": "code",
      "execution_count": 54,
      "metadata": {
        "colab": {
          "base_uri": "https://localhost:8080/"
        },
        "id": "_yLcVjvpHyg9",
        "outputId": "6e560382-21e5-4f41-f673-9677b8d02ceb"
      },
      "outputs": [
        {
          "name": "stdout",
          "output_type": "stream",
          "text": [
            "Using zero imputation\n",
            "Train - Random Forests roc-auc : 0.7555855621353116\n",
            "Test - Random Forests roc-auc. : 0.7490476190476191\n",
            "\n",
            "Using mean imputation\n",
            "Train - Random Forests roc-auc : 0.751648554261296\n",
            "Test - Random Forests roc-auc  : 0.7698809523809523\n",
            "\n",
            "Using median imputation\n",
            "Train - Random Forests roc-auc : 0.7515021366130887\n",
            "Test - Random Forests roc-auc. : 0.7697619047619049\n",
            "\n",
            "Using random sample imputation\n",
            "Train - Random Forests roc-auc : 0.7542027287911325\n",
            "Test - Random Forests roc-auc. : 0.754375\n",
            "\n"
          ]
        }
      ],
      "source": [
        "# Let's Compare the Performance of Random Forests using `Age` filled with Zeros, Mean, Median, and Random Sample\n",
        "\n",
        "## Model with `Age_zero`\n",
        "rf_zero = RandomForestClassifier(n_estimators=100, random_state=39, max_depth=3)\n",
        "rf_zero.fit(X_train_titanic[['Age_zero', 'Fare']], y_train_titanic)\n",
        "\n",
        "pred_zero_train = rf_zero.predict_proba(X_train_titanic[['Age_zero', 'Fare']])\n",
        "pred_zero_test = rf_zero.predict_proba(X_test_titanic[['Age_zero', 'Fare']])\n",
        "\n",
        "print('Using zero imputation')\n",
        "print('Train - Random Forests roc-auc : {}'.format(roc_auc_score(y_train_titanic, pred_zero_train[:,1])))\n",
        "print('Test - Random Forests roc-auc. : {}'.format(roc_auc_score(y_test_titanic, pred_zero_test[:,1])))\n",
        "print()\n",
        "\n",
        "## Model with `Age_mean`\n",
        "rf_mean = RandomForestClassifier(n_estimators=100, random_state=39, max_depth=3)\n",
        "rf_mean.fit(X_train_titanic[['Age_mean', 'Fare']], y_train_titanic)\n",
        "\n",
        "pred_mean_train = rf_mean.predict_proba(X_train_titanic[['Age_mean', 'Fare']])\n",
        "pred_mean_test = rf_mean.predict_proba(X_test_titanic[['Age_mean', 'Fare']])\n",
        "\n",
        "print('Using mean imputation')\n",
        "print('Train - Random Forests roc-auc : {}'.format(roc_auc_score(y_train_titanic, pred_mean_train[:,1])))\n",
        "print('Test - Random Forests roc-auc  : {}'.format(roc_auc_score(y_test_titanic, pred_mean_test[:,1])))\n",
        "print()\n",
        "\n",
        "## Model with `Age_median`\n",
        "rf_median = RandomForestClassifier(n_estimators=100, random_state=39, max_depth=3)\n",
        "rf_median.fit(X_train_titanic[['Age_median', 'Fare']], y_train_titanic)\n",
        "\n",
        "pred_median_train = rf_median.predict_proba(X_train_titanic[['Age_median', 'Fare']])\n",
        "pred_median_test = rf_median.predict_proba(X_test_titanic[['Age_median', 'Fare']])\n",
        "\n",
        "print('Using median imputation')\n",
        "print('Train - Random Forests roc-auc : {}'.format(roc_auc_score(y_train_titanic, pred_median_train[:,1])))\n",
        "print('Test - Random Forests roc-auc. : {}'.format(roc_auc_score(y_test_titanic, pred_median_test[:,1])))\n",
        "print()\n",
        "\n",
        "## Model with `Age_random`\n",
        "rf_random = RandomForestClassifier(n_estimators=100, random_state=39, max_depth=3)\n",
        "rf_random.fit(X_train_titanic[['Age_random', 'Fare']], y_train_titanic)\n",
        "\n",
        "pred_random_train = rf_random.predict_proba(X_train_titanic[['Age_random', 'Fare']])\n",
        "pred_random_test = rf_random.predict_proba(X_test_titanic[['Age_random', 'Fare']])\n",
        "\n",
        "print('Using random sample imputation')\n",
        "print('Train - Random Forests roc-auc : {}'.format(roc_auc_score(y_train_titanic, pred_random_train[:,1])))\n",
        "print('Test - Random Forests roc-auc. : {}'.format(roc_auc_score(y_test_titanic, pred_random_test[:,1])))\n",
        "print()"
      ]
    },
    {
      "attachments": {},
      "cell_type": "markdown",
      "metadata": {
        "id": "jmBlevzhaWX4"
      },
      "source": [
        "We can see that replacing the NA with a random sample of the dataset, does not perform as well as when replacing with the median. **However, this is entirely due to randomness.** Try to change the seed (`random_sate`) in the `impute_na` function, then recreate the `X_train_titanic` and `X_test_titanic`, and you will see how the performance of your model varies. In some cases, the performance will be better."
      ]
    },
    {
      "attachments": {},
      "cell_type": "markdown",
      "metadata": {
        "id": "RbDfPK42al34"
      },
      "source": [
        "---\n",
        "So if the performance of median imputation vs random sample imputation are similar, which method should I use?\n",
        "\n",
        "Choosing which imputation method to use, will depend on various things:\n",
        "* Do you want to **preserve the distribution** of the variable?\n",
        "* Are you willing to **accept an element of randomness** in your imputation method?\n",
        "* **What is your aims?** Are you aiming to win a data competition? or to make business driven decisions?\n",
        "* You must remeber that randomness can **lead to different scores** being assigned to the same observation.\n",
        "\n",
        "**There is no 'correct' answer to which imputation method you can use**, it rather depends on what you are trying to achieve.\n"
      ]
    },
    {
      "attachments": {},
      "cell_type": "markdown",
      "metadata": {
        "id": "mhKlQLyjb0PG"
      },
      "source": [
        "---\n",
        "#### Controlling the Randomness"
      ]
    },
    {
      "attachments": {},
      "cell_type": "markdown",
      "metadata": {
        "id": "MKmWAdZXb84I"
      },
      "source": [
        "We can attribute a different seed to each observation, and in fact, we can make this seed **depend on an alternative variable of the same observation**. \n",
        "\n",
        "Example : 2 passengers or more who paid exactly the same `Fare`, they would get exactly the same `Age` value if the value of `Age` is missing.\n",
        "\n",
        "This is a way of controlling the randomness. Using the `Fare` to set the random state, you guarantee that for 2 passengers with equal `Fare`, the `Age` will be replaced with the same number, and therefore the 2 passengers will get the same probability of survival.\n",
        "\n",
        "In real life datasets, you will build models that use tens of variables or more. So in cases like those, you can think of **picking the 3-5 more important variables, those that have the strongest impact** on the output of the machine learning model, and combine them to create the `random_state`. For example, customers that share the 3-5 main variable values, will get the same scores."
      ]
    },
    {
      "attachments": {},
      "cell_type": "markdown",
      "metadata": {
        "id": "vhZhswU9KQRK"
      },
      "source": [
        "---\n",
        "### Suggestions"
      ]
    },
    {
      "attachments": {},
      "cell_type": "markdown",
      "metadata": {
        "id": "MctznD-HMB1p"
      },
      "source": [
        "Replacement of missing values by random sample, although similar in concept to replacement by the median or mean, is **not as widely used** in the data science community as the mean/median imputation, presumably because of the element of randomness.\n",
        "\n",
        "However, it is a valid approach, with advantages over mean/median imputation as it preserves the distribution of the variable. And if you are mindful of the element of randomness and account for it somehow, this may as well be your method of choice."
      ]
    },
    {
      "attachments": {},
      "cell_type": "markdown",
      "metadata": {
        "id": "ftn99nZbc17U"
      },
      "source": [
        "## A.7. Adding A Variable To Capture Missing Values"
      ]
    },
    {
      "attachments": {},
      "cell_type": "markdown",
      "metadata": {
        "id": "hBDumn7Rc9dC"
      },
      "source": [
        "### Explanation\n",
        "\n",
        "In previous lectures we studied how to replace missing values by mean/median imputation or by extracting a random sample of the variable for those instances where data is available, and using those values to replace the missing values. We also discussed that these 2 methods assume that the missing data are missing completely at random (MCAR).\n",
        "\n",
        "So **what if the data are not missing completely at random?** By using this procedure, we would be missing important, predictive information.\n",
        "\n",
        "How can we prevent that?\n",
        "\n",
        "**We can capture the importance of missingness by creating an additional variable indicating whether the data was missing for that observation (`1`) or not (`0`)**. The additional variable is a binary variable :\n",
        "* `0` indicating that a value was present for that observation, and \n",
        "* `1` indicating that the value was missing for that observation.\n",
        "\n",
        "**Advantages :**\n",
        "* Easy to implement\n",
        "* Captures the importance of missingess if there is one\n",
        "\n",
        "**Disadvantages :** Expands the feature space\n",
        "\n",
        "* This method of imputation will add 1 variable per variable in the dataset with missing values. \n",
        "\n",
        "* So if a dataset contains 10 features, and all of them have missing values, we will end up with a dataset with 20 features. \n",
        "\n",
        "  The original features where we replaced the missing values by the mean/median (or random sampling), and additional 10 features, indicating for each of the variables, whether the value was missing or not.\n",
        "\n",
        "This may not be a problem in datasets with tens to a few hundreds of variables, but if your original dataset contains thousands of variables, by creating an additional variable to indicate NA, **you will end up with very big datasets**.\n",
        "\n",
        "In addition, data tends to be missing for the same observation on multiple variables, so it may also be the case, that many of your added variables will be actually similar to each other."
      ]
    },
    {
      "attachments": {},
      "cell_type": "markdown",
      "metadata": {
        "id": "DCIZFR9RUoz2"
      },
      "source": [
        "---\n",
        "### Case Study - Titanic Dataset"
      ]
    },
    {
      "cell_type": "code",
      "execution_count": 55,
      "metadata": {
        "colab": {
          "base_uri": "https://localhost:8080/"
        },
        "id": "6zAsl5BMduC-",
        "outputId": "f40dc35d-538f-45c9-c3d9-8819fdfa2ee2"
      },
      "outputs": [
        {
          "data": {
            "text/plain": [
              "((623, 12), (268, 12))"
            ]
          },
          "execution_count": 55,
          "metadata": {},
          "output_type": "execute_result"
        }
      ],
      "source": [
        "# Let's Separate Dataset into Training Set and Testing Set\n",
        "\n",
        "data_titanic = data_titanic_ori.copy()\n",
        "X_train_titanic, X_test_titanic, y_train_titanic, y_test_titanic = train_test_split(data_titanic, \n",
        "                                                                                    data_titanic.Survived, \n",
        "                                                                                    test_size=0.3, \n",
        "                                                                                    random_state=0)\n",
        "X_train_titanic.shape, X_test_titanic.shape"
      ]
    },
    {
      "cell_type": "code",
      "execution_count": 56,
      "metadata": {
        "id": "NYo_CXcVMfFL"
      },
      "outputs": [],
      "source": [
        "# Function to Filling Missing Values with Zeroes, Mean, Median, and Adding A Variable\n",
        "\n",
        "def impute_na(df, variable, mean_value, median_value):\n",
        "  df[variable+'_mean'] = df[variable].fillna(mean_value)\n",
        "  df[variable+'_median'] = df[variable].fillna(median_value)\n",
        "  df[variable+'_zero'] = df[variable].fillna(0)\n",
        "  df[variable+'_random'] = df[variable]\n",
        "  \n",
        "  ## Extract the random sample to fill the NA\n",
        "  random_sample = X_train_titanic[variable].dropna().sample(df[variable].isnull().sum(), random_state=0)\n",
        "  \n",
        "  ## Pandas needs to have the same index in order to merge datasets\n",
        "  random_sample.index = df[df[variable].isnull()].index\n",
        "\n",
        "  ## Merge into one dataframe\n",
        "  df.loc[df[variable].isnull(), variable+'_random'] = random_sample\n",
        "\n",
        "  df[variable+'_NA'] = np.where(df[variable].isnull(), 1, 0)\n",
        "  \n",
        "  return df"
      ]
    },
    {
      "cell_type": "code",
      "execution_count": 57,
      "metadata": {
        "colab": {
          "base_uri": "https://localhost:8080/",
          "height": 1000
        },
        "id": "TgFwqB3MM5Te",
        "outputId": "b13332d0-9d2e-4294-cd87-593c24c5cf0e"
      },
      "outputs": [
        {
          "data": {
            "text/html": [
              "<div>\n",
              "<style scoped>\n",
              "    .dataframe tbody tr th:only-of-type {\n",
              "        vertical-align: middle;\n",
              "    }\n",
              "\n",
              "    .dataframe tbody tr th {\n",
              "        vertical-align: top;\n",
              "    }\n",
              "\n",
              "    .dataframe thead th {\n",
              "        text-align: right;\n",
              "    }\n",
              "</style>\n",
              "<table border=\"1\" class=\"dataframe\">\n",
              "  <thead>\n",
              "    <tr style=\"text-align: right;\">\n",
              "      <th></th>\n",
              "      <th>PassengerId</th>\n",
              "      <th>Survived</th>\n",
              "      <th>Pclass</th>\n",
              "      <th>Name</th>\n",
              "      <th>Sex</th>\n",
              "      <th>Age</th>\n",
              "      <th>SibSp</th>\n",
              "      <th>Parch</th>\n",
              "      <th>Ticket</th>\n",
              "      <th>Fare</th>\n",
              "      <th>Cabin</th>\n",
              "      <th>Embarked</th>\n",
              "      <th>Age_mean</th>\n",
              "      <th>Age_median</th>\n",
              "      <th>Age_zero</th>\n",
              "      <th>Age_random</th>\n",
              "      <th>Age_NA</th>\n",
              "    </tr>\n",
              "  </thead>\n",
              "  <tbody>\n",
              "    <tr>\n",
              "      <th>857</th>\n",
              "      <td>858</td>\n",
              "      <td>1</td>\n",
              "      <td>1</td>\n",
              "      <td>Daly, Mr. Peter Denis</td>\n",
              "      <td>male</td>\n",
              "      <td>51.0</td>\n",
              "      <td>0</td>\n",
              "      <td>0</td>\n",
              "      <td>113055</td>\n",
              "      <td>26.5500</td>\n",
              "      <td>E17</td>\n",
              "      <td>S</td>\n",
              "      <td>51.000000</td>\n",
              "      <td>51.0</td>\n",
              "      <td>51.0</td>\n",
              "      <td>51.0</td>\n",
              "      <td>0</td>\n",
              "    </tr>\n",
              "    <tr>\n",
              "      <th>52</th>\n",
              "      <td>53</td>\n",
              "      <td>1</td>\n",
              "      <td>1</td>\n",
              "      <td>Harper, Mrs. Henry Sleeper (Myna Haxtun)</td>\n",
              "      <td>female</td>\n",
              "      <td>49.0</td>\n",
              "      <td>1</td>\n",
              "      <td>0</td>\n",
              "      <td>PC 17572</td>\n",
              "      <td>76.7292</td>\n",
              "      <td>D33</td>\n",
              "      <td>C</td>\n",
              "      <td>49.000000</td>\n",
              "      <td>49.0</td>\n",
              "      <td>49.0</td>\n",
              "      <td>49.0</td>\n",
              "      <td>0</td>\n",
              "    </tr>\n",
              "    <tr>\n",
              "      <th>386</th>\n",
              "      <td>387</td>\n",
              "      <td>0</td>\n",
              "      <td>3</td>\n",
              "      <td>Goodwin, Master. Sidney Leonard</td>\n",
              "      <td>male</td>\n",
              "      <td>1.0</td>\n",
              "      <td>5</td>\n",
              "      <td>2</td>\n",
              "      <td>CA 2144</td>\n",
              "      <td>46.9000</td>\n",
              "      <td>NaN</td>\n",
              "      <td>S</td>\n",
              "      <td>1.000000</td>\n",
              "      <td>1.0</td>\n",
              "      <td>1.0</td>\n",
              "      <td>1.0</td>\n",
              "      <td>0</td>\n",
              "    </tr>\n",
              "    <tr>\n",
              "      <th>124</th>\n",
              "      <td>125</td>\n",
              "      <td>0</td>\n",
              "      <td>1</td>\n",
              "      <td>White, Mr. Percival Wayland</td>\n",
              "      <td>male</td>\n",
              "      <td>54.0</td>\n",
              "      <td>0</td>\n",
              "      <td>1</td>\n",
              "      <td>35281</td>\n",
              "      <td>77.2875</td>\n",
              "      <td>D26</td>\n",
              "      <td>S</td>\n",
              "      <td>54.000000</td>\n",
              "      <td>54.0</td>\n",
              "      <td>54.0</td>\n",
              "      <td>54.0</td>\n",
              "      <td>0</td>\n",
              "    </tr>\n",
              "    <tr>\n",
              "      <th>578</th>\n",
              "      <td>579</td>\n",
              "      <td>0</td>\n",
              "      <td>3</td>\n",
              "      <td>Caram, Mrs. Joseph (Maria Elias)</td>\n",
              "      <td>female</td>\n",
              "      <td>NaN</td>\n",
              "      <td>1</td>\n",
              "      <td>0</td>\n",
              "      <td>2689</td>\n",
              "      <td>14.4583</td>\n",
              "      <td>NaN</td>\n",
              "      <td>C</td>\n",
              "      <td>29.915339</td>\n",
              "      <td>29.0</td>\n",
              "      <td>0.0</td>\n",
              "      <td>16.0</td>\n",
              "      <td>1</td>\n",
              "    </tr>\n",
              "    <tr>\n",
              "      <th>549</th>\n",
              "      <td>550</td>\n",
              "      <td>1</td>\n",
              "      <td>2</td>\n",
              "      <td>Davies, Master. John Morgan Jr</td>\n",
              "      <td>male</td>\n",
              "      <td>8.0</td>\n",
              "      <td>1</td>\n",
              "      <td>1</td>\n",
              "      <td>C.A. 33112</td>\n",
              "      <td>36.7500</td>\n",
              "      <td>NaN</td>\n",
              "      <td>S</td>\n",
              "      <td>8.000000</td>\n",
              "      <td>8.0</td>\n",
              "      <td>8.0</td>\n",
              "      <td>8.0</td>\n",
              "      <td>0</td>\n",
              "    </tr>\n",
              "    <tr>\n",
              "      <th>118</th>\n",
              "      <td>119</td>\n",
              "      <td>0</td>\n",
              "      <td>1</td>\n",
              "      <td>Baxter, Mr. Quigg Edmond</td>\n",
              "      <td>male</td>\n",
              "      <td>24.0</td>\n",
              "      <td>0</td>\n",
              "      <td>1</td>\n",
              "      <td>PC 17558</td>\n",
              "      <td>247.5208</td>\n",
              "      <td>B58 B60</td>\n",
              "      <td>C</td>\n",
              "      <td>24.000000</td>\n",
              "      <td>24.0</td>\n",
              "      <td>24.0</td>\n",
              "      <td>24.0</td>\n",
              "      <td>0</td>\n",
              "    </tr>\n",
              "    <tr>\n",
              "      <th>12</th>\n",
              "      <td>13</td>\n",
              "      <td>0</td>\n",
              "      <td>3</td>\n",
              "      <td>Saundercock, Mr. William Henry</td>\n",
              "      <td>male</td>\n",
              "      <td>20.0</td>\n",
              "      <td>0</td>\n",
              "      <td>0</td>\n",
              "      <td>A/5. 2151</td>\n",
              "      <td>8.0500</td>\n",
              "      <td>NaN</td>\n",
              "      <td>S</td>\n",
              "      <td>20.000000</td>\n",
              "      <td>20.0</td>\n",
              "      <td>20.0</td>\n",
              "      <td>20.0</td>\n",
              "      <td>0</td>\n",
              "    </tr>\n",
              "    <tr>\n",
              "      <th>157</th>\n",
              "      <td>158</td>\n",
              "      <td>0</td>\n",
              "      <td>3</td>\n",
              "      <td>Corn, Mr. Harry</td>\n",
              "      <td>male</td>\n",
              "      <td>30.0</td>\n",
              "      <td>0</td>\n",
              "      <td>0</td>\n",
              "      <td>SOTON/OQ 392090</td>\n",
              "      <td>8.0500</td>\n",
              "      <td>NaN</td>\n",
              "      <td>S</td>\n",
              "      <td>30.000000</td>\n",
              "      <td>30.0</td>\n",
              "      <td>30.0</td>\n",
              "      <td>30.0</td>\n",
              "      <td>0</td>\n",
              "    </tr>\n",
              "    <tr>\n",
              "      <th>127</th>\n",
              "      <td>128</td>\n",
              "      <td>1</td>\n",
              "      <td>3</td>\n",
              "      <td>Madsen, Mr. Fridtjof Arne</td>\n",
              "      <td>male</td>\n",
              "      <td>24.0</td>\n",
              "      <td>0</td>\n",
              "      <td>0</td>\n",
              "      <td>C 17369</td>\n",
              "      <td>7.1417</td>\n",
              "      <td>NaN</td>\n",
              "      <td>S</td>\n",
              "      <td>24.000000</td>\n",
              "      <td>24.0</td>\n",
              "      <td>24.0</td>\n",
              "      <td>24.0</td>\n",
              "      <td>0</td>\n",
              "    </tr>\n",
              "    <tr>\n",
              "      <th>653</th>\n",
              "      <td>654</td>\n",
              "      <td>1</td>\n",
              "      <td>3</td>\n",
              "      <td>O'Leary, Miss. Hanora \"Norah\"</td>\n",
              "      <td>female</td>\n",
              "      <td>NaN</td>\n",
              "      <td>0</td>\n",
              "      <td>0</td>\n",
              "      <td>330919</td>\n",
              "      <td>7.8292</td>\n",
              "      <td>NaN</td>\n",
              "      <td>Q</td>\n",
              "      <td>29.915339</td>\n",
              "      <td>29.0</td>\n",
              "      <td>0.0</td>\n",
              "      <td>32.0</td>\n",
              "      <td>1</td>\n",
              "    </tr>\n",
              "    <tr>\n",
              "      <th>235</th>\n",
              "      <td>236</td>\n",
              "      <td>0</td>\n",
              "      <td>3</td>\n",
              "      <td>Harknett, Miss. Alice Phoebe</td>\n",
              "      <td>female</td>\n",
              "      <td>NaN</td>\n",
              "      <td>0</td>\n",
              "      <td>0</td>\n",
              "      <td>W./C. 6609</td>\n",
              "      <td>7.5500</td>\n",
              "      <td>NaN</td>\n",
              "      <td>S</td>\n",
              "      <td>29.915339</td>\n",
              "      <td>29.0</td>\n",
              "      <td>0.0</td>\n",
              "      <td>34.0</td>\n",
              "      <td>1</td>\n",
              "    </tr>\n",
              "    <tr>\n",
              "      <th>785</th>\n",
              "      <td>786</td>\n",
              "      <td>0</td>\n",
              "      <td>3</td>\n",
              "      <td>Harmer, Mr. Abraham (David Lishin)</td>\n",
              "      <td>male</td>\n",
              "      <td>25.0</td>\n",
              "      <td>0</td>\n",
              "      <td>0</td>\n",
              "      <td>374887</td>\n",
              "      <td>7.2500</td>\n",
              "      <td>NaN</td>\n",
              "      <td>S</td>\n",
              "      <td>25.000000</td>\n",
              "      <td>25.0</td>\n",
              "      <td>25.0</td>\n",
              "      <td>25.0</td>\n",
              "      <td>0</td>\n",
              "    </tr>\n",
              "    <tr>\n",
              "      <th>241</th>\n",
              "      <td>242</td>\n",
              "      <td>1</td>\n",
              "      <td>3</td>\n",
              "      <td>Murphy, Miss. Katherine \"Kate\"</td>\n",
              "      <td>female</td>\n",
              "      <td>NaN</td>\n",
              "      <td>1</td>\n",
              "      <td>0</td>\n",
              "      <td>367230</td>\n",
              "      <td>15.5000</td>\n",
              "      <td>NaN</td>\n",
              "      <td>Q</td>\n",
              "      <td>29.915339</td>\n",
              "      <td>29.0</td>\n",
              "      <td>0.0</td>\n",
              "      <td>8.0</td>\n",
              "      <td>1</td>\n",
              "    </tr>\n",
              "    <tr>\n",
              "      <th>351</th>\n",
              "      <td>352</td>\n",
              "      <td>0</td>\n",
              "      <td>1</td>\n",
              "      <td>Williams-Lambert, Mr. Fletcher Fellows</td>\n",
              "      <td>male</td>\n",
              "      <td>NaN</td>\n",
              "      <td>0</td>\n",
              "      <td>0</td>\n",
              "      <td>113510</td>\n",
              "      <td>35.0000</td>\n",
              "      <td>C128</td>\n",
              "      <td>S</td>\n",
              "      <td>29.915339</td>\n",
              "      <td>29.0</td>\n",
              "      <td>0.0</td>\n",
              "      <td>1.0</td>\n",
              "      <td>1</td>\n",
              "    </tr>\n",
              "  </tbody>\n",
              "</table>\n",
              "</div>"
            ],
            "text/plain": [
              "     PassengerId  Survived  Pclass                                      Name  \\\n",
              "857          858         1       1                    Daly, Mr. Peter Denis    \n",
              "52            53         1       1  Harper, Mrs. Henry Sleeper (Myna Haxtun)   \n",
              "386          387         0       3           Goodwin, Master. Sidney Leonard   \n",
              "124          125         0       1               White, Mr. Percival Wayland   \n",
              "578          579         0       3          Caram, Mrs. Joseph (Maria Elias)   \n",
              "549          550         1       2            Davies, Master. John Morgan Jr   \n",
              "118          119         0       1                  Baxter, Mr. Quigg Edmond   \n",
              "12            13         0       3            Saundercock, Mr. William Henry   \n",
              "157          158         0       3                           Corn, Mr. Harry   \n",
              "127          128         1       3                 Madsen, Mr. Fridtjof Arne   \n",
              "653          654         1       3             O'Leary, Miss. Hanora \"Norah\"   \n",
              "235          236         0       3              Harknett, Miss. Alice Phoebe   \n",
              "785          786         0       3        Harmer, Mr. Abraham (David Lishin)   \n",
              "241          242         1       3            Murphy, Miss. Katherine \"Kate\"   \n",
              "351          352         0       1    Williams-Lambert, Mr. Fletcher Fellows   \n",
              "\n",
              "        Sex   Age  SibSp  Parch           Ticket      Fare    Cabin Embarked  \\\n",
              "857    male  51.0      0      0           113055   26.5500      E17        S   \n",
              "52   female  49.0      1      0         PC 17572   76.7292      D33        C   \n",
              "386    male   1.0      5      2          CA 2144   46.9000      NaN        S   \n",
              "124    male  54.0      0      1            35281   77.2875      D26        S   \n",
              "578  female   NaN      1      0             2689   14.4583      NaN        C   \n",
              "549    male   8.0      1      1       C.A. 33112   36.7500      NaN        S   \n",
              "118    male  24.0      0      1         PC 17558  247.5208  B58 B60        C   \n",
              "12     male  20.0      0      0        A/5. 2151    8.0500      NaN        S   \n",
              "157    male  30.0      0      0  SOTON/OQ 392090    8.0500      NaN        S   \n",
              "127    male  24.0      0      0          C 17369    7.1417      NaN        S   \n",
              "653  female   NaN      0      0           330919    7.8292      NaN        Q   \n",
              "235  female   NaN      0      0       W./C. 6609    7.5500      NaN        S   \n",
              "785    male  25.0      0      0           374887    7.2500      NaN        S   \n",
              "241  female   NaN      1      0           367230   15.5000      NaN        Q   \n",
              "351    male   NaN      0      0           113510   35.0000     C128        S   \n",
              "\n",
              "      Age_mean  Age_median  Age_zero  Age_random  Age_NA  \n",
              "857  51.000000        51.0      51.0        51.0       0  \n",
              "52   49.000000        49.0      49.0        49.0       0  \n",
              "386   1.000000         1.0       1.0         1.0       0  \n",
              "124  54.000000        54.0      54.0        54.0       0  \n",
              "578  29.915339        29.0       0.0        16.0       1  \n",
              "549   8.000000         8.0       8.0         8.0       0  \n",
              "118  24.000000        24.0      24.0        24.0       0  \n",
              "12   20.000000        20.0      20.0        20.0       0  \n",
              "157  30.000000        30.0      30.0        30.0       0  \n",
              "127  24.000000        24.0      24.0        24.0       0  \n",
              "653  29.915339        29.0       0.0        32.0       1  \n",
              "235  29.915339        29.0       0.0        34.0       1  \n",
              "785  25.000000        25.0      25.0        25.0       0  \n",
              "241  29.915339        29.0       0.0         8.0       1  \n",
              "351  29.915339        29.0       0.0         1.0       1  "
            ]
          },
          "execution_count": 57,
          "metadata": {},
          "output_type": "execute_result"
        }
      ],
      "source": [
        "# Imputation Against Variable `Age`\n",
        "\n",
        "X_train_titanic = impute_na(X_train_titanic, 'Age', mean_titanic_age, median_titanic_age)\n",
        "X_test_titanic = impute_na(X_test_titanic, 'Age', mean_titanic_age, median_titanic_age)\n",
        "X_train_titanic.head(15)"
      ]
    },
    {
      "cell_type": "code",
      "execution_count": 58,
      "metadata": {
        "colab": {
          "base_uri": "https://localhost:8080/"
        },
        "id": "6HpIGvfeMZBT",
        "outputId": "96e4aaf8-cb47-4e91-a4ca-b35963c45fbc"
      },
      "outputs": [
        {
          "name": "stdout",
          "output_type": "stream",
          "text": [
            "Using zero imputation\n",
            "Train - Random Forests roc-auc : 0.7553306869699139\n",
            "Test - Random Forests roc-auc. : 0.740654761904762\n",
            "\n",
            "Using mean imputation\n",
            "Train - Random Forests roc-auc : 0.749154031365914\n",
            "Test - Random Forests roc-auc  : 0.7630059523809525\n",
            "\n",
            "Using median imputation\n",
            "Train - Random Forests roc-auc : 0.7500271143792976\n",
            "Test - Random Forests roc-auc. : 0.7614285714285715\n",
            "\n",
            "Using random sample imputation\n",
            "Train - Random Forests roc-auc : 0.7534001431639226\n",
            "Test - Random Forests roc-auc. : 0.756875\n",
            "\n",
            "Using Capturing Missing Value\n",
            "Train - Random Forests roc-auc : 0.7548209366391183\n",
            "Test - Random Forests roc-auc. : 0.7614880952380954\n",
            "\n"
          ]
        }
      ],
      "source": [
        "# Let's Compare the Performance of Random Forests using `Age` filled with Zeros, Mean, Median, and Random Sample\n",
        "\n",
        "## Model with `Age_zero`\n",
        "rf_zero = RandomForestClassifier(n_estimators=100, random_state=19, max_depth=3)\n",
        "rf_zero.fit(X_train_titanic[['Age_zero', 'Fare']], y_train_titanic)\n",
        "\n",
        "pred_zero_train = rf_zero.predict_proba(X_train_titanic[['Age_zero', 'Fare']])\n",
        "pred_zero_test = rf_zero.predict_proba(X_test_titanic[['Age_zero', 'Fare']])\n",
        "\n",
        "print('Using zero imputation')\n",
        "print('Train - Random Forests roc-auc : {}'.format(roc_auc_score(y_train_titanic, pred_zero_train[:,1])))\n",
        "print('Test - Random Forests roc-auc. : {}'.format(roc_auc_score(y_test_titanic, pred_zero_test[:,1])))\n",
        "print()\n",
        "\n",
        "## Model with `Age_mean`\n",
        "rf_mean = RandomForestClassifier(n_estimators=100, random_state=19, max_depth=3)\n",
        "rf_mean.fit(X_train_titanic[['Age_mean', 'Fare']], y_train_titanic)\n",
        "\n",
        "pred_mean_train = rf_mean.predict_proba(X_train_titanic[['Age_mean', 'Fare']])\n",
        "pred_mean_test = rf_mean.predict_proba(X_test_titanic[['Age_mean', 'Fare']])\n",
        "\n",
        "print('Using mean imputation')\n",
        "print('Train - Random Forests roc-auc : {}'.format(roc_auc_score(y_train_titanic, pred_mean_train[:,1])))\n",
        "print('Test - Random Forests roc-auc  : {}'.format(roc_auc_score(y_test_titanic, pred_mean_test[:,1])))\n",
        "print()\n",
        "\n",
        "## Model with `Age_median`\n",
        "rf_median = RandomForestClassifier(n_estimators=100, random_state=19, max_depth=3)\n",
        "rf_median.fit(X_train_titanic[['Age_median', 'Fare']], y_train_titanic)\n",
        "\n",
        "pred_median_train = rf_median.predict_proba(X_train_titanic[['Age_median', 'Fare']])\n",
        "pred_median_test = rf_median.predict_proba(X_test_titanic[['Age_median', 'Fare']])\n",
        "\n",
        "print('Using median imputation')\n",
        "print('Train - Random Forests roc-auc : {}'.format(roc_auc_score(y_train_titanic, pred_median_train[:,1])))\n",
        "print('Test - Random Forests roc-auc. : {}'.format(roc_auc_score(y_test_titanic, pred_median_test[:,1])))\n",
        "print()\n",
        "\n",
        "## Model with `Age_random`\n",
        "rf_random = RandomForestClassifier(n_estimators=100, random_state=19, max_depth=3)\n",
        "rf_random.fit(X_train_titanic[['Age_random', 'Fare']], y_train_titanic)\n",
        "\n",
        "pred_random_train = rf_random.predict_proba(X_train_titanic[['Age_random', 'Fare']])\n",
        "pred_random_test = rf_random.predict_proba(X_test_titanic[['Age_random', 'Fare']])\n",
        "\n",
        "print('Using random sample imputation')\n",
        "print('Train - Random Forests roc-auc : {}'.format(roc_auc_score(y_train_titanic, pred_random_train[:,1])))\n",
        "print('Test - Random Forests roc-auc. : {}'.format(roc_auc_score(y_test_titanic, pred_random_test[:,1])))\n",
        "print()\n",
        "\n",
        "## Model with `Age_NA`\n",
        "rf_NA = RandomForestClassifier(n_estimators=100, random_state=19, max_depth=3)\n",
        "rf_NA.fit(X_train_titanic[['Age_mean', 'Age_NA', 'Fare']], y_train_titanic)\n",
        "\n",
        "pred_NA_train = rf_NA.predict_proba(X_train_titanic[['Age_mean', 'Age_NA', 'Fare']])\n",
        "pred_NA_test = rf_NA.predict_proba(X_test_titanic[['Age_mean', 'Age_NA', 'Fare']])\n",
        "\n",
        "print('Using Capturing Missing Value')\n",
        "print('Train - Random Forests roc-auc : {}'.format(roc_auc_score(y_train_titanic, pred_NA_train[:,1])))\n",
        "print('Test - Random Forests roc-auc. : {}'.format(roc_auc_score(y_test_titanic, pred_NA_test[:,1])))\n",
        "print()"
      ]
    },
    {
      "attachments": {},
      "cell_type": "markdown",
      "metadata": {
        "id": "wwW-HLG-eEl8"
      },
      "source": [
        "In the Titanic dataset, we can see that models produce the same accuracy in the performance of the Random Forest. Let's try this method in regression problem."
      ]
    },
    {
      "attachments": {},
      "cell_type": "markdown",
      "metadata": {
        "id": "vF_gmje-eFQm"
      },
      "source": [
        "### Case Study - House Prices Dataset"
      ]
    },
    {
      "cell_type": "code",
      "execution_count": 59,
      "metadata": {
        "colab": {
          "base_uri": "https://localhost:8080/",
          "height": 363
        },
        "id": "TWyi_ezOeDyY",
        "outputId": "26ebce11-7198-40ea-dfb3-729fc3cd5c3a"
      },
      "outputs": [
        {
          "data": {
            "text/html": [
              "<div>\n",
              "<style scoped>\n",
              "    .dataframe tbody tr th:only-of-type {\n",
              "        vertical-align: middle;\n",
              "    }\n",
              "\n",
              "    .dataframe tbody tr th {\n",
              "        vertical-align: top;\n",
              "    }\n",
              "\n",
              "    .dataframe thead th {\n",
              "        text-align: right;\n",
              "    }\n",
              "</style>\n",
              "<table border=\"1\" class=\"dataframe\">\n",
              "  <thead>\n",
              "    <tr style=\"text-align: right;\">\n",
              "      <th></th>\n",
              "      <th>OverallQual</th>\n",
              "      <th>TotalBsmtSF</th>\n",
              "      <th>1stFlrSF</th>\n",
              "      <th>GrLivArea</th>\n",
              "      <th>WoodDeckSF</th>\n",
              "      <th>BsmtUnfSF</th>\n",
              "      <th>LotFrontage</th>\n",
              "      <th>MasVnrArea</th>\n",
              "      <th>GarageYrBlt</th>\n",
              "      <th>SalePrice</th>\n",
              "    </tr>\n",
              "  </thead>\n",
              "  <tbody>\n",
              "    <tr>\n",
              "      <th>0</th>\n",
              "      <td>7</td>\n",
              "      <td>856</td>\n",
              "      <td>856</td>\n",
              "      <td>1710</td>\n",
              "      <td>0</td>\n",
              "      <td>150</td>\n",
              "      <td>65.0</td>\n",
              "      <td>196.0</td>\n",
              "      <td>2003.0</td>\n",
              "      <td>208500</td>\n",
              "    </tr>\n",
              "    <tr>\n",
              "      <th>1</th>\n",
              "      <td>6</td>\n",
              "      <td>1262</td>\n",
              "      <td>1262</td>\n",
              "      <td>1262</td>\n",
              "      <td>298</td>\n",
              "      <td>284</td>\n",
              "      <td>80.0</td>\n",
              "      <td>0.0</td>\n",
              "      <td>1976.0</td>\n",
              "      <td>181500</td>\n",
              "    </tr>\n",
              "    <tr>\n",
              "      <th>2</th>\n",
              "      <td>7</td>\n",
              "      <td>920</td>\n",
              "      <td>920</td>\n",
              "      <td>1786</td>\n",
              "      <td>0</td>\n",
              "      <td>434</td>\n",
              "      <td>68.0</td>\n",
              "      <td>162.0</td>\n",
              "      <td>2001.0</td>\n",
              "      <td>223500</td>\n",
              "    </tr>\n",
              "    <tr>\n",
              "      <th>3</th>\n",
              "      <td>7</td>\n",
              "      <td>756</td>\n",
              "      <td>961</td>\n",
              "      <td>1717</td>\n",
              "      <td>0</td>\n",
              "      <td>540</td>\n",
              "      <td>60.0</td>\n",
              "      <td>0.0</td>\n",
              "      <td>1998.0</td>\n",
              "      <td>140000</td>\n",
              "    </tr>\n",
              "    <tr>\n",
              "      <th>4</th>\n",
              "      <td>8</td>\n",
              "      <td>1145</td>\n",
              "      <td>1145</td>\n",
              "      <td>2198</td>\n",
              "      <td>192</td>\n",
              "      <td>490</td>\n",
              "      <td>84.0</td>\n",
              "      <td>350.0</td>\n",
              "      <td>2000.0</td>\n",
              "      <td>250000</td>\n",
              "    </tr>\n",
              "    <tr>\n",
              "      <th>5</th>\n",
              "      <td>5</td>\n",
              "      <td>796</td>\n",
              "      <td>796</td>\n",
              "      <td>1362</td>\n",
              "      <td>40</td>\n",
              "      <td>64</td>\n",
              "      <td>85.0</td>\n",
              "      <td>0.0</td>\n",
              "      <td>1993.0</td>\n",
              "      <td>143000</td>\n",
              "    </tr>\n",
              "    <tr>\n",
              "      <th>6</th>\n",
              "      <td>8</td>\n",
              "      <td>1686</td>\n",
              "      <td>1694</td>\n",
              "      <td>1694</td>\n",
              "      <td>255</td>\n",
              "      <td>317</td>\n",
              "      <td>75.0</td>\n",
              "      <td>186.0</td>\n",
              "      <td>2004.0</td>\n",
              "      <td>307000</td>\n",
              "    </tr>\n",
              "    <tr>\n",
              "      <th>7</th>\n",
              "      <td>7</td>\n",
              "      <td>1107</td>\n",
              "      <td>1107</td>\n",
              "      <td>2090</td>\n",
              "      <td>235</td>\n",
              "      <td>216</td>\n",
              "      <td>NaN</td>\n",
              "      <td>240.0</td>\n",
              "      <td>1973.0</td>\n",
              "      <td>200000</td>\n",
              "    </tr>\n",
              "    <tr>\n",
              "      <th>8</th>\n",
              "      <td>7</td>\n",
              "      <td>952</td>\n",
              "      <td>1022</td>\n",
              "      <td>1774</td>\n",
              "      <td>90</td>\n",
              "      <td>952</td>\n",
              "      <td>51.0</td>\n",
              "      <td>0.0</td>\n",
              "      <td>1931.0</td>\n",
              "      <td>129900</td>\n",
              "    </tr>\n",
              "    <tr>\n",
              "      <th>9</th>\n",
              "      <td>5</td>\n",
              "      <td>991</td>\n",
              "      <td>1077</td>\n",
              "      <td>1077</td>\n",
              "      <td>0</td>\n",
              "      <td>140</td>\n",
              "      <td>50.0</td>\n",
              "      <td>0.0</td>\n",
              "      <td>1939.0</td>\n",
              "      <td>118000</td>\n",
              "    </tr>\n",
              "  </tbody>\n",
              "</table>\n",
              "</div>"
            ],
            "text/plain": [
              "   OverallQual  TotalBsmtSF  1stFlrSF  GrLivArea  WoodDeckSF  BsmtUnfSF  \\\n",
              "0            7          856       856       1710           0        150   \n",
              "1            6         1262      1262       1262         298        284   \n",
              "2            7          920       920       1786           0        434   \n",
              "3            7          756       961       1717           0        540   \n",
              "4            8         1145      1145       2198         192        490   \n",
              "5            5          796       796       1362          40         64   \n",
              "6            8         1686      1694       1694         255        317   \n",
              "7            7         1107      1107       2090         235        216   \n",
              "8            7          952      1022       1774          90        952   \n",
              "9            5          991      1077       1077           0        140   \n",
              "\n",
              "   LotFrontage  MasVnrArea  GarageYrBlt  SalePrice  \n",
              "0         65.0       196.0       2003.0     208500  \n",
              "1         80.0         0.0       1976.0     181500  \n",
              "2         68.0       162.0       2001.0     223500  \n",
              "3         60.0         0.0       1998.0     140000  \n",
              "4         84.0       350.0       2000.0     250000  \n",
              "5         85.0         0.0       1993.0     143000  \n",
              "6         75.0       186.0       2004.0     307000  \n",
              "7          NaN       240.0       1973.0     200000  \n",
              "8         51.0         0.0       1931.0     129900  \n",
              "9         50.0         0.0       1939.0     118000  "
            ]
          },
          "execution_count": 59,
          "metadata": {},
          "output_type": "execute_result"
        }
      ],
      "source": [
        "# For Demonstration Purposes, We Are Going to Use These Columns\n",
        "\n",
        "cols_to_use = ['OverallQual', 'TotalBsmtSF', '1stFlrSF', 'GrLivArea','WoodDeckSF', 'BsmtUnfSF',\n",
        "               'LotFrontage', 'MasVnrArea', 'GarageYrBlt']\n",
        "\n",
        "data_house_prices = data_house_prices_ori.copy()\n",
        "data_house_prices = data_house_prices[cols_to_use + ['SalePrice']]\n",
        "data_house_prices.head(10)"
      ]
    },
    {
      "cell_type": "code",
      "execution_count": 60,
      "metadata": {
        "colab": {
          "base_uri": "https://localhost:8080/"
        },
        "id": "dUZ6xiAjeMcS",
        "outputId": "bc41cb46-d0a7-4ab2-e7d9-f44b4aac1dd4"
      },
      "outputs": [
        {
          "data": {
            "text/plain": [
              "OverallQual    0.000000\n",
              "TotalBsmtSF    0.000000\n",
              "1stFlrSF       0.000000\n",
              "GrLivArea      0.000000\n",
              "WoodDeckSF     0.000000\n",
              "BsmtUnfSF      0.000000\n",
              "LotFrontage    0.177397\n",
              "MasVnrArea     0.005479\n",
              "GarageYrBlt    0.055479\n",
              "SalePrice      0.000000\n",
              "dtype: float64"
            ]
          },
          "execution_count": 60,
          "metadata": {},
          "output_type": "execute_result"
        }
      ],
      "source": [
        "# Check Missing Values in House Prices Dataset\n",
        "\n",
        "data_house_prices.isnull().mean()"
      ]
    },
    {
      "cell_type": "code",
      "execution_count": 61,
      "metadata": {
        "colab": {
          "base_uri": "https://localhost:8080/"
        },
        "id": "0VJ5q9o8eN3S",
        "outputId": "d18732b6-ddae-446f-bdad-9cd61a1d3c72"
      },
      "outputs": [
        {
          "data": {
            "text/plain": [
              "((1022, 10), (438, 10))"
            ]
          },
          "execution_count": 61,
          "metadata": {},
          "output_type": "execute_result"
        }
      ],
      "source": [
        "# Let's Separate Dataset into Training Set and Testing Set\n",
        "\n",
        "X_train, X_test, y_train, y_test = train_test_split(data_house_prices, \n",
        "                                                    data_house_prices.SalePrice, \n",
        "                                                    test_size=0.3,\n",
        "                                                    random_state=0)\n",
        "X_train.shape, X_test.shape"
      ]
    },
    {
      "attachments": {},
      "cell_type": "markdown",
      "metadata": {
        "id": "DoK9qDYc8Zw_"
      },
      "source": [
        "- fit train\n",
        "- transform train\n",
        "- transform test\n",
        "\n",
        "- mean / median train\n",
        "- impute test dari mean train\n",
        "- Q1 - Q3 train\n",
        "- trimming test dari Q1 -Q3 train"
      ]
    },
    {
      "cell_type": "code",
      "execution_count": 62,
      "metadata": {
        "colab": {
          "base_uri": "https://localhost:8080/",
          "height": 423
        },
        "id": "JM6R3OiirFRn",
        "outputId": "62f71301-856f-4b1e-a5db-dab7d5d47d84"
      },
      "outputs": [
        {
          "data": {
            "text/html": [
              "<div>\n",
              "<style scoped>\n",
              "    .dataframe tbody tr th:only-of-type {\n",
              "        vertical-align: middle;\n",
              "    }\n",
              "\n",
              "    .dataframe tbody tr th {\n",
              "        vertical-align: top;\n",
              "    }\n",
              "\n",
              "    .dataframe thead th {\n",
              "        text-align: right;\n",
              "    }\n",
              "</style>\n",
              "<table border=\"1\" class=\"dataframe\">\n",
              "  <thead>\n",
              "    <tr style=\"text-align: right;\">\n",
              "      <th></th>\n",
              "      <th>OverallQual</th>\n",
              "      <th>TotalBsmtSF</th>\n",
              "      <th>1stFlrSF</th>\n",
              "      <th>GrLivArea</th>\n",
              "      <th>WoodDeckSF</th>\n",
              "      <th>BsmtUnfSF</th>\n",
              "      <th>LotFrontage</th>\n",
              "      <th>MasVnrArea</th>\n",
              "      <th>GarageYrBlt</th>\n",
              "      <th>SalePrice</th>\n",
              "    </tr>\n",
              "  </thead>\n",
              "  <tbody>\n",
              "    <tr>\n",
              "      <th>64</th>\n",
              "      <td>7</td>\n",
              "      <td>1057</td>\n",
              "      <td>1057</td>\n",
              "      <td>2034</td>\n",
              "      <td>576</td>\n",
              "      <td>318</td>\n",
              "      <td>NaN</td>\n",
              "      <td>573.0</td>\n",
              "      <td>1998.0</td>\n",
              "      <td>219500</td>\n",
              "    </tr>\n",
              "    <tr>\n",
              "      <th>682</th>\n",
              "      <td>6</td>\n",
              "      <td>1291</td>\n",
              "      <td>1291</td>\n",
              "      <td>1291</td>\n",
              "      <td>307</td>\n",
              "      <td>288</td>\n",
              "      <td>NaN</td>\n",
              "      <td>0.0</td>\n",
              "      <td>1996.0</td>\n",
              "      <td>173000</td>\n",
              "    </tr>\n",
              "    <tr>\n",
              "      <th>960</th>\n",
              "      <td>5</td>\n",
              "      <td>858</td>\n",
              "      <td>858</td>\n",
              "      <td>858</td>\n",
              "      <td>117</td>\n",
              "      <td>162</td>\n",
              "      <td>50.0</td>\n",
              "      <td>0.0</td>\n",
              "      <td>NaN</td>\n",
              "      <td>116500</td>\n",
              "    </tr>\n",
              "    <tr>\n",
              "      <th>1384</th>\n",
              "      <td>6</td>\n",
              "      <td>560</td>\n",
              "      <td>698</td>\n",
              "      <td>1258</td>\n",
              "      <td>0</td>\n",
              "      <td>356</td>\n",
              "      <td>60.0</td>\n",
              "      <td>0.0</td>\n",
              "      <td>1939.0</td>\n",
              "      <td>105000</td>\n",
              "    </tr>\n",
              "    <tr>\n",
              "      <th>1100</th>\n",
              "      <td>2</td>\n",
              "      <td>290</td>\n",
              "      <td>438</td>\n",
              "      <td>438</td>\n",
              "      <td>0</td>\n",
              "      <td>0</td>\n",
              "      <td>60.0</td>\n",
              "      <td>0.0</td>\n",
              "      <td>1930.0</td>\n",
              "      <td>60000</td>\n",
              "    </tr>\n",
              "    <tr>\n",
              "      <th>...</th>\n",
              "      <td>...</td>\n",
              "      <td>...</td>\n",
              "      <td>...</td>\n",
              "      <td>...</td>\n",
              "      <td>...</td>\n",
              "      <td>...</td>\n",
              "      <td>...</td>\n",
              "      <td>...</td>\n",
              "      <td>...</td>\n",
              "      <td>...</td>\n",
              "    </tr>\n",
              "    <tr>\n",
              "      <th>763</th>\n",
              "      <td>8</td>\n",
              "      <td>1252</td>\n",
              "      <td>1268</td>\n",
              "      <td>2365</td>\n",
              "      <td>0</td>\n",
              "      <td>89</td>\n",
              "      <td>82.0</td>\n",
              "      <td>673.0</td>\n",
              "      <td>1999.0</td>\n",
              "      <td>337000</td>\n",
              "    </tr>\n",
              "    <tr>\n",
              "      <th>835</th>\n",
              "      <td>4</td>\n",
              "      <td>1067</td>\n",
              "      <td>1067</td>\n",
              "      <td>1067</td>\n",
              "      <td>290</td>\n",
              "      <td>625</td>\n",
              "      <td>60.0</td>\n",
              "      <td>0.0</td>\n",
              "      <td>1996.0</td>\n",
              "      <td>128000</td>\n",
              "    </tr>\n",
              "    <tr>\n",
              "      <th>1216</th>\n",
              "      <td>6</td>\n",
              "      <td>0</td>\n",
              "      <td>1318</td>\n",
              "      <td>1902</td>\n",
              "      <td>0</td>\n",
              "      <td>0</td>\n",
              "      <td>68.0</td>\n",
              "      <td>0.0</td>\n",
              "      <td>1978.0</td>\n",
              "      <td>112000</td>\n",
              "    </tr>\n",
              "    <tr>\n",
              "      <th>559</th>\n",
              "      <td>7</td>\n",
              "      <td>1374</td>\n",
              "      <td>1557</td>\n",
              "      <td>1557</td>\n",
              "      <td>143</td>\n",
              "      <td>1374</td>\n",
              "      <td>NaN</td>\n",
              "      <td>18.0</td>\n",
              "      <td>2003.0</td>\n",
              "      <td>234000</td>\n",
              "    </tr>\n",
              "    <tr>\n",
              "      <th>684</th>\n",
              "      <td>7</td>\n",
              "      <td>1195</td>\n",
              "      <td>1195</td>\n",
              "      <td>1839</td>\n",
              "      <td>0</td>\n",
              "      <td>1195</td>\n",
              "      <td>58.0</td>\n",
              "      <td>30.0</td>\n",
              "      <td>1998.0</td>\n",
              "      <td>221000</td>\n",
              "    </tr>\n",
              "  </tbody>\n",
              "</table>\n",
              "<p>1022 rows × 10 columns</p>\n",
              "</div>"
            ],
            "text/plain": [
              "      OverallQual  TotalBsmtSF  1stFlrSF  GrLivArea  WoodDeckSF  BsmtUnfSF  \\\n",
              "64              7         1057      1057       2034         576        318   \n",
              "682             6         1291      1291       1291         307        288   \n",
              "960             5          858       858        858         117        162   \n",
              "1384            6          560       698       1258           0        356   \n",
              "1100            2          290       438        438           0          0   \n",
              "...           ...          ...       ...        ...         ...        ...   \n",
              "763             8         1252      1268       2365           0         89   \n",
              "835             4         1067      1067       1067         290        625   \n",
              "1216            6            0      1318       1902           0          0   \n",
              "559             7         1374      1557       1557         143       1374   \n",
              "684             7         1195      1195       1839           0       1195   \n",
              "\n",
              "      LotFrontage  MasVnrArea  GarageYrBlt  SalePrice  \n",
              "64            NaN       573.0       1998.0     219500  \n",
              "682           NaN         0.0       1996.0     173000  \n",
              "960          50.0         0.0          NaN     116500  \n",
              "1384         60.0         0.0       1939.0     105000  \n",
              "1100         60.0         0.0       1930.0      60000  \n",
              "...           ...         ...          ...        ...  \n",
              "763          82.0       673.0       1999.0     337000  \n",
              "835          60.0         0.0       1996.0     128000  \n",
              "1216         68.0         0.0       1978.0     112000  \n",
              "559           NaN        18.0       2003.0     234000  \n",
              "684          58.0        30.0       1998.0     221000  \n",
              "\n",
              "[1022 rows x 10 columns]"
            ]
          },
          "execution_count": 62,
          "metadata": {},
          "output_type": "execute_result"
        }
      ],
      "source": [
        "# Display X_train\n",
        "\n",
        "X_train"
      ]
    },
    {
      "cell_type": "code",
      "execution_count": 63,
      "metadata": {
        "colab": {
          "base_uri": "https://localhost:8080/"
        },
        "id": "in0Tork69QXR",
        "outputId": "ca265820-7295-4579-baab-d7767d6c1dbc"
      },
      "outputs": [
        {
          "name": "stdout",
          "output_type": "stream",
          "text": [
            "1978.0123966942149\n",
            "1979.0\n"
          ]
        }
      ],
      "source": [
        "print(X_train[\"GarageYrBlt\"].mean())\n",
        "print(X_train[\"GarageYrBlt\"].median())"
      ]
    },
    {
      "cell_type": "code",
      "execution_count": 64,
      "metadata": {
        "colab": {
          "base_uri": "https://localhost:8080/",
          "height": 480
        },
        "id": "eCkpuJgEn99N",
        "outputId": "c482392b-e8d3-48d0-b219-f991e7e1ed88"
      },
      "outputs": [
        {
          "name": "stdout",
          "output_type": "stream",
          "text": [
            "Skewness - LotFrontage :  1.8847801735623813\n",
            "Skewness - MasVnrArea  :  2.7582019163711244\n",
            "Skewness - GarageYrBlt :  -0.6669763943317643\n"
          ]
        },
        {
          "data": {
            "image/png": "[encoded data removed]",
            "text/plain": [
              "<Figure size 2000x700 with 3 Axes>"
            ]
          },
          "metadata": {},
          "output_type": "display_data"
        }
      ],
      "source": [
        "fig, ax = plt.subplots(1, 3, figsize=(20, 7))\n",
        "\n",
        "X_train.LotFrontage.plot(kind='kde', ax=ax[0])\n",
        "lines, labels = ax[0].get_legend_handles_labels()\n",
        "ax[0].legend(lines, labels, loc='best')\n",
        "ax[0].set_title('LotFrontage Distribution')\n",
        "ax[0].legend(loc=\"upper right\")\n",
        "\n",
        "X_train.MasVnrArea.plot(kind='kde', ax=ax[1])\n",
        "lines, labels = ax[1].get_legend_handles_labels()\n",
        "ax[1].legend(lines, labels, loc='best')\n",
        "ax[1].set_title('MasVnrArea Distribution')\n",
        "ax[1].legend(loc=\"upper right\")\n",
        "\n",
        "X_train.GarageYrBlt.plot(kind='kde', ax=ax[2])\n",
        "lines, labels = ax[2].get_legend_handles_labels()\n",
        "ax[2].legend(lines, labels, loc='best')\n",
        "ax[2].set_title('GarageYrBlt Distribution')\n",
        "ax[2].legend(loc=\"upper right\")\n",
        "\n",
        "print('Skewness - LotFrontage : ', X_train.LotFrontage.skew())\n",
        "print('Skewness - MasVnrArea  : ', X_train.MasVnrArea.skew())\n",
        "print('Skewness - GarageYrBlt : ', X_train.GarageYrBlt.skew())"
      ]
    },
    {
      "attachments": {},
      "cell_type": "markdown",
      "metadata": {
        "id": "flPklvMPePY1"
      },
      "source": [
        "We observed based on visualization or skewness values that **all variables with missing values have skewed distribution**. So, we will using Median instead of Mean."
      ]
    },
    {
      "cell_type": "code",
      "execution_count": 65,
      "metadata": {
        "id": "hHYmwW48eOMa"
      },
      "outputs": [],
      "source": [
        "# Function to Filling Missing Values with Median and 0/1\n",
        "\n",
        "def impute_na(df, variable, median):\n",
        "  df[variable+'_NA'] = np.where(df[variable].isnull(), 1, 0)\n",
        "  df[variable].fillna(median, inplace=True)\n",
        "\n",
        "  return df"
      ]
    },
    {
      "cell_type": "code",
      "execution_count": 66,
      "metadata": {
        "colab": {
          "base_uri": "https://localhost:8080/"
        },
        "id": "BlfRvCTKeUQp",
        "outputId": "b97b5e42-97a6-438d-8f1b-666632ae4d98"
      },
      "outputs": [
        {
          "data": {
            "text/plain": [
              "LotFrontage      69.0\n",
              "MasVnrArea        0.0\n",
              "GarageYrBlt    1979.0\n",
              "dtype: float64"
            ]
          },
          "execution_count": 66,
          "metadata": {},
          "output_type": "execute_result"
        }
      ],
      "source": [
        "# Display Median Value for Variables that have Missing Values\n",
        "\n",
        "X_train[['LotFrontage', 'MasVnrArea', 'GarageYrBlt']].median()"
      ]
    },
    {
      "cell_type": "code",
      "execution_count": 67,
      "metadata": {
        "colab": {
          "base_uri": "https://localhost:8080/",
          "height": 583
        },
        "id": "FP4s_XTTeUpO",
        "outputId": "d3f6243c-1f95-4c86-b9f0-fbe936f4418c"
      },
      "outputs": [
        {
          "data": {
            "text/html": [
              "<div>\n",
              "<style scoped>\n",
              "    .dataframe tbody tr th:only-of-type {\n",
              "        vertical-align: middle;\n",
              "    }\n",
              "\n",
              "    .dataframe tbody tr th {\n",
              "        vertical-align: top;\n",
              "    }\n",
              "\n",
              "    .dataframe thead th {\n",
              "        text-align: right;\n",
              "    }\n",
              "</style>\n",
              "<table border=\"1\" class=\"dataframe\">\n",
              "  <thead>\n",
              "    <tr style=\"text-align: right;\">\n",
              "      <th></th>\n",
              "      <th>OverallQual</th>\n",
              "      <th>TotalBsmtSF</th>\n",
              "      <th>1stFlrSF</th>\n",
              "      <th>GrLivArea</th>\n",
              "      <th>WoodDeckSF</th>\n",
              "      <th>BsmtUnfSF</th>\n",
              "      <th>LotFrontage</th>\n",
              "      <th>MasVnrArea</th>\n",
              "      <th>GarageYrBlt</th>\n",
              "      <th>SalePrice</th>\n",
              "      <th>LotFrontage_NA</th>\n",
              "      <th>MasVnrArea_NA</th>\n",
              "      <th>GarageYrBlt_NA</th>\n",
              "    </tr>\n",
              "  </thead>\n",
              "  <tbody>\n",
              "    <tr>\n",
              "      <th>64</th>\n",
              "      <td>7</td>\n",
              "      <td>1057</td>\n",
              "      <td>1057</td>\n",
              "      <td>2034</td>\n",
              "      <td>576</td>\n",
              "      <td>318</td>\n",
              "      <td>69.0</td>\n",
              "      <td>573.0</td>\n",
              "      <td>1998.0</td>\n",
              "      <td>219500</td>\n",
              "      <td>1</td>\n",
              "      <td>0</td>\n",
              "      <td>0</td>\n",
              "    </tr>\n",
              "    <tr>\n",
              "      <th>682</th>\n",
              "      <td>6</td>\n",
              "      <td>1291</td>\n",
              "      <td>1291</td>\n",
              "      <td>1291</td>\n",
              "      <td>307</td>\n",
              "      <td>288</td>\n",
              "      <td>69.0</td>\n",
              "      <td>0.0</td>\n",
              "      <td>1996.0</td>\n",
              "      <td>173000</td>\n",
              "      <td>1</td>\n",
              "      <td>0</td>\n",
              "      <td>0</td>\n",
              "    </tr>\n",
              "    <tr>\n",
              "      <th>960</th>\n",
              "      <td>5</td>\n",
              "      <td>858</td>\n",
              "      <td>858</td>\n",
              "      <td>858</td>\n",
              "      <td>117</td>\n",
              "      <td>162</td>\n",
              "      <td>50.0</td>\n",
              "      <td>0.0</td>\n",
              "      <td>1979.0</td>\n",
              "      <td>116500</td>\n",
              "      <td>0</td>\n",
              "      <td>0</td>\n",
              "      <td>1</td>\n",
              "    </tr>\n",
              "    <tr>\n",
              "      <th>1384</th>\n",
              "      <td>6</td>\n",
              "      <td>560</td>\n",
              "      <td>698</td>\n",
              "      <td>1258</td>\n",
              "      <td>0</td>\n",
              "      <td>356</td>\n",
              "      <td>60.0</td>\n",
              "      <td>0.0</td>\n",
              "      <td>1939.0</td>\n",
              "      <td>105000</td>\n",
              "      <td>0</td>\n",
              "      <td>0</td>\n",
              "      <td>0</td>\n",
              "    </tr>\n",
              "    <tr>\n",
              "      <th>1100</th>\n",
              "      <td>2</td>\n",
              "      <td>290</td>\n",
              "      <td>438</td>\n",
              "      <td>438</td>\n",
              "      <td>0</td>\n",
              "      <td>0</td>\n",
              "      <td>60.0</td>\n",
              "      <td>0.0</td>\n",
              "      <td>1930.0</td>\n",
              "      <td>60000</td>\n",
              "      <td>0</td>\n",
              "      <td>0</td>\n",
              "      <td>0</td>\n",
              "    </tr>\n",
              "    <tr>\n",
              "      <th>416</th>\n",
              "      <td>6</td>\n",
              "      <td>672</td>\n",
              "      <td>672</td>\n",
              "      <td>1400</td>\n",
              "      <td>0</td>\n",
              "      <td>463</td>\n",
              "      <td>74.0</td>\n",
              "      <td>203.0</td>\n",
              "      <td>1978.0</td>\n",
              "      <td>149500</td>\n",
              "      <td>0</td>\n",
              "      <td>0</td>\n",
              "      <td>0</td>\n",
              "    </tr>\n",
              "    <tr>\n",
              "      <th>1034</th>\n",
              "      <td>5</td>\n",
              "      <td>920</td>\n",
              "      <td>954</td>\n",
              "      <td>954</td>\n",
              "      <td>0</td>\n",
              "      <td>920</td>\n",
              "      <td>50.0</td>\n",
              "      <td>0.0</td>\n",
              "      <td>1938.0</td>\n",
              "      <td>119750</td>\n",
              "      <td>0</td>\n",
              "      <td>0</td>\n",
              "      <td>0</td>\n",
              "    </tr>\n",
              "    <tr>\n",
              "      <th>853</th>\n",
              "      <td>6</td>\n",
              "      <td>1127</td>\n",
              "      <td>1445</td>\n",
              "      <td>1445</td>\n",
              "      <td>180</td>\n",
              "      <td>563</td>\n",
              "      <td>69.0</td>\n",
              "      <td>115.0</td>\n",
              "      <td>1964.0</td>\n",
              "      <td>158000</td>\n",
              "      <td>1</td>\n",
              "      <td>0</td>\n",
              "      <td>0</td>\n",
              "    </tr>\n",
              "    <tr>\n",
              "      <th>472</th>\n",
              "      <td>6</td>\n",
              "      <td>547</td>\n",
              "      <td>1072</td>\n",
              "      <td>1072</td>\n",
              "      <td>0</td>\n",
              "      <td>88</td>\n",
              "      <td>35.0</td>\n",
              "      <td>80.0</td>\n",
              "      <td>2005.0</td>\n",
              "      <td>148000</td>\n",
              "      <td>0</td>\n",
              "      <td>0</td>\n",
              "      <td>0</td>\n",
              "    </tr>\n",
              "    <tr>\n",
              "      <th>1011</th>\n",
              "      <td>5</td>\n",
              "      <td>0</td>\n",
              "      <td>1664</td>\n",
              "      <td>1664</td>\n",
              "      <td>0</td>\n",
              "      <td>0</td>\n",
              "      <td>75.0</td>\n",
              "      <td>0.0</td>\n",
              "      <td>1979.0</td>\n",
              "      <td>100000</td>\n",
              "      <td>0</td>\n",
              "      <td>0</td>\n",
              "      <td>1</td>\n",
              "    </tr>\n",
              "    <tr>\n",
              "      <th>328</th>\n",
              "      <td>6</td>\n",
              "      <td>844</td>\n",
              "      <td>1445</td>\n",
              "      <td>2134</td>\n",
              "      <td>0</td>\n",
              "      <td>844</td>\n",
              "      <td>69.0</td>\n",
              "      <td>0.0</td>\n",
              "      <td>1930.0</td>\n",
              "      <td>214500</td>\n",
              "      <td>1</td>\n",
              "      <td>0</td>\n",
              "      <td>0</td>\n",
              "    </tr>\n",
              "    <tr>\n",
              "      <th>608</th>\n",
              "      <td>8</td>\n",
              "      <td>965</td>\n",
              "      <td>1940</td>\n",
              "      <td>3194</td>\n",
              "      <td>0</td>\n",
              "      <td>537</td>\n",
              "      <td>78.0</td>\n",
              "      <td>0.0</td>\n",
              "      <td>1934.0</td>\n",
              "      <td>359100</td>\n",
              "      <td>0</td>\n",
              "      <td>0</td>\n",
              "      <td>0</td>\n",
              "    </tr>\n",
              "    <tr>\n",
              "      <th>1283</th>\n",
              "      <td>6</td>\n",
              "      <td>912</td>\n",
              "      <td>912</td>\n",
              "      <td>1824</td>\n",
              "      <td>128</td>\n",
              "      <td>912</td>\n",
              "      <td>94.0</td>\n",
              "      <td>0.0</td>\n",
              "      <td>1979.0</td>\n",
              "      <td>139000</td>\n",
              "      <td>0</td>\n",
              "      <td>0</td>\n",
              "      <td>1</td>\n",
              "    </tr>\n",
              "    <tr>\n",
              "      <th>452</th>\n",
              "      <td>6</td>\n",
              "      <td>872</td>\n",
              "      <td>888</td>\n",
              "      <td>1756</td>\n",
              "      <td>144</td>\n",
              "      <td>130</td>\n",
              "      <td>69.0</td>\n",
              "      <td>42.0</td>\n",
              "      <td>1996.0</td>\n",
              "      <td>204000</td>\n",
              "      <td>1</td>\n",
              "      <td>0</td>\n",
              "      <td>0</td>\n",
              "    </tr>\n",
              "    <tr>\n",
              "      <th>1227</th>\n",
              "      <td>5</td>\n",
              "      <td>912</td>\n",
              "      <td>912</td>\n",
              "      <td>912</td>\n",
              "      <td>0</td>\n",
              "      <td>317</td>\n",
              "      <td>72.0</td>\n",
              "      <td>300.0</td>\n",
              "      <td>1992.0</td>\n",
              "      <td>147000</td>\n",
              "      <td>0</td>\n",
              "      <td>0</td>\n",
              "      <td>0</td>\n",
              "    </tr>\n",
              "  </tbody>\n",
              "</table>\n",
              "</div>"
            ],
            "text/plain": [
              "      OverallQual  TotalBsmtSF  1stFlrSF  GrLivArea  WoodDeckSF  BsmtUnfSF  \\\n",
              "64              7         1057      1057       2034         576        318   \n",
              "682             6         1291      1291       1291         307        288   \n",
              "960             5          858       858        858         117        162   \n",
              "1384            6          560       698       1258           0        356   \n",
              "1100            2          290       438        438           0          0   \n",
              "416             6          672       672       1400           0        463   \n",
              "1034            5          920       954        954           0        920   \n",
              "853             6         1127      1445       1445         180        563   \n",
              "472             6          547      1072       1072           0         88   \n",
              "1011            5            0      1664       1664           0          0   \n",
              "328             6          844      1445       2134           0        844   \n",
              "608             8          965      1940       3194           0        537   \n",
              "1283            6          912       912       1824         128        912   \n",
              "452             6          872       888       1756         144        130   \n",
              "1227            5          912       912        912           0        317   \n",
              "\n",
              "      LotFrontage  MasVnrArea  GarageYrBlt  SalePrice  LotFrontage_NA  \\\n",
              "64           69.0       573.0       1998.0     219500               1   \n",
              "682          69.0         0.0       1996.0     173000               1   \n",
              "960          50.0         0.0       1979.0     116500               0   \n",
              "1384         60.0         0.0       1939.0     105000               0   \n",
              "1100         60.0         0.0       1930.0      60000               0   \n",
              "416          74.0       203.0       1978.0     149500               0   \n",
              "1034         50.0         0.0       1938.0     119750               0   \n",
              "853          69.0       115.0       1964.0     158000               1   \n",
              "472          35.0        80.0       2005.0     148000               0   \n",
              "1011         75.0         0.0       1979.0     100000               0   \n",
              "328          69.0         0.0       1930.0     214500               1   \n",
              "608          78.0         0.0       1934.0     359100               0   \n",
              "1283         94.0         0.0       1979.0     139000               0   \n",
              "452          69.0        42.0       1996.0     204000               1   \n",
              "1227         72.0       300.0       1992.0     147000               0   \n",
              "\n",
              "      MasVnrArea_NA  GarageYrBlt_NA  \n",
              "64                0               0  \n",
              "682               0               0  \n",
              "960               0               1  \n",
              "1384              0               0  \n",
              "1100              0               0  \n",
              "416               0               0  \n",
              "1034              0               0  \n",
              "853               0               0  \n",
              "472               0               0  \n",
              "1011              0               1  \n",
              "328               0               0  \n",
              "608               0               0  \n",
              "1283              0               1  \n",
              "452               0               0  \n",
              "1227              0               0  "
            ]
          },
          "execution_count": 67,
          "metadata": {},
          "output_type": "execute_result"
        }
      ],
      "source": [
        "# Impute Missing Values\n",
        "X_train = impute_na(X_train, 'LotFrontage', X_train['LotFrontage'].median())\n",
        "X_train = impute_na(X_train, 'MasVnrArea', X_train['MasVnrArea'].median())\n",
        "X_train = impute_na(X_train, 'GarageYrBlt', X_train['GarageYrBlt'].median())\n",
        "\n",
        "X_test = impute_na(X_test, 'LotFrontage', X_test['LotFrontage'].median())\n",
        "X_test = impute_na(X_test, 'MasVnrArea', X_test['MasVnrArea'].median())\n",
        "X_test = impute_na(X_test, 'GarageYrBlt', X_test['GarageYrBlt'].median())\n",
        "\n",
        "X_train.head(15)"
      ]
    },
    {
      "cell_type": "code",
      "execution_count": 68,
      "metadata": {
        "colab": {
          "base_uri": "https://localhost:8080/"
        },
        "id": "Zfay-NcHtNH7",
        "outputId": "b2651310-cf57-49ac-f81e-8180877f0595"
      },
      "outputs": [
        {
          "name": "stdout",
          "output_type": "stream",
          "text": [
            "Default Column            :  ['OverallQual', 'TotalBsmtSF', '1stFlrSF', 'GrLivArea', 'WoodDeckSF', 'BsmtUnfSF', 'LotFrontage', 'MasVnrArea', 'GarageYrBlt']\n",
            "All Columns in X_train    :  ['OverallQual', 'TotalBsmtSF', '1stFlrSF', 'GrLivArea', 'WoodDeckSF', 'BsmtUnfSF', 'LotFrontage', 'MasVnrArea', 'GarageYrBlt', 'SalePrice', 'LotFrontage_NA', 'MasVnrArea_NA', 'GarageYrBlt_NA']\n",
            "Final Column for Training :  ['OverallQual', 'TotalBsmtSF', '1stFlrSF', 'GrLivArea', 'WoodDeckSF', 'BsmtUnfSF', 'LotFrontage', 'MasVnrArea', 'GarageYrBlt', 'LotFrontage_NA', 'MasVnrArea_NA', 'GarageYrBlt_NA']\n"
          ]
        }
      ],
      "source": [
        "# Define List of Columns with 0/1 Imputation\n",
        "\n",
        "cols_with_na = list(X_train.columns)\n",
        "cols_with_na.remove('SalePrice')\n",
        "\n",
        "print('Default Column            : ', cols_to_use)\n",
        "print('All Columns in X_train    : ', list(X_train.columns))\n",
        "print('Final Column for Training : ', cols_with_na)"
      ]
    },
    {
      "cell_type": "code",
      "execution_count": 69,
      "metadata": {
        "id": "XWB7uMsDeexM"
      },
      "outputs": [],
      "source": [
        "# Standarize Dataset\n",
        "\n",
        "## With Median Imputation and Without 0/1 Imputation\n",
        "scaler = StandardScaler()\n",
        "X_train_no_na = scaler.fit_transform(X_train[cols_to_use])\n",
        "X_test_no_na = scaler.transform(X_test[cols_to_use])\n",
        "\n",
        "## With Median Imputation and With 0/1 Imputation\n",
        "scaler = StandardScaler()\n",
        "X_train_all = scaler.fit_transform(X_train[cols_with_na])\n",
        "X_test_all = scaler.transform(X_test[cols_with_na])"
      ]
    },
    {
      "attachments": {},
      "cell_type": "markdown",
      "metadata": {
        "id": "ZwC0hAa1ekPV"
      },
      "source": [
        "---\n",
        "We will make models using Linear Regression to solve this House Pirces problem."
      ]
    },
    {
      "cell_type": "code",
      "execution_count": 70,
      "metadata": {
        "colab": {
          "base_uri": "https://localhost:8080/"
        },
        "id": "k902fuV3elxb",
        "outputId": "d17139eb-dd71-4591-c69f-380d848301b7"
      },
      "outputs": [
        {
          "name": "stdout",
          "output_type": "stream",
          "text": [
            "Using Median Imputation\n",
            "MSE - Train : 1161895545.4832032\n",
            "MSE - Test  : 2213352533.036867\n",
            "\n",
            "Using Median + 0/1 Imputation\n",
            "MSE - Train : 1157194541.9444427\n",
            "MSE - Test  : 2198183078.127068\n",
            "\n",
            "Differences :  15169454.909799099\n"
          ]
        }
      ],
      "source": [
        "# Let's Compare the Performance of Linear Regression filled with Median vs Median + 0/1\n",
        "\n",
        "linreg = LinearRegression()\n",
        "linreg.fit(X_train_no_na, y_train)\n",
        "pred_train_no_na = linreg.predict(X_train_no_na)\n",
        "pred_test_no_na = linreg.predict(X_test_no_na)\n",
        "\n",
        "print('Using Median Imputation')\n",
        "print('MSE - Train : {}'.format(mean_squared_error(y_train, pred_train_no_na)))\n",
        "print('MSE - Test  : {}'.format(mean_squared_error(y_test, pred_test_no_na)))\n",
        "print('')\n",
        "\n",
        "linreg = LinearRegression()\n",
        "linreg.fit(X_train_all, y_train)\n",
        "pred_train_with_na = linreg.predict(X_train_all)\n",
        "pred_test_with_na = linreg.predict(X_test_all)\n",
        "\n",
        "print('Using Median + 0/1 Imputation')\n",
        "print('MSE - Train : {}'.format(mean_squared_error(y_train, pred_train_with_na)))\n",
        "print('MSE - Test  : {}'.format(mean_squared_error(y_test, pred_test_with_na)))\n",
        "print('')\n",
        "\n",
        "## Calculate Differences between `Median + 0/1 Imputation` and `Median Imputation`\n",
        "diff = mean_squared_error(y_test, pred_test_no_na) - mean_squared_error(y_test, pred_test_with_na)\n",
        "print('Differences : ', diff)"
      ]
    },
    {
      "attachments": {},
      "cell_type": "markdown",
      "metadata": {
        "id": "h3is039qeoUv"
      },
      "source": [
        "Here, when we build a model using the additional variable to capture missingness of data, we observe :\n",
        "* In the test set, the MSE is smaller. \n",
        "  \n",
        "  This means that the difference between the real value and the estimated value is smaller, and thus our model performs better.\n",
        "\n",
        "* There is a difference of ~15 million between the model that replaces with the median and the one that uses median imputation in combination with the additional variables to capture missingness. \n",
        "\n",
        "  So even when the difference in MSE seems small, when we boil it down to business value, the impact is massive."
      ]
    },
    {
      "attachments": {},
      "cell_type": "markdown",
      "metadata": {
        "id": "1-4UGpB2G6l5"
      },
      "source": [
        "---\n",
        "### Suggestions\n",
        "\n",
        "Typically, **Mean/Median Imputation is done together with adding a variable to capture those observations where the data was missing**, thus covering 2 angles: if the data was Missing Completely At Random, this would be contemplated by the Mean/Median Imputation, and if it wasn't this would be captured by the additional variable."
      ]
    },
    {
      "attachments": {},
      "cell_type": "markdown",
      "metadata": {
        "id": "T7IUhF5TpOPj"
      },
      "source": [
        "## A.8. Arbitrary Value Imputation"
      ]
    },
    {
      "attachments": {},
      "cell_type": "markdown",
      "metadata": {
        "id": "7NBCu49UpSb3"
      },
      "source": [
        "### Explanation\n",
        "\n",
        "In case of missing values are not MCAR, we can use several methods below:\n",
        "\n",
        "* **Adding an additional binary variable** to indicate whether the value is missing (`1`) or not (`0`).\n",
        "\n",
        "* **Replacing the NA by a value** \n",
        "  - Sometimes this value at a far end of the distribution\n",
        "  - This method is used in several Kaggle competitions. \n",
        "  - It consists of replacing the NA by an arbitrary value. Any of your creation, but ideally different from the median/mean/mode.\n",
        "\n",
        "**Advantages :**\n",
        "* Easy to implement.\n",
        "* Captures the importance of missingess if there is one.\n",
        "\n",
        "**Disadvantages :**\n",
        "* Distorts the original distribution of the variable.\n",
        "* If missingess is not important, it may mask the predictive power of the original variable by distorting its distribution.\n",
        "* Hard to decide which value to use.\n",
        " If the value is outside the distribution it may mask or create outliers\n",
        "\n",
        "When variables are captured by third parties, like credit agencies, they place arbitrary numbers already to signal this missingness. So,sometimes this technique is **common practice in real life data collections**."
      ]
    },
    {
      "attachments": {},
      "cell_type": "markdown",
      "metadata": {
        "id": "INMc70Mm82Af"
      },
      "source": [
        "### Case Study"
      ]
    },
    {
      "cell_type": "code",
      "execution_count": 71,
      "metadata": {
        "colab": {
          "base_uri": "https://localhost:8080/"
        },
        "id": "SgVSiJ-EpWN3",
        "outputId": "3901dc6f-6d51-481f-c81c-2d531c6484c2"
      },
      "outputs": [
        {
          "data": {
            "text/plain": [
              "((623, 12), (268, 12))"
            ]
          },
          "execution_count": 71,
          "metadata": {},
          "output_type": "execute_result"
        }
      ],
      "source": [
        "# Let's Separate Dataset into Training Set and Testing Set\n",
        "\n",
        "data_titanic = data_titanic_ori.copy()\n",
        "X_train_titanic, X_test_titanic, y_train_titanic, y_test_titanic = train_test_split(data_titanic, \n",
        "                                                                                    data_titanic.Survived, \n",
        "                                                                                    test_size=0.3, \n",
        "                                                                                    random_state=0)\n",
        "X_train_titanic.shape, X_test_titanic.shape"
      ]
    },
    {
      "cell_type": "code",
      "execution_count": 72,
      "metadata": {
        "id": "GNSv6YzF8kY2"
      },
      "outputs": [],
      "source": [
        "# Function to Filling Missing Values with Zeroes, Hundreds, Mean, Median, and Adding A Variable\n",
        "\n",
        "def impute_na(df, variable, mean_value, median_value):\n",
        "  df[variable+'_mean'] = df[variable].fillna(mean_value)\n",
        "  df[variable+'_median'] = df[variable].fillna(median_value)\n",
        "  df[variable+'_zero'] = df[variable].fillna(0)\n",
        "  df[variable+'_hundred'] = df[variable].fillna(100)\n",
        "  df[variable+'_random'] = df[variable]\n",
        "  \n",
        "  ## Extract the random sample to fill the NA\n",
        "  random_sample = X_train_titanic[variable].dropna().sample(df[variable].isnull().sum(), random_state=0)\n",
        "  \n",
        "  ## Pandas needs to have the same index in order to merge datasets\n",
        "  random_sample.index = df[df[variable].isnull()].index\n",
        "\n",
        "  ## Merge into one dataframe\n",
        "  df.loc[df[variable].isnull(), variable+'_random'] = random_sample\n",
        "\n",
        "  df[variable+'_NA'] = np.where(df[variable].isnull(), 1, 0)\n",
        "  \n",
        "  return df"
      ]
    },
    {
      "cell_type": "code",
      "execution_count": 73,
      "metadata": {
        "colab": {
          "base_uri": "https://localhost:8080/",
          "height": 1000
        },
        "id": "3yMXXhkG85fl",
        "outputId": "14b3bb10-de8c-479d-8203-2d997e0a833d"
      },
      "outputs": [
        {
          "data": {
            "text/html": [
              "<div>\n",
              "<style scoped>\n",
              "    .dataframe tbody tr th:only-of-type {\n",
              "        vertical-align: middle;\n",
              "    }\n",
              "\n",
              "    .dataframe tbody tr th {\n",
              "        vertical-align: top;\n",
              "    }\n",
              "\n",
              "    .dataframe thead th {\n",
              "        text-align: right;\n",
              "    }\n",
              "</style>\n",
              "<table border=\"1\" class=\"dataframe\">\n",
              "  <thead>\n",
              "    <tr style=\"text-align: right;\">\n",
              "      <th></th>\n",
              "      <th>PassengerId</th>\n",
              "      <th>Survived</th>\n",
              "      <th>Pclass</th>\n",
              "      <th>Name</th>\n",
              "      <th>Sex</th>\n",
              "      <th>Age</th>\n",
              "      <th>SibSp</th>\n",
              "      <th>Parch</th>\n",
              "      <th>Ticket</th>\n",
              "      <th>Fare</th>\n",
              "      <th>Cabin</th>\n",
              "      <th>Embarked</th>\n",
              "      <th>Age_mean</th>\n",
              "      <th>Age_median</th>\n",
              "      <th>Age_zero</th>\n",
              "      <th>Age_hundred</th>\n",
              "      <th>Age_random</th>\n",
              "      <th>Age_NA</th>\n",
              "    </tr>\n",
              "  </thead>\n",
              "  <tbody>\n",
              "    <tr>\n",
              "      <th>857</th>\n",
              "      <td>858</td>\n",
              "      <td>1</td>\n",
              "      <td>1</td>\n",
              "      <td>Daly, Mr. Peter Denis</td>\n",
              "      <td>male</td>\n",
              "      <td>51.0</td>\n",
              "      <td>0</td>\n",
              "      <td>0</td>\n",
              "      <td>113055</td>\n",
              "      <td>26.5500</td>\n",
              "      <td>E17</td>\n",
              "      <td>S</td>\n",
              "      <td>51.000000</td>\n",
              "      <td>51.0</td>\n",
              "      <td>51.0</td>\n",
              "      <td>51.0</td>\n",
              "      <td>51.0</td>\n",
              "      <td>0</td>\n",
              "    </tr>\n",
              "    <tr>\n",
              "      <th>52</th>\n",
              "      <td>53</td>\n",
              "      <td>1</td>\n",
              "      <td>1</td>\n",
              "      <td>Harper, Mrs. Henry Sleeper (Myna Haxtun)</td>\n",
              "      <td>female</td>\n",
              "      <td>49.0</td>\n",
              "      <td>1</td>\n",
              "      <td>0</td>\n",
              "      <td>PC 17572</td>\n",
              "      <td>76.7292</td>\n",
              "      <td>D33</td>\n",
              "      <td>C</td>\n",
              "      <td>49.000000</td>\n",
              "      <td>49.0</td>\n",
              "      <td>49.0</td>\n",
              "      <td>49.0</td>\n",
              "      <td>49.0</td>\n",
              "      <td>0</td>\n",
              "    </tr>\n",
              "    <tr>\n",
              "      <th>386</th>\n",
              "      <td>387</td>\n",
              "      <td>0</td>\n",
              "      <td>3</td>\n",
              "      <td>Goodwin, Master. Sidney Leonard</td>\n",
              "      <td>male</td>\n",
              "      <td>1.0</td>\n",
              "      <td>5</td>\n",
              "      <td>2</td>\n",
              "      <td>CA 2144</td>\n",
              "      <td>46.9000</td>\n",
              "      <td>NaN</td>\n",
              "      <td>S</td>\n",
              "      <td>1.000000</td>\n",
              "      <td>1.0</td>\n",
              "      <td>1.0</td>\n",
              "      <td>1.0</td>\n",
              "      <td>1.0</td>\n",
              "      <td>0</td>\n",
              "    </tr>\n",
              "    <tr>\n",
              "      <th>124</th>\n",
              "      <td>125</td>\n",
              "      <td>0</td>\n",
              "      <td>1</td>\n",
              "      <td>White, Mr. Percival Wayland</td>\n",
              "      <td>male</td>\n",
              "      <td>54.0</td>\n",
              "      <td>0</td>\n",
              "      <td>1</td>\n",
              "      <td>35281</td>\n",
              "      <td>77.2875</td>\n",
              "      <td>D26</td>\n",
              "      <td>S</td>\n",
              "      <td>54.000000</td>\n",
              "      <td>54.0</td>\n",
              "      <td>54.0</td>\n",
              "      <td>54.0</td>\n",
              "      <td>54.0</td>\n",
              "      <td>0</td>\n",
              "    </tr>\n",
              "    <tr>\n",
              "      <th>578</th>\n",
              "      <td>579</td>\n",
              "      <td>0</td>\n",
              "      <td>3</td>\n",
              "      <td>Caram, Mrs. Joseph (Maria Elias)</td>\n",
              "      <td>female</td>\n",
              "      <td>NaN</td>\n",
              "      <td>1</td>\n",
              "      <td>0</td>\n",
              "      <td>2689</td>\n",
              "      <td>14.4583</td>\n",
              "      <td>NaN</td>\n",
              "      <td>C</td>\n",
              "      <td>29.915339</td>\n",
              "      <td>29.0</td>\n",
              "      <td>0.0</td>\n",
              "      <td>100.0</td>\n",
              "      <td>16.0</td>\n",
              "      <td>1</td>\n",
              "    </tr>\n",
              "    <tr>\n",
              "      <th>549</th>\n",
              "      <td>550</td>\n",
              "      <td>1</td>\n",
              "      <td>2</td>\n",
              "      <td>Davies, Master. John Morgan Jr</td>\n",
              "      <td>male</td>\n",
              "      <td>8.0</td>\n",
              "      <td>1</td>\n",
              "      <td>1</td>\n",
              "      <td>C.A. 33112</td>\n",
              "      <td>36.7500</td>\n",
              "      <td>NaN</td>\n",
              "      <td>S</td>\n",
              "      <td>8.000000</td>\n",
              "      <td>8.0</td>\n",
              "      <td>8.0</td>\n",
              "      <td>8.0</td>\n",
              "      <td>8.0</td>\n",
              "      <td>0</td>\n",
              "    </tr>\n",
              "    <tr>\n",
              "      <th>118</th>\n",
              "      <td>119</td>\n",
              "      <td>0</td>\n",
              "      <td>1</td>\n",
              "      <td>Baxter, Mr. Quigg Edmond</td>\n",
              "      <td>male</td>\n",
              "      <td>24.0</td>\n",
              "      <td>0</td>\n",
              "      <td>1</td>\n",
              "      <td>PC 17558</td>\n",
              "      <td>247.5208</td>\n",
              "      <td>B58 B60</td>\n",
              "      <td>C</td>\n",
              "      <td>24.000000</td>\n",
              "      <td>24.0</td>\n",
              "      <td>24.0</td>\n",
              "      <td>24.0</td>\n",
              "      <td>24.0</td>\n",
              "      <td>0</td>\n",
              "    </tr>\n",
              "    <tr>\n",
              "      <th>12</th>\n",
              "      <td>13</td>\n",
              "      <td>0</td>\n",
              "      <td>3</td>\n",
              "      <td>Saundercock, Mr. William Henry</td>\n",
              "      <td>male</td>\n",
              "      <td>20.0</td>\n",
              "      <td>0</td>\n",
              "      <td>0</td>\n",
              "      <td>A/5. 2151</td>\n",
              "      <td>8.0500</td>\n",
              "      <td>NaN</td>\n",
              "      <td>S</td>\n",
              "      <td>20.000000</td>\n",
              "      <td>20.0</td>\n",
              "      <td>20.0</td>\n",
              "      <td>20.0</td>\n",
              "      <td>20.0</td>\n",
              "      <td>0</td>\n",
              "    </tr>\n",
              "    <tr>\n",
              "      <th>157</th>\n",
              "      <td>158</td>\n",
              "      <td>0</td>\n",
              "      <td>3</td>\n",
              "      <td>Corn, Mr. Harry</td>\n",
              "      <td>male</td>\n",
              "      <td>30.0</td>\n",
              "      <td>0</td>\n",
              "      <td>0</td>\n",
              "      <td>SOTON/OQ 392090</td>\n",
              "      <td>8.0500</td>\n",
              "      <td>NaN</td>\n",
              "      <td>S</td>\n",
              "      <td>30.000000</td>\n",
              "      <td>30.0</td>\n",
              "      <td>30.0</td>\n",
              "      <td>30.0</td>\n",
              "      <td>30.0</td>\n",
              "      <td>0</td>\n",
              "    </tr>\n",
              "    <tr>\n",
              "      <th>127</th>\n",
              "      <td>128</td>\n",
              "      <td>1</td>\n",
              "      <td>3</td>\n",
              "      <td>Madsen, Mr. Fridtjof Arne</td>\n",
              "      <td>male</td>\n",
              "      <td>24.0</td>\n",
              "      <td>0</td>\n",
              "      <td>0</td>\n",
              "      <td>C 17369</td>\n",
              "      <td>7.1417</td>\n",
              "      <td>NaN</td>\n",
              "      <td>S</td>\n",
              "      <td>24.000000</td>\n",
              "      <td>24.0</td>\n",
              "      <td>24.0</td>\n",
              "      <td>24.0</td>\n",
              "      <td>24.0</td>\n",
              "      <td>0</td>\n",
              "    </tr>\n",
              "    <tr>\n",
              "      <th>653</th>\n",
              "      <td>654</td>\n",
              "      <td>1</td>\n",
              "      <td>3</td>\n",
              "      <td>O'Leary, Miss. Hanora \"Norah\"</td>\n",
              "      <td>female</td>\n",
              "      <td>NaN</td>\n",
              "      <td>0</td>\n",
              "      <td>0</td>\n",
              "      <td>330919</td>\n",
              "      <td>7.8292</td>\n",
              "      <td>NaN</td>\n",
              "      <td>Q</td>\n",
              "      <td>29.915339</td>\n",
              "      <td>29.0</td>\n",
              "      <td>0.0</td>\n",
              "      <td>100.0</td>\n",
              "      <td>32.0</td>\n",
              "      <td>1</td>\n",
              "    </tr>\n",
              "    <tr>\n",
              "      <th>235</th>\n",
              "      <td>236</td>\n",
              "      <td>0</td>\n",
              "      <td>3</td>\n",
              "      <td>Harknett, Miss. Alice Phoebe</td>\n",
              "      <td>female</td>\n",
              "      <td>NaN</td>\n",
              "      <td>0</td>\n",
              "      <td>0</td>\n",
              "      <td>W./C. 6609</td>\n",
              "      <td>7.5500</td>\n",
              "      <td>NaN</td>\n",
              "      <td>S</td>\n",
              "      <td>29.915339</td>\n",
              "      <td>29.0</td>\n",
              "      <td>0.0</td>\n",
              "      <td>100.0</td>\n",
              "      <td>34.0</td>\n",
              "      <td>1</td>\n",
              "    </tr>\n",
              "    <tr>\n",
              "      <th>785</th>\n",
              "      <td>786</td>\n",
              "      <td>0</td>\n",
              "      <td>3</td>\n",
              "      <td>Harmer, Mr. Abraham (David Lishin)</td>\n",
              "      <td>male</td>\n",
              "      <td>25.0</td>\n",
              "      <td>0</td>\n",
              "      <td>0</td>\n",
              "      <td>374887</td>\n",
              "      <td>7.2500</td>\n",
              "      <td>NaN</td>\n",
              "      <td>S</td>\n",
              "      <td>25.000000</td>\n",
              "      <td>25.0</td>\n",
              "      <td>25.0</td>\n",
              "      <td>25.0</td>\n",
              "      <td>25.0</td>\n",
              "      <td>0</td>\n",
              "    </tr>\n",
              "    <tr>\n",
              "      <th>241</th>\n",
              "      <td>242</td>\n",
              "      <td>1</td>\n",
              "      <td>3</td>\n",
              "      <td>Murphy, Miss. Katherine \"Kate\"</td>\n",
              "      <td>female</td>\n",
              "      <td>NaN</td>\n",
              "      <td>1</td>\n",
              "      <td>0</td>\n",
              "      <td>367230</td>\n",
              "      <td>15.5000</td>\n",
              "      <td>NaN</td>\n",
              "      <td>Q</td>\n",
              "      <td>29.915339</td>\n",
              "      <td>29.0</td>\n",
              "      <td>0.0</td>\n",
              "      <td>100.0</td>\n",
              "      <td>8.0</td>\n",
              "      <td>1</td>\n",
              "    </tr>\n",
              "    <tr>\n",
              "      <th>351</th>\n",
              "      <td>352</td>\n",
              "      <td>0</td>\n",
              "      <td>1</td>\n",
              "      <td>Williams-Lambert, Mr. Fletcher Fellows</td>\n",
              "      <td>male</td>\n",
              "      <td>NaN</td>\n",
              "      <td>0</td>\n",
              "      <td>0</td>\n",
              "      <td>113510</td>\n",
              "      <td>35.0000</td>\n",
              "      <td>C128</td>\n",
              "      <td>S</td>\n",
              "      <td>29.915339</td>\n",
              "      <td>29.0</td>\n",
              "      <td>0.0</td>\n",
              "      <td>100.0</td>\n",
              "      <td>1.0</td>\n",
              "      <td>1</td>\n",
              "    </tr>\n",
              "  </tbody>\n",
              "</table>\n",
              "</div>"
            ],
            "text/plain": [
              "     PassengerId  Survived  Pclass                                      Name  \\\n",
              "857          858         1       1                    Daly, Mr. Peter Denis    \n",
              "52            53         1       1  Harper, Mrs. Henry Sleeper (Myna Haxtun)   \n",
              "386          387         0       3           Goodwin, Master. Sidney Leonard   \n",
              "124          125         0       1               White, Mr. Percival Wayland   \n",
              "578          579         0       3          Caram, Mrs. Joseph (Maria Elias)   \n",
              "549          550         1       2            Davies, Master. John Morgan Jr   \n",
              "118          119         0       1                  Baxter, Mr. Quigg Edmond   \n",
              "12            13         0       3            Saundercock, Mr. William Henry   \n",
              "157          158         0       3                           Corn, Mr. Harry   \n",
              "127          128         1       3                 Madsen, Mr. Fridtjof Arne   \n",
              "653          654         1       3             O'Leary, Miss. Hanora \"Norah\"   \n",
              "235          236         0       3              Harknett, Miss. Alice Phoebe   \n",
              "785          786         0       3        Harmer, Mr. Abraham (David Lishin)   \n",
              "241          242         1       3            Murphy, Miss. Katherine \"Kate\"   \n",
              "351          352         0       1    Williams-Lambert, Mr. Fletcher Fellows   \n",
              "\n",
              "        Sex   Age  SibSp  Parch           Ticket      Fare    Cabin Embarked  \\\n",
              "857    male  51.0      0      0           113055   26.5500      E17        S   \n",
              "52   female  49.0      1      0         PC 17572   76.7292      D33        C   \n",
              "386    male   1.0      5      2          CA 2144   46.9000      NaN        S   \n",
              "124    male  54.0      0      1            35281   77.2875      D26        S   \n",
              "578  female   NaN      1      0             2689   14.4583      NaN        C   \n",
              "549    male   8.0      1      1       C.A. 33112   36.7500      NaN        S   \n",
              "118    male  24.0      0      1         PC 17558  247.5208  B58 B60        C   \n",
              "12     male  20.0      0      0        A/5. 2151    8.0500      NaN        S   \n",
              "157    male  30.0      0      0  SOTON/OQ 392090    8.0500      NaN        S   \n",
              "127    male  24.0      0      0          C 17369    7.1417      NaN        S   \n",
              "653  female   NaN      0      0           330919    7.8292      NaN        Q   \n",
              "235  female   NaN      0      0       W./C. 6609    7.5500      NaN        S   \n",
              "785    male  25.0      0      0           374887    7.2500      NaN        S   \n",
              "241  female   NaN      1      0           367230   15.5000      NaN        Q   \n",
              "351    male   NaN      0      0           113510   35.0000     C128        S   \n",
              "\n",
              "      Age_mean  Age_median  Age_zero  Age_hundred  Age_random  Age_NA  \n",
              "857  51.000000        51.0      51.0         51.0        51.0       0  \n",
              "52   49.000000        49.0      49.0         49.0        49.0       0  \n",
              "386   1.000000         1.0       1.0          1.0         1.0       0  \n",
              "124  54.000000        54.0      54.0         54.0        54.0       0  \n",
              "578  29.915339        29.0       0.0        100.0        16.0       1  \n",
              "549   8.000000         8.0       8.0          8.0         8.0       0  \n",
              "118  24.000000        24.0      24.0         24.0        24.0       0  \n",
              "12   20.000000        20.0      20.0         20.0        20.0       0  \n",
              "157  30.000000        30.0      30.0         30.0        30.0       0  \n",
              "127  24.000000        24.0      24.0         24.0        24.0       0  \n",
              "653  29.915339        29.0       0.0        100.0        32.0       1  \n",
              "235  29.915339        29.0       0.0        100.0        34.0       1  \n",
              "785  25.000000        25.0      25.0         25.0        25.0       0  \n",
              "241  29.915339        29.0       0.0        100.0         8.0       1  \n",
              "351  29.915339        29.0       0.0        100.0         1.0       1  "
            ]
          },
          "execution_count": 73,
          "metadata": {},
          "output_type": "execute_result"
        }
      ],
      "source": [
        "# Imputation Against Variable `Age`\n",
        "\n",
        "X_train_titanic = impute_na(X_train_titanic, 'Age', mean_titanic_age, median_titanic_age)\n",
        "X_test_titanic = impute_na(X_test_titanic, 'Age', mean_titanic_age, median_titanic_age)\n",
        "X_train_titanic.head(15)"
      ]
    },
    {
      "cell_type": "code",
      "execution_count": 74,
      "metadata": {
        "colab": {
          "base_uri": "https://localhost:8080/"
        },
        "id": "FfrgWjm79HSL",
        "outputId": "8785d693-348f-41bb-ccc9-7c6612e1c0b2"
      },
      "outputs": [
        {
          "name": "stdout",
          "output_type": "stream",
          "text": [
            "Using zero imputation\n",
            "Train - Random Forests roc-auc : 0.7553306869699139\n",
            "Test - Random Forests roc-auc  : 0.740654761904762\n",
            "\n",
            "Using hundred imputation\n",
            "Train - Random Forests roc-auc : 0.7543491464393397\n",
            "Test - Random Forests roc-auc  : 0.7628273809523809\n",
            "\n",
            "Using mean imputation\n",
            "Train - Random Forests roc-auc : 0.749154031365914\n",
            "Test - Random Forests roc-auc  : 0.7630059523809525\n",
            "\n",
            "Using median imputation\n",
            "Train - Random Forests roc-auc : 0.7500271143792976\n",
            "Test - Random Forests roc-auc  : 0.7614285714285715\n",
            "\n",
            "Using random sample imputation\n",
            "Train - Random Forests roc-auc : 0.7534001431639226\n",
            "Test - Random Forests roc-auc  : 0.756875\n",
            "\n",
            "Using Capturing Missing Value\n",
            "Train - Random Forests roc-auc : 0.7548209366391183\n",
            "Test - Random Forests roc-auc  : 0.7614880952380954\n",
            "\n"
          ]
        }
      ],
      "source": [
        "# Let's Compare the Performance of Random Forests using `Age` filled with Zeros, Mean, Median, and Random Sample\n",
        "\n",
        "## Model with `Age_zero`\n",
        "rf_zero = RandomForestClassifier(n_estimators=100, random_state=19, max_depth=3)\n",
        "rf_zero.fit(X_train_titanic[['Age_zero', 'Fare']], y_train_titanic)\n",
        "\n",
        "pred_zero_train = rf_zero.predict_proba(X_train_titanic[['Age_zero', 'Fare']])\n",
        "pred_zero_test = rf_zero.predict_proba(X_test_titanic[['Age_zero', 'Fare']])\n",
        "\n",
        "print('Using zero imputation')\n",
        "print('Train - Random Forests roc-auc : {}'.format(roc_auc_score(y_train_titanic, pred_zero_train[:,1])))\n",
        "print('Test - Random Forests roc-auc  : {}'.format(roc_auc_score(y_test_titanic, pred_zero_test[:,1])))\n",
        "print()\n",
        "\n",
        "## Model with `Age_hundred`\n",
        "rf_hundred = RandomForestClassifier(n_estimators=100, random_state=19, max_depth=3)\n",
        "rf_hundred.fit(X_train_titanic[['Age_hundred', 'Fare']], y_train_titanic)\n",
        "\n",
        "pred_hundred_train = rf_hundred.predict_proba(X_train_titanic[['Age_hundred', 'Fare']])\n",
        "pred_hundred_test = rf_hundred.predict_proba(X_test_titanic[['Age_hundred', 'Fare']])\n",
        "\n",
        "print('Using hundred imputation')\n",
        "print('Train - Random Forests roc-auc : {}'.format(roc_auc_score(y_train_titanic, pred_hundred_train[:,1])))\n",
        "print('Test - Random Forests roc-auc  : {}'.format(roc_auc_score(y_test_titanic, pred_hundred_test[:,1])))\n",
        "print()\n",
        "\n",
        "## Model with `Age_mean`\n",
        "rf_mean = RandomForestClassifier(n_estimators=100, random_state=19, max_depth=3)\n",
        "rf_mean.fit(X_train_titanic[['Age_mean', 'Fare']], y_train_titanic)\n",
        "\n",
        "pred_mean_train = rf_mean.predict_proba(X_train_titanic[['Age_mean', 'Fare']])\n",
        "pred_mean_test = rf_mean.predict_proba(X_test_titanic[['Age_mean', 'Fare']])\n",
        "\n",
        "print('Using mean imputation')\n",
        "print('Train - Random Forests roc-auc : {}'.format(roc_auc_score(y_train_titanic, pred_mean_train[:,1])))\n",
        "print('Test - Random Forests roc-auc  : {}'.format(roc_auc_score(y_test_titanic, pred_mean_test[:,1])))\n",
        "print()\n",
        "\n",
        "## Model with `Age_median`\n",
        "rf_median = RandomForestClassifier(n_estimators=100, random_state=19, max_depth=3)\n",
        "rf_median.fit(X_train_titanic[['Age_median', 'Fare']], y_train_titanic)\n",
        "\n",
        "pred_median_train = rf_median.predict_proba(X_train_titanic[['Age_median', 'Fare']])\n",
        "pred_median_test = rf_median.predict_proba(X_test_titanic[['Age_median', 'Fare']])\n",
        "\n",
        "print('Using median imputation')\n",
        "print('Train - Random Forests roc-auc : {}'.format(roc_auc_score(y_train_titanic, pred_median_train[:,1])))\n",
        "print('Test - Random Forests roc-auc  : {}'.format(roc_auc_score(y_test_titanic, pred_median_test[:,1])))\n",
        "print()\n",
        "\n",
        "## Model with `Age_random`\n",
        "rf_random = RandomForestClassifier(n_estimators=100, random_state=19, max_depth=3)\n",
        "rf_random.fit(X_train_titanic[['Age_random', 'Fare']], y_train_titanic)\n",
        "\n",
        "pred_random_train = rf_random.predict_proba(X_train_titanic[['Age_random', 'Fare']])\n",
        "pred_random_test = rf_random.predict_proba(X_test_titanic[['Age_random', 'Fare']])\n",
        "\n",
        "print('Using random sample imputation')\n",
        "print('Train - Random Forests roc-auc : {}'.format(roc_auc_score(y_train_titanic, pred_random_train[:,1])))\n",
        "print('Test - Random Forests roc-auc  : {}'.format(roc_auc_score(y_test_titanic, pred_random_test[:,1])))\n",
        "print()\n",
        "\n",
        "## Model with `Age_NA`\n",
        "rf_NA = RandomForestClassifier(n_estimators=100, random_state=19, max_depth=3)\n",
        "rf_NA.fit(X_train_titanic[['Age_mean', 'Age_NA', 'Fare']], y_train_titanic)\n",
        "\n",
        "pred_NA_train = rf_NA.predict_proba(X_train_titanic[['Age_mean', 'Age_NA', 'Fare']])\n",
        "pred_NA_test = rf_NA.predict_proba(X_test_titanic[['Age_mean', 'Age_NA', 'Fare']])\n",
        "\n",
        "print('Using Capturing Missing Value')\n",
        "print('Train - Random Forests roc-auc : {}'.format(roc_auc_score(y_train_titanic, pred_NA_train[:,1])))\n",
        "print('Test - Random Forests roc-auc  : {}'.format(roc_auc_score(y_test_titanic, pred_NA_test[:,1])))\n",
        "print()"
      ]
    },
    {
      "attachments": {},
      "cell_type": "markdown",
      "metadata": {
        "id": "Trt303oZpnEb"
      },
      "source": [
        "Conclusions (based on personal perspective) : \n",
        "* We can see that replacing NA with `100` makes the models perform better than replacing NA with `0`. \n",
        "* This is because children were more likely to survive than adults. \n",
        "* Filling NA with zeroes, distorts this relation and makes the models loose predictive power."
      ]
    },
    {
      "attachments": {},
      "cell_type": "markdown",
      "metadata": {
        "id": "JSnY2We3ppyT"
      },
      "source": [
        "### Suggestions\n",
        "\n",
        "The arbitrary value has to be determined for each variable specifically. For example, for this dataset, the choice of **replacing NA in `Age` by `0` or `100` are valid, because none of those values are frequent in the original distribution of the variable, and they lie at the tails of the distribution.**\n",
        "\n",
        "However, if we were to replace NA in `Fare`, those values are not good any more, because we can see that `Fare` can take values of up to `500`. So we might want to consider using `500` or `1000` to replace NA instead of `100`.\n",
        "\n",
        "**As you can see this is totally arbitrary and yet, it is used in the industry.** Typical values chose by companies are -9999 or 9999, or similar."
      ]
    },
    {
      "attachments": {},
      "cell_type": "markdown",
      "metadata": {
        "id": "MEfc472eAw-M"
      },
      "source": [
        "# B. Conclusions of Missing Values"
      ]
    },
    {
      "attachments": {},
      "cell_type": "markdown",
      "metadata": {
        "id": "KqZhXi1TA0qK"
      },
      "source": [
        "## Which missing value imputation method shall I use and when?\n",
        "\n",
        "There is no straight forward answer to this question, and which method to use on which occasion is not set on stone. **This is totally up to you**. \n",
        "\n",
        "Different methods make different assumptions and have different advantages and disadvantages."
      ]
    },
    {
      "attachments": {},
      "cell_type": "markdown",
      "metadata": {
        "id": "vIGxdborBIXY"
      },
      "source": [
        "## Guidelines\n",
        "\n",
        "* Check of missing data mechanism :\n",
        "  - MCAR : \n",
        "    * Complete Case Analysis, \n",
        "    * Mean Imputaion (numeric variable with Gaussian/Normal Distribution), \n",
        "    * Median Impuation (numeric variable with skewed distribution)\n",
        "    * Mode Imputation (categorical variable)\n",
        "    * Add Missing Label Imputation (categorical variable)\n",
        "    * Random Sample Imputation\n",
        "    * Arbitray Value Imputation\n",
        "  - MAR, MNAR : \n",
        "    * Add 0/1 Imputation \n",
        "    * Arbitray Value Imputation\n",
        "    * Add Missing Label Imputation (categorical variable)\n",
        "    * You can combined it with Mean/Median/Mode Imputation\n",
        "* If missing values are too small : Complete Case Analysis\n",
        "* If missing values are less than 5% of the variable :\n",
        "  - Mean Imputation\n",
        "  - Median Imputation\n",
        "  - Mode Imputation\n",
        "  - Random Sample Imputation\n",
        "* If missing values are more than 5% of the variable:\n",
        "  - Mean/Median/Mode Imputation + adding 0/1 Imputation\n",
        "  - Add Missing Label Imputation (categorical variable)\n",
        "\n",
        "If the number of NA in a variable is small, they are unlikely to have a strong impact on the variable / target that you are trying to predict. Therefore, treating them specially, will most certainly add noise to the variables. Therefore, it is more useful to replace by mean/random sample to preserve the variable distribution.\n",
        "\n",
        "If the variable / target you are trying to predict is however highly unbalanced, then it might be the case that this small number of NA are indeed informative. You would have to check this out."
      ]
    },
    {
      "attachments": {},
      "cell_type": "markdown",
      "metadata": {
        "id": "_XazJ1HYDxw4"
      },
      "source": [
        "---\n",
        "## Final Note\n",
        "\n",
        "NA imputation for data competitions and business settings can be approached differently. **In data competitions, a tiny increase in performance can be the difference between 1st or 2nd place.** Therefore, you may want to **try all the feature engineering methods** and use the one that gives the best machine learning model performance. It may be the case that different NA imputation methods help different models make better predictions.\n",
        "\n",
        "In business scenarios, scientist **don't usually have the time to do lengthy studies**, and may therefore choose to streamline the feature engineering procedure. In these cases, it is common practice to follow the guidelines above, taking into account the exceptions, and do the same processing for all features.\n",
        "\n",
        "This streamlined pre-processing may not lead to the most predictive features possible, yet it makes feature engineering and machine learning models delivery substantially faster. Thus, the business can start enjoying the power of machine learning sooner."
      ]
    }
  ],
  "metadata": {
    "colab": {
      "collapsed_sections": [
        "epBE9BDR7wft",
        "rzzV8SxK8srI",
        "9XawmVW2SYqO",
        "Kxi2JQGlTNd7",
        "IBsIqZ0saxVb",
        "gz4J1SKTbB0Q",
        "xocc9kkAbE37",
        "1U5vFxoB55eK",
        "Pj2khUK5EL1P",
        "1tgvZa_LGdPU",
        "OsllJg8ECzZq",
        "s45kZjCYUZT4",
        "gdObJ8qI9CW-",
        "aXYJUUMuZIHT",
        "qcTFdbgj7nRk",
        "ls80WADCI0NB",
        "8UQ410El_Z9F",
        "VxFGrlHRZw2t",
        "mhKlQLyjb0PG",
        "vhZhswU9KQRK",
        "hBDumn7Rc9dC",
        "DCIZFR9RUoz2",
        "vF_gmje-eFQm",
        "1-4UGpB2G6l5",
        "7NBCu49UpSb3",
        "INMc70Mm82Af",
        "JSnY2We3ppyT"
      ],
      "provenance": [],
      "toc_visible": true
    },
    "kernelspec": {
      "display_name": "Python 3",
      "name": "python3"
    },
    "language_info": {
      "codemirror_mode": {
        "name": "ipython",
        "version": 3
      },
      "file_extension": ".py",
      "mimetype": "text/x-python",
      "name": "python",
      "nbconvert_exporter": "python",
      "pygments_lexer": "ipython3",
      "version": "3.11.2"
    }
  },
  "nbformat": 4,
  "nbformat_minor": 0
}
