{
 "cells": [
  {
   "cell_type": "code",
   "execution_count": 5,
   "metadata": {},
   "outputs": [
    {
     "name": "stdout",
     "output_type": "stream",
     "text": [
      "Requirement already satisfied: numpy in c:\\users\\asus\\appdata\\local\\programs\\python\\python311\\lib\\site-packages (1.24.2)\n",
      "Note: you may need to restart the kernel to use updated packages.\n"
     ]
    },
    {
     "name": "stderr",
     "output_type": "stream",
     "text": [
      "\n",
      "[notice] A new release of pip is available: 23.0.1 -> 23.1.2\n",
      "[notice] To update, run: python.exe -m pip install --upgrade pip\n"
     ]
    }
   ],
   "source": [
    "pip install numpy"
   ]
  },
  {
   "cell_type": "code",
   "execution_count": 6,
   "metadata": {},
   "outputs": [
    {
     "name": "stdout",
     "output_type": "stream",
     "text": [
      "Requirement already satisfied: pandas in c:\\users\\asus\\appdata\\local\\programs\\python\\python311\\lib\\site-packages (1.5.3)\n",
      "Requirement already satisfied: python-dateutil>=2.8.1 in c:\\users\\asus\\appdata\\roaming\\python\\python311\\site-packages (from pandas) (2.8.2)\n",
      "Requirement already satisfied: pytz>=2020.1 in c:\\users\\asus\\appdata\\local\\programs\\python\\python311\\lib\\site-packages (from pandas) (2023.2)\n",
      "Requirement already satisfied: numpy>=1.21.0 in c:\\users\\asus\\appdata\\local\\programs\\python\\python311\\lib\\site-packages (from pandas) (1.24.2)\n",
      "Requirement already satisfied: six>=1.5 in c:\\users\\asus\\appdata\\roaming\\python\\python311\\site-packages (from python-dateutil>=2.8.1->pandas) (1.16.0)\n",
      "Note: you may need to restart the kernel to use updated packages.\n"
     ]
    },
    {
     "name": "stderr",
     "output_type": "stream",
     "text": [
      "\n",
      "[notice] A new release of pip is available: 23.0.1 -> 23.1.2\n",
      "[notice] To update, run: python.exe -m pip install --upgrade pip\n"
     ]
    }
   ],
   "source": [
    "pip install pandas \n"
   ]
  },
  {
   "cell_type": "code",
   "execution_count": 7,
   "metadata": {},
   "outputs": [
    {
     "name": "stdout",
     "output_type": "stream",
     "text": [
      "Requirement already satisfied: matplotlib in c:\\users\\asus\\appdata\\local\\programs\\python\\python311\\lib\\site-packages (3.7.1)\n",
      "Requirement already satisfied: contourpy>=1.0.1 in c:\\users\\asus\\appdata\\local\\programs\\python\\python311\\lib\\site-packages (from matplotlib) (1.0.7)\n",
      "Requirement already satisfied: cycler>=0.10 in c:\\users\\asus\\appdata\\local\\programs\\python\\python311\\lib\\site-packages (from matplotlib) (0.11.0)\n",
      "Requirement already satisfied: fonttools>=4.22.0 in c:\\users\\asus\\appdata\\local\\programs\\python\\python311\\lib\\site-packages (from matplotlib) (4.39.3)\n",
      "Requirement already satisfied: kiwisolver>=1.0.1 in c:\\users\\asus\\appdata\\local\\programs\\python\\python311\\lib\\site-packages (from matplotlib) (1.4.4)\n",
      "Requirement already satisfied: numpy>=1.20 in c:\\users\\asus\\appdata\\local\\programs\\python\\python311\\lib\\site-packages (from matplotlib) (1.24.2)\n",
      "Requirement already satisfied: packaging>=20.0 in c:\\users\\asus\\appdata\\roaming\\python\\python311\\site-packages (from matplotlib) (23.0)\n",
      "Requirement already satisfied: pillow>=6.2.0 in c:\\users\\asus\\appdata\\local\\programs\\python\\python311\\lib\\site-packages (from matplotlib) (9.5.0)\n",
      "Requirement already satisfied: pyparsing>=2.3.1 in c:\\users\\asus\\appdata\\local\\programs\\python\\python311\\lib\\site-packages (from matplotlib) (3.0.9)\n",
      "Requirement already satisfied: python-dateutil>=2.7 in c:\\users\\asus\\appdata\\roaming\\python\\python311\\site-packages (from matplotlib) (2.8.2)\n",
      "Requirement already satisfied: six>=1.5 in c:\\users\\asus\\appdata\\roaming\\python\\python311\\site-packages (from python-dateutil>=2.7->matplotlib) (1.16.0)\n",
      "Note: you may need to restart the kernel to use updated packages.\n"
     ]
    },
    {
     "name": "stderr",
     "output_type": "stream",
     "text": [
      "\n",
      "[notice] A new release of pip is available: 23.0.1 -> 23.1.2\n",
      "[notice] To update, run: python.exe -m pip install --upgrade pip\n"
     ]
    }
   ],
   "source": [
    "\n",
    "pip install matplotlib\n"
   ]
  },
  {
   "cell_type": "code",
   "execution_count": 8,
   "metadata": {},
   "outputs": [
    {
     "name": "stdout",
     "output_type": "stream",
     "text": [
      "Note: you may need to restart the kernel to use updated packages.\n"
     ]
    },
    {
     "name": "stderr",
     "output_type": "stream",
     "text": [
      "ERROR: Could not find a version that satisfies the requirement pyplot (from versions: none)\n",
      "ERROR: No matching distribution found for pyplot\n",
      "\n",
      "[notice] A new release of pip is available: 23.0.1 -> 23.1.2\n",
      "[notice] To update, run: python.exe -m pip install --upgrade pip\n"
     ]
    }
   ],
   "source": [
    "pip install pyplot \n"
   ]
  },
  {
   "cell_type": "code",
   "execution_count": 9,
   "metadata": {},
   "outputs": [
    {
     "name": "stdout",
     "output_type": "stream",
     "text": [
      "Requirement already satisfied: IPython in c:\\users\\asus\\appdata\\roaming\\python\\python311\\site-packages (8.10.0)\n",
      "Requirement already satisfied: backcall in c:\\users\\asus\\appdata\\roaming\\python\\python311\\site-packages (from IPython) (0.2.0)\n",
      "Requirement already satisfied: decorator in c:\\users\\asus\\appdata\\roaming\\python\\python311\\site-packages (from IPython) (5.1.1)\n",
      "Requirement already satisfied: jedi>=0.16 in c:\\users\\asus\\appdata\\roaming\\python\\python311\\site-packages (from IPython) (0.18.2)\n",
      "Requirement already satisfied: matplotlib-inline in c:\\users\\asus\\appdata\\roaming\\python\\python311\\site-packages (from IPython) (0.1.6)\n",
      "Requirement already satisfied: pickleshare in c:\\users\\asus\\appdata\\roaming\\python\\python311\\site-packages (from IPython) (0.7.5)\n",
      "Requirement already satisfied: prompt-toolkit<3.1.0,>=3.0.30 in c:\\users\\asus\\appdata\\roaming\\python\\python311\\site-packages (from IPython) (3.0.37)\n",
      "Requirement already satisfied: pygments>=2.4.0 in c:\\users\\asus\\appdata\\roaming\\python\\python311\\site-packages (from IPython) (2.14.0)\n",
      "Requirement already satisfied: stack-data in c:\\users\\asus\\appdata\\roaming\\python\\python311\\site-packages (from IPython) (0.6.2)\n",
      "Requirement already satisfied: traitlets>=5 in c:\\users\\asus\\appdata\\roaming\\python\\python311\\site-packages (from IPython) (5.9.0)\n",
      "Requirement already satisfied: colorama in c:\\users\\asus\\appdata\\roaming\\python\\python311\\site-packages (from IPython) (0.4.6)\n",
      "Requirement already satisfied: parso<0.9.0,>=0.8.0 in c:\\users\\asus\\appdata\\roaming\\python\\python311\\site-packages (from jedi>=0.16->IPython) (0.8.3)\n",
      "Requirement already satisfied: wcwidth in c:\\users\\asus\\appdata\\roaming\\python\\python311\\site-packages (from prompt-toolkit<3.1.0,>=3.0.30->IPython) (0.2.6)\n",
      "Requirement already satisfied: executing>=1.2.0 in c:\\users\\asus\\appdata\\roaming\\python\\python311\\site-packages (from stack-data->IPython) (1.2.0)\n",
      "Requirement already satisfied: asttokens>=2.1.0 in c:\\users\\asus\\appdata\\roaming\\python\\python311\\site-packages (from stack-data->IPython) (2.2.1)\n",
      "Requirement already satisfied: pure-eval in c:\\users\\asus\\appdata\\roaming\\python\\python311\\site-packages (from stack-data->IPython) (0.2.2)\n",
      "Requirement already satisfied: six in c:\\users\\asus\\appdata\\roaming\\python\\python311\\site-packages (from asttokens>=2.1.0->stack-data->IPython) (1.16.0)\n",
      "Note: you may need to restart the kernel to use updated packages.\n"
     ]
    },
    {
     "name": "stderr",
     "output_type": "stream",
     "text": [
      "\n",
      "[notice] A new release of pip is available: 23.0.1 -> 23.1.2\n",
      "[notice] To update, run: python.exe -m pip install --upgrade pip\n"
     ]
    }
   ],
   "source": [
    "pip install IPython\n"
   ]
  },
  {
   "cell_type": "code",
   "execution_count": 10,
   "metadata": {},
   "outputs": [
    {
     "name": "stdout",
     "output_type": "stream",
     "text": [
      "Requirement already satisfied: seaborn in c:\\users\\asus\\appdata\\local\\programs\\python\\python311\\lib\\site-packages (0.12.2)\n",
      "Requirement already satisfied: numpy!=1.24.0,>=1.17 in c:\\users\\asus\\appdata\\local\\programs\\python\\python311\\lib\\site-packages (from seaborn) (1.24.2)\n",
      "Requirement already satisfied: pandas>=0.25 in c:\\users\\asus\\appdata\\local\\programs\\python\\python311\\lib\\site-packages (from seaborn) (1.5.3)\n",
      "Requirement already satisfied: matplotlib!=3.6.1,>=3.1 in c:\\users\\asus\\appdata\\local\\programs\\python\\python311\\lib\\site-packages (from seaborn) (3.7.1)\n",
      "Requirement already satisfied: contourpy>=1.0.1 in c:\\users\\asus\\appdata\\local\\programs\\python\\python311\\lib\\site-packages (from matplotlib!=3.6.1,>=3.1->seaborn) (1.0.7)\n",
      "Requirement already satisfied: cycler>=0.10 in c:\\users\\asus\\appdata\\local\\programs\\python\\python311\\lib\\site-packages (from matplotlib!=3.6.1,>=3.1->seaborn) (0.11.0)\n",
      "Requirement already satisfied: fonttools>=4.22.0 in c:\\users\\asus\\appdata\\local\\programs\\python\\python311\\lib\\site-packages (from matplotlib!=3.6.1,>=3.1->seaborn) (4.39.3)\n",
      "Requirement already satisfied: kiwisolver>=1.0.1 in c:\\users\\asus\\appdata\\local\\programs\\python\\python311\\lib\\site-packages (from matplotlib!=3.6.1,>=3.1->seaborn) (1.4.4)\n",
      "Requirement already satisfied: packaging>=20.0 in c:\\users\\asus\\appdata\\roaming\\python\\python311\\site-packages (from matplotlib!=3.6.1,>=3.1->seaborn) (23.0)\n",
      "Requirement already satisfied: pillow>=6.2.0 in c:\\users\\asus\\appdata\\local\\programs\\python\\python311\\lib\\site-packages (from matplotlib!=3.6.1,>=3.1->seaborn) (9.5.0)\n",
      "Requirement already satisfied: pyparsing>=2.3.1 in c:\\users\\asus\\appdata\\local\\programs\\python\\python311\\lib\\site-packages (from matplotlib!=3.6.1,>=3.1->seaborn) (3.0.9)\n",
      "Requirement already satisfied: python-dateutil>=2.7 in c:\\users\\asus\\appdata\\roaming\\python\\python311\\site-packages (from matplotlib!=3.6.1,>=3.1->seaborn) (2.8.2)\n",
      "Requirement already satisfied: pytz>=2020.1 in c:\\users\\asus\\appdata\\local\\programs\\python\\python311\\lib\\site-packages (from pandas>=0.25->seaborn) (2023.2)\n",
      "Requirement already satisfied: six>=1.5 in c:\\users\\asus\\appdata\\roaming\\python\\python311\\site-packages (from python-dateutil>=2.7->matplotlib!=3.6.1,>=3.1->seaborn) (1.16.0)\n",
      "Note: you may need to restart the kernel to use updated packages.\n"
     ]
    },
    {
     "name": "stderr",
     "output_type": "stream",
     "text": [
      "\n",
      "[notice] A new release of pip is available: 23.0.1 -> 23.1.2\n",
      "[notice] To update, run: python.exe -m pip install --upgrade pip\n"
     ]
    }
   ],
   "source": [
    "pip install seaborn \n"
   ]
  },
  {
   "cell_type": "code",
   "execution_count": 11,
   "metadata": {},
   "outputs": [
    {
     "name": "stdout",
     "output_type": "stream",
     "text": [
      "Requirement already satisfied: scipy in c:\\users\\asus\\appdata\\local\\programs\\python\\python311\\lib\\site-packages (1.10.1)\n",
      "Requirement already satisfied: numpy<1.27.0,>=1.19.5 in c:\\users\\asus\\appdata\\local\\programs\\python\\python311\\lib\\site-packages (from scipy) (1.24.2)\n",
      "Note: you may need to restart the kernel to use updated packages.\n"
     ]
    },
    {
     "name": "stderr",
     "output_type": "stream",
     "text": [
      "\n",
      "[notice] A new release of pip is available: 23.0.1 -> 23.1.2\n",
      "[notice] To update, run: python.exe -m pip install --upgrade pip\n"
     ]
    }
   ],
   "source": [
    "\n",
    "\n",
    "pip install scipy\n"
   ]
  },
  {
   "cell_type": "code",
   "execution_count": 12,
   "metadata": {},
   "outputs": [
    {
     "name": "stdout",
     "output_type": "stream",
     "text": [
      "Collecting stats\n",
      "  Downloading stats-0.1.2a.tar.gz (127 kB)\n",
      "     ---------------------------------------- 0.0/127.6 kB ? eta -:--:--\n",
      "     -------------------------------------- 127.6/127.6 kB 2.6 MB/s eta 0:00:00\n",
      "  Preparing metadata (setup.py): started\n",
      "  Preparing metadata (setup.py): finished with status 'done'\n",
      "Installing collected packages: stats\n",
      "  Running setup.py install for stats: started\n",
      "  Running setup.py install for stats: finished with status 'done'\n",
      "Successfully installed stats-0.1.2a0\n",
      "Note: you may need to restart the kernel to use updated packages.\n"
     ]
    },
    {
     "name": "stderr",
     "output_type": "stream",
     "text": [
      "  DEPRECATION: stats is being installed using the legacy 'setup.py install' method, because it does not have a 'pyproject.toml' and the 'wheel' package is not installed. pip 23.1 will enforce this behaviour change. A possible replacement is to enable the '--use-pep517' option. Discussion can be found at https://github.com/pypa/pip/issues/8559\n",
      "\n",
      "[notice] A new release of pip is available: 23.0.1 -> 23.1.2\n",
      "[notice] To update, run: python.exe -m pip install --upgrade pip\n"
     ]
    }
   ],
   "source": [
    "pip install stats\n"
   ]
  },
  {
   "cell_type": "code",
   "execution_count": 13,
   "metadata": {},
   "outputs": [
    {
     "name": "stdout",
     "output_type": "stream",
     "text": [
      "Collecting uniform\n",
      "  Downloading uniform-0.2.2-py3-none-any.whl (5.2 kB)\n",
      "Collecting typesystem\n",
      "  Downloading typesystem-0.4.1-py3-none-any.whl (28 kB)\n",
      "Collecting starlette\n",
      "  Downloading starlette-0.27.0-py3-none-any.whl (66 kB)\n",
      "     ---------------------------------------- 0.0/67.0 kB ? eta -:--:--\n",
      "     ---------------------------------------- 67.0/67.0 kB 1.8 MB/s eta 0:00:00\n",
      "Requirement already satisfied: anyio<5,>=3.4.0 in c:\\users\\asus\\appdata\\roaming\\python\\python311\\site-packages (from starlette->uniform) (3.6.2)\n",
      "Requirement already satisfied: idna>=2.8 in c:\\users\\asus\\appdata\\roaming\\python\\python311\\site-packages (from anyio<5,>=3.4.0->starlette->uniform) (3.4)\n",
      "Requirement already satisfied: sniffio>=1.1 in c:\\users\\asus\\appdata\\roaming\\python\\python311\\site-packages (from anyio<5,>=3.4.0->starlette->uniform) (1.3.0)\n",
      "Installing collected packages: typesystem, starlette, uniform\n",
      "Successfully installed starlette-0.27.0 typesystem-0.4.1 uniform-0.2.2\n",
      "Note: you may need to restart the kernel to use updated packages.\n"
     ]
    },
    {
     "name": "stderr",
     "output_type": "stream",
     "text": [
      "\n",
      "[notice] A new release of pip is available: 23.0.1 -> 23.1.2\n",
      "[notice] To update, run: python.exe -m pip install --upgrade pip\n"
     ]
    }
   ],
   "source": [
    "pip install uniform\n"
   ]
  },
  {
   "cell_type": "code",
   "execution_count": 14,
   "metadata": {},
   "outputs": [
    {
     "name": "stdout",
     "output_type": "stream",
     "text": [
      "Collecting norm\n",
      "  Downloading norm-1.6.0-py3-none-any.whl (11 kB)\n",
      "Installing collected packages: norm\n",
      "Successfully installed norm-1.6.0\n",
      "Note: you may need to restart the kernel to use updated packages.\n"
     ]
    },
    {
     "name": "stderr",
     "output_type": "stream",
     "text": [
      "\n",
      "[notice] A new release of pip is available: 23.0.1 -> 23.1.2\n",
      "[notice] To update, run: python.exe -m pip install --upgrade pip\n"
     ]
    }
   ],
   "source": [
    "pip install norm\n"
   ]
  },
  {
   "cell_type": "code",
   "execution_count": 15,
   "metadata": {},
   "outputs": [
    {
     "name": "stdout",
     "output_type": "stream",
     "text": [
      "Collecting gamma\n",
      "  Downloading gamma-0.0.1-py3-none-any.whl (3.5 kB)\n",
      "Collecting monty>=0.8.0\n",
      "  Downloading monty-2023.5.8-py3-none-any.whl (67 kB)\n",
      "     ---------------------------------------- 0.0/67.3 kB ? eta -:--:--\n",
      "     ------------------------------------ --- 61.4/67.3 kB 1.7 MB/s eta 0:00:01\n",
      "     ---------------------------------------- 67.3/67.3 kB 1.2 MB/s eta 0:00:00\n",
      "Requirement already satisfied: numpy in c:\\users\\asus\\appdata\\local\\programs\\python\\python311\\lib\\site-packages (from gamma) (1.24.2)\n",
      "Requirement already satisfied: pandas in c:\\users\\asus\\appdata\\local\\programs\\python\\python311\\lib\\site-packages (from gamma) (1.5.3)\n",
      "Requirement already satisfied: requests in c:\\users\\asus\\appdata\\local\\programs\\python\\python311\\lib\\site-packages (from gamma) (2.28.2)\n",
      "Requirement already satisfied: python-dateutil>=2.8.1 in c:\\users\\asus\\appdata\\roaming\\python\\python311\\site-packages (from pandas->gamma) (2.8.2)\n",
      "Requirement already satisfied: pytz>=2020.1 in c:\\users\\asus\\appdata\\local\\programs\\python\\python311\\lib\\site-packages (from pandas->gamma) (2023.2)\n",
      "Requirement already satisfied: charset-normalizer<4,>=2 in c:\\users\\asus\\appdata\\local\\programs\\python\\python311\\lib\\site-packages (from requests->gamma) (3.1.0)\n",
      "Requirement already satisfied: idna<4,>=2.5 in c:\\users\\asus\\appdata\\roaming\\python\\python311\\site-packages (from requests->gamma) (3.4)\n",
      "Requirement already satisfied: urllib3<1.27,>=1.21.1 in c:\\users\\asus\\appdata\\local\\programs\\python\\python311\\lib\\site-packages (from requests->gamma) (1.26.15)\n",
      "Requirement already satisfied: certifi>=2017.4.17 in c:\\users\\asus\\appdata\\local\\programs\\python\\python311\\lib\\site-packages (from requests->gamma) (2022.12.7)\n",
      "Requirement already satisfied: six>=1.5 in c:\\users\\asus\\appdata\\roaming\\python\\python311\\site-packages (from python-dateutil>=2.8.1->pandas->gamma) (1.16.0)\n",
      "Installing collected packages: monty, gamma\n",
      "Successfully installed gamma-0.0.1 monty-2023.5.8\n",
      "Note: you may need to restart the kernel to use updated packages.\n"
     ]
    },
    {
     "name": "stderr",
     "output_type": "stream",
     "text": [
      "\n",
      "[notice] A new release of pip is available: 23.0.1 -> 23.1.2\n",
      "[notice] To update, run: python.exe -m pip install --upgrade pip\n"
     ]
    }
   ],
   "source": [
    "pip install gamma\n"
   ]
  },
  {
   "cell_type": "code",
   "execution_count": 16,
   "metadata": {},
   "outputs": [
    {
     "name": "stdout",
     "output_type": "stream",
     "text": [
      "Note: you may need to restart the kernel to use updated packages.\n"
     ]
    },
    {
     "name": "stderr",
     "output_type": "stream",
     "text": [
      "ERROR: Could not find a version that satisfies the requirement poisson (from versions: none)\n",
      "ERROR: No matching distribution found for poisson\n",
      "\n",
      "[notice] A new release of pip is available: 23.0.1 -> 23.1.2\n",
      "[notice] To update, run: python.exe -m pip install --upgrade pip\n"
     ]
    }
   ],
   "source": [
    "pip install poisson\n"
   ]
  },
  {
   "cell_type": "code",
   "execution_count": 17,
   "metadata": {},
   "outputs": [
    {
     "name": "stdout",
     "output_type": "stream",
     "text": [
      "Note: you may need to restart the kernel to use updated packages.\n"
     ]
    },
    {
     "name": "stderr",
     "output_type": "stream",
     "text": [
      "ERROR: Could not find a version that satisfies the requirement binom (from versions: none)\n",
      "ERROR: No matching distribution found for binom\n",
      "\n",
      "[notice] A new release of pip is available: 23.0.1 -> 23.1.2\n",
      "[notice] To update, run: python.exe -m pip install --upgrade pip\n"
     ]
    }
   ],
   "source": [
    "pip install binom\n"
   ]
  },
  {
   "cell_type": "code",
   "execution_count": 18,
   "metadata": {},
   "outputs": [
    {
     "name": "stdout",
     "output_type": "stream",
     "text": [
      "Collecting bernoulli\n",
      "  Downloading bernoulli-0.1.6.tar.gz (2.5 kB)\n",
      "  Preparing metadata (setup.py): started\n",
      "  Preparing metadata (setup.py): finished with status 'done'\n",
      "Requirement already satisfied: requests in c:\\users\\asus\\appdata\\local\\programs\\python\\python311\\lib\\site-packages (from bernoulli) (2.28.2)\n",
      "Requirement already satisfied: charset-normalizer<4,>=2 in c:\\users\\asus\\appdata\\local\\programs\\python\\python311\\lib\\site-packages (from requests->bernoulli) (3.1.0)\n",
      "Requirement already satisfied: idna<4,>=2.5 in c:\\users\\asus\\appdata\\roaming\\python\\python311\\site-packages (from requests->bernoulli) (3.4)\n",
      "Requirement already satisfied: urllib3<1.27,>=1.21.1 in c:\\users\\asus\\appdata\\local\\programs\\python\\python311\\lib\\site-packages (from requests->bernoulli) (1.26.15)\n",
      "Requirement already satisfied: certifi>=2017.4.17 in c:\\users\\asus\\appdata\\local\\programs\\python\\python311\\lib\\site-packages (from requests->bernoulli) (2022.12.7)\n",
      "Installing collected packages: bernoulli\n",
      "  Running setup.py install for bernoulli: started\n",
      "  Running setup.py install for bernoulli: finished with status 'done'\n",
      "Successfully installed bernoulli-0.1.6\n",
      "Note: you may need to restart the kernel to use updated packages.\n"
     ]
    },
    {
     "name": "stderr",
     "output_type": "stream",
     "text": [
      "  DEPRECATION: bernoulli is being installed using the legacy 'setup.py install' method, because it does not have a 'pyproject.toml' and the 'wheel' package is not installed. pip 23.1 will enforce this behaviour change. A possible replacement is to enable the '--use-pep517' option. Discussion can be found at https://github.com/pypa/pip/issues/8559\n",
      "\n",
      "[notice] A new release of pip is available: 23.0.1 -> 23.1.2\n",
      "[notice] To update, run: python.exe -m pip install --upgrade pip\n"
     ]
    }
   ],
   "source": [
    "pip install bernoulli\n"
   ]
  },
  {
   "cell_type": "code",
   "execution_count": 19,
   "metadata": {},
   "outputs": [
    {
     "name": "stdout",
     "output_type": "stream",
     "text": [
      "Collecting statsmodels\n",
      "  Downloading statsmodels-0.14.0-cp311-cp311-win_amd64.whl (9.2 MB)\n",
      "     ---------------------------------------- 0.0/9.2 MB ? eta -:--:--\n",
      "     - -------------------------------------- 0.3/9.2 MB 4.4 MB/s eta 0:00:03\n",
      "     - -------------------------------------- 0.3/9.2 MB 2.5 MB/s eta 0:00:04\n",
      "     - -------------------------------------- 0.3/9.2 MB 2.5 MB/s eta 0:00:04\n",
      "     - -------------------------------------- 0.3/9.2 MB 1.2 MB/s eta 0:00:08\n",
      "     - -------------------------------------- 0.4/9.2 MB 1.1 MB/s eta 0:00:08\n",
      "     - -------------------------------------- 0.4/9.2 MB 1.1 MB/s eta 0:00:08\n",
      "     - -------------------------------------- 0.4/9.2 MB 1.1 MB/s eta 0:00:08\n",
      "     -- ------------------------------------- 0.5/9.2 MB 972.4 kB/s eta 0:00:09\n",
      "     -- ------------------------------------- 0.5/9.2 MB 972.4 kB/s eta 0:00:09\n",
      "     -- ------------------------------------- 0.6/9.2 MB 910.6 kB/s eta 0:00:10\n",
      "     --- ------------------------------------ 0.7/9.2 MB 909.0 kB/s eta 0:00:10\n",
      "     --- ------------------------------------ 0.7/9.2 MB 881.7 kB/s eta 0:00:10\n",
      "     --- ------------------------------------ 0.9/9.2 MB 834.3 kB/s eta 0:00:10\n",
      "     --- ------------------------------------ 0.9/9.2 MB 814.3 kB/s eta 0:00:11\n",
      "     ---- ----------------------------------- 1.0/9.2 MB 814.9 kB/s eta 0:00:11\n",
      "     ---- ----------------------------------- 1.0/9.2 MB 808.6 kB/s eta 0:00:11\n",
      "     ---- ----------------------------------- 1.1/9.2 MB 784.8 kB/s eta 0:00:11\n",
      "     ---- ----------------------------------- 1.1/9.2 MB 770.5 kB/s eta 0:00:11\n",
      "     ---- ----------------------------------- 1.1/9.2 MB 768.2 kB/s eta 0:00:11\n",
      "     ----- ---------------------------------- 1.2/9.2 MB 764.6 kB/s eta 0:00:11\n",
      "     ----- ---------------------------------- 1.2/9.2 MB 737.3 kB/s eta 0:00:11\n",
      "     ----- ---------------------------------- 1.2/9.2 MB 734.9 kB/s eta 0:00:11\n",
      "     ----- ---------------------------------- 1.3/9.2 MB 725.9 kB/s eta 0:00:11\n",
      "     ----- ---------------------------------- 1.3/9.2 MB 723.0 kB/s eta 0:00:11\n",
      "     ----- ---------------------------------- 1.4/9.2 MB 715.4 kB/s eta 0:00:11\n",
      "     ------ --------------------------------- 1.4/9.2 MB 719.2 kB/s eta 0:00:11\n",
      "     ------ --------------------------------- 1.4/9.2 MB 717.7 kB/s eta 0:00:11\n",
      "     ------ --------------------------------- 1.5/9.2 MB 710.9 kB/s eta 0:00:11\n",
      "     ------ --------------------------------- 1.5/9.2 MB 709.8 kB/s eta 0:00:11\n",
      "     ------ --------------------------------- 1.5/9.2 MB 708.5 kB/s eta 0:00:11\n",
      "     ------ --------------------------------- 1.5/9.2 MB 703.1 kB/s eta 0:00:11\n",
      "     ------ --------------------------------- 1.6/9.2 MB 706.7 kB/s eta 0:00:11\n",
      "     ------ --------------------------------- 1.6/9.2 MB 701.4 kB/s eta 0:00:11\n",
      "     ------ --------------------------------- 1.6/9.2 MB 700.4 kB/s eta 0:00:11\n",
      "     ------- -------------------------------- 1.6/9.2 MB 699.0 kB/s eta 0:00:11\n",
      "     ------- -------------------------------- 1.7/9.2 MB 698.1 kB/s eta 0:00:11\n",
      "     ------- -------------------------------- 1.7/9.2 MB 693.4 kB/s eta 0:00:11\n",
      "     ------- -------------------------------- 1.7/9.2 MB 692.3 kB/s eta 0:00:11\n",
      "     ------- -------------------------------- 1.8/9.2 MB 691.8 kB/s eta 0:00:11\n",
      "     ------- -------------------------------- 1.8/9.2 MB 691.1 kB/s eta 0:00:11\n",
      "     ------- -------------------------------- 1.8/9.2 MB 686.3 kB/s eta 0:00:11\n",
      "     -------- ------------------------------- 1.8/9.2 MB 690.1 kB/s eta 0:00:11\n",
      "     -------- ------------------------------- 1.9/9.2 MB 685.1 kB/s eta 0:00:11\n",
      "     -------- ------------------------------- 1.9/9.2 MB 684.9 kB/s eta 0:00:11\n",
      "     -------- ------------------------------- 1.9/9.2 MB 680.7 kB/s eta 0:00:11\n",
      "     -------- ------------------------------- 2.0/9.2 MB 683.9 kB/s eta 0:00:11\n",
      "     -------- ------------------------------- 2.0/9.2 MB 680.1 kB/s eta 0:00:11\n",
      "     -------- ------------------------------- 2.0/9.2 MB 676.0 kB/s eta 0:00:11\n",
      "     -------- ------------------------------- 2.1/9.2 MB 679.0 kB/s eta 0:00:11\n",
      "     --------- ------------------------------ 2.1/9.2 MB 678.7 kB/s eta 0:00:11\n",
      "     --------- ------------------------------ 2.1/9.2 MB 675.0 kB/s eta 0:00:11\n",
      "     --------- ------------------------------ 2.1/9.2 MB 674.9 kB/s eta 0:00:11\n",
      "     --------- ------------------------------ 2.2/9.2 MB 671.1 kB/s eta 0:00:11\n",
      "     --------- ------------------------------ 2.2/9.2 MB 670.7 kB/s eta 0:00:11\n",
      "     --------- ------------------------------ 2.3/9.2 MB 670.5 kB/s eta 0:00:11\n",
      "     ---------- ----------------------------- 2.3/9.2 MB 670.3 kB/s eta 0:00:11\n",
      "     ---------- ----------------------------- 2.3/9.2 MB 670.1 kB/s eta 0:00:11\n",
      "     ---------- ----------------------------- 2.4/9.2 MB 667.0 kB/s eta 0:00:11\n",
      "     ---------- ----------------------------- 2.4/9.2 MB 666.8 kB/s eta 0:00:11\n",
      "     ---------- ----------------------------- 2.4/9.2 MB 663.7 kB/s eta 0:00:11\n",
      "     ---------- ----------------------------- 2.4/9.2 MB 663.7 kB/s eta 0:00:11\n",
      "     ---------- ----------------------------- 2.5/9.2 MB 663.6 kB/s eta 0:00:11\n",
      "     ---------- ----------------------------- 2.5/9.2 MB 663.5 kB/s eta 0:00:11\n",
      "     ----------- ---------------------------- 2.5/9.2 MB 663.4 kB/s eta 0:00:11\n",
      "     ----------- ---------------------------- 2.6/9.2 MB 663.3 kB/s eta 0:00:10\n",
      "     ----------- ---------------------------- 2.6/9.2 MB 660.6 kB/s eta 0:00:10\n",
      "     ----------- ---------------------------- 2.7/9.2 MB 657.8 kB/s eta 0:00:10\n",
      "     ----------- ---------------------------- 2.7/9.2 MB 657.8 kB/s eta 0:00:10\n",
      "     ----------- ---------------------------- 2.7/9.2 MB 657.8 kB/s eta 0:00:10\n",
      "     ----------- ---------------------------- 2.7/9.2 MB 660.3 kB/s eta 0:00:10\n",
      "     ------------ --------------------------- 2.8/9.2 MB 657.7 kB/s eta 0:00:10\n",
      "     ------------ --------------------------- 2.8/9.2 MB 655.4 kB/s eta 0:00:10\n",
      "     ------------ --------------------------- 2.8/9.2 MB 657.7 kB/s eta 0:00:10\n",
      "     ------------ --------------------------- 2.9/9.2 MB 655.3 kB/s eta 0:00:10\n",
      "     ------------ --------------------------- 2.9/9.2 MB 655.4 kB/s eta 0:00:10\n",
      "     ------------ --------------------------- 2.9/9.2 MB 655.3 kB/s eta 0:00:10\n",
      "     ------------ --------------------------- 2.9/9.2 MB 655.4 kB/s eta 0:00:10\n",
      "     ------------ --------------------------- 3.0/9.2 MB 653.0 kB/s eta 0:00:10\n",
      "     ------------- -------------------------- 3.0/9.2 MB 655.3 kB/s eta 0:00:10\n",
      "     ------------- -------------------------- 3.0/9.2 MB 653.1 kB/s eta 0:00:10\n",
      "     ------------- -------------------------- 3.1/9.2 MB 653.1 kB/s eta 0:00:10\n",
      "     ------------- -------------------------- 3.1/9.2 MB 650.9 kB/s eta 0:00:10\n",
      "     ------------- -------------------------- 3.1/9.2 MB 651.0 kB/s eta 0:00:10\n",
      "     ------------- -------------------------- 3.1/9.2 MB 648.9 kB/s eta 0:00:10\n",
      "     ------------- -------------------------- 3.2/9.2 MB 651.1 kB/s eta 0:00:10\n",
      "     -------------- ------------------------- 3.2/9.2 MB 649.1 kB/s eta 0:00:10\n",
      "     -------------- ------------------------- 3.3/9.2 MB 649.3 kB/s eta 0:00:10\n",
      "     -------------- ------------------------- 3.4/9.2 MB 647.5 kB/s eta 0:00:09\n",
      "     -------------- ------------------------- 3.4/9.2 MB 647.6 kB/s eta 0:00:09\n",
      "     --------------- ------------------------ 3.5/9.2 MB 645.8 kB/s eta 0:00:09\n",
      "     --------------- ------------------------ 3.5/9.2 MB 645.8 kB/s eta 0:00:09\n",
      "     --------------- ------------------------ 3.5/9.2 MB 645.9 kB/s eta 0:00:09\n",
      "     --------------- ------------------------ 3.5/9.2 MB 644.1 kB/s eta 0:00:09\n",
      "     --------------- ------------------------ 3.6/9.2 MB 646.0 kB/s eta 0:00:09\n",
      "     --------------- ------------------------ 3.6/9.2 MB 644.3 kB/s eta 0:00:09\n",
      "     --------------- ------------------------ 3.6/9.2 MB 644.3 kB/s eta 0:00:09\n",
      "     --------------- ------------------------ 3.7/9.2 MB 644.5 kB/s eta 0:00:09\n",
      "     ---------------- ----------------------- 3.7/9.2 MB 641.1 kB/s eta 0:00:09\n",
      "     ---------------- ----------------------- 3.8/9.2 MB 643.1 kB/s eta 0:00:09\n",
      "     ---------------- ----------------------- 3.8/9.2 MB 641.5 kB/s eta 0:00:09\n",
      "     ---------------- ----------------------- 3.9/9.2 MB 640.1 kB/s eta 0:00:09\n",
      "     ----------------- ---------------------- 3.9/9.2 MB 641.9 kB/s eta 0:00:09\n",
      "     ----------------- ---------------------- 4.0/9.2 MB 640.4 kB/s eta 0:00:09\n",
      "     ----------------- ---------------------- 4.0/9.2 MB 640.6 kB/s eta 0:00:09\n",
      "     ----------------- ---------------------- 4.1/9.2 MB 640.8 kB/s eta 0:00:08\n",
      "     ----------------- ---------------------- 4.1/9.2 MB 640.9 kB/s eta 0:00:08\n",
      "     ------------------ --------------------- 4.1/9.2 MB 639.5 kB/s eta 0:00:08\n",
      "     ------------------ --------------------- 4.2/9.2 MB 641.1 kB/s eta 0:00:08\n",
      "     ------------------ --------------------- 4.2/9.2 MB 638.1 kB/s eta 0:00:08\n",
      "     ------------------ --------------------- 4.2/9.2 MB 638.3 kB/s eta 0:00:08\n",
      "     ------------------ --------------------- 4.3/9.2 MB 638.5 kB/s eta 0:00:08\n",
      "     ------------------ --------------------- 4.3/9.2 MB 638.6 kB/s eta 0:00:08\n",
      "     ------------------ --------------------- 4.3/9.2 MB 637.3 kB/s eta 0:00:08\n",
      "     ------------------ --------------------- 4.4/9.2 MB 638.8 kB/s eta 0:00:08\n",
      "     ------------------- -------------------- 4.4/9.2 MB 637.5 kB/s eta 0:00:08\n",
      "     ------------------- -------------------- 4.4/9.2 MB 637.6 kB/s eta 0:00:08\n",
      "     ------------------- -------------------- 4.5/9.2 MB 636.2 kB/s eta 0:00:08\n",
      "     ------------------- -------------------- 4.5/9.2 MB 637.9 kB/s eta 0:00:08\n",
      "     ------------------- -------------------- 4.5/9.2 MB 636.6 kB/s eta 0:00:08\n",
      "     ------------------- -------------------- 4.6/9.2 MB 636.7 kB/s eta 0:00:08\n",
      "     ------------------- -------------------- 4.6/9.2 MB 636.8 kB/s eta 0:00:08\n",
      "     -------------------- ------------------- 4.6/9.2 MB 637.0 kB/s eta 0:00:08\n",
      "     -------------------- ------------------- 4.7/9.2 MB 637.1 kB/s eta 0:00:08\n",
      "     -------------------- ------------------- 4.7/9.2 MB 635.9 kB/s eta 0:00:08\n",
      "     -------------------- ------------------- 4.7/9.2 MB 634.7 kB/s eta 0:00:08\n",
      "     -------------------- ------------------- 4.7/9.2 MB 634.8 kB/s eta 0:00:08\n",
      "     -------------------- ------------------- 4.8/9.2 MB 634.9 kB/s eta 0:00:07\n",
      "     -------------------- ------------------- 4.8/9.2 MB 635.0 kB/s eta 0:00:07\n",
      "     --------------------- ------------------ 4.8/9.2 MB 633.9 kB/s eta 0:00:07\n",
      "     --------------------- ------------------ 4.9/9.2 MB 634.0 kB/s eta 0:00:07\n",
      "     --------------------- ------------------ 5.0/9.2 MB 634.3 kB/s eta 0:00:07\n",
      "     --------------------- ------------------ 5.0/9.2 MB 633.3 kB/s eta 0:00:07\n",
      "     --------------------- ------------------ 5.0/9.2 MB 633.5 kB/s eta 0:00:07\n",
      "     ---------------------- ----------------- 5.1/9.2 MB 633.6 kB/s eta 0:00:07\n",
      "     ---------------------- ----------------- 5.1/9.2 MB 632.4 kB/s eta 0:00:07\n",
      "     ---------------------- ----------------- 5.1/9.2 MB 631.3 kB/s eta 0:00:07\n",
      "     ---------------------- ----------------- 5.2/9.2 MB 631.5 kB/s eta 0:00:07\n",
      "     ---------------------- ----------------- 5.2/9.2 MB 632.9 kB/s eta 0:00:07\n",
      "     ---------------------- ----------------- 5.2/9.2 MB 631.8 kB/s eta 0:00:07\n",
      "     ---------------------- ----------------- 5.3/9.2 MB 631.9 kB/s eta 0:00:07\n",
      "     ----------------------- ---------------- 5.3/9.2 MB 630.9 kB/s eta 0:00:07\n",
      "     ----------------------- ---------------- 5.3/9.2 MB 631.0 kB/s eta 0:00:07\n",
      "     ----------------------- ---------------- 5.4/9.2 MB 632.4 kB/s eta 0:00:07\n",
      "     ----------------------- ---------------- 5.4/9.2 MB 631.4 kB/s eta 0:00:07\n",
      "     ----------------------- ---------------- 5.4/9.2 MB 630.2 kB/s eta 0:00:06\n",
      "     ----------------------- ---------------- 5.4/9.2 MB 631.5 kB/s eta 0:00:06\n",
      "     ----------------------- ---------------- 5.5/9.2 MB 630.6 kB/s eta 0:00:06\n",
      "     ----------------------- ---------------- 5.5/9.2 MB 630.7 kB/s eta 0:00:06\n",
      "     ------------------------ --------------- 5.5/9.2 MB 630.8 kB/s eta 0:00:06\n",
      "     ------------------------ --------------- 5.6/9.2 MB 629.9 kB/s eta 0:00:06\n",
      "     ------------------------ --------------- 5.6/9.2 MB 630.1 kB/s eta 0:00:06\n",
      "     ------------------------ --------------- 5.7/9.2 MB 630.2 kB/s eta 0:00:06\n",
      "     ------------------------ --------------- 5.7/9.2 MB 630.3 kB/s eta 0:00:06\n",
      "     ------------------------ --------------- 5.7/9.2 MB 629.4 kB/s eta 0:00:06\n",
      "     ------------------------- -------------- 5.8/9.2 MB 629.5 kB/s eta 0:00:06\n",
      "     ------------------------- -------------- 5.8/9.2 MB 628.6 kB/s eta 0:00:06\n",
      "     ------------------------- -------------- 5.8/9.2 MB 628.7 kB/s eta 0:00:06\n",
      "     ------------------------- -------------- 5.8/9.2 MB 628.7 kB/s eta 0:00:06\n",
      "     ------------------------- -------------- 5.8/9.2 MB 628.7 kB/s eta 0:00:06\n",
      "     ------------------------- -------------- 5.9/9.2 MB 628.1 kB/s eta 0:00:06\n",
      "     ------------------------- -------------- 5.9/9.2 MB 629.3 kB/s eta 0:00:06\n",
      "     ------------------------- -------------- 5.9/9.2 MB 629.3 kB/s eta 0:00:06\n",
      "     -------------------------- ------------- 6.0/9.2 MB 628.4 kB/s eta 0:00:06\n",
      "     -------------------------- ------------- 6.0/9.2 MB 627.6 kB/s eta 0:00:06\n",
      "     -------------------------- ------------- 6.0/9.2 MB 627.6 kB/s eta 0:00:06\n",
      "     -------------------------- ------------- 6.0/9.2 MB 627.6 kB/s eta 0:00:06\n",
      "     -------------------------- ------------- 6.1/9.2 MB 628.1 kB/s eta 0:00:05\n",
      "     -------------------------- ------------- 6.1/9.2 MB 628.1 kB/s eta 0:00:05\n",
      "     -------------------------- ------------- 6.2/9.2 MB 628.3 kB/s eta 0:00:05\n",
      "     -------------------------- ------------- 6.2/9.2 MB 627.3 kB/s eta 0:00:05\n",
      "     --------------------------- ------------ 6.2/9.2 MB 627.5 kB/s eta 0:00:05\n",
      "     --------------------------- ------------ 6.3/9.2 MB 627.6 kB/s eta 0:00:05\n",
      "     --------------------------- ------------ 6.3/9.2 MB 627.7 kB/s eta 0:00:05\n",
      "     --------------------------- ------------ 6.3/9.2 MB 626.8 kB/s eta 0:00:05\n",
      "     --------------------------- ------------ 6.4/9.2 MB 627.0 kB/s eta 0:00:05\n",
      "     --------------------------- ------------ 6.4/9.2 MB 627.1 kB/s eta 0:00:05\n",
      "     --------------------------- ------------ 6.4/9.2 MB 627.3 kB/s eta 0:00:05\n",
      "     ---------------------------- ----------- 6.4/9.2 MB 627.4 kB/s eta 0:00:05\n",
      "     ---------------------------- ----------- 6.5/9.2 MB 627.5 kB/s eta 0:00:05\n",
      "     ---------------------------- ----------- 6.5/9.2 MB 626.7 kB/s eta 0:00:05\n",
      "     ---------------------------- ----------- 6.5/9.2 MB 626.8 kB/s eta 0:00:05\n",
      "     ---------------------------- ----------- 6.6/9.2 MB 626.9 kB/s eta 0:00:05\n",
      "     ---------------------------- ----------- 6.6/9.2 MB 627.0 kB/s eta 0:00:05\n",
      "     ---------------------------- ----------- 6.6/9.2 MB 627.2 kB/s eta 0:00:05\n",
      "     ---------------------------- ----------- 6.6/9.2 MB 626.3 kB/s eta 0:00:05\n",
      "     ----------------------------- ---------- 6.7/9.2 MB 626.5 kB/s eta 0:00:04\n",
      "     ----------------------------- ---------- 6.7/9.2 MB 626.7 kB/s eta 0:00:04\n",
      "     ----------------------------- ---------- 6.7/9.2 MB 625.8 kB/s eta 0:00:04\n",
      "     ----------------------------- ---------- 6.8/9.2 MB 625.9 kB/s eta 0:00:04\n",
      "     ----------------------------- ---------- 6.8/9.2 MB 625.1 kB/s eta 0:00:04\n",
      "     ----------------------------- ---------- 6.8/9.2 MB 626.2 kB/s eta 0:00:04\n",
      "     ----------------------------- ---------- 6.9/9.2 MB 626.3 kB/s eta 0:00:04\n",
      "     ------------------------------ --------- 6.9/9.2 MB 625.6 kB/s eta 0:00:04\n",
      "     ------------------------------ --------- 6.9/9.2 MB 625.7 kB/s eta 0:00:04\n",
      "     ------------------------------ --------- 7.0/9.2 MB 625.8 kB/s eta 0:00:04\n",
      "     ------------------------------ --------- 7.0/9.2 MB 625.9 kB/s eta 0:00:04\n",
      "     ------------------------------ --------- 7.0/9.2 MB 626.1 kB/s eta 0:00:04\n",
      "     ------------------------------ --------- 7.1/9.2 MB 625.4 kB/s eta 0:00:04\n",
      "     ------------------------------ --------- 7.1/9.2 MB 625.4 kB/s eta 0:00:04\n",
      "     ------------------------------ --------- 7.1/9.2 MB 625.6 kB/s eta 0:00:04\n",
      "     ------------------------------- -------- 7.1/9.2 MB 625.7 kB/s eta 0:00:04\n",
      "     ------------------------------- -------- 7.2/9.2 MB 625.1 kB/s eta 0:00:04\n",
      "     ------------------------------- -------- 7.3/9.2 MB 624.5 kB/s eta 0:00:04\n",
      "     ------------------------------- -------- 7.3/9.2 MB 624.8 kB/s eta 0:00:03\n",
      "     -------------------------------- ------- 7.4/9.2 MB 625.0 kB/s eta 0:00:03\n",
      "     -------------------------------- ------- 7.4/9.2 MB 625.1 kB/s eta 0:00:03\n",
      "     -------------------------------- ------- 7.5/9.2 MB 624.5 kB/s eta 0:00:03\n",
      "     -------------------------------- ------- 7.5/9.2 MB 623.9 kB/s eta 0:00:03\n",
      "     --------------------------------- ------ 7.6/9.2 MB 624.2 kB/s eta 0:00:03\n",
      "     --------------------------------- ------ 7.6/9.2 MB 623.5 kB/s eta 0:00:03\n",
      "     --------------------------------- ------ 7.7/9.2 MB 623.7 kB/s eta 0:00:03\n",
      "     --------------------------------- ------ 7.7/9.2 MB 623.8 kB/s eta 0:00:03\n",
      "     --------------------------------- ------ 7.8/9.2 MB 624.0 kB/s eta 0:00:03\n",
      "     ---------------------------------- ----- 7.8/9.2 MB 624.2 kB/s eta 0:00:03\n",
      "     ---------------------------------- ----- 7.9/9.2 MB 622.8 kB/s eta 0:00:03\n",
      "     ---------------------------------- ----- 7.9/9.2 MB 623.0 kB/s eta 0:00:03\n",
      "     ---------------------------------- ----- 7.9/9.2 MB 623.1 kB/s eta 0:00:03\n",
      "     ---------------------------------- ----- 8.0/9.2 MB 623.3 kB/s eta 0:00:02\n",
      "     ----------------------------------- ---- 8.0/9.2 MB 623.5 kB/s eta 0:00:02\n",
      "     ----------------------------------- ---- 8.1/9.2 MB 622.9 kB/s eta 0:00:02\n",
      "     ----------------------------------- ---- 8.1/9.2 MB 620.7 kB/s eta 0:00:02\n",
      "     ----------------------------------- ---- 8.1/9.2 MB 621.7 kB/s eta 0:00:02\n",
      "     ----------------------------------- ---- 8.2/9.2 MB 621.1 kB/s eta 0:00:02\n",
      "     ----------------------------------- ---- 8.2/9.2 MB 621.3 kB/s eta 0:00:02\n",
      "     ------------------------------------ --- 8.3/9.2 MB 620.7 kB/s eta 0:00:02\n",
      "     ------------------------------------ --- 8.3/9.2 MB 621.0 kB/s eta 0:00:02\n",
      "     ------------------------------------ --- 8.4/9.2 MB 621.1 kB/s eta 0:00:02\n",
      "     ------------------------------------ --- 8.4/9.2 MB 620.7 kB/s eta 0:00:02\n",
      "     ------------------------------------ --- 8.5/9.2 MB 620.1 kB/s eta 0:00:02\n",
      "     ------------------------------------- -- 8.5/9.2 MB 620.3 kB/s eta 0:00:02\n",
      "     ------------------------------------- -- 8.6/9.2 MB 620.5 kB/s eta 0:00:01\n",
      "     ------------------------------------- -- 8.6/9.2 MB 620.6 kB/s eta 0:00:01\n",
      "     ------------------------------------- -- 8.7/9.2 MB 620.1 kB/s eta 0:00:01\n",
      "     ------------------------------------- -- 8.7/9.2 MB 620.3 kB/s eta 0:00:01\n",
      "     -------------------------------------- - 8.8/9.2 MB 620.5 kB/s eta 0:00:01\n",
      "     -------------------------------------- - 8.8/9.2 MB 619.9 kB/s eta 0:00:01\n",
      "     -------------------------------------- - 8.8/9.2 MB 620.0 kB/s eta 0:00:01\n",
      "     -------------------------------------- - 8.8/9.2 MB 619.5 kB/s eta 0:00:01\n",
      "     -------------------------------------- - 8.9/9.2 MB 619.6 kB/s eta 0:00:01\n",
      "     -------------------------------------- - 8.9/9.2 MB 620.4 kB/s eta 0:00:01\n",
      "     ---------------------------------------  9.0/9.2 MB 619.2 kB/s eta 0:00:01\n",
      "     ---------------------------------------  9.0/9.2 MB 620.0 kB/s eta 0:00:01\n",
      "     ---------------------------------------  9.0/9.2 MB 620.1 kB/s eta 0:00:01\n",
      "     ---------------------------------------  9.1/9.2 MB 619.6 kB/s eta 0:00:01\n",
      "     ---------------------------------------  9.1/9.2 MB 619.9 kB/s eta 0:00:01\n",
      "     ---------------------------------------  9.2/9.2 MB 619.3 kB/s eta 0:00:01\n",
      "     ---------------------------------------  9.2/9.2 MB 620.1 kB/s eta 0:00:01\n",
      "     ---------------------------------------- 9.2/9.2 MB 616.9 kB/s eta 0:00:00\n",
      "Requirement already satisfied: numpy>=1.18 in c:\\users\\asus\\appdata\\local\\programs\\python\\python311\\lib\\site-packages (from statsmodels) (1.24.2)\n",
      "Requirement already satisfied: scipy!=1.9.2,>=1.4 in c:\\users\\asus\\appdata\\local\\programs\\python\\python311\\lib\\site-packages (from statsmodels) (1.10.1)\n",
      "Requirement already satisfied: pandas>=1.0 in c:\\users\\asus\\appdata\\local\\programs\\python\\python311\\lib\\site-packages (from statsmodels) (1.5.3)\n",
      "Collecting patsy>=0.5.2\n",
      "  Downloading patsy-0.5.3-py2.py3-none-any.whl (233 kB)\n",
      "     ---------------------------------------- 0.0/233.8 kB ? eta -:--:--\n",
      "     ---------------------------- --------- 174.1/233.8 kB 2.6 MB/s eta 0:00:01\n",
      "     -------------------------------------- 233.8/233.8 kB 2.1 MB/s eta 0:00:00\n",
      "Requirement already satisfied: packaging>=21.3 in c:\\users\\asus\\appdata\\roaming\\python\\python311\\site-packages (from statsmodels) (23.0)\n",
      "Requirement already satisfied: python-dateutil>=2.8.1 in c:\\users\\asus\\appdata\\roaming\\python\\python311\\site-packages (from pandas>=1.0->statsmodels) (2.8.2)\n",
      "Requirement already satisfied: pytz>=2020.1 in c:\\users\\asus\\appdata\\local\\programs\\python\\python311\\lib\\site-packages (from pandas>=1.0->statsmodels) (2023.2)\n",
      "Requirement already satisfied: six in c:\\users\\asus\\appdata\\roaming\\python\\python311\\site-packages (from patsy>=0.5.2->statsmodels) (1.16.0)\n",
      "Installing collected packages: patsy, statsmodels\n",
      "Successfully installed patsy-0.5.3 statsmodels-0.14.0\n",
      "Note: you may need to restart the kernel to use updated packages.\n"
     ]
    },
    {
     "name": "stderr",
     "output_type": "stream",
     "text": [
      "\n",
      "[notice] A new release of pip is available: 23.0.1 -> 23.1.2\n",
      "[notice] To update, run: python.exe -m pip install --upgrade pip\n"
     ]
    }
   ],
   "source": [
    "pip install statsmodels\n"
   ]
  },
  {
   "cell_type": "code",
   "execution_count": 20,
   "metadata": {},
   "outputs": [
    {
     "name": "stdout",
     "output_type": "stream",
     "text": [
      "Note: you may need to restart the kernel to use updated packages.\n"
     ]
    },
    {
     "name": "stderr",
     "output_type": "stream",
     "text": [
      "ERROR: Could not find a version that satisfies the requirement random (from versions: none)\n",
      "ERROR: No matching distribution found for random\n",
      "\n",
      "[notice] A new release of pip is available: 23.0.1 -> 23.1.2\n",
      "[notice] To update, run: python.exe -m pip install --upgrade pip\n"
     ]
    }
   ],
   "source": [
    "\n",
    "pip install random\n"
   ]
  },
  {
   "cell_type": "code",
   "execution_count": 21,
   "metadata": {},
   "outputs": [
    {
     "name": "stdout",
     "output_type": "stream",
     "text": [
      "Note: you may need to restart the kernel to use updated packages.\n"
     ]
    },
    {
     "name": "stderr",
     "output_type": "stream",
     "text": [
      "ERROR: Could not find a version that satisfies the requirement warnings (from versions: none)\n",
      "ERROR: No matching distribution found for warnings\n",
      "\n",
      "[notice] A new release of pip is available: 23.0.1 -> 23.1.2\n",
      "[notice] To update, run: python.exe -m pip install --upgrade pip\n"
     ]
    }
   ],
   "source": [
    "pip install warnings"
   ]
  },
  {
   "cell_type": "code",
   "execution_count": 22,
   "metadata": {},
   "outputs": [
    {
     "name": "stdout",
     "output_type": "stream",
     "text": [
      "Note: you may need to restart the kernel to use updated packages.\n"
     ]
    },
    {
     "name": "stderr",
     "output_type": "stream",
     "text": [
      "ERROR: Could not find a version that satisfies the requirement Math (from versions: none)\n",
      "ERROR: No matching distribution found for Math\n",
      "\n",
      "[notice] A new release of pip is available: 23.0.1 -> 23.1.2\n",
      "[notice] To update, run: python.exe -m pip install --upgrade pip\n"
     ]
    }
   ],
   "source": [
    "pip install Math"
   ]
  },
  {
   "cell_type": "code",
   "execution_count": 23,
   "metadata": {},
   "outputs": [
    {
     "name": "stdout",
     "output_type": "stream",
     "text": [
      "Collecting Latex\n",
      "  Downloading latex-0.7.0.tar.gz (6.5 kB)\n",
      "  Preparing metadata (setup.py): started\n",
      "  Preparing metadata (setup.py): finished with status 'done'\n",
      "Collecting tempdir\n",
      "  Downloading tempdir-0.7.1.tar.gz (5.9 kB)\n",
      "  Preparing metadata (setup.py): started\n",
      "  Preparing metadata (setup.py): finished with status 'done'\n",
      "Collecting data\n",
      "  Downloading data-0.4.tar.gz (7.0 kB)\n",
      "  Preparing metadata (setup.py): started\n",
      "  Preparing metadata (setup.py): finished with status 'done'\n",
      "Collecting future\n",
      "  Downloading future-0.18.3.tar.gz (840 kB)\n",
      "     ---------------------------------------- 0.0/840.9 kB ? eta -:--:--\n",
      "     ---------- --------------------------- 235.5/840.9 kB 7.3 MB/s eta 0:00:01\n",
      "     ------------ ------------------------- 276.5/840.9 kB 2.8 MB/s eta 0:00:01\n",
      "     ------------ ------------------------- 276.5/840.9 kB 2.8 MB/s eta 0:00:01\n",
      "     ------------- ------------------------ 307.2/840.9 kB 1.2 MB/s eta 0:00:01\n",
      "     ------------- ------------------------ 307.2/840.9 kB 1.2 MB/s eta 0:00:01\n",
      "     --------------- -------------------- 358.4/840.9 kB 928.4 kB/s eta 0:00:01\n",
      "     --------------- -------------------- 368.6/840.9 kB 849.3 kB/s eta 0:00:01\n",
      "     ------------------ ----------------- 430.1/840.9 kB 767.5 kB/s eta 0:00:01\n",
      "     ----------------------- ------------ 542.7/840.9 kB 896.4 kB/s eta 0:00:01\n",
      "     --------------------------- -------- 634.9/840.9 kB 907.9 kB/s eta 0:00:01\n",
      "     ---------------------------- ------- 665.6/840.9 kB 892.9 kB/s eta 0:00:01\n",
      "     ------------------------------ ----- 716.8/840.9 kB 853.3 kB/s eta 0:00:01\n",
      "     ------------------------------- ---- 727.0/840.9 kB 804.5 kB/s eta 0:00:01\n",
      "     -------------------------------- --- 747.5/840.9 kB 786.0 kB/s eta 0:00:01\n",
      "     -------------------------------- --- 747.5/840.9 kB 786.0 kB/s eta 0:00:01\n",
      "     -------------------------------- --- 747.5/840.9 kB 786.0 kB/s eta 0:00:01\n",
      "     -------------------------------- --- 747.5/840.9 kB 786.0 kB/s eta 0:00:01\n",
      "     -------------------------------- --- 747.5/840.9 kB 786.0 kB/s eta 0:00:01\n",
      "     -------------------------------- --- 747.5/840.9 kB 786.0 kB/s eta 0:00:01\n",
      "     -------------------------------- --- 768.0/840.9 kB 551.1 kB/s eta 0:00:01\n",
      "     -------------------------------- --- 768.0/840.9 kB 551.1 kB/s eta 0:00:01\n",
      "     -------------------------------- --- 768.0/840.9 kB 551.1 kB/s eta 0:00:01\n",
      "     --------------------------------- -- 778.2/840.9 kB 501.6 kB/s eta 0:00:01\n",
      "     --------------------------------- -- 778.2/840.9 kB 501.6 kB/s eta 0:00:01\n",
      "     -----------------------------------  829.4/840.9 kB 481.0 kB/s eta 0:00:01\n",
      "     ------------------------------------ 840.9/840.9 kB 470.4 kB/s eta 0:00:00\n",
      "  Preparing metadata (setup.py): started\n",
      "  Preparing metadata (setup.py): finished with status 'done'\n",
      "Collecting shutilwhich\n",
      "  Downloading shutilwhich-1.1.0.tar.gz (2.3 kB)\n",
      "  Preparing metadata (setup.py): started\n",
      "  Preparing metadata (setup.py): finished with status 'done'\n",
      "Requirement already satisfied: six in c:\\users\\asus\\appdata\\roaming\\python\\python311\\site-packages (from data->Latex) (1.16.0)\n",
      "Requirement already satisfied: decorator in c:\\users\\asus\\appdata\\roaming\\python\\python311\\site-packages (from data->Latex) (5.1.1)\n",
      "Collecting funcsigs\n",
      "  Downloading funcsigs-1.0.2-py2.py3-none-any.whl (17 kB)\n",
      "Installing collected packages: tempdir, shutilwhich, funcsigs, future, data, Latex\n",
      "  Running setup.py install for tempdir: started\n",
      "  Running setup.py install for tempdir: finished with status 'done'\n",
      "  Running setup.py install for shutilwhich: started\n",
      "  Running setup.py install for shutilwhich: finished with status 'done'\n",
      "  Running setup.py install for future: started\n",
      "  Running setup.py install for future: still running...\n",
      "  Running setup.py install for future: finished with status 'done'\n",
      "  Running setup.py install for data: started\n",
      "  Running setup.py install for data: finished with status 'done'\n",
      "  Running setup.py install for Latex: started\n",
      "  Running setup.py install for Latex: finished with status 'done'\n",
      "Successfully installed Latex-0.7.0 data-0.4 funcsigs-1.0.2 future-0.18.3 shutilwhich-1.1.0 tempdir-0.7.1\n",
      "Note: you may need to restart the kernel to use updated packages.\n"
     ]
    },
    {
     "name": "stderr",
     "output_type": "stream",
     "text": [
      "  DEPRECATION: tempdir is being installed using the legacy 'setup.py install' method, because it does not have a 'pyproject.toml' and the 'wheel' package is not installed. pip 23.1 will enforce this behaviour change. A possible replacement is to enable the '--use-pep517' option. Discussion can be found at https://github.com/pypa/pip/issues/8559\n",
      "  DEPRECATION: shutilwhich is being installed using the legacy 'setup.py install' method, because it does not have a 'pyproject.toml' and the 'wheel' package is not installed. pip 23.1 will enforce this behaviour change. A possible replacement is to enable the '--use-pep517' option. Discussion can be found at https://github.com/pypa/pip/issues/8559\n",
      "  DEPRECATION: future is being installed using the legacy 'setup.py install' method, because it does not have a 'pyproject.toml' and the 'wheel' package is not installed. pip 23.1 will enforce this behaviour change. A possible replacement is to enable the '--use-pep517' option. Discussion can be found at https://github.com/pypa/pip/issues/8559\n",
      "  DEPRECATION: data is being installed using the legacy 'setup.py install' method, because it does not have a 'pyproject.toml' and the 'wheel' package is not installed. pip 23.1 will enforce this behaviour change. A possible replacement is to enable the '--use-pep517' option. Discussion can be found at https://github.com/pypa/pip/issues/8559\n",
      "  DEPRECATION: Latex is being installed using the legacy 'setup.py install' method, because it does not have a 'pyproject.toml' and the 'wheel' package is not installed. pip 23.1 will enforce this behaviour change. A possible replacement is to enable the '--use-pep517' option. Discussion can be found at https://github.com/pypa/pip/issues/8559\n",
      "\n",
      "[notice] A new release of pip is available: 23.0.1 -> 23.1.2\n",
      "[notice] To update, run: python.exe -m pip install --upgrade pip\n"
     ]
    }
   ],
   "source": [
    "pip install Latex"
   ]
  },
  {
   "cell_type": "code",
   "execution_count": 24,
   "metadata": {},
   "outputs": [
    {
     "name": "stdout",
     "output_type": "stream",
     "text": [
      "Collecting Image\n",
      "  Downloading image-1.5.33.tar.gz (15 kB)\n",
      "  Preparing metadata (setup.py): started\n",
      "  Preparing metadata (setup.py): finished with status 'done'\n",
      "Requirement already satisfied: pillow in c:\\users\\asus\\appdata\\local\\programs\\python\\python311\\lib\\site-packages (from Image) (9.5.0)\n",
      "Collecting django\n",
      "  Downloading Django-4.2.1-py3-none-any.whl (8.0 MB)\n",
      "     ---------------------------------------- 0.0/8.0 MB ? eta -:--:--\n",
      "     - -------------------------------------- 0.3/8.0 MB 4.7 MB/s eta 0:00:02\n",
      "     - -------------------------------------- 0.4/8.0 MB 2.8 MB/s eta 0:00:03\n",
      "     - -------------------------------------- 0.4/8.0 MB 2.8 MB/s eta 0:00:03\n",
      "     - -------------------------------------- 0.4/8.0 MB 1.2 MB/s eta 0:00:07\n",
      "     - -------------------------------------- 0.4/8.0 MB 1.2 MB/s eta 0:00:07\n",
      "     --- ------------------------------------ 0.6/8.0 MB 1.1 MB/s eta 0:00:07\n",
      "     --- ------------------------------------ 0.7/8.0 MB 1.0 MB/s eta 0:00:08\n",
      "     --- ------------------------------------ 0.7/8.0 MB 997.2 kB/s eta 0:00:08\n",
      "     --- ------------------------------------ 0.7/8.0 MB 869.1 kB/s eta 0:00:09\n",
      "     ---- ----------------------------------- 0.8/8.0 MB 904.2 kB/s eta 0:00:08\n",
      "     ---- ----------------------------------- 0.9/8.0 MB 883.7 kB/s eta 0:00:09\n",
      "     ---- ----------------------------------- 0.9/8.0 MB 854.9 kB/s eta 0:00:09\n",
      "     ---- ----------------------------------- 1.0/8.0 MB 830.0 kB/s eta 0:00:09\n",
      "     ----- ---------------------------------- 1.1/8.0 MB 813.2 kB/s eta 0:00:09\n",
      "     ----- ---------------------------------- 1.1/8.0 MB 799.3 kB/s eta 0:00:09\n",
      "     ------ --------------------------------- 1.2/8.0 MB 782.5 kB/s eta 0:00:09\n",
      "     ------ --------------------------------- 1.3/8.0 MB 767.5 kB/s eta 0:00:09\n",
      "     ------ --------------------------------- 1.3/8.0 MB 760.7 kB/s eta 0:00:09\n",
      "     ------- -------------------------------- 1.4/8.0 MB 747.3 kB/s eta 0:00:09\n",
      "     ------- -------------------------------- 1.5/8.0 MB 743.7 kB/s eta 0:00:09\n",
      "     ------- -------------------------------- 1.5/8.0 MB 735.4 kB/s eta 0:00:09\n",
      "     ------- -------------------------------- 1.6/8.0 MB 732.5 kB/s eta 0:00:09\n",
      "     -------- ------------------------------- 1.6/8.0 MB 725.1 kB/s eta 0:00:09\n",
      "     -------- ------------------------------- 1.7/8.0 MB 722.8 kB/s eta 0:00:09\n",
      "     -------- ------------------------------- 1.7/8.0 MB 720.0 kB/s eta 0:00:09\n",
      "     -------- ------------------------------- 1.8/8.0 MB 712.7 kB/s eta 0:00:09\n",
      "     --------- ------------------------------ 1.8/8.0 MB 707.0 kB/s eta 0:00:09\n",
      "     --------- ------------------------------ 1.9/8.0 MB 704.8 kB/s eta 0:00:09\n",
      "     --------- ------------------------------ 2.0/8.0 MB 703.3 kB/s eta 0:00:09\n",
      "     ---------- ----------------------------- 2.0/8.0 MB 698.1 kB/s eta 0:00:09\n",
      "     ---------- ----------------------------- 2.1/8.0 MB 696.7 kB/s eta 0:00:09\n",
      "     ---------- ----------------------------- 2.1/8.0 MB 695.7 kB/s eta 0:00:09\n",
      "     ---------- ----------------------------- 2.2/8.0 MB 691.1 kB/s eta 0:00:09\n",
      "     ----------- ---------------------------- 2.2/8.0 MB 690.6 kB/s eta 0:00:09\n",
      "     ----------- ---------------------------- 2.3/8.0 MB 689.3 kB/s eta 0:00:09\n",
      "     ----------- ---------------------------- 2.4/8.0 MB 685.0 kB/s eta 0:00:09\n",
      "     ------------ --------------------------- 2.4/8.0 MB 681.5 kB/s eta 0:00:09\n",
      "     ------------ --------------------------- 2.5/8.0 MB 684.0 kB/s eta 0:00:09\n",
      "     ------------ --------------------------- 2.5/8.0 MB 677.6 kB/s eta 0:00:09\n",
      "     ------------ --------------------------- 2.6/8.0 MB 679.8 kB/s eta 0:00:08\n",
      "     ------------- -------------------------- 2.6/8.0 MB 676.8 kB/s eta 0:00:08\n",
      "     ------------- -------------------------- 2.7/8.0 MB 673.3 kB/s eta 0:00:08\n",
      "     ------------- -------------------------- 2.7/8.0 MB 673.1 kB/s eta 0:00:08\n",
      "     ------------- -------------------------- 2.8/8.0 MB 672.7 kB/s eta 0:00:08\n",
      "     -------------- ------------------------- 2.8/8.0 MB 672.5 kB/s eta 0:00:08\n",
      "     -------------- ------------------------- 2.9/8.0 MB 669.7 kB/s eta 0:00:08\n",
      "     -------------- ------------------------- 2.9/8.0 MB 667.1 kB/s eta 0:00:08\n",
      "     -------------- ------------------------- 3.0/8.0 MB 666.9 kB/s eta 0:00:08\n",
      "     -------------- ------------------------- 3.0/8.0 MB 666.8 kB/s eta 0:00:08\n",
      "     --------------- ------------------------ 3.0/8.0 MB 666.6 kB/s eta 0:00:08\n",
      "     --------------- ------------------------ 3.1/8.0 MB 664.1 kB/s eta 0:00:08\n",
      "     --------------- ------------------------ 3.1/8.0 MB 664.0 kB/s eta 0:00:08\n",
      "     --------------- ------------------------ 3.2/8.0 MB 661.7 kB/s eta 0:00:08\n",
      "     ---------------- ----------------------- 3.2/8.0 MB 661.7 kB/s eta 0:00:08\n",
      "     ---------------- ----------------------- 3.3/8.0 MB 659.4 kB/s eta 0:00:08\n",
      "     ---------------- ----------------------- 3.3/8.0 MB 659.4 kB/s eta 0:00:08\n",
      "     ---------------- ----------------------- 3.3/8.0 MB 659.4 kB/s eta 0:00:08\n",
      "     ---------------- ----------------------- 3.4/8.0 MB 659.3 kB/s eta 0:00:07\n",
      "     ----------------- ---------------------- 3.4/8.0 MB 659.3 kB/s eta 0:00:07\n",
      "     ----------------- ---------------------- 3.5/8.0 MB 659.3 kB/s eta 0:00:07\n",
      "     ----------------- ---------------------- 3.5/8.0 MB 655.3 kB/s eta 0:00:07\n",
      "     ----------------- ---------------------- 3.5/8.0 MB 655.3 kB/s eta 0:00:07\n",
      "     ----------------- ---------------------- 3.5/8.0 MB 655.3 kB/s eta 0:00:07\n",
      "     ----------------- ---------------------- 3.6/8.0 MB 653.4 kB/s eta 0:00:07\n",
      "     ------------------ --------------------- 3.6/8.0 MB 655.3 kB/s eta 0:00:07\n",
      "     ------------------ --------------------- 3.7/8.0 MB 653.5 kB/s eta 0:00:07\n",
      "     ------------------ --------------------- 3.7/8.0 MB 651.8 kB/s eta 0:00:07\n",
      "     ------------------ --------------------- 3.8/8.0 MB 651.8 kB/s eta 0:00:07\n",
      "     ------------------- -------------------- 3.8/8.0 MB 651.9 kB/s eta 0:00:07\n",
      "     ------------------- -------------------- 3.8/8.0 MB 651.9 kB/s eta 0:00:07\n",
      "     ------------------- -------------------- 3.9/8.0 MB 650.2 kB/s eta 0:00:07\n",
      "     ------------------- -------------------- 3.9/8.0 MB 650.2 kB/s eta 0:00:07\n",
      "     ------------------- -------------------- 4.0/8.0 MB 650.2 kB/s eta 0:00:07\n",
      "     ------------------- -------------------- 4.0/8.0 MB 650.2 kB/s eta 0:00:07\n",
      "     ------------------- -------------------- 4.0/8.0 MB 650.2 kB/s eta 0:00:07\n",
      "     -------------------- ------------------- 4.1/8.0 MB 648.8 kB/s eta 0:00:07\n",
      "     -------------------- ------------------- 4.1/8.0 MB 647.3 kB/s eta 0:00:06\n",
      "     -------------------- ------------------- 4.2/8.0 MB 647.4 kB/s eta 0:00:06\n",
      "     --------------------- ------------------ 4.2/8.0 MB 647.4 kB/s eta 0:00:06\n",
      "     --------------------- ------------------ 4.2/8.0 MB 647.5 kB/s eta 0:00:06\n",
      "     --------------------- ------------------ 4.3/8.0 MB 646.0 kB/s eta 0:00:06\n",
      "     --------------------- ------------------ 4.3/8.0 MB 646.1 kB/s eta 0:00:06\n",
      "     --------------------- ------------------ 4.4/8.0 MB 644.7 kB/s eta 0:00:06\n",
      "     ---------------------- ----------------- 4.4/8.0 MB 646.3 kB/s eta 0:00:06\n",
      "     ---------------------- ----------------- 4.4/8.0 MB 644.9 kB/s eta 0:00:06\n",
      "     ---------------------- ----------------- 4.5/8.0 MB 645.0 kB/s eta 0:00:06\n",
      "     ---------------------- ----------------- 4.5/8.0 MB 643.6 kB/s eta 0:00:06\n",
      "     ---------------------- ----------------- 4.6/8.0 MB 645.2 kB/s eta 0:00:06\n",
      "     ----------------------- ---------------- 4.6/8.0 MB 643.9 kB/s eta 0:00:06\n",
      "     ----------------------- ---------------- 4.6/8.0 MB 644.0 kB/s eta 0:00:06\n",
      "     ----------------------- ---------------- 4.7/8.0 MB 642.6 kB/s eta 0:00:06\n",
      "     ----------------------- ---------------- 4.7/8.0 MB 642.7 kB/s eta 0:00:06\n",
      "     ----------------------- ---------------- 4.8/8.0 MB 642.9 kB/s eta 0:00:06\n",
      "     ----------------------- ---------------- 4.8/8.0 MB 641.6 kB/s eta 0:00:05\n",
      "     ------------------------ --------------- 4.8/8.0 MB 641.7 kB/s eta 0:00:05\n",
      "     ------------------------ --------------- 4.9/8.0 MB 641.9 kB/s eta 0:00:05\n",
      "     ------------------------ --------------- 4.9/8.0 MB 640.6 kB/s eta 0:00:05\n",
      "     ------------------------ --------------- 4.9/8.0 MB 640.7 kB/s eta 0:00:05\n",
      "     ------------------------ --------------- 5.0/8.0 MB 642.1 kB/s eta 0:00:05\n",
      "     ------------------------- -------------- 5.0/8.0 MB 639.7 kB/s eta 0:00:05\n",
      "     ------------------------- -------------- 5.1/8.0 MB 639.8 kB/s eta 0:00:05\n",
      "     ------------------------- -------------- 5.1/8.0 MB 639.9 kB/s eta 0:00:05\n",
      "     ------------------------- -------------- 5.1/8.0 MB 640.0 kB/s eta 0:00:05\n",
      "     ------------------------- -------------- 5.2/8.0 MB 640.1 kB/s eta 0:00:05\n",
      "     -------------------------- ------------- 5.2/8.0 MB 639.0 kB/s eta 0:00:05\n",
      "     -------------------------- ------------- 5.3/8.0 MB 639.1 kB/s eta 0:00:05\n",
      "     -------------------------- ------------- 5.3/8.0 MB 639.3 kB/s eta 0:00:05\n",
      "     -------------------------- ------------- 5.3/8.0 MB 638.2 kB/s eta 0:00:05\n",
      "     -------------------------- ------------- 5.4/8.0 MB 638.3 kB/s eta 0:00:05\n",
      "     --------------------------- ------------ 5.4/8.0 MB 638.4 kB/s eta 0:00:05\n",
      "     --------------------------- ------------ 5.5/8.0 MB 637.5 kB/s eta 0:00:04\n",
      "     --------------------------- ------------ 5.5/8.0 MB 636.4 kB/s eta 0:00:04\n",
      "     --------------------------- ------------ 5.6/8.0 MB 636.5 kB/s eta 0:00:04\n",
      "     --------------------------- ------------ 5.6/8.0 MB 636.6 kB/s eta 0:00:04\n",
      "     ---------------------------- ----------- 5.6/8.0 MB 636.8 kB/s eta 0:00:04\n",
      "     ---------------------------- ----------- 5.7/8.0 MB 635.8 kB/s eta 0:00:04\n",
      "     ---------------------------- ----------- 5.7/8.0 MB 635.9 kB/s eta 0:00:04\n",
      "     ---------------------------- ----------- 5.8/8.0 MB 635.0 kB/s eta 0:00:04\n",
      "     ---------------------------- ----------- 5.8/8.0 MB 635.0 kB/s eta 0:00:04\n",
      "     ----------------------------- ---------- 5.9/8.0 MB 635.3 kB/s eta 0:00:04\n",
      "     ----------------------------- ---------- 5.9/8.0 MB 635.4 kB/s eta 0:00:04\n",
      "     ----------------------------- ---------- 5.9/8.0 MB 634.4 kB/s eta 0:00:04\n",
      "     ----------------------------- ---------- 6.0/8.0 MB 634.6 kB/s eta 0:00:04\n",
      "     ------------------------------ --------- 6.0/8.0 MB 634.7 kB/s eta 0:00:04\n",
      "     ------------------------------ --------- 6.1/8.0 MB 633.9 kB/s eta 0:00:04\n",
      "     ------------------------------ --------- 6.1/8.0 MB 634.0 kB/s eta 0:00:04\n",
      "     ------------------------------ --------- 6.2/8.0 MB 634.2 kB/s eta 0:00:03\n",
      "     ------------------------------ --------- 6.2/8.0 MB 634.3 kB/s eta 0:00:03\n",
      "     ------------------------------- -------- 6.2/8.0 MB 633.4 kB/s eta 0:00:03\n",
      "     ------------------------------- -------- 6.2/8.0 MB 633.5 kB/s eta 0:00:03\n",
      "     ------------------------------- -------- 6.3/8.0 MB 633.7 kB/s eta 0:00:03\n",
      "     ------------------------------- -------- 6.3/8.0 MB 633.8 kB/s eta 0:00:03\n",
      "     ------------------------------- -------- 6.4/8.0 MB 632.9 kB/s eta 0:00:03\n",
      "     -------------------------------- ------- 6.5/8.0 MB 633.2 kB/s eta 0:00:03\n",
      "     -------------------------------- ------- 6.5/8.0 MB 632.3 kB/s eta 0:00:03\n",
      "     -------------------------------- ------- 6.5/8.0 MB 632.5 kB/s eta 0:00:03\n",
      "     -------------------------------- ------- 6.6/8.0 MB 632.6 kB/s eta 0:00:03\n",
      "     --------------------------------- ------ 6.6/8.0 MB 631.8 kB/s eta 0:00:03\n",
      "     --------------------------------- ------ 6.6/8.0 MB 631.9 kB/s eta 0:00:03\n",
      "     --------------------------------- ------ 6.7/8.0 MB 631.1 kB/s eta 0:00:03\n",
      "     --------------------------------- ------ 6.7/8.0 MB 631.2 kB/s eta 0:00:03\n",
      "     --------------------------------- ------ 6.7/8.0 MB 631.4 kB/s eta 0:00:02\n",
      "     --------------------------------- ------ 6.8/8.0 MB 630.6 kB/s eta 0:00:02\n",
      "     ---------------------------------- ----- 6.8/8.0 MB 630.8 kB/s eta 0:00:02\n",
      "     ---------------------------------- ----- 6.9/8.0 MB 630.9 kB/s eta 0:00:02\n",
      "     ---------------------------------- ----- 6.9/8.0 MB 631.0 kB/s eta 0:00:02\n",
      "     ---------------------------------- ----- 7.0/8.0 MB 631.2 kB/s eta 0:00:02\n",
      "     ---------------------------------- ----- 7.0/8.0 MB 631.2 kB/s eta 0:00:02\n",
      "     ---------------------------------- ----- 7.0/8.0 MB 630.3 kB/s eta 0:00:02\n",
      "     ----------------------------------- ---- 7.1/8.0 MB 629.7 kB/s eta 0:00:02\n",
      "     ----------------------------------- ---- 7.1/8.0 MB 630.8 kB/s eta 0:00:02\n",
      "     ----------------------------------- ---- 7.1/8.0 MB 630.1 kB/s eta 0:00:02\n",
      "     ------------------------------------ --- 7.2/8.0 MB 629.4 kB/s eta 0:00:02\n",
      "     ------------------------------------ --- 7.2/8.0 MB 628.6 kB/s eta 0:00:02\n",
      "     ------------------------------------ --- 7.3/8.0 MB 629.6 kB/s eta 0:00:02\n",
      "     ------------------------------------ --- 7.3/8.0 MB 628.9 kB/s eta 0:00:02\n",
      "     ------------------------------------ --- 7.4/8.0 MB 629.0 kB/s eta 0:00:01\n",
      "     ------------------------------------- -- 7.4/8.0 MB 629.1 kB/s eta 0:00:01\n",
      "     ------------------------------------- -- 7.4/8.0 MB 629.3 kB/s eta 0:00:01\n",
      "     ------------------------------------- -- 7.5/8.0 MB 629.6 kB/s eta 0:00:01\n",
      "     ------------------------------------- -- 7.6/8.0 MB 628.1 kB/s eta 0:00:01\n",
      "     -------------------------------------- - 7.6/8.0 MB 628.3 kB/s eta 0:00:01\n",
      "     -------------------------------------- - 7.6/8.0 MB 628.4 kB/s eta 0:00:01\n",
      "     -------------------------------------- - 7.7/8.0 MB 629.3 kB/s eta 0:00:01\n",
      "     -------------------------------------- - 7.7/8.0 MB 628.6 kB/s eta 0:00:01\n",
      "     -------------------------------------- - 7.8/8.0 MB 628.0 kB/s eta 0:00:01\n",
      "     ---------------------------------------  7.8/8.0 MB 628.2 kB/s eta 0:00:01\n",
      "     ---------------------------------------  7.9/8.0 MB 627.5 kB/s eta 0:00:01\n",
      "     ---------------------------------------  7.9/8.0 MB 627.6 kB/s eta 0:00:01\n",
      "     ---------------------------------------  7.9/8.0 MB 628.5 kB/s eta 0:00:01\n",
      "     ---------------------------------------  8.0/8.0 MB 627.1 kB/s eta 0:00:01\n",
      "     ---------------------------------------  8.0/8.0 MB 628.0 kB/s eta 0:00:01\n",
      "     ---------------------------------------  8.0/8.0 MB 628.0 kB/s eta 0:00:01\n",
      "     ---------------------------------------  8.0/8.0 MB 628.0 kB/s eta 0:00:01\n",
      "     ---------------------------------------  8.0/8.0 MB 628.0 kB/s eta 0:00:01\n",
      "     ---------------------------------------  8.0/8.0 MB 628.0 kB/s eta 0:00:01\n",
      "     ---------------------------------------  8.0/8.0 MB 628.0 kB/s eta 0:00:01\n",
      "     ---------------------------------------  8.0/8.0 MB 628.0 kB/s eta 0:00:01\n",
      "     ---------------------------------------  8.0/8.0 MB 628.0 kB/s eta 0:00:01\n",
      "     ---------------------------------------  8.0/8.0 MB 628.0 kB/s eta 0:00:01\n",
      "     ---------------------------------------  8.0/8.0 MB 628.0 kB/s eta 0:00:01\n",
      "     ---------------------------------------  8.0/8.0 MB 628.0 kB/s eta 0:00:01\n",
      "     ---------------------------------------- 8.0/8.0 MB 591.6 kB/s eta 0:00:00\n",
      "Requirement already satisfied: six in c:\\users\\asus\\appdata\\roaming\\python\\python311\\site-packages (from Image) (1.16.0)\n",
      "Collecting asgiref<4,>=3.6.0\n",
      "  Downloading asgiref-3.6.0-py3-none-any.whl (23 kB)\n",
      "Collecting sqlparse>=0.3.1\n",
      "  Downloading sqlparse-0.4.4-py3-none-any.whl (41 kB)\n",
      "     ---------------------------------------- 0.0/41.2 kB ? eta -:--:--\n",
      "     ---------------------------------------- 41.2/41.2 kB 1.9 MB/s eta 0:00:00\n",
      "Collecting tzdata\n",
      "  Downloading tzdata-2023.3-py2.py3-none-any.whl (341 kB)\n",
      "     ---------------------------------------- 0.0/341.8 kB ? eta -:--:--\n",
      "     ------------------------- ------------ 225.3/341.8 kB 6.9 MB/s eta 0:00:01\n",
      "     ------------------------------ ------- 276.5/341.8 kB 2.4 MB/s eta 0:00:01\n",
      "     ------------------------------ ------- 276.5/341.8 kB 2.4 MB/s eta 0:00:01\n",
      "     -------------------------------------- 341.8/341.8 kB 1.5 MB/s eta 0:00:00\n",
      "Installing collected packages: tzdata, sqlparse, asgiref, django, Image\n",
      "  Running setup.py install for Image: started\n",
      "  Running setup.py install for Image: finished with status 'done'\n",
      "Successfully installed Image-1.5.33 asgiref-3.6.0 django-4.2.1 sqlparse-0.4.4 tzdata-2023.3\n",
      "Note: you may need to restart the kernel to use updated packages.\n"
     ]
    },
    {
     "name": "stderr",
     "output_type": "stream",
     "text": [
      "  DEPRECATION: Image is being installed using the legacy 'setup.py install' method, because it does not have a 'pyproject.toml' and the 'wheel' package is not installed. pip 23.1 will enforce this behaviour change. A possible replacement is to enable the '--use-pep517' option. Discussion can be found at https://github.com/pypa/pip/issues/8559\n",
      "\n",
      "[notice] A new release of pip is available: 23.0.1 -> 23.1.2\n",
      "[notice] To update, run: python.exe -m pip install --upgrade pip\n"
     ]
    }
   ],
   "source": [
    "pip install Image"
   ]
  },
  {
   "cell_type": "code",
   "execution_count": 25,
   "metadata": {},
   "outputs": [],
   "source": [
    "import numpy as np\n",
    "import pandas as pd\n",
    "\n",
    "import matplotlib.pyplot as plt\n",
    "from IPython.display import Math, Latex\n",
    "from IPython.core.display import Image\n",
    "\n",
    "import seaborn as sns\n",
    "sns.set(color_codes=True)\n",
    "sns.set(rc={'figure.figsize': (5, 5)})\n",
    "\n",
    "from scipy.stats import uniform, norm, gamma, poisson, binom, bernoulli, expon\n",
    "import scipy.stats as stats\n",
    "import scipy.stats.distributions as dist\n",
    "\n",
    "import statsmodels.api as sm\n",
    "\n",
    "import random\n",
    "import warnings\n",
    "\n",
    "%matplotlib inline"
   ]
  },
  {
   "attachments": {},
   "cell_type": "markdown",
   "metadata": {},
   "source": [
    "### Uniform Distribution"
   ]
  },
  {
   "cell_type": "code",
   "execution_count": 26,
   "metadata": {},
   "outputs": [],
   "source": [
    "# random numbers from uniform distribution\n",
    "n = 10000\n",
    "start = 10\n",
    "width = 20\n",
    "data_uniform = uniform.rvs(size=n, loc=start, scale=width)"
   ]
  },
  {
   "cell_type": "code",
   "execution_count": 27,
   "metadata": {},
   "outputs": [
    {
     "name": "stderr",
     "output_type": "stream",
     "text": [
      "C:\\Users\\ASUS\\AppData\\Local\\Temp\\ipykernel_9008\\1138843919.py:1: UserWarning: \n",
      "\n",
      "`distplot` is a deprecated function and will be removed in seaborn v0.14.0.\n",
      "\n",
      "Please adapt your code to use either `displot` (a figure-level function with\n",
      "similar flexibility) or `histplot` (an axes-level function for histograms).\n",
      "\n",
      "For a guide to updating your code to use the new functions, please see\n",
      "https://gist.github.com/mwaskom/de44147ed2974457ad6372750bbe5751\n",
      "\n",
      "  ax = sns.distplot(data_uniform,\n"
     ]
    },
    {
     "data": {
      "text/plain": [
       "[Text(0.5, 0, 'Uniform Distribution'), Text(0, 0.5, 'Frequency')]"
      ]
     },
     "execution_count": 27,
     "metadata": {},
     "output_type": "execute_result"
    },
    {
     "data": {
      "image/png": "[encoded data removed]",
      "text/plain": [
       "<Figure size 500x500 with 1 Axes>"
      ]
     },
     "metadata": {},
     "output_type": "display_data"
    }
   ],
   "source": [
    "ax = sns.distplot(data_uniform,\n",
    "             bins=100,\n",
    "             kde=True,\n",
    "             color='skyblue',\n",
    "             hist_kws={\"linewidth\": 15, \"alpha\": 1}\n",
    "            )\n",
    "ax.set(xlabel='Uniform Distribution', ylabel='Frequency')"
   ]
  },
  {
   "cell_type": "code",
   "execution_count": 28,
   "metadata": {},
   "outputs": [
    {
     "name": "stdout",
     "output_type": "stream",
     "text": [
      "Help on function kdeplot in module seaborn.distributions:\n",
      "\n",
      "kdeplot(data=None, *, x=None, y=None, hue=None, weights=None, palette=None, hue_order=None, hue_norm=None, color=None, fill=None, multiple='layer', common_norm=True, common_grid=False, cumulative=False, bw_method='scott', bw_adjust=1, warn_singular=True, log_scale=None, levels=10, thresh=0.05, gridsize=200, cut=3, clip=None, legend=True, cbar=False, cbar_ax=None, cbar_kws=None, ax=None, **kwargs)\n",
      "    Plot univariate or bivariate distributions using kernel density estimation.\n",
      "    \n",
      "    A kernel density estimate (KDE) plot is a method for visualizing the\n",
      "    distribution of observations in a dataset, analogous to a histogram. KDE\n",
      "    represents the data using a continuous probability density curve in one or\n",
      "    more dimensions.\n",
      "    \n",
      "    The approach is explained further in the :ref:`user guide <tutorial_kde>`.\n",
      "    \n",
      "    Relative to a histogram, KDE can produce a plot that is less cluttered and\n",
      "    more interpretable, especially when drawing multiple distributions. But it\n",
      "    has the potential to introduce distortions if the underlying distribution is\n",
      "    bounded or not smooth. Like a histogram, the quality of the representation\n",
      "    also depends on the selection of good smoothing parameters.\n",
      "    \n",
      "    Parameters\n",
      "    ----------\n",
      "    data : :class:`pandas.DataFrame`, :class:`numpy.ndarray`, mapping, or sequence\n",
      "        Input data structure. Either a long-form collection of vectors that can be\n",
      "        assigned to named variables or a wide-form dataset that will be internally\n",
      "        reshaped.\n",
      "    x, y : vectors or keys in ``data``\n",
      "        Variables that specify positions on the x and y axes.\n",
      "    hue : vector or key in ``data``\n",
      "        Semantic variable that is mapped to determine the color of plot elements.\n",
      "    weights : vector or key in ``data``\n",
      "        If provided, weight the kernel density estimation using these values.\n",
      "    palette : string, list, dict, or :class:`matplotlib.colors.Colormap`\n",
      "        Method for choosing the colors to use when mapping the ``hue`` semantic.\n",
      "        String values are passed to :func:`color_palette`. List or dict values\n",
      "        imply categorical mapping, while a colormap object implies numeric mapping.\n",
      "    hue_order : vector of strings\n",
      "        Specify the order of processing and plotting for categorical levels of the\n",
      "        ``hue`` semantic.\n",
      "    hue_norm : tuple or :class:`matplotlib.colors.Normalize`\n",
      "        Either a pair of values that set the normalization range in data units\n",
      "        or an object that will map from data units into a [0, 1] interval. Usage\n",
      "        implies numeric mapping.\n",
      "    color : :mod:`matplotlib color <matplotlib.colors>`\n",
      "        Single color specification for when hue mapping is not used. Otherwise, the\n",
      "        plot will try to hook into the matplotlib property cycle.\n",
      "    fill : bool or None\n",
      "        If True, fill in the area under univariate density curves or between\n",
      "        bivariate contours. If None, the default depends on ``multiple``.\n",
      "    multiple : {{\"layer\", \"stack\", \"fill\"}}\n",
      "        Method for drawing multiple elements when semantic mapping creates subsets.\n",
      "        Only relevant with univariate data.\n",
      "    common_norm : bool\n",
      "        If True, scale each conditional density by the number of observations\n",
      "        such that the total area under all densities sums to 1. Otherwise,\n",
      "        normalize each density independently.\n",
      "    common_grid : bool\n",
      "        If True, use the same evaluation grid for each kernel density estimate.\n",
      "        Only relevant with univariate data.\n",
      "    cumulative : bool, optional\n",
      "        If True, estimate a cumulative distribution function. Requires scipy.\n",
      "    bw_method : string, scalar, or callable, optional\n",
      "        Method for determining the smoothing bandwidth to use; passed to\n",
      "        :class:`scipy.stats.gaussian_kde`.\n",
      "    bw_adjust : number, optional\n",
      "        Factor that multiplicatively scales the value chosen using\n",
      "        ``bw_method``. Increasing will make the curve smoother. See Notes.\n",
      "    warn_singular : bool\n",
      "        If True, issue a warning when trying to estimate the density of data\n",
      "        with zero variance.\n",
      "    log_scale : bool or number, or pair of bools or numbers\n",
      "        Set axis scale(s) to log. A single value sets the data axis for univariate\n",
      "        distributions and both axes for bivariate distributions. A pair of values\n",
      "        sets each axis independently. Numeric values are interpreted as the desired\n",
      "        base (default 10). If `False`, defer to the existing Axes scale.\n",
      "    levels : int or vector\n",
      "        Number of contour levels or values to draw contours at. A vector argument\n",
      "        must have increasing values in [0, 1]. Levels correspond to iso-proportions\n",
      "        of the density: e.g., 20% of the probability mass will lie below the\n",
      "        contour drawn for 0.2. Only relevant with bivariate data.\n",
      "    thresh : number in [0, 1]\n",
      "        Lowest iso-proportion level at which to draw a contour line. Ignored when\n",
      "        ``levels`` is a vector. Only relevant with bivariate data.\n",
      "    gridsize : int\n",
      "        Number of points on each dimension of the evaluation grid.\n",
      "    cut : number, optional\n",
      "        Factor, multiplied by the smoothing bandwidth, that determines how\n",
      "        far the evaluation grid extends past the extreme datapoints. When\n",
      "        set to 0, truncate the curve at the data limits.\n",
      "    clip : pair of numbers or None, or a pair of such pairs\n",
      "        Do not evaluate the density outside of these limits.\n",
      "    legend : bool\n",
      "        If False, suppress the legend for semantic variables.\n",
      "    cbar : bool\n",
      "        If True, add a colorbar to annotate the color mapping in a bivariate plot.\n",
      "        Note: Does not currently support plots with a ``hue`` variable well.\n",
      "    cbar_ax : :class:`matplotlib.axes.Axes`\n",
      "        Pre-existing axes for the colorbar.\n",
      "    cbar_kws : dict\n",
      "        Additional parameters passed to :meth:`matplotlib.figure.Figure.colorbar`.\n",
      "    ax : :class:`matplotlib.axes.Axes`\n",
      "        Pre-existing axes for the plot. Otherwise, call :func:`matplotlib.pyplot.gca`\n",
      "        internally.\n",
      "    kwargs\n",
      "        Other keyword arguments are passed to one of the following matplotlib\n",
      "        functions:\n",
      "    \n",
      "        - :meth:`matplotlib.axes.Axes.plot` (univariate, ``fill=False``),\n",
      "        - :meth:`matplotlib.axes.Axes.fill_between` (univariate, ``fill=True``),\n",
      "        - :meth:`matplotlib.axes.Axes.contour` (bivariate, ``fill=False``),\n",
      "        - :meth:`matplotlib.axes.contourf` (bivariate, ``fill=True``).\n",
      "    \n",
      "    Returns\n",
      "    -------\n",
      "    :class:`matplotlib.axes.Axes`\n",
      "        The matplotlib axes containing the plot.\n",
      "    \n",
      "    See Also\n",
      "    --------\n",
      "    displot : Figure-level interface to distribution plot functions.\n",
      "    histplot : Plot a histogram of binned counts with optional normalization or smoothing.\n",
      "    ecdfplot : Plot empirical cumulative distribution functions.\n",
      "    jointplot : Draw a bivariate plot with univariate marginal distributions.\n",
      "    violinplot : Draw an enhanced boxplot using kernel density estimation.\n",
      "    \n",
      "    Notes\n",
      "    -----\n",
      "    \n",
      "    The *bandwidth*, or standard deviation of the smoothing kernel, is an\n",
      "    important parameter. Misspecification of the bandwidth can produce a\n",
      "    distorted representation of the data. Much like the choice of bin width in a\n",
      "    histogram, an over-smoothed curve can erase true features of a\n",
      "    distribution, while an under-smoothed curve can create false features out of\n",
      "    random variability. The rule-of-thumb that sets the default bandwidth works\n",
      "    best when the true distribution is smooth, unimodal, and roughly bell-shaped.\n",
      "    It is always a good idea to check the default behavior by using ``bw_adjust``\n",
      "    to increase or decrease the amount of smoothing.\n",
      "    \n",
      "    Because the smoothing algorithm uses a Gaussian kernel, the estimated density\n",
      "    curve can extend to values that do not make sense for a particular dataset.\n",
      "    For example, the curve may be drawn over negative values when smoothing data\n",
      "    that are naturally positive. The ``cut`` and ``clip`` parameters can be used\n",
      "    to control the extent of the curve, but datasets that have many observations\n",
      "    close to a natural boundary may be better served by a different visualization\n",
      "    method.\n",
      "    \n",
      "    Similar considerations apply when a dataset is naturally discrete or \"spiky\"\n",
      "    (containing many repeated observations of the same value). Kernel density\n",
      "    estimation will always produce a smooth curve, which would be misleading\n",
      "    in these situations.\n",
      "    \n",
      "    The units on the density axis are a common source of confusion. While kernel\n",
      "    density estimation produces a probability distribution, the height of the curve\n",
      "    at each point gives a density, not a probability. A probability can be obtained\n",
      "    only by integrating the density across a range. The curve is normalized so\n",
      "    that the integral over all possible values is 1, meaning that the scale of\n",
      "    the density axis depends on the data values.\n",
      "    \n",
      "    Examples\n",
      "    --------\n",
      "    \n",
      "    .. include:: ../docstrings/kdeplot.rst\n",
      "\n"
     ]
    }
   ],
   "source": [
    "help(sns.kdeplot)"
   ]
  },
  {
   "cell_type": "code",
   "execution_count": 29,
   "metadata": {},
   "outputs": [
    {
     "data": {
      "image/png": "[encoded data removed]",
      "text/plain": [
       "<Figure size 500x500 with 1 Axes>"
      ]
     },
     "metadata": {},
     "output_type": "display_data"
    }
   ],
   "source": [
    "sns.displot(data_uniform,\n",
    "             bins=100,\n",
    "             kde=True,\n",
    "             color='skyblue',\n",
    "             linewidth= 15,\n",
    "            #  alpha= 1\n",
    "            )\n",
    "plt.xlabel('Uniform Distribution')\n",
    "plt.ylabel('Frequency')\n",
    "plt.show()"
   ]
  },
  {
   "cell_type": "code",
   "execution_count": 30,
   "metadata": {},
   "outputs": [
    {
     "data": {
      "image/png": "[encoded data removed]",
      "text/plain": [
       "<Figure size 500x500 with 1 Axes>"
      ]
     },
     "metadata": {},
     "output_type": "display_data"
    }
   ],
   "source": [
    "sns.kdeplot(data_uniform,\n",
    "            #  bins=100,\n",
    "            #  kde=True,\n",
    "            #  color='skyblue',\n",
    "            #  linewidth= 15,\n",
    "            #  alpha= 1\n",
    "            )\n",
    "plt.xlabel('Uniform Distribution')\n",
    "plt.ylabel('Frequency')\n",
    "plt.show()\n"
   ]
  },
  {
   "cell_type": "code",
   "execution_count": 31,
   "metadata": {},
   "outputs": [
    {
     "data": {
      "image/png": "[encoded data removed]",
      "text/plain": [
       "<Figure size 500x500 with 1 Axes>"
      ]
     },
     "metadata": {},
     "output_type": "display_data"
    }
   ],
   "source": [
    "sns.histplot(data_uniform,\n",
    "             bins=100,\n",
    "             kde=True,\n",
    "             color='skyblue',\n",
    "            #  facet_kws={\"linewidth\": 15, \"alpha\": 1}\n",
    "            )\n",
    "plt.xlabel('Uniform Distribution')\n",
    "plt.ylabel('Frequency')\n",
    "plt.show()"
   ]
  },
  {
   "attachments": {},
   "cell_type": "markdown",
   "metadata": {},
   "source": [
    "### Normal Distribution"
   ]
  },
  {
   "cell_type": "code",
   "execution_count": 32,
   "metadata": {},
   "outputs": [],
   "source": [
    "data_normal = norm.rvs(size=n, loc=0, scale=1)"
   ]
  },
  {
   "cell_type": "code",
   "execution_count": 33,
   "metadata": {},
   "outputs": [
    {
     "name": "stderr",
     "output_type": "stream",
     "text": [
      "C:\\Users\\ASUS\\AppData\\Local\\Temp\\ipykernel_9008\\660144129.py:1: UserWarning: \n",
      "\n",
      "`distplot` is a deprecated function and will be removed in seaborn v0.14.0.\n",
      "\n",
      "Please adapt your code to use either `displot` (a figure-level function with\n",
      "similar flexibility) or `histplot` (an axes-level function for histograms).\n",
      "\n",
      "For a guide to updating your code to use the new functions, please see\n",
      "https://gist.github.com/mwaskom/de44147ed2974457ad6372750bbe5751\n",
      "\n",
      "  ax = sns.distplot(data_normal,\n"
     ]
    },
    {
     "data": {
      "text/plain": [
       "[Text(0.5, 0, 'Normal Distribution'), Text(0, 0.5, 'Frequency')]"
      ]
     },
     "execution_count": 33,
     "metadata": {},
     "output_type": "execute_result"
    },
    {
     "data": {
      "image/png": "[encoded data removed]",
      "text/plain": [
       "<Figure size 500x500 with 1 Axes>"
      ]
     },
     "metadata": {},
     "output_type": "display_data"
    }
   ],
   "source": [
    "ax = sns.distplot(data_normal,\n",
    "                  bins=100,\n",
    "                  kde=True,\n",
    "                  color='skyblue',\n",
    "                  hist_kws={\"linewidth\": 15,'alpha':1})\n",
    "ax.set(xlabel='Normal Distribution', ylabel='Frequency')\n"
   ]
  },
  {
   "cell_type": "code",
   "execution_count": 34,
   "metadata": {},
   "outputs": [
    {
     "data": {
      "text/plain": [
       "<seaborn.axisgrid.FacetGrid at 0x1599fd5c8d0>"
      ]
     },
     "execution_count": 34,
     "metadata": {},
     "output_type": "execute_result"
    },
    {
     "data": {
      "image/png": "[encoded data removed]",
      "text/plain": [
       "<Figure size 500x500 with 1 Axes>"
      ]
     },
     "metadata": {},
     "output_type": "display_data"
    }
   ],
   "source": [
    "ax = sns.displot(data_normal,\n",
    "                  bins=100,\n",
    "                  kde=True,\n",
    "                  kind='hist',\n",
    "                  color='skyblue',\n",
    "                #   hist_kws={\"linewidth\": 15,'alpha':1}\n",
    "                  linewidth=15,\n",
    ")\n",
    "ax.set(xlabel='Normal Distribution', ylabel='Frequency')\n"
   ]
  },
  {
   "attachments": {},
   "cell_type": "markdown",
   "metadata": {},
   "source": [
    "#### Gamma Distribution"
   ]
  },
  {
   "cell_type": "code",
   "execution_count": 35,
   "metadata": {},
   "outputs": [],
   "source": [
    "data_gamma = gamma.rvs(a=5, size=n)"
   ]
  },
  {
   "cell_type": "code",
   "execution_count": 36,
   "metadata": {},
   "outputs": [
    {
     "name": "stderr",
     "output_type": "stream",
     "text": [
      "C:\\Users\\ASUS\\AppData\\Local\\Temp\\ipykernel_9008\\3356692735.py:1: UserWarning: \n",
      "\n",
      "`distplot` is a deprecated function and will be removed in seaborn v0.14.0.\n",
      "\n",
      "Please adapt your code to use either `displot` (a figure-level function with\n",
      "similar flexibility) or `histplot` (an axes-level function for histograms).\n",
      "\n",
      "For a guide to updating your code to use the new functions, please see\n",
      "https://gist.github.com/mwaskom/de44147ed2974457ad6372750bbe5751\n",
      "\n",
      "  ax = sns.distplot(data_gamma,\n"
     ]
    },
    {
     "data": {
      "text/plain": [
       "[Text(0.5, 0, 'Gamma Distribution'), Text(0, 0.5, 'Frequency')]"
      ]
     },
     "execution_count": 36,
     "metadata": {},
     "output_type": "execute_result"
    },
    {
     "data": {
      "image/png": "[encoded data removed]",
      "text/plain": [
       "<Figure size 500x500 with 1 Axes>"
      ]
     },
     "metadata": {},
     "output_type": "display_data"
    }
   ],
   "source": [
    "ax = sns.distplot(data_gamma,\n",
    "                  kde=True,\n",
    "                  bins=100,\n",
    "                  color='skyblue',\n",
    "                  hist_kws={\"linewidth\": 15,'alpha':1})\n",
    "ax.set(xlabel='Gamma Distribution', ylabel='Frequency')"
   ]
  },
  {
   "attachments": {},
   "cell_type": "markdown",
   "metadata": {},
   "source": [
    "#### Exponential Distribution"
   ]
  },
  {
   "cell_type": "code",
   "execution_count": 37,
   "metadata": {},
   "outputs": [],
   "source": [
    "data_expon = expon.rvs(scale=1,loc=0,size=1000)"
   ]
  },
  {
   "cell_type": "code",
   "execution_count": 38,
   "metadata": {},
   "outputs": [
    {
     "name": "stderr",
     "output_type": "stream",
     "text": [
      "C:\\Users\\ASUS\\AppData\\Local\\Temp\\ipykernel_9008\\2396102876.py:1: UserWarning: \n",
      "\n",
      "`distplot` is a deprecated function and will be removed in seaborn v0.14.0.\n",
      "\n",
      "Please adapt your code to use either `displot` (a figure-level function with\n",
      "similar flexibility) or `histplot` (an axes-level function for histograms).\n",
      "\n",
      "For a guide to updating your code to use the new functions, please see\n",
      "https://gist.github.com/mwaskom/de44147ed2974457ad6372750bbe5751\n",
      "\n",
      "  ax = sns.distplot(data_expon,\n"
     ]
    },
    {
     "data": {
      "text/plain": [
       "[Text(0.5, 0, 'Exponential Distribution'), Text(0, 0.5, 'Frequency')]"
      ]
     },
     "execution_count": 38,
     "metadata": {},
     "output_type": "execute_result"
    },
    {
     "data": {
      "image/png": "[encoded data removed]",
      "text/plain": [
       "<Figure size 500x500 with 1 Axes>"
      ]
     },
     "metadata": {},
     "output_type": "display_data"
    }
   ],
   "source": [
    "ax = sns.distplot(data_expon,\n",
    "                  kde=True,\n",
    "                  bins=100,\n",
    "                  color='skyblue',\n",
    "                  hist_kws={\"linewidth\": 15,'alpha':1})\n",
    "ax.set(xlabel='Exponential Distribution', ylabel='Frequency')"
   ]
  },
  {
   "attachments": {},
   "cell_type": "markdown",
   "metadata": {},
   "source": [
    "#### Poisson Distribution"
   ]
  },
  {
   "cell_type": "code",
   "execution_count": 39,
   "metadata": {},
   "outputs": [],
   "source": [
    "data_poisson = poisson.rvs(mu=3, size=n)"
   ]
  },
  {
   "cell_type": "code",
   "execution_count": 40,
   "metadata": {},
   "outputs": [
    {
     "name": "stderr",
     "output_type": "stream",
     "text": [
      "C:\\Users\\ASUS\\AppData\\Local\\Temp\\ipykernel_9008\\90139875.py:1: UserWarning: \n",
      "\n",
      "`distplot` is a deprecated function and will be removed in seaborn v0.14.0.\n",
      "\n",
      "Please adapt your code to use either `displot` (a figure-level function with\n",
      "similar flexibility) or `histplot` (an axes-level function for histograms).\n",
      "\n",
      "For a guide to updating your code to use the new functions, please see\n",
      "https://gist.github.com/mwaskom/de44147ed2974457ad6372750bbe5751\n",
      "\n",
      "  ax = sns.distplot(data_poisson,\n"
     ]
    },
    {
     "data": {
      "text/plain": [
       "[Text(0.5, 0, 'Poisson Distribution'), Text(0, 0.5, 'Frequency')]"
      ]
     },
     "execution_count": 40,
     "metadata": {},
     "output_type": "execute_result"
    },
    {
     "data": {
      "image/png": "[encoded data removed]",
      "text/plain": [
       "<Figure size 500x500 with 1 Axes>"
      ]
     },
     "metadata": {},
     "output_type": "display_data"
    }
   ],
   "source": [
    "ax = sns.distplot(data_poisson,\n",
    "                  bins=30,\n",
    "                  kde=True,\n",
    "                  color='skyblue',\n",
    "                  hist_kws={\"linewidth\": 15,'alpha':1})\n",
    "ax.set(xlabel='Poisson Distribution', ylabel='Frequency')\n"
   ]
  },
  {
   "cell_type": "code",
   "execution_count": 41,
   "metadata": {},
   "outputs": [
    {
     "data": {
      "text/plain": [
       "array([13.54490001, 15.01546162, 26.53052258, 14.32028923, 28.55247381,\n",
       "       13.92843592, 14.75520834, 26.73979087, 21.39643463, 12.44840883,\n",
       "       17.34840701, 21.8764152 , 11.73103797, 11.64439688, 18.58599953,\n",
       "       25.58441378, 12.93377509, 15.94218848, 13.4475795 , 16.66627261])"
      ]
     },
     "execution_count": 41,
     "metadata": {},
     "output_type": "execute_result"
    }
   ],
   "source": [
    "data_uniform[:20]"
   ]
  },
  {
   "cell_type": "code",
   "execution_count": 42,
   "metadata": {},
   "outputs": [
    {
     "data": {
      "text/plain": [
       "array([-0.39108585,  1.23496652, -0.1423203 , -0.77242171, -0.9933771 ,\n",
       "        0.19910595,  0.03678345,  0.37379306, -0.11310711,  0.37463716,\n",
       "        0.30387958,  0.83387097,  0.52079783, -0.5227967 , -0.48458216,\n",
       "        0.79371448,  0.32205678, -0.05697119,  0.07991869,  1.35128951])"
      ]
     },
     "execution_count": 42,
     "metadata": {},
     "output_type": "execute_result"
    }
   ],
   "source": [
    "data_normal[:20]"
   ]
  },
  {
   "cell_type": "code",
   "execution_count": 43,
   "metadata": {},
   "outputs": [
    {
     "data": {
      "text/plain": [
       "array([ 2.49203394,  4.82068561,  4.00440992,  4.35562019,  4.38570208,\n",
       "        6.07931043,  3.40953979,  3.63958652,  5.3601948 ,  4.74675125,\n",
       "       11.92318657,  2.06115495,  4.93967571,  3.94248735,  5.44347715,\n",
       "        3.81389163,  8.62296077,  3.55223718,  6.52706732,  1.32352299])"
      ]
     },
     "execution_count": 43,
     "metadata": {},
     "output_type": "execute_result"
    }
   ],
   "source": [
    "data_gamma[:20]"
   ]
  },
  {
   "cell_type": "code",
   "execution_count": 44,
   "metadata": {},
   "outputs": [
    {
     "data": {
      "text/plain": [
       "16.709929367052577"
      ]
     },
     "execution_count": 44,
     "metadata": {},
     "output_type": "execute_result"
    }
   ],
   "source": [
    "np.max(data_gamma)"
   ]
  },
  {
   "cell_type": "code",
   "execution_count": 45,
   "metadata": {},
   "outputs": [
    {
     "data": {
      "text/plain": [
       "array([4, 0, 2, 8, 3, 3, 2, 5, 2, 3, 2, 1, 1, 3, 1, 4, 3, 3, 7, 4],\n",
       "      dtype=int64)"
      ]
     },
     "execution_count": 45,
     "metadata": {},
     "output_type": "execute_result"
    }
   ],
   "source": [
    "data_poisson[:20]"
   ]
  },
  {
   "attachments": {},
   "cell_type": "markdown",
   "metadata": {},
   "source": [
    "#### Binomial Distribution"
   ]
  },
  {
   "cell_type": "code",
   "execution_count": 46,
   "metadata": {},
   "outputs": [],
   "source": [
    "data_binom = binom.rvs(n=10,p=0.8,size=10000)"
   ]
  },
  {
   "cell_type": "code",
   "execution_count": 47,
   "metadata": {},
   "outputs": [
    {
     "data": {
      "text/plain": [
       "array([ 9,  9,  8, ...,  9,  9, 10], dtype=int64)"
      ]
     },
     "execution_count": 47,
     "metadata": {},
     "output_type": "execute_result"
    }
   ],
   "source": [
    "data_binom"
   ]
  },
  {
   "cell_type": "code",
   "execution_count": 48,
   "metadata": {},
   "outputs": [
    {
     "name": "stderr",
     "output_type": "stream",
     "text": [
      "C:\\Users\\ASUS\\AppData\\Local\\Temp\\ipykernel_9008\\4006488156.py:1: UserWarning: \n",
      "\n",
      "`distplot` is a deprecated function and will be removed in seaborn v0.14.0.\n",
      "\n",
      "Please adapt your code to use either `displot` (a figure-level function with\n",
      "similar flexibility) or `histplot` (an axes-level function for histograms).\n",
      "\n",
      "For a guide to updating your code to use the new functions, please see\n",
      "https://gist.github.com/mwaskom/de44147ed2974457ad6372750bbe5751\n",
      "\n",
      "  ax = sns.distplot(data_binom,\n"
     ]
    },
    {
     "data": {
      "text/plain": [
       "[Text(0.5, 0, 'Binomial Distribution'), Text(0, 0.5, 'Frequency')]"
      ]
     },
     "execution_count": 48,
     "metadata": {},
     "output_type": "execute_result"
    },
    {
     "data": {
      "image/png": "[encoded data removed]",
      "text/plain": [
       "<Figure size 500x500 with 1 Axes>"
      ]
     },
     "metadata": {},
     "output_type": "display_data"
    }
   ],
   "source": [
    "ax = sns.distplot(data_binom,\n",
    "                  kde=False,\n",
    "                  color='skyblue',\n",
    "                  hist_kws={\"linewidth\": 15,'alpha':1})\n",
    "ax.set(xlabel='Binomial Distribution', ylabel='Frequency')\n"
   ]
  },
  {
   "attachments": {},
   "cell_type": "markdown",
   "metadata": {},
   "source": [
    "#### Bernoulli Distribution"
   ]
  },
  {
   "cell_type": "code",
   "execution_count": 49,
   "metadata": {},
   "outputs": [],
   "source": [
    "data_bern = bernoulli.rvs(size=10000,p=0.6)"
   ]
  },
  {
   "cell_type": "code",
   "execution_count": 50,
   "metadata": {},
   "outputs": [
    {
     "data": {
      "text/plain": [
       "array([1, 0, 0, ..., 0, 0, 1], dtype=int64)"
      ]
     },
     "execution_count": 50,
     "metadata": {},
     "output_type": "execute_result"
    }
   ],
   "source": [
    "data_bern"
   ]
  },
  {
   "cell_type": "code",
   "execution_count": 51,
   "metadata": {},
   "outputs": [
    {
     "name": "stderr",
     "output_type": "stream",
     "text": [
      "C:\\Users\\ASUS\\AppData\\Local\\Temp\\ipykernel_9008\\2574368410.py:1: UserWarning: \n",
      "\n",
      "`distplot` is a deprecated function and will be removed in seaborn v0.14.0.\n",
      "\n",
      "Please adapt your code to use either `displot` (a figure-level function with\n",
      "similar flexibility) or `histplot` (an axes-level function for histograms).\n",
      "\n",
      "For a guide to updating your code to use the new functions, please see\n",
      "https://gist.github.com/mwaskom/de44147ed2974457ad6372750bbe5751\n",
      "\n",
      "  ax= sns.distplot(data_bern,\n"
     ]
    },
    {
     "data": {
      "text/plain": [
       "[Text(0.5, 0, 'Bernoulli Distribution'), Text(0, 0.5, 'Frequency')]"
      ]
     },
     "execution_count": 51,
     "metadata": {},
     "output_type": "execute_result"
    },
    {
     "data": {
      "image/png": "[encoded data removed]",
      "text/plain": [
       "<Figure size 500x500 with 1 Axes>"
      ]
     },
     "metadata": {},
     "output_type": "display_data"
    }
   ],
   "source": [
    "ax= sns.distplot(data_bern,\n",
    "                 kde=False,\n",
    "                 color=\"skyblue\",\n",
    "                 hist_kws={\"linewidth\": 15,'alpha':1})\n",
    "ax.set(xlabel='Bernoulli Distribution', ylabel='Frequency')"
   ]
  },
  {
   "attachments": {},
   "cell_type": "markdown",
   "metadata": {},
   "source": [
    "#### Confidence Intervals"
   ]
  },
  {
   "attachments": {},
   "cell_type": "markdown",
   "metadata": {},
   "source": [
    "- age\n",
    "- sex\n",
    "- chest pain type (4 values)\n",
    "- resting blood pressure\n",
    "- serum cholestoral in mg/dl\n",
    "- fasting blood sugar > 120 mg/dl\n",
    "- resting electrocardiographic results (values 0,1,2)\n",
    "- maximum heart rate achieved\n",
    "- exercise induced angina\n",
    "- oldpeak = ST depression induced by exercise relative to rest\n",
    "- the slope of the peak exercise ST segment\n",
    "- number of major vessels (0-3) colored by flourosopy\n",
    "- thal: 0 = normal; 1 = fixed defect; 2 = reversable defect\n",
    "- The names and social security numbers of the patients were recently removed from the database, replaced with dummy values."
   ]
  },
  {
   "cell_type": "code",
   "execution_count": 52,
   "metadata": {},
   "outputs": [
    {
     "data": {
      "text/html": [
       "<div>\n",
       "<style scoped>\n",
       "    .dataframe tbody tr th:only-of-type {\n",
       "        vertical-align: middle;\n",
       "    }\n",
       "\n",
       "    .dataframe tbody tr th {\n",
       "        vertical-align: top;\n",
       "    }\n",
       "\n",
       "    .dataframe thead th {\n",
       "        text-align: right;\n",
       "    }\n",
       "</style>\n",
       "<table border=\"1\" class=\"dataframe\">\n",
       "  <thead>\n",
       "    <tr style=\"text-align: right;\">\n",
       "      <th></th>\n",
       "      <th>age</th>\n",
       "      <th>sex</th>\n",
       "      <th>cp</th>\n",
       "      <th>trestbps</th>\n",
       "      <th>chol</th>\n",
       "      <th>fbs</th>\n",
       "      <th>restecg</th>\n",
       "      <th>thalach</th>\n",
       "      <th>exang</th>\n",
       "      <th>oldpeak</th>\n",
       "      <th>slope</th>\n",
       "      <th>ca</th>\n",
       "      <th>thal</th>\n",
       "      <th>target</th>\n",
       "    </tr>\n",
       "  </thead>\n",
       "  <tbody>\n",
       "    <tr>\n",
       "      <th>0</th>\n",
       "      <td>52</td>\n",
       "      <td>1</td>\n",
       "      <td>0</td>\n",
       "      <td>125</td>\n",
       "      <td>212</td>\n",
       "      <td>0</td>\n",
       "      <td>1</td>\n",
       "      <td>168</td>\n",
       "      <td>0</td>\n",
       "      <td>1.0</td>\n",
       "      <td>2</td>\n",
       "      <td>2</td>\n",
       "      <td>3</td>\n",
       "      <td>0</td>\n",
       "    </tr>\n",
       "    <tr>\n",
       "      <th>1</th>\n",
       "      <td>53</td>\n",
       "      <td>1</td>\n",
       "      <td>0</td>\n",
       "      <td>140</td>\n",
       "      <td>203</td>\n",
       "      <td>1</td>\n",
       "      <td>0</td>\n",
       "      <td>155</td>\n",
       "      <td>1</td>\n",
       "      <td>3.1</td>\n",
       "      <td>0</td>\n",
       "      <td>0</td>\n",
       "      <td>3</td>\n",
       "      <td>0</td>\n",
       "    </tr>\n",
       "    <tr>\n",
       "      <th>2</th>\n",
       "      <td>70</td>\n",
       "      <td>1</td>\n",
       "      <td>0</td>\n",
       "      <td>145</td>\n",
       "      <td>174</td>\n",
       "      <td>0</td>\n",
       "      <td>1</td>\n",
       "      <td>125</td>\n",
       "      <td>1</td>\n",
       "      <td>2.6</td>\n",
       "      <td>0</td>\n",
       "      <td>0</td>\n",
       "      <td>3</td>\n",
       "      <td>0</td>\n",
       "    </tr>\n",
       "    <tr>\n",
       "      <th>3</th>\n",
       "      <td>61</td>\n",
       "      <td>1</td>\n",
       "      <td>0</td>\n",
       "      <td>148</td>\n",
       "      <td>203</td>\n",
       "      <td>0</td>\n",
       "      <td>1</td>\n",
       "      <td>161</td>\n",
       "      <td>0</td>\n",
       "      <td>0.0</td>\n",
       "      <td>2</td>\n",
       "      <td>1</td>\n",
       "      <td>3</td>\n",
       "      <td>0</td>\n",
       "    </tr>\n",
       "    <tr>\n",
       "      <th>4</th>\n",
       "      <td>62</td>\n",
       "      <td>0</td>\n",
       "      <td>0</td>\n",
       "      <td>138</td>\n",
       "      <td>294</td>\n",
       "      <td>1</td>\n",
       "      <td>1</td>\n",
       "      <td>106</td>\n",
       "      <td>0</td>\n",
       "      <td>1.9</td>\n",
       "      <td>1</td>\n",
       "      <td>3</td>\n",
       "      <td>2</td>\n",
       "      <td>0</td>\n",
       "    </tr>\n",
       "  </tbody>\n",
       "</table>\n",
       "</div>"
      ],
      "text/plain": [
       "   age  sex  cp  trestbps  chol  fbs  restecg  thalach  exang  oldpeak  slope  \\\n",
       "0   52    1   0       125   212    0        1      168      0      1.0      2   \n",
       "1   53    1   0       140   203    1        0      155      1      3.1      0   \n",
       "2   70    1   0       145   174    0        1      125      1      2.6      0   \n",
       "3   61    1   0       148   203    0        1      161      0      0.0      2   \n",
       "4   62    0   0       138   294    1        1      106      0      1.9      1   \n",
       "\n",
       "   ca  thal  target  \n",
       "0   2     3       0  \n",
       "1   0     3       0  \n",
       "2   0     3       0  \n",
       "3   1     3       0  \n",
       "4   3     2       0  "
      ]
     },
     "execution_count": 52,
     "metadata": {},
     "output_type": "execute_result"
    }
   ],
   "source": [
    "df = pd.read_csv(\"data/heart.csv\")\n",
    "df.head()"
   ]
  },
  {
   "cell_type": "code",
   "execution_count": 53,
   "metadata": {},
   "outputs": [
    {
     "data": {
      "text/plain": [
       "dtype('int64')"
      ]
     },
     "execution_count": 53,
     "metadata": {},
     "output_type": "execute_result"
    }
   ],
   "source": [
    "df[\"sex\"].dtype"
   ]
  },
  {
   "cell_type": "code",
   "execution_count": 54,
   "metadata": {},
   "outputs": [],
   "source": [
    "df['Sex1'] = df[\"sex\"].replace({1: \"Male\", 0: \"Female\"})"
   ]
  },
  {
   "cell_type": "code",
   "execution_count": 55,
   "metadata": {},
   "outputs": [
    {
     "data": {
      "text/html": [
       "<div>\n",
       "<style scoped>\n",
       "    .dataframe tbody tr th:only-of-type {\n",
       "        vertical-align: middle;\n",
       "    }\n",
       "\n",
       "    .dataframe tbody tr th {\n",
       "        vertical-align: top;\n",
       "    }\n",
       "\n",
       "    .dataframe thead th {\n",
       "        text-align: right;\n",
       "    }\n",
       "</style>\n",
       "<table border=\"1\" class=\"dataframe\">\n",
       "  <thead>\n",
       "    <tr style=\"text-align: right;\">\n",
       "      <th></th>\n",
       "      <th>age</th>\n",
       "      <th>sex</th>\n",
       "      <th>cp</th>\n",
       "      <th>trestbps</th>\n",
       "      <th>chol</th>\n",
       "      <th>fbs</th>\n",
       "      <th>restecg</th>\n",
       "      <th>thalach</th>\n",
       "      <th>exang</th>\n",
       "      <th>oldpeak</th>\n",
       "      <th>slope</th>\n",
       "      <th>ca</th>\n",
       "      <th>thal</th>\n",
       "      <th>target</th>\n",
       "      <th>Sex1</th>\n",
       "    </tr>\n",
       "  </thead>\n",
       "  <tbody>\n",
       "    <tr>\n",
       "      <th>0</th>\n",
       "      <td>52</td>\n",
       "      <td>1</td>\n",
       "      <td>0</td>\n",
       "      <td>125</td>\n",
       "      <td>212</td>\n",
       "      <td>0</td>\n",
       "      <td>1</td>\n",
       "      <td>168</td>\n",
       "      <td>0</td>\n",
       "      <td>1.0</td>\n",
       "      <td>2</td>\n",
       "      <td>2</td>\n",
       "      <td>3</td>\n",
       "      <td>0</td>\n",
       "      <td>Male</td>\n",
       "    </tr>\n",
       "    <tr>\n",
       "      <th>1</th>\n",
       "      <td>53</td>\n",
       "      <td>1</td>\n",
       "      <td>0</td>\n",
       "      <td>140</td>\n",
       "      <td>203</td>\n",
       "      <td>1</td>\n",
       "      <td>0</td>\n",
       "      <td>155</td>\n",
       "      <td>1</td>\n",
       "      <td>3.1</td>\n",
       "      <td>0</td>\n",
       "      <td>0</td>\n",
       "      <td>3</td>\n",
       "      <td>0</td>\n",
       "      <td>Male</td>\n",
       "    </tr>\n",
       "    <tr>\n",
       "      <th>2</th>\n",
       "      <td>70</td>\n",
       "      <td>1</td>\n",
       "      <td>0</td>\n",
       "      <td>145</td>\n",
       "      <td>174</td>\n",
       "      <td>0</td>\n",
       "      <td>1</td>\n",
       "      <td>125</td>\n",
       "      <td>1</td>\n",
       "      <td>2.6</td>\n",
       "      <td>0</td>\n",
       "      <td>0</td>\n",
       "      <td>3</td>\n",
       "      <td>0</td>\n",
       "      <td>Male</td>\n",
       "    </tr>\n",
       "    <tr>\n",
       "      <th>3</th>\n",
       "      <td>61</td>\n",
       "      <td>1</td>\n",
       "      <td>0</td>\n",
       "      <td>148</td>\n",
       "      <td>203</td>\n",
       "      <td>0</td>\n",
       "      <td>1</td>\n",
       "      <td>161</td>\n",
       "      <td>0</td>\n",
       "      <td>0.0</td>\n",
       "      <td>2</td>\n",
       "      <td>1</td>\n",
       "      <td>3</td>\n",
       "      <td>0</td>\n",
       "      <td>Male</td>\n",
       "    </tr>\n",
       "    <tr>\n",
       "      <th>4</th>\n",
       "      <td>62</td>\n",
       "      <td>0</td>\n",
       "      <td>0</td>\n",
       "      <td>138</td>\n",
       "      <td>294</td>\n",
       "      <td>1</td>\n",
       "      <td>1</td>\n",
       "      <td>106</td>\n",
       "      <td>0</td>\n",
       "      <td>1.9</td>\n",
       "      <td>1</td>\n",
       "      <td>3</td>\n",
       "      <td>2</td>\n",
       "      <td>0</td>\n",
       "      <td>Female</td>\n",
       "    </tr>\n",
       "  </tbody>\n",
       "</table>\n",
       "</div>"
      ],
      "text/plain": [
       "   age  sex  cp  trestbps  chol  fbs  restecg  thalach  exang  oldpeak  slope  \\\n",
       "0   52    1   0       125   212    0        1      168      0      1.0      2   \n",
       "1   53    1   0       140   203    1        0      155      1      3.1      0   \n",
       "2   70    1   0       145   174    0        1      125      1      2.6      0   \n",
       "3   61    1   0       148   203    0        1      161      0      0.0      2   \n",
       "4   62    0   0       138   294    1        1      106      0      1.9      1   \n",
       "\n",
       "   ca  thal  target    Sex1  \n",
       "0   2     3       0    Male  \n",
       "1   0     3       0    Male  \n",
       "2   0     3       0    Male  \n",
       "3   1     3       0    Male  \n",
       "4   3     2       0  Female  "
      ]
     },
     "execution_count": 55,
     "metadata": {},
     "output_type": "execute_result"
    }
   ],
   "source": [
    "df.head()"
   ]
  },
  {
   "cell_type": "code",
   "execution_count": 56,
   "metadata": {},
   "outputs": [],
   "source": [
    "dx = df[[\"target\", \"Sex1\"]].dropna()"
   ]
  },
  {
   "cell_type": "code",
   "execution_count": 57,
   "metadata": {},
   "outputs": [
    {
     "data": {
      "text/html": [
       "<div>\n",
       "<style scoped>\n",
       "    .dataframe tbody tr th:only-of-type {\n",
       "        vertical-align: middle;\n",
       "    }\n",
       "\n",
       "    .dataframe tbody tr th {\n",
       "        vertical-align: top;\n",
       "    }\n",
       "\n",
       "    .dataframe thead th {\n",
       "        text-align: right;\n",
       "    }\n",
       "</style>\n",
       "<table border=\"1\" class=\"dataframe\">\n",
       "  <thead>\n",
       "    <tr style=\"text-align: right;\">\n",
       "      <th></th>\n",
       "      <th>target</th>\n",
       "      <th>Sex1</th>\n",
       "    </tr>\n",
       "  </thead>\n",
       "  <tbody>\n",
       "    <tr>\n",
       "      <th>0</th>\n",
       "      <td>0</td>\n",
       "      <td>Male</td>\n",
       "    </tr>\n",
       "    <tr>\n",
       "      <th>1</th>\n",
       "      <td>0</td>\n",
       "      <td>Male</td>\n",
       "    </tr>\n",
       "    <tr>\n",
       "      <th>2</th>\n",
       "      <td>0</td>\n",
       "      <td>Male</td>\n",
       "    </tr>\n",
       "    <tr>\n",
       "      <th>3</th>\n",
       "      <td>0</td>\n",
       "      <td>Male</td>\n",
       "    </tr>\n",
       "    <tr>\n",
       "      <th>4</th>\n",
       "      <td>0</td>\n",
       "      <td>Female</td>\n",
       "    </tr>\n",
       "  </tbody>\n",
       "</table>\n",
       "</div>"
      ],
      "text/plain": [
       "   target    Sex1\n",
       "0       0    Male\n",
       "1       0    Male\n",
       "2       0    Male\n",
       "3       0    Male\n",
       "4       0  Female"
      ]
     },
     "execution_count": 57,
     "metadata": {},
     "output_type": "execute_result"
    }
   ],
   "source": [
    "dx.head()"
   ]
  },
  {
   "cell_type": "code",
   "execution_count": 58,
   "metadata": {},
   "outputs": [
    {
     "data": {
      "text/plain": [
       "0         Male\n",
       "1         Male\n",
       "2         Male\n",
       "3         Male\n",
       "4       Female\n",
       "         ...  \n",
       "1020      Male\n",
       "1021      Male\n",
       "1022      Male\n",
       "1023    Female\n",
       "1024      Male\n",
       "Name: Sex1, Length: 1025, dtype: object"
      ]
     },
     "execution_count": 58,
     "metadata": {},
     "output_type": "execute_result"
    }
   ],
   "source": [
    "df[\"Sex1\"]"
   ]
  },
  {
   "cell_type": "code",
   "execution_count": 59,
   "metadata": {},
   "outputs": [
    {
     "data": {
      "text/html": [
       "<div>\n",
       "<style scoped>\n",
       "    .dataframe tbody tr th:only-of-type {\n",
       "        vertical-align: middle;\n",
       "    }\n",
       "\n",
       "    .dataframe tbody tr th {\n",
       "        vertical-align: top;\n",
       "    }\n",
       "\n",
       "    .dataframe thead th {\n",
       "        text-align: right;\n",
       "    }\n",
       "</style>\n",
       "<table border=\"1\" class=\"dataframe\">\n",
       "  <thead>\n",
       "    <tr style=\"text-align: right;\">\n",
       "      <th>Sex1</th>\n",
       "      <th>Female</th>\n",
       "      <th>Male</th>\n",
       "    </tr>\n",
       "    <tr>\n",
       "      <th>target</th>\n",
       "      <th></th>\n",
       "      <th></th>\n",
       "    </tr>\n",
       "  </thead>\n",
       "  <tbody>\n",
       "    <tr>\n",
       "      <th>0</th>\n",
       "      <td>86</td>\n",
       "      <td>413</td>\n",
       "    </tr>\n",
       "    <tr>\n",
       "      <th>1</th>\n",
       "      <td>226</td>\n",
       "      <td>300</td>\n",
       "    </tr>\n",
       "  </tbody>\n",
       "</table>\n",
       "</div>"
      ],
      "text/plain": [
       "Sex1    Female  Male\n",
       "target              \n",
       "0           86   413\n",
       "1          226   300"
      ]
     },
     "execution_count": 59,
     "metadata": {},
     "output_type": "execute_result"
    }
   ],
   "source": [
    "pd.crosstab(dx[\"target\"], dx[\"Sex1\"])"
   ]
  },
  {
   "cell_type": "code",
   "execution_count": 60,
   "metadata": {},
   "outputs": [
    {
     "data": {
      "text/plain": [
       "0.7243589743589743"
      ]
     },
     "execution_count": 60,
     "metadata": {},
     "output_type": "execute_result"
    }
   ],
   "source": [
    "p_fm = 226/(86+226)\n",
    "p_fm"
   ]
  },
  {
   "cell_type": "code",
   "execution_count": 61,
   "metadata": {},
   "outputs": [
    {
     "data": {
      "text/plain": [
       "312"
      ]
     },
     "execution_count": 61,
     "metadata": {},
     "output_type": "execute_result"
    }
   ],
   "source": [
    "n=86+226\n",
    "n"
   ]
  },
  {
   "cell_type": "code",
   "execution_count": 62,
   "metadata": {},
   "outputs": [
    {
     "data": {
      "text/plain": [
       "0.02529714756803247"
      ]
     },
     "execution_count": 62,
     "metadata": {},
     "output_type": "execute_result"
    }
   ],
   "source": [
    "se_female = np.sqrt(p_fm * (1 - p_fm) / n)\n",
    "se_female"
   ]
  },
  {
   "cell_type": "code",
   "execution_count": 63,
   "metadata": {},
   "outputs": [
    {
     "data": {
      "text/plain": [
       "0.09000000000000001"
      ]
     },
     "execution_count": 63,
     "metadata": {},
     "output_type": "execute_result"
    }
   ],
   "source": [
    "0.9*0.1"
   ]
  },
  {
   "cell_type": "code",
   "execution_count": 64,
   "metadata": {},
   "outputs": [
    {
     "data": {
      "text/plain": [
       "0.21"
      ]
     },
     "execution_count": 64,
     "metadata": {},
     "output_type": "execute_result"
    }
   ],
   "source": [
    "0.7*0.3"
   ]
  },
  {
   "cell_type": "code",
   "execution_count": 65,
   "metadata": {},
   "outputs": [
    {
     "data": {
      "text/plain": [
       "0.25"
      ]
     },
     "execution_count": 65,
     "metadata": {},
     "output_type": "execute_result"
    }
   ],
   "source": [
    "0.5*0.5"
   ]
  },
  {
   "cell_type": "code",
   "execution_count": 66,
   "metadata": {},
   "outputs": [
    {
     "data": {
      "text/plain": [
       "(0.6747765651256307, 0.773941383592318)"
      ]
     },
     "execution_count": 66,
     "metadata": {},
     "output_type": "execute_result"
    }
   ],
   "source": [
    "z_score = 1.96\n",
    "lcb = p_fm - z_score* se_female #lower limit of the CI\n",
    "ucb = p_fm + z_score* se_female #upper limit of the CI\n",
    "lcb, ucb"
   ]
  },
  {
   "cell_type": "code",
   "execution_count": 67,
   "metadata": {},
   "outputs": [
    {
     "data": {
      "text/plain": [
       "(0.6747774762140357, 0.773940472503913)"
      ]
     },
     "execution_count": 67,
     "metadata": {},
     "output_type": "execute_result"
    }
   ],
   "source": [
    "sm.stats.proportion_confint(n * p_fm, n)"
   ]
  },
  {
   "cell_type": "code",
   "execution_count": 68,
   "metadata": {},
   "outputs": [
    {
     "data": {
      "text/html": [
       "<div>\n",
       "<style scoped>\n",
       "    .dataframe tbody tr th:only-of-type {\n",
       "        vertical-align: middle;\n",
       "    }\n",
       "\n",
       "    .dataframe tbody tr th {\n",
       "        vertical-align: top;\n",
       "    }\n",
       "\n",
       "    .dataframe thead tr th {\n",
       "        text-align: left;\n",
       "    }\n",
       "\n",
       "    .dataframe thead tr:last-of-type th {\n",
       "        text-align: right;\n",
       "    }\n",
       "</style>\n",
       "<table border=\"1\" class=\"dataframe\">\n",
       "  <thead>\n",
       "    <tr>\n",
       "      <th></th>\n",
       "      <th colspan=\"3\" halign=\"left\">chol</th>\n",
       "    </tr>\n",
       "    <tr>\n",
       "      <th></th>\n",
       "      <th>mean</th>\n",
       "      <th>std</th>\n",
       "      <th>size</th>\n",
       "    </tr>\n",
       "    <tr>\n",
       "      <th>Sex1</th>\n",
       "      <th></th>\n",
       "      <th></th>\n",
       "      <th></th>\n",
       "    </tr>\n",
       "  </thead>\n",
       "  <tbody>\n",
       "    <tr>\n",
       "      <th>Female</th>\n",
       "      <td>261.455128</td>\n",
       "      <td>64.466781</td>\n",
       "      <td>312</td>\n",
       "    </tr>\n",
       "    <tr>\n",
       "      <th>Male</th>\n",
       "      <td>239.237027</td>\n",
       "      <td>43.155535</td>\n",
       "      <td>713</td>\n",
       "    </tr>\n",
       "  </tbody>\n",
       "</table>\n",
       "</div>"
      ],
      "text/plain": [
       "              chol                \n",
       "              mean        std size\n",
       "Sex1                              \n",
       "Female  261.455128  64.466781  312\n",
       "Male    239.237027  43.155535  713"
      ]
     },
     "execution_count": 68,
     "metadata": {},
     "output_type": "execute_result"
    }
   ],
   "source": [
    "df.groupby(\"Sex1\").agg({\"chol\": [np.mean, np.std, np.size]})"
   ]
  },
  {
   "cell_type": "code",
   "execution_count": 69,
   "metadata": {},
   "outputs": [],
   "source": [
    "mean_fe = 261.45  #mean cholesterol of female\n",
    "sd = 64.4         #standard deviation for female population\n",
    "n = 312           #Total number of female\n",
    "z = 1.96          #z-score from the z table mentioned before"
   ]
  },
  {
   "cell_type": "code",
   "execution_count": 70,
   "metadata": {},
   "outputs": [
    {
     "data": {
      "text/plain": [
       "3.6459320499455985"
      ]
     },
     "execution_count": 70,
     "metadata": {},
     "output_type": "execute_result"
    }
   ],
   "source": [
    "se = sd / np.sqrt(n)\n",
    "se"
   ]
  },
  {
   "cell_type": "code",
   "execution_count": 71,
   "metadata": {},
   "outputs": [
    {
     "data": {
      "text/plain": [
       "(254.3039731821066, 268.59602681789335)"
      ]
     },
     "execution_count": 71,
     "metadata": {},
     "output_type": "execute_result"
    }
   ],
   "source": [
    "lcb = mean_fe - z* se  #lower limit of the CI\n",
    "ucb = mean_fe + z* se  #upper limit of the CI\n",
    "lcb, ucb"
   ]
  },
  {
   "cell_type": "code",
   "execution_count": 72,
   "metadata": {},
   "outputs": [],
   "source": [
    "sns.set(rc={'figure.figsize':(13, 7.5)})\n",
    "sns.set_context('talk')"
   ]
  },
  {
   "cell_type": "code",
   "execution_count": 73,
   "metadata": {},
   "outputs": [],
   "source": [
    "np.random.seed(42)\n",
    "normal_distribution_us_male_mass_pounds = np.random.normal(loc=181, scale=24, size=6000)\n",
    "normal_distribution_us_female_mass_pounds = np.random.normal(loc=132, scale=22, size=6500)\n",
    "all_mass_values = np.concatenate((normal_distribution_us_male_mass_pounds, normal_distribution_us_female_mass_pounds), axis=0)\n",
    "df_ppl_mass = pd.DataFrame(data={'us_people_mass_pounds': all_mass_values})"
   ]
  },
  {
   "cell_type": "code",
   "execution_count": 74,
   "metadata": {},
   "outputs": [
    {
     "data": {
      "text/html": [
       "<div>\n",
       "<style scoped>\n",
       "    .dataframe tbody tr th:only-of-type {\n",
       "        vertical-align: middle;\n",
       "    }\n",
       "\n",
       "    .dataframe tbody tr th {\n",
       "        vertical-align: top;\n",
       "    }\n",
       "\n",
       "    .dataframe thead th {\n",
       "        text-align: right;\n",
       "    }\n",
       "</style>\n",
       "<table border=\"1\" class=\"dataframe\">\n",
       "  <thead>\n",
       "    <tr style=\"text-align: right;\">\n",
       "      <th></th>\n",
       "      <th>us_people_mass_pounds</th>\n",
       "    </tr>\n",
       "  </thead>\n",
       "  <tbody>\n",
       "    <tr>\n",
       "      <th>0</th>\n",
       "      <td>192.921140</td>\n",
       "    </tr>\n",
       "    <tr>\n",
       "      <th>1</th>\n",
       "      <td>177.681657</td>\n",
       "    </tr>\n",
       "    <tr>\n",
       "      <th>2</th>\n",
       "      <td>196.544525</td>\n",
       "    </tr>\n",
       "    <tr>\n",
       "      <th>3</th>\n",
       "      <td>217.552717</td>\n",
       "    </tr>\n",
       "    <tr>\n",
       "      <th>4</th>\n",
       "      <td>175.380319</td>\n",
       "    </tr>\n",
       "  </tbody>\n",
       "</table>\n",
       "</div>"
      ],
      "text/plain": [
       "   us_people_mass_pounds\n",
       "0             192.921140\n",
       "1             177.681657\n",
       "2             196.544525\n",
       "3             217.552717\n",
       "4             175.380319"
      ]
     },
     "execution_count": 74,
     "metadata": {},
     "output_type": "execute_result"
    }
   ],
   "source": [
    "df_ppl_mass.head()"
   ]
  },
  {
   "cell_type": "code",
   "execution_count": 75,
   "metadata": {},
   "outputs": [
    {
     "name": "stderr",
     "output_type": "stream",
     "text": [
      "C:\\Users\\ASUS\\AppData\\Local\\Temp\\ipykernel_9008\\3659307383.py:1: UserWarning: \n",
      "\n",
      "`distplot` is a deprecated function and will be removed in seaborn v0.14.0.\n",
      "\n",
      "Please adapt your code to use either `displot` (a figure-level function with\n",
      "similar flexibility) or `histplot` (an axes-level function for histograms).\n",
      "\n",
      "For a guide to updating your code to use the new functions, please see\n",
      "https://gist.github.com/mwaskom/de44147ed2974457ad6372750bbe5751\n",
      "\n",
      "  sns.distplot(df_ppl_mass['us_people_mass_pounds'], color=\"darkslategrey\")\n"
     ]
    },
    {
     "data": {
      "image/png": "[encoded data removed]",
      "text/plain": [
       "<Figure size 1300x750 with 1 Axes>"
      ]
     },
     "metadata": {},
     "output_type": "display_data"
    }
   ],
   "source": [
    "sns.distplot(df_ppl_mass['us_people_mass_pounds'], color=\"darkslategrey\")\n",
    "plt.xlabel(\"mass [pounds]\", labelpad=14)\n",
    "plt.ylabel(\"probability of occurence\", labelpad=14)\n",
    "plt.title(\"Distribution of Mass of People in U.S.\", y=1.015, fontsize=20);"
   ]
  },
  {
   "cell_type": "code",
   "execution_count": 76,
   "metadata": {},
   "outputs": [
    {
     "data": {
      "text/plain": [
       "155.42328059423372"
      ]
     },
     "execution_count": 76,
     "metadata": {},
     "output_type": "execute_result"
    }
   ],
   "source": [
    "# Calculation Population Mean\n",
    "pop_mean_mass = df_ppl_mass['us_people_mass_pounds'].mean()\n",
    "pop_mean_mass"
   ]
  },
  {
   "cell_type": "code",
   "execution_count": 77,
   "metadata": {},
   "outputs": [
    {
     "data": {
      "text/plain": [
       "33.58519088395858"
      ]
     },
     "execution_count": 77,
     "metadata": {},
     "output_type": "execute_result"
    }
   ],
   "source": [
    "# Calculate Population Standard Deviation\n",
    "pop_std_dev_mass = df_ppl_mass['us_people_mass_pounds'].std()\n",
    "pop_std_dev_mass"
   ]
  },
  {
   "cell_type": "code",
   "execution_count": 78,
   "metadata": {},
   "outputs": [],
   "source": [
    "# 12500 orang\n",
    "# 25 orang\n",
    "# 300 sample\n",
    "\n",
    "sample_means = []\n",
    "n = 25\n",
    "for sample in range(0, 300):\n",
    "    # random sampling done with replacement\n",
    "    sample_values = np.random.choice(a=df_ppl_mass['us_people_mass_pounds'], size=n)    \n",
    "    sample_mean = np.mean(sample_values)\n",
    "    sample_means.append(sample_mean)"
   ]
  },
  {
   "cell_type": "code",
   "execution_count": 79,
   "metadata": {},
   "outputs": [
    {
     "name": "stderr",
     "output_type": "stream",
     "text": [
      "C:\\Users\\ASUS\\AppData\\Local\\Temp\\ipykernel_9008\\3676932118.py:2: UserWarning: \n",
      "\n",
      "`distplot` is a deprecated function and will be removed in seaborn v0.14.0.\n",
      "\n",
      "Please adapt your code to use either `displot` (a figure-level function with\n",
      "similar flexibility) or `histplot` (an axes-level function for histograms).\n",
      "\n",
      "For a guide to updating your code to use the new functions, please see\n",
      "https://gist.github.com/mwaskom/de44147ed2974457ad6372750bbe5751\n",
      "\n",
      "  sns.distplot(sample_means)\n"
     ]
    },
    {
     "data": {
      "image/png": "[encoded data removed]",
      "text/plain": [
       "<Figure size 1300x750 with 1 Axes>"
      ]
     },
     "metadata": {},
     "output_type": "display_data"
    }
   ],
   "source": [
    "# View Distribution of Sample Means (Otherwise Called Sampling Distribution)\n",
    "sns.distplot(sample_means)\n",
    "plt.title(\"Distribution of Sample Means ($n=25$) of People's Mass in Pounds\", y=1.015, fontsize=20)\n",
    "plt.xlabel(\"sample mean mass [pounds]\", labelpad=14)\n",
    "plt.ylabel(\"frequency of occurence\", labelpad=14);"
   ]
  },
  {
   "cell_type": "code",
   "execution_count": 80,
   "metadata": {},
   "outputs": [
    {
     "data": {
      "text/plain": [
       "155.3008268518431"
      ]
     },
     "execution_count": 80,
     "metadata": {},
     "output_type": "execute_result"
    }
   ],
   "source": [
    "# Calculate Median of Sample Means\n",
    "median_of_sample_means = np.median(sample_means)\n",
    "median_of_sample_means"
   ]
  },
  {
   "cell_type": "code",
   "execution_count": 81,
   "metadata": {},
   "outputs": [
    {
     "data": {
      "text/plain": [
       "155.12418330193915"
      ]
     },
     "execution_count": 81,
     "metadata": {},
     "output_type": "execute_result"
    }
   ],
   "source": [
    "# Calculate Mean of Sample Means\n",
    "mean_of_sample_means = np.mean(sample_means)\n",
    "mean_of_sample_means"
   ]
  },
  {
   "cell_type": "code",
   "execution_count": 82,
   "metadata": {},
   "outputs": [
    {
     "data": {
      "text/plain": [
       "155.42328059423372"
      ]
     },
     "execution_count": 82,
     "metadata": {},
     "output_type": "execute_result"
    }
   ],
   "source": [
    "pop_mean_mass"
   ]
  },
  {
   "cell_type": "code",
   "execution_count": 83,
   "metadata": {},
   "outputs": [
    {
     "data": {
      "text/plain": [
       "6.734407481483423"
      ]
     },
     "execution_count": 83,
     "metadata": {},
     "output_type": "execute_result"
    }
   ],
   "source": [
    "# Calculate Standard Deviation of Sample Means\n",
    "std_dev_of_sample_means = np.std(sample_means)\n",
    "std_dev_of_sample_means"
   ]
  },
  {
   "cell_type": "code",
   "execution_count": 84,
   "metadata": {},
   "outputs": [
    {
     "data": {
      "text/plain": [
       "6.717038176791716"
      ]
     },
     "execution_count": 84,
     "metadata": {},
     "output_type": "execute_result"
    }
   ],
   "source": [
    "standard_error = pop_std_dev_mass/np.sqrt(n)\n",
    "standard_error"
   ]
  },
  {
   "attachments": {},
   "cell_type": "markdown",
   "metadata": {},
   "source": [
    "#### Critical Z-Scores"
   ]
  },
  {
   "cell_type": "code",
   "execution_count": 85,
   "metadata": {},
   "outputs": [
    {
     "data": {
      "text/plain": [
       "0.024997895148220484"
      ]
     },
     "execution_count": 85,
     "metadata": {},
     "output_type": "execute_result"
    }
   ],
   "source": [
    "tail = 1 - stats.norm.cdf(1.96)\n",
    "tail"
   ]
  },
  {
   "cell_type": "code",
   "execution_count": 86,
   "metadata": {},
   "outputs": [
    {
     "data": {
      "text/plain": [
       "0.950004209703559"
      ]
     },
     "execution_count": 86,
     "metadata": {},
     "output_type": "execute_result"
    }
   ],
   "source": [
    "# The area under the curve between the z-critcal scores is approximately 0.95\n",
    "1 - (tail * 2)"
   ]
  },
  {
   "cell_type": "code",
   "execution_count": 87,
   "metadata": {},
   "outputs": [
    {
     "data": {
      "text/plain": [
       "141.95878847542738"
      ]
     },
     "execution_count": 87,
     "metadata": {},
     "output_type": "execute_result"
    }
   ],
   "source": [
    "lower_95_perc_bound = mean_of_sample_means - 1.96*standard_error\n",
    "lower_95_perc_bound"
   ]
  },
  {
   "cell_type": "code",
   "execution_count": 88,
   "metadata": {},
   "outputs": [
    {
     "data": {
      "text/plain": [
       "168.28957812845093"
      ]
     },
     "execution_count": 88,
     "metadata": {},
     "output_type": "execute_result"
    }
   ],
   "source": [
    "upper_95_perc_bound = mean_of_sample_means + 1.96*standard_error\n",
    "upper_95_perc_bound"
   ]
  },
  {
   "cell_type": "code",
   "execution_count": 89,
   "metadata": {},
   "outputs": [
    {
     "data": {
      "image/png": "[encoded data removed]",
      "text/plain": [
       "<Figure size 1300x750 with 1 Axes>"
      ]
     },
     "metadata": {},
     "output_type": "display_data"
    }
   ],
   "source": [
    "kde = stats.gaussian_kde(sample_means)\n",
    "pos = np.linspace(np.min(sample_means), np.max(sample_means), 10000)\n",
    "plt.plot(pos, kde(pos), color='teal')\n",
    "shade = np.linspace(lower_95_perc_bound, upper_95_perc_bound, 300)\n",
    "plt.fill_between(shade, kde(shade), alpha=0.45, color='teal',)\n",
    "plt.text(x=154, y=.01, horizontalalignment='center', fontsize=17, \n",
    "         s=\"95% of sample means fall within\\nthis shaded area of plus or minus\\n1.96 z-scores from the mean\", \n",
    "         bbox=dict(facecolor='whitesmoke', boxstyle=\"round, pad=0.1\"))\n",
    "plt.title(\"Distribution of Sample Means ($n=25$) of People's Mass in Pounds\", y=1.015, fontsize=20)\n",
    "plt.xlabel(\"sample mean mass [pounds]\", labelpad=14)\n",
    "plt.ylabel(\"frequency of occurence\", labelpad=14);"
   ]
  },
  {
   "attachments": {},
   "cell_type": "markdown",
   "metadata": {},
   "source": [
    "#### One Population Proportion\n",
    "- Null Hypothesis: p = 0.52\n",
    "- Alternative Hypthosis: p > 0.52 (note that this is a one-sided test)\n"
   ]
  },
  {
   "cell_type": "code",
   "execution_count": 90,
   "metadata": {},
   "outputs": [],
   "source": [
    "n = 1018\n",
    "pnull = .52\n",
    "phat = .56"
   ]
  },
  {
   "cell_type": "code",
   "execution_count": 91,
   "metadata": {},
   "outputs": [
    {
     "data": {
      "text/plain": [
       "(2.571067795759113, 0.005069273865860533)"
      ]
     },
     "execution_count": 91,
     "metadata": {},
     "output_type": "execute_result"
    }
   ],
   "source": [
    "sm.stats.proportions_ztest(phat * n, n, pnull, alternative='larger')"
   ]
  },
  {
   "attachments": {},
   "cell_type": "markdown",
   "metadata": {},
   "source": [
    "p-value = 0.005069273865860533.\\\n",
    "Karena `p-value < alpha (0.05)`, maka H0 ditolak\n",
    "\n",
    "Meskipun, kita tidak menerima hipotesis alternatif, secara informal berarti bahwa ada kemungkinan besar proporsi ini lebih dari 52%."
   ]
  },
  {
   "attachments": {},
   "cell_type": "markdown",
   "metadata": {},
   "source": [
    "#### Difference in Population Means\n",
    "- Null Hypothesis: μ1=μ2\n",
    "- Alternative Hypthosis: μ1≠μ2"
   ]
  },
  {
   "cell_type": "code",
   "execution_count": 92,
   "metadata": {},
   "outputs": [
    {
     "data": {
      "text/html": [
       "<div>\n",
       "<style scoped>\n",
       "    .dataframe tbody tr th:only-of-type {\n",
       "        vertical-align: middle;\n",
       "    }\n",
       "\n",
       "    .dataframe tbody tr th {\n",
       "        vertical-align: top;\n",
       "    }\n",
       "\n",
       "    .dataframe thead th {\n",
       "        text-align: right;\n",
       "    }\n",
       "</style>\n",
       "<table border=\"1\" class=\"dataframe\">\n",
       "  <thead>\n",
       "    <tr style=\"text-align: right;\">\n",
       "      <th></th>\n",
       "      <th>SEQN</th>\n",
       "      <th>ALQ101</th>\n",
       "      <th>ALQ110</th>\n",
       "      <th>ALQ130</th>\n",
       "      <th>SMQ020</th>\n",
       "      <th>RIAGENDR</th>\n",
       "      <th>RIDAGEYR</th>\n",
       "      <th>RIDRETH1</th>\n",
       "      <th>DMDCITZN</th>\n",
       "      <th>DMDEDUC2</th>\n",
       "      <th>...</th>\n",
       "      <th>BPXSY2</th>\n",
       "      <th>BPXDI2</th>\n",
       "      <th>BMXWT</th>\n",
       "      <th>BMXHT</th>\n",
       "      <th>BMXBMI</th>\n",
       "      <th>BMXLEG</th>\n",
       "      <th>BMXARML</th>\n",
       "      <th>BMXARMC</th>\n",
       "      <th>BMXWAIST</th>\n",
       "      <th>HIQ210</th>\n",
       "    </tr>\n",
       "  </thead>\n",
       "  <tbody>\n",
       "    <tr>\n",
       "      <th>0</th>\n",
       "      <td>83732</td>\n",
       "      <td>1.0</td>\n",
       "      <td>NaN</td>\n",
       "      <td>1.0</td>\n",
       "      <td>1</td>\n",
       "      <td>1</td>\n",
       "      <td>62</td>\n",
       "      <td>3</td>\n",
       "      <td>1.0</td>\n",
       "      <td>5.0</td>\n",
       "      <td>...</td>\n",
       "      <td>124.0</td>\n",
       "      <td>64.0</td>\n",
       "      <td>94.8</td>\n",
       "      <td>184.5</td>\n",
       "      <td>27.8</td>\n",
       "      <td>43.3</td>\n",
       "      <td>43.6</td>\n",
       "      <td>35.9</td>\n",
       "      <td>101.1</td>\n",
       "      <td>2.0</td>\n",
       "    </tr>\n",
       "    <tr>\n",
       "      <th>1</th>\n",
       "      <td>83733</td>\n",
       "      <td>1.0</td>\n",
       "      <td>NaN</td>\n",
       "      <td>6.0</td>\n",
       "      <td>1</td>\n",
       "      <td>1</td>\n",
       "      <td>53</td>\n",
       "      <td>3</td>\n",
       "      <td>2.0</td>\n",
       "      <td>3.0</td>\n",
       "      <td>...</td>\n",
       "      <td>140.0</td>\n",
       "      <td>88.0</td>\n",
       "      <td>90.4</td>\n",
       "      <td>171.4</td>\n",
       "      <td>30.8</td>\n",
       "      <td>38.0</td>\n",
       "      <td>40.0</td>\n",
       "      <td>33.2</td>\n",
       "      <td>107.9</td>\n",
       "      <td>NaN</td>\n",
       "    </tr>\n",
       "    <tr>\n",
       "      <th>2</th>\n",
       "      <td>83734</td>\n",
       "      <td>1.0</td>\n",
       "      <td>NaN</td>\n",
       "      <td>NaN</td>\n",
       "      <td>1</td>\n",
       "      <td>1</td>\n",
       "      <td>78</td>\n",
       "      <td>3</td>\n",
       "      <td>1.0</td>\n",
       "      <td>3.0</td>\n",
       "      <td>...</td>\n",
       "      <td>132.0</td>\n",
       "      <td>44.0</td>\n",
       "      <td>83.4</td>\n",
       "      <td>170.1</td>\n",
       "      <td>28.8</td>\n",
       "      <td>35.6</td>\n",
       "      <td>37.0</td>\n",
       "      <td>31.0</td>\n",
       "      <td>116.5</td>\n",
       "      <td>2.0</td>\n",
       "    </tr>\n",
       "    <tr>\n",
       "      <th>3</th>\n",
       "      <td>83735</td>\n",
       "      <td>2.0</td>\n",
       "      <td>1.0</td>\n",
       "      <td>1.0</td>\n",
       "      <td>2</td>\n",
       "      <td>2</td>\n",
       "      <td>56</td>\n",
       "      <td>3</td>\n",
       "      <td>1.0</td>\n",
       "      <td>5.0</td>\n",
       "      <td>...</td>\n",
       "      <td>134.0</td>\n",
       "      <td>68.0</td>\n",
       "      <td>109.8</td>\n",
       "      <td>160.9</td>\n",
       "      <td>42.4</td>\n",
       "      <td>38.5</td>\n",
       "      <td>37.7</td>\n",
       "      <td>38.3</td>\n",
       "      <td>110.1</td>\n",
       "      <td>2.0</td>\n",
       "    </tr>\n",
       "    <tr>\n",
       "      <th>4</th>\n",
       "      <td>83736</td>\n",
       "      <td>2.0</td>\n",
       "      <td>1.0</td>\n",
       "      <td>1.0</td>\n",
       "      <td>2</td>\n",
       "      <td>2</td>\n",
       "      <td>42</td>\n",
       "      <td>4</td>\n",
       "      <td>1.0</td>\n",
       "      <td>4.0</td>\n",
       "      <td>...</td>\n",
       "      <td>114.0</td>\n",
       "      <td>54.0</td>\n",
       "      <td>55.2</td>\n",
       "      <td>164.9</td>\n",
       "      <td>20.3</td>\n",
       "      <td>37.4</td>\n",
       "      <td>36.0</td>\n",
       "      <td>27.2</td>\n",
       "      <td>80.4</td>\n",
       "      <td>2.0</td>\n",
       "    </tr>\n",
       "  </tbody>\n",
       "</table>\n",
       "<p>5 rows × 28 columns</p>\n",
       "</div>"
      ],
      "text/plain": [
       "    SEQN  ALQ101  ALQ110  ALQ130  SMQ020  RIAGENDR  RIDAGEYR  RIDRETH1  \\\n",
       "0  83732     1.0     NaN     1.0       1         1        62         3   \n",
       "1  83733     1.0     NaN     6.0       1         1        53         3   \n",
       "2  83734     1.0     NaN     NaN       1         1        78         3   \n",
       "3  83735     2.0     1.0     1.0       2         2        56         3   \n",
       "4  83736     2.0     1.0     1.0       2         2        42         4   \n",
       "\n",
       "   DMDCITZN  DMDEDUC2  ...  BPXSY2  BPXDI2  BMXWT  BMXHT  BMXBMI  BMXLEG  \\\n",
       "0       1.0       5.0  ...   124.0    64.0   94.8  184.5    27.8    43.3   \n",
       "1       2.0       3.0  ...   140.0    88.0   90.4  171.4    30.8    38.0   \n",
       "2       1.0       3.0  ...   132.0    44.0   83.4  170.1    28.8    35.6   \n",
       "3       1.0       5.0  ...   134.0    68.0  109.8  160.9    42.4    38.5   \n",
       "4       1.0       4.0  ...   114.0    54.0   55.2  164.9    20.3    37.4   \n",
       "\n",
       "   BMXARML  BMXARMC  BMXWAIST  HIQ210  \n",
       "0     43.6     35.9     101.1     2.0  \n",
       "1     40.0     33.2     107.9     NaN  \n",
       "2     37.0     31.0     116.5     2.0  \n",
       "3     37.7     38.3     110.1     2.0  \n",
       "4     36.0     27.2      80.4     2.0  \n",
       "\n",
       "[5 rows x 28 columns]"
      ]
     },
     "execution_count": 92,
     "metadata": {},
     "output_type": "execute_result"
    }
   ],
   "source": [
    "url = \"https://raw.githubusercontent.com/ardhiraka/PFDS_sources/master/nhanes_2015_2016.csv\"\n",
    "da = pd.read_csv(url)\n",
    "da.head()"
   ]
  },
  {
   "cell_type": "code",
   "execution_count": 93,
   "metadata": {},
   "outputs": [],
   "source": [
    "females = da[da[\"RIAGENDR\"] == 2]\n",
    "male = da[da[\"RIAGENDR\"] == 1]"
   ]
  },
  {
   "cell_type": "code",
   "execution_count": 94,
   "metadata": {},
   "outputs": [
    {
     "data": {
      "text/plain": [
       "(2976, 29.93994565217392, 7.753318809545674)"
      ]
     },
     "execution_count": 94,
     "metadata": {},
     "output_type": "execute_result"
    }
   ],
   "source": [
    "n1 = len(females)\n",
    "mu1 = females[\"BMXBMI\"].mean()\n",
    "sd1 = females[\"BMXBMI\"].std()\n",
    "\n",
    "(n1, mu1, sd1)\n"
   ]
  },
  {
   "cell_type": "code",
   "execution_count": 95,
   "metadata": {},
   "outputs": [
    {
     "data": {
      "text/plain": [
       "(2759, 28.778072111846942, 6.2525676168014614)"
      ]
     },
     "execution_count": 95,
     "metadata": {},
     "output_type": "execute_result"
    }
   ],
   "source": [
    "n2 = len(male)\n",
    "mu2 = male[\"BMXBMI\"].mean()\n",
    "sd2 = male[\"BMXBMI\"].std()\n",
    "(n2, mu2, sd2)"
   ]
  },
  {
   "cell_type": "code",
   "execution_count": 96,
   "metadata": {},
   "outputs": [
    {
     "data": {
      "text/plain": [
       "(6.1755933531383205, 6.591544431126401e-10)"
      ]
     },
     "execution_count": 96,
     "metadata": {},
     "output_type": "execute_result"
    }
   ],
   "source": [
    "sm.stats.ztest(females[\"BMXBMI\"].dropna(), male[\"BMXBMI\"].dropna(),alternative='two-sided')"
   ]
  },
  {
   "attachments": {},
   "cell_type": "markdown",
   "metadata": {},
   "source": [
    "p-value = 6.591544431126401e-10 \\\n",
    "Karena `p-value < alpha (0.05)`, maka H0 ditolak.\n",
    "\n",
    "Sehingga kemungkinan besar, rata-rata BMI laki-laki tidak sama dengan perempuan"
   ]
  },
  {
   "cell_type": "code",
   "execution_count": 97,
   "metadata": {},
   "outputs": [
    {
     "data": {
      "image/png": "[encoded data removed]",
      "text/plain": [
       "<Figure size 700x400 with 1 Axes>"
      ]
     },
     "metadata": {},
     "output_type": "display_data"
    },
    {
     "data": {
      "image/png": "[encoded data removed]",
      "text/plain": [
       "<Figure size 700x400 with 1 Axes>"
      ]
     },
     "metadata": {},
     "output_type": "display_data"
    }
   ],
   "source": [
    "plt.figure(figsize=(7,4))\n",
    "plt.title(\"Female BMI histogram\",fontsize=16)\n",
    "plt.hist(females[\"BMXBMI\"].dropna(),edgecolor='k',color='pink',bins=25)\n",
    "plt.show()\n",
    "\n",
    "plt.figure(figsize=(7,4))\n",
    "plt.title(\"Male BMI histogram\",fontsize=16)\n",
    "plt.hist(male[\"BMXBMI\"].dropna(),edgecolor='k',color='blue',bins=25)\n",
    "plt.show()"
   ]
  },
  {
   "attachments": {},
   "cell_type": "markdown",
   "metadata": {},
   "source": [
    "#### Hypothesis Testing for One Proportion\n",
    "\n",
    "The population proportion of Ireland having heart disease is 42%. Are more people suffering from heart disease in the US”\n",
    "- Ho: p0 = 0.42\n",
    "- Ha: p > 0.42"
   ]
  },
  {
   "cell_type": "code",
   "execution_count": 98,
   "metadata": {},
   "outputs": [
    {
     "data": {
      "text/html": [
       "<div>\n",
       "<style scoped>\n",
       "    .dataframe tbody tr th:only-of-type {\n",
       "        vertical-align: middle;\n",
       "    }\n",
       "\n",
       "    .dataframe tbody tr th {\n",
       "        vertical-align: top;\n",
       "    }\n",
       "\n",
       "    .dataframe thead th {\n",
       "        text-align: right;\n",
       "    }\n",
       "</style>\n",
       "<table border=\"1\" class=\"dataframe\">\n",
       "  <thead>\n",
       "    <tr style=\"text-align: right;\">\n",
       "      <th></th>\n",
       "      <th>age</th>\n",
       "      <th>sex</th>\n",
       "      <th>cp</th>\n",
       "      <th>trestbps</th>\n",
       "      <th>chol</th>\n",
       "      <th>fbs</th>\n",
       "      <th>restecg</th>\n",
       "      <th>thalach</th>\n",
       "      <th>exang</th>\n",
       "      <th>oldpeak</th>\n",
       "      <th>slope</th>\n",
       "      <th>ca</th>\n",
       "      <th>thal</th>\n",
       "      <th>target</th>\n",
       "    </tr>\n",
       "  </thead>\n",
       "  <tbody>\n",
       "    <tr>\n",
       "      <th>0</th>\n",
       "      <td>52</td>\n",
       "      <td>1</td>\n",
       "      <td>0</td>\n",
       "      <td>125</td>\n",
       "      <td>212</td>\n",
       "      <td>0</td>\n",
       "      <td>1</td>\n",
       "      <td>168</td>\n",
       "      <td>0</td>\n",
       "      <td>1.0</td>\n",
       "      <td>2</td>\n",
       "      <td>2</td>\n",
       "      <td>3</td>\n",
       "      <td>0</td>\n",
       "    </tr>\n",
       "    <tr>\n",
       "      <th>1</th>\n",
       "      <td>53</td>\n",
       "      <td>1</td>\n",
       "      <td>0</td>\n",
       "      <td>140</td>\n",
       "      <td>203</td>\n",
       "      <td>1</td>\n",
       "      <td>0</td>\n",
       "      <td>155</td>\n",
       "      <td>1</td>\n",
       "      <td>3.1</td>\n",
       "      <td>0</td>\n",
       "      <td>0</td>\n",
       "      <td>3</td>\n",
       "      <td>0</td>\n",
       "    </tr>\n",
       "    <tr>\n",
       "      <th>2</th>\n",
       "      <td>70</td>\n",
       "      <td>1</td>\n",
       "      <td>0</td>\n",
       "      <td>145</td>\n",
       "      <td>174</td>\n",
       "      <td>0</td>\n",
       "      <td>1</td>\n",
       "      <td>125</td>\n",
       "      <td>1</td>\n",
       "      <td>2.6</td>\n",
       "      <td>0</td>\n",
       "      <td>0</td>\n",
       "      <td>3</td>\n",
       "      <td>0</td>\n",
       "    </tr>\n",
       "    <tr>\n",
       "      <th>3</th>\n",
       "      <td>61</td>\n",
       "      <td>1</td>\n",
       "      <td>0</td>\n",
       "      <td>148</td>\n",
       "      <td>203</td>\n",
       "      <td>0</td>\n",
       "      <td>1</td>\n",
       "      <td>161</td>\n",
       "      <td>0</td>\n",
       "      <td>0.0</td>\n",
       "      <td>2</td>\n",
       "      <td>1</td>\n",
       "      <td>3</td>\n",
       "      <td>0</td>\n",
       "    </tr>\n",
       "    <tr>\n",
       "      <th>4</th>\n",
       "      <td>62</td>\n",
       "      <td>0</td>\n",
       "      <td>0</td>\n",
       "      <td>138</td>\n",
       "      <td>294</td>\n",
       "      <td>1</td>\n",
       "      <td>1</td>\n",
       "      <td>106</td>\n",
       "      <td>0</td>\n",
       "      <td>1.9</td>\n",
       "      <td>1</td>\n",
       "      <td>3</td>\n",
       "      <td>2</td>\n",
       "      <td>0</td>\n",
       "    </tr>\n",
       "  </tbody>\n",
       "</table>\n",
       "</div>"
      ],
      "text/plain": [
       "   age  sex  cp  trestbps  chol  fbs  restecg  thalach  exang  oldpeak  slope  \\\n",
       "0   52    1   0       125   212    0        1      168      0      1.0      2   \n",
       "1   53    1   0       140   203    1        0      155      1      3.1      0   \n",
       "2   70    1   0       145   174    0        1      125      1      2.6      0   \n",
       "3   61    1   0       148   203    0        1      161      0      0.0      2   \n",
       "4   62    0   0       138   294    1        1      106      0      1.9      1   \n",
       "\n",
       "   ca  thal  target  \n",
       "0   2     3       0  \n",
       "1   0     3       0  \n",
       "2   0     3       0  \n",
       "3   1     3       0  \n",
       "4   3     2       0  "
      ]
     },
     "execution_count": 98,
     "metadata": {},
     "output_type": "execute_result"
    }
   ],
   "source": [
    "df = pd.read_csv('data/heart.csv')\n",
    "df.head()\n"
   ]
  },
  {
   "cell_type": "code",
   "execution_count": 99,
   "metadata": {},
   "outputs": [
    {
     "data": {
      "text/plain": [
       "0.5131707317073171"
      ]
     },
     "execution_count": 99,
     "metadata": {},
     "output_type": "execute_result"
    }
   ],
   "source": [
    "p_us = len(df[df['target']==1])/len(df)\n",
    "p_us"
   ]
  },
  {
   "cell_type": "code",
   "execution_count": 100,
   "metadata": {},
   "outputs": [
    {
     "data": {
      "text/plain": [
       "0.015416177755376521"
      ]
     },
     "execution_count": 100,
     "metadata": {},
     "output_type": "execute_result"
    }
   ],
   "source": [
    "se = np.sqrt(0.42 * (1-0.42) / len(df))\n",
    "se"
   ]
  },
  {
   "cell_type": "code",
   "execution_count": 101,
   "metadata": {},
   "outputs": [
    {
     "data": {
      "text/plain": [
       "6.04369858636477"
      ]
     },
     "execution_count": 101,
     "metadata": {},
     "output_type": "execute_result"
    }
   ],
   "source": [
    "#Best estimate\n",
    "be = p_us\n",
    "\n",
    "#hypothesized estimate\n",
    "he = 0.42\n",
    "test_stat = (be - he)/se\n",
    "\n",
    "test_stat"
   ]
  },
  {
   "cell_type": "code",
   "execution_count": 102,
   "metadata": {},
   "outputs": [
    {
     "data": {
      "text/plain": [
       "1.5062078087269162e-09"
      ]
     },
     "execution_count": 102,
     "metadata": {},
     "output_type": "execute_result"
    }
   ],
   "source": [
    "pvalue = 2*dist.norm.cdf(-np.abs(test_stat))\n",
    "pvalue"
   ]
  },
  {
   "attachments": {},
   "cell_type": "markdown",
   "metadata": {},
   "source": [
    "p-value = 1.5062078087269162e-09 \\\n",
    "Karena `p-value < alpha (0.05)`, maka H0 ditolak.\n",
    "\n",
    "Sehingga kemungkinan besar, terdapat perbedaan yang signifikan dalam proporsi penduduk yang menderita penyakit jantung di Irlandia dan US.\n"
   ]
  },
  {
   "attachments": {},
   "cell_type": "markdown",
   "metadata": {},
   "source": [
    "#### Shapiro-Wilk Test"
   ]
  },
  {
   "cell_type": "code",
   "execution_count": 103,
   "metadata": {},
   "outputs": [
    {
     "name": "stdout",
     "output_type": "stream",
     "text": [
      "stat=0.895, p=0.193\n",
      "Probably Gaussian\n"
     ]
    }
   ],
   "source": [
    "# Example of the Shapiro-Wilk Normality Test\n",
    "\n",
    "from scipy.stats import shapiro\n",
    "data = [0.873, 2.817, 0.121, -0.945, -0.055, -1.436, 0.360, -1.478, -1.637, -1.869]\n",
    "stat, p = shapiro(data)\n",
    "print('stat=%.3f, p=%.3f' % (stat, p))\n",
    "if p > 0.05:\n",
    "    print('Probably Gaussian')\n",
    "else:\n",
    "    print('Probably not Gaussian')"
   ]
  },
  {
   "attachments": {},
   "cell_type": "markdown",
   "metadata": {},
   "source": [
    "#### D’Agostino’s K^2 Test"
   ]
  },
  {
   "cell_type": "code",
   "execution_count": 104,
   "metadata": {},
   "outputs": [
    {
     "name": "stdout",
     "output_type": "stream",
     "text": [
      "stat=3.392, p=0.183\n",
      "Probably Gaussian\n"
     ]
    },
    {
     "name": "stderr",
     "output_type": "stream",
     "text": [
      "c:\\Users\\ASUS\\AppData\\Local\\Programs\\Python\\Python311\\Lib\\site-packages\\scipy\\stats\\_stats_py.py:1736: UserWarning: kurtosistest only valid for n>=20 ... continuing anyway, n=10\n",
      "  warnings.warn(\"kurtosistest only valid for n>=20 ... continuing \"\n"
     ]
    }
   ],
   "source": [
    "# Example of the D'Agostino's K^2 Normality Test\n",
    "from scipy.stats import normaltest\n",
    "data = [0.873, 2.817, 0.121, -0.945, -0.055, -1.436, 0.360, -1.478, -1.637, -1.869]\n",
    "stat, p = normaltest(data)\n",
    "print('stat=%.3f, p=%.3f' % (stat, p))\n",
    "if p > 0.05:\n",
    "    print('Probably Gaussian')\n",
    "else:\n",
    "    print('Probably not Gaussian')"
   ]
  }
 ],
 "metadata": {
  "kernelspec": {
   "display_name": "Python 3",
   "language": "python",
   "name": "python3"
  },
  "language_info": {
   "codemirror_mode": {
    "name": "ipython",
    "version": 3
   },
   "file_extension": ".py",
   "mimetype": "text/x-python",
   "name": "python",
   "nbconvert_exporter": "python",
   "pygments_lexer": "ipython3",
   "version": "3.11.2"
  },
  "orig_nbformat": 4
 },
 "nbformat": 4,
 "nbformat_minor": 2
}
