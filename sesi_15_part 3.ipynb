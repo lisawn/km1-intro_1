{
  "cells": [
    {
      "attachments": {},
      "cell_type": "markdown",
      "metadata": {
        "id": "az08qa37dEYx"
      },
      "source": [
        "# A. Outliers Explanation"
      ]
    },
    {
      "attachments": {},
      "cell_type": "markdown",
      "metadata": {
        "id": "L4Avk_GWQXOd"
      },
      "source": [
        "## Purpose\n",
        "\n",
        "We will:\n",
        "\n",
        "- Identify outliers in Normally distributed variables.\n",
        "- Identify outliers in skewed variables."
      ]
    },
    {
      "cell_type": "code",
      "execution_count": 2,
      "metadata": {
        "id": "HnKs2y8sQXOd"
      },
      "outputs": [],
      "source": [
        "import pandas as pd\n",
        "import numpy as np\n",
        "import matplotlib.pyplot as plt\n",
        "import seaborn as sns\n",
        "import scipy.stats as stats"
      ]
    },
    {
      "cell_type": "code",
      "execution_count": 3,
      "metadata": {
        "colab": {
          "base_uri": "https://localhost:8080/",
          "height": 206
        },
        "id": "oOiYcRq8QXOe",
        "outputId": "77a4198f-e9d8-41e5-d0c7-67d25272591e"
      },
      "outputs": [
        {
          "data": {
            "text/html": [
              "<div>\n",
              "<style scoped>\n",
              "    .dataframe tbody tr th:only-of-type {\n",
              "        vertical-align: middle;\n",
              "    }\n",
              "\n",
              "    .dataframe tbody tr th {\n",
              "        vertical-align: top;\n",
              "    }\n",
              "\n",
              "    .dataframe thead th {\n",
              "        text-align: right;\n",
              "    }\n",
              "</style>\n",
              "<table border=\"1\" class=\"dataframe\">\n",
              "  <thead>\n",
              "    <tr style=\"text-align: right;\">\n",
              "      <th></th>\n",
              "      <th>RM</th>\n",
              "      <th>LSTAT</th>\n",
              "      <th>CRIM</th>\n",
              "    </tr>\n",
              "  </thead>\n",
              "  <tbody>\n",
              "    <tr>\n",
              "      <th>0</th>\n",
              "      <td>6.575</td>\n",
              "      <td>4.98</td>\n",
              "      <td>0.00632</td>\n",
              "    </tr>\n",
              "    <tr>\n",
              "      <th>1</th>\n",
              "      <td>6.421</td>\n",
              "      <td>9.14</td>\n",
              "      <td>0.02731</td>\n",
              "    </tr>\n",
              "    <tr>\n",
              "      <th>2</th>\n",
              "      <td>7.185</td>\n",
              "      <td>4.03</td>\n",
              "      <td>0.02729</td>\n",
              "    </tr>\n",
              "    <tr>\n",
              "      <th>3</th>\n",
              "      <td>6.998</td>\n",
              "      <td>2.94</td>\n",
              "      <td>0.03237</td>\n",
              "    </tr>\n",
              "    <tr>\n",
              "      <th>4</th>\n",
              "      <td>7.147</td>\n",
              "      <td>5.33</td>\n",
              "      <td>0.06905</td>\n",
              "    </tr>\n",
              "  </tbody>\n",
              "</table>\n",
              "</div>"
            ],
            "text/plain": [
              "      RM  LSTAT     CRIM\n",
              "0  6.575   4.98  0.00632\n",
              "1  6.421   9.14  0.02731\n",
              "2  7.185   4.03  0.02729\n",
              "3  6.998   2.94  0.03237\n",
              "4  7.147   5.33  0.06905"
            ]
          },
          "execution_count": 3,
          "metadata": {},
          "output_type": "execute_result"
        }
      ],
      "source": [
        "# Load the Boston House dataset from sklearn\n",
        "boston_dataset = pd.read_csv('https://raw.githubusercontent.com/ardhiraka/FSDS_Guidelines/master/p1/v3/w1/P1W1D2PM%20-%20Feature%20Engineering%20-%20Part%202%20-%20Boston.csv')\n",
        "\n",
        "# Create a dataframe with the independent variables\n",
        "# Legends : \n",
        "  # - CRIM     per capita crime rate by town\n",
        "  # - RM       average number of rooms per dwelling\n",
        "  # - LSTAT    % lower status of the population\n",
        "\n",
        "boston = boston_dataset[['RM', 'LSTAT', 'CRIM']]\n",
        "boston.head()"
      ]
    },
    {
      "cell_type": "code",
      "execution_count": 4,
      "metadata": {
        "colab": {
          "base_uri": "https://localhost:8080/",
          "height": 442
        },
        "id": "jLySi_ySQXOe",
        "outputId": "28b85841-6a6f-4e7e-f699-10effa30b815"
      },
      "outputs": [
        {
          "name": "stdout",
          "output_type": "stream",
          "text": [
            "Shape data :  (1309, 2) \n",
            "\n",
            "<class 'pandas.core.frame.DataFrame'>\n",
            "RangeIndex: 1309 entries, 0 to 1308\n",
            "Data columns (total 2 columns):\n",
            " #   Column  Non-Null Count  Dtype  \n",
            "---  ------  --------------  -----  \n",
            " 0   age     1046 non-null   float64\n",
            " 1   fare    1308 non-null   float64\n",
            "dtypes: float64(2)\n",
            "memory usage: 20.6 KB\n",
            "None \n",
            "\n"
          ]
        },
        {
          "data": {
            "text/html": [
              "<div>\n",
              "<style scoped>\n",
              "    .dataframe tbody tr th:only-of-type {\n",
              "        vertical-align: middle;\n",
              "    }\n",
              "\n",
              "    .dataframe tbody tr th {\n",
              "        vertical-align: top;\n",
              "    }\n",
              "\n",
              "    .dataframe thead th {\n",
              "        text-align: right;\n",
              "    }\n",
              "</style>\n",
              "<table border=\"1\" class=\"dataframe\">\n",
              "  <thead>\n",
              "    <tr style=\"text-align: right;\">\n",
              "      <th></th>\n",
              "      <th>age</th>\n",
              "      <th>fare</th>\n",
              "    </tr>\n",
              "  </thead>\n",
              "  <tbody>\n",
              "    <tr>\n",
              "      <th>0</th>\n",
              "      <td>29.0000</td>\n",
              "      <td>211.3375</td>\n",
              "    </tr>\n",
              "    <tr>\n",
              "      <th>1</th>\n",
              "      <td>0.9167</td>\n",
              "      <td>151.5500</td>\n",
              "    </tr>\n",
              "    <tr>\n",
              "      <th>2</th>\n",
              "      <td>2.0000</td>\n",
              "      <td>151.5500</td>\n",
              "    </tr>\n",
              "    <tr>\n",
              "      <th>3</th>\n",
              "      <td>30.0000</td>\n",
              "      <td>151.5500</td>\n",
              "    </tr>\n",
              "    <tr>\n",
              "      <th>4</th>\n",
              "      <td>25.0000</td>\n",
              "      <td>151.5500</td>\n",
              "    </tr>\n",
              "  </tbody>\n",
              "</table>\n",
              "</div>"
            ],
            "text/plain": [
              "       age      fare\n",
              "0  29.0000  211.3375\n",
              "1   0.9167  151.5500\n",
              "2   2.0000  151.5500\n",
              "3  30.0000  151.5500\n",
              "4  25.0000  151.5500"
            ]
          },
          "execution_count": 4,
          "metadata": {},
          "output_type": "execute_result"
        }
      ],
      "source": [
        "# Load the Titanic dataset\n",
        "\n",
        "url = 'https://www.openml.org/data/get_csv/16826755/phpMYEkMl'\n",
        "titanic = pd.read_csv(url, usecols=['age', 'fare'])\n",
        "\n",
        "# The variables age and fare have missing values. For this missing value, let's remove them.\n",
        "titanic.dropna(subset=['age', 'fare'], inplace=True)\n",
        "titanic['age'] = pd.to_numeric(titanic['age'], errors = 'coerce')\n",
        "titanic['fare'] = pd.to_numeric(titanic['fare'], errors = 'coerce')\n",
        "titanic['age'] = titanic['age'].astype(float)\n",
        "titanic['fare'] = titanic['fare'].astype(float)\n",
        "\n",
        "print('Shape data : ', titanic.shape, '\\n')\n",
        "print(titanic.info(), '\\n')\n",
        "titanic.head()"
      ]
    },
    {
      "attachments": {},
      "cell_type": "markdown",
      "metadata": {
        "id": "aOz9-7RRQXOf"
      },
      "source": [
        "## Identify variable distribution\n",
        "\n",
        "In Normally distributed variables, outliers are those values that lie beyond the mean plus or minus 3 times the standard deviation. If the variables are skewed however, we find outliers using the inter-quantile range. In order to decide which method to utilise to detect outliers, we first need to know the distribution of the variable.\n",
        "\n",
        "We can use histograms to determine if the variable is normally distributed. We can also use boxplots to directly visualise the outliers. Boxplots are a standard way of displaying the distribution of a variable utilising the first quartile, the median, the third quartile and the whiskers.\n",
        "\n",
        "Looking at a boxplot, you can easily identify:\n",
        "\n",
        "- The median, indicated by the line within the box.\n",
        "- The inter-quantile range (IQR), the box itself.\n",
        "- The quantiles, 25th (Q1) is the lower and 75th (Q3) the upper end of the box.\n",
        "- The wiskers, which extend to: \n",
        "  -- top whisker: Q3 + 1.5 x IQR\n",
        "  -- bottom whisker: Q1 -1.5 x IQR\n",
        "\n",
        "Any value sitting outside the whiskers is considered an outlier. Let's look at the examples below."
      ]
    },
    {
      "cell_type": "code",
      "execution_count": 5,
      "metadata": {
        "id": "qsSqTBTwQXOf"
      },
      "outputs": [],
      "source": [
        "# Function to create histogram and boxplot.\n",
        "# This functions takes a dataframe (df) and the variable of interest as arguments.\n",
        "\n",
        "def diagnostic_plots(df, variable):\n",
        "    # Define figure size\n",
        "    plt.figure(figsize=(16, 4))\n",
        "\n",
        "    # Histogram\n",
        "    plt.subplot(1, 2, 1)\n",
        "    sns.histplot(df[variable], bins=30)\n",
        "    plt.title('Histogram')\n",
        "\n",
        "    # Boxplot\n",
        "    plt.subplot(1, 2, 2)\n",
        "    sns.boxplot(y=df[variable])\n",
        "    plt.title('Boxplot')\n",
        "\n",
        "    plt.show()"
      ]
    },
    {
      "attachments": {},
      "cell_type": "markdown",
      "metadata": {
        "id": "FdzNiJyfQXOg"
      },
      "source": [
        "### Normally distributed variables"
      ]
    },
    {
      "cell_type": "code",
      "execution_count": 6,
      "metadata": {
        "colab": {
          "base_uri": "https://localhost:8080/",
          "height": 388
        },
        "id": "qmBzeUMrQXOg",
        "outputId": "1cc6a81c-0e1f-4a1a-8fbf-b19c57d2eb98"
      },
      "outputs": [
        {
          "data": {
            "image/png": "[encoded data removed]",
            "text/plain": [
              "<Figure size 1600x400 with 2 Axes>"
            ]
          },
          "metadata": {},
          "output_type": "display_data"
        },
        {
          "name": "stdout",
          "output_type": "stream",
          "text": [
            "\n",
            "Skewness Value :  0.40361213328874385\n"
          ]
        }
      ],
      "source": [
        "# Let's start with the variable RM from the Boston House dataset.\n",
        "# RM is the average number of rooms per dwelling\n",
        "\n",
        "diagnostic_plots(boston, 'RM')\n",
        "print('\\nSkewness Value : ', boston['RM'].skew())"
      ]
    },
    {
      "attachments": {},
      "cell_type": "markdown",
      "metadata": {
        "id": "P2pWu2YVQXOh"
      },
      "source": [
        "From the histogram, we see that the variable rm approximates a Gaussian distribution quite well. In the boxplot, we see that the variable could have outliers, as there are many dots sitting outside the whiskers, at both tails of the distribution."
      ]
    },
    {
      "cell_type": "code",
      "execution_count": 7,
      "metadata": {
        "colab": {
          "base_uri": "https://localhost:8080/",
          "height": 386
        },
        "id": "wDVyYwUkQXOh",
        "outputId": "4d377c08-b840-4be6-8d3a-260c68101b8e"
      },
      "outputs": [
        {
          "data": {
            "image/png": "[encoded data removed]",
            "text/plain": [
              "<Figure size 1600x400 with 2 Axes>"
            ]
          },
          "metadata": {},
          "output_type": "display_data"
        },
        {
          "name": "stdout",
          "output_type": "stream",
          "text": [
            "\n",
            "Skewness Value :  0.4076718864978293\n"
          ]
        }
      ],
      "source": [
        "# let's inspect now the variable Age from the titanic\n",
        "# refers to the age of the passengers on board\n",
        "\n",
        "diagnostic_plots(titanic, 'age')\n",
        "print('\\nSkewness Value : ', titanic['age'].skew())"
      ]
    },
    {
      "attachments": {},
      "cell_type": "markdown",
      "metadata": {
        "id": "CuU0AUTZQXOh"
      },
      "source": [
        "From the histogram, we see that the variable approximates fairly well a Gaussian distribution. There is a deviation from the distribution towards the smaller values of age. In the boxplot, we can see that the variable could have outliers, as there are many dots sitting outside the whiskers, at the right end of the distribution (top whisker in the boxplot).\n",
        "\n",
        "### Skewed variables"
      ]
    },
    {
      "cell_type": "code",
      "execution_count": 8,
      "metadata": {
        "colab": {
          "base_uri": "https://localhost:8080/",
          "height": 388
        },
        "id": "f4Np1afWQXOi",
        "outputId": "57fdccd2-8b84-4f9b-ece0-00f0dfee5043"
      },
      "outputs": [
        {
          "data": {
            "image/png": "[encoded data removed]",
            "text/plain": [
              "<Figure size 1600x400 with 2 Axes>"
            ]
          },
          "metadata": {},
          "output_type": "display_data"
        },
        {
          "name": "stdout",
          "output_type": "stream",
          "text": [
            "\n",
            "Skewness Value :  0.9064600935915367\n"
          ]
        }
      ],
      "source": [
        "# Variable LSTAT from the boston house dataset\n",
        "# LSTAT is the % lower status of the population\n",
        "\n",
        "diagnostic_plots(boston, 'LSTAT')\n",
        "print('\\nSkewness Value : ', boston['LSTAT'].skew())"
      ]
    },
    {
      "attachments": {},
      "cell_type": "markdown",
      "metadata": {
        "id": "FJkelcwrQXOi"
      },
      "source": [
        "LSTAT is not normally distributed, it is skewed with a tail to the right. According to the boxplot, there are some outliers at the right end of the distribution of the variable."
      ]
    },
    {
      "cell_type": "code",
      "execution_count": 9,
      "metadata": {
        "colab": {
          "base_uri": "https://localhost:8080/",
          "height": 386
        },
        "id": "IME3JyeKQXOi",
        "outputId": "48e63d68-b64e-4436-88f7-187ce54f83c6"
      },
      "outputs": [
        {
          "data": {
            "image/png": "[encoded data removed]",
            "text/plain": [
              "<Figure size 1600x400 with 2 Axes>"
            ]
          },
          "metadata": {},
          "output_type": "display_data"
        },
        {
          "name": "stdout",
          "output_type": "stream",
          "text": [
            "\n",
            "Skewness Value :  5.223148798243851\n"
          ]
        }
      ],
      "source": [
        "# Variable CRIM from the boston house dataset\n",
        "# CRIM is the per capita crime rate by town\n",
        "\n",
        "diagnostic_plots(boston, 'CRIM')\n",
        "print('\\nSkewness Value : ', boston['CRIM'].skew())"
      ]
    },
    {
      "attachments": {},
      "cell_type": "markdown",
      "metadata": {
        "id": "Qs7Q49b_QXOj"
      },
      "source": [
        "CRIM is heavily skewed, with a tail to the right. There seems to be quite a few outliers as well at the right end of the distribution, according to the boxplot."
      ]
    },
    {
      "cell_type": "code",
      "execution_count": 10,
      "metadata": {
        "colab": {
          "base_uri": "https://localhost:8080/",
          "height": 386
        },
        "id": "J99-47KsQXOj",
        "outputId": "54fb35dc-0b45-4270-c800-cce799864059"
      },
      "outputs": [
        {
          "data": {
            "image/png": "[encoded data removed]",
            "text/plain": [
              "<Figure size 1600x400 with 2 Axes>"
            ]
          },
          "metadata": {},
          "output_type": "display_data"
        },
        {
          "name": "stdout",
          "output_type": "stream",
          "text": [
            "\n",
            "Skewness Value :  4.367709134122922\n"
          ]
        }
      ],
      "source": [
        "# Variable Fare from the titanic dataset\n",
        "# Fare is the price paid for the ticket by the passengers\n",
        "\n",
        "diagnostic_plots(titanic, 'fare')\n",
        "print('\\nSkewness Value : ', titanic['fare'].skew())"
      ]
    },
    {
      "attachments": {},
      "cell_type": "markdown",
      "metadata": {
        "id": "_2EgbVGlQXOj"
      },
      "source": [
        "Fare is also very skewed, and shows some unusual values at the right end of its distribution.\n",
        "\n",
        "In the next cells, we will identify outliers using :\n",
        "- the mean and the standard deviation for the variables `RM` and `Age` from the boston and titanic datasets, respectively. \n",
        "- the inter-quantile range to identify outliers for the variables `LSTAT`, `CRIM` and `Fare` from the boston and titanic datasets.\n",
        "\n",
        "### Outlier detection for Normally distributed variables"
      ]
    },
    {
      "cell_type": "code",
      "execution_count": 11,
      "metadata": {
        "id": "QTywsfA5QXOj"
      },
      "outputs": [],
      "source": [
        "# Function to find upper and lower boundaries for normally distributed variables\n",
        "# Calculate the boundaries outside which sit the outliers for a Gaussian distribution\n",
        "\n",
        "def find_normal_boundaries(df, variable):\n",
        "    upper_boundary = df[variable].mean() + 3 * df[variable].std()\n",
        "    lower_boundary = df[variable].mean() - 3 * df[variable].std()\n",
        "\n",
        "    return upper_boundary, lower_boundary"
      ]
    },
    {
      "cell_type": "code",
      "execution_count": 12,
      "metadata": {
        "colab": {
          "base_uri": "https://localhost:8080/"
        },
        "id": "cdoxmybPQXOj",
        "outputId": "4e3f31fc-a9b2-4aba-8de9-605f038cf074"
      },
      "outputs": [
        {
          "data": {
            "text/plain": [
              "(8.392485817597748, 4.176782957105809)"
            ]
          },
          "execution_count": 12,
          "metadata": {},
          "output_type": "execute_result"
        }
      ],
      "source": [
        "# calculate boundaries for RM\n",
        "upper_boundary, lower_boundary = find_normal_boundaries(boston, 'RM')\n",
        "upper_boundary, lower_boundary"
      ]
    },
    {
      "attachments": {},
      "cell_type": "markdown",
      "metadata": {
        "id": "YfcWanX9QXOk"
      },
      "source": [
        "From the above we conclude that values **bigger than 8.4** or **smaller than 4.2** occur very rarely for the variable `RM`. Therefore, we can consider them outliers."
      ]
    },
    {
      "cell_type": "code",
      "execution_count": 13,
      "metadata": {
        "colab": {
          "base_uri": "https://localhost:8080/"
        },
        "id": "01YZOfjpQXOk",
        "outputId": "68e12bee-9352-4478-c9f7-892db581dccb"
      },
      "outputs": [
        {
          "name": "stdout",
          "output_type": "stream",
          "text": [
            "Total number of houses: 506\n",
            "Houses with more than 8.4 rooms (right end outliers) : 4\n",
            "Houses with less than 4.2 rooms (left end outliers.  : 4\n",
            "\n",
            "% right end outliers : 0.7905138339920948\n",
            "% left end outliers  : 0.7905138339920948\n"
          ]
        }
      ],
      "source": [
        "# Inspect the number and percentage of outliers for `RM`\n",
        "\n",
        "print('Total number of houses: {}'.format(len(boston)))\n",
        "print('Houses with more than 8.4 rooms (right end outliers) : {}'.format(len(boston[boston['RM'] > upper_boundary])))\n",
        "print('Houses with less than 4.2 rooms (left end outliers.  : {}'.format(len(boston[boston['RM'] < lower_boundary])))\n",
        "print('')\n",
        "print('% right end outliers : {}'.format(len(boston[boston['RM'] > upper_boundary]) / len(boston) * 100))\n",
        "print('% left end outliers  : {}'.format(len(boston[boston['RM'] < lower_boundary]) / len(boston) * 100))"
      ]
    },
    {
      "attachments": {},
      "cell_type": "markdown",
      "metadata": {
        "id": "GgZkiAHmQXOk"
      },
      "source": [
        "Using Extreme Value Analysis we identified outliers at both ends of the distribution of `RM`. The percentage of outliers is small (1.58% considering the 2 tails together), which makes sense, because we are finding precisely outliers. That is, rare values, rare occurrences.\n",
        "\n",
        "Let's move on to `Age` in the titanic dataset."
      ]
    },
    {
      "cell_type": "code",
      "execution_count": 14,
      "metadata": {
        "colab": {
          "base_uri": "https://localhost:8080/"
        },
        "id": "RSEg310OQXOk",
        "outputId": "7e93a98a-4124-4b89-ee5d-b8c6b38d162c"
      },
      "outputs": [
        {
          "data": {
            "text/plain": [
              "(73.1216336121991, -13.359364587342501)"
            ]
          },
          "execution_count": 14,
          "metadata": {},
          "output_type": "execute_result"
        }
      ],
      "source": [
        "# Calculate boundaries for `Age` in the titanic\n",
        "\n",
        "upper_boundary, lower_boundary = find_normal_boundaries(titanic, 'age')\n",
        "upper_boundary, lower_boundary"
      ]
    },
    {
      "attachments": {},
      "cell_type": "markdown",
      "metadata": {
        "id": "YKlUHLtYQXOl"
      },
      "source": [
        "The upper boundary is **73 years**, which means that passengers older than 73 were very few, if any, in the titanic. The lower boundary is negative. Because negative age does not exist, it only makes sense to look for outliers utilising the upper boundary."
      ]
    },
    {
      "cell_type": "code",
      "execution_count": 15,
      "metadata": {
        "colab": {
          "base_uri": "https://localhost:8080/"
        },
        "id": "vPEqxBqUQXOl",
        "outputId": "da793887-3ca9-4b35-83f4-3058e7d54008"
      },
      "outputs": [
        {
          "name": "stdout",
          "output_type": "stream",
          "text": [
            "Total passengers         : 1309\n",
            "Passengers older than 73 : 3\n",
            "\n",
            "% of passengers older than 73 : 0.2291825821237586\n"
          ]
        }
      ],
      "source": [
        "# Lets look at the number and percentage of outliers\n",
        "\n",
        "print('Total passengers         : {}'.format(len(titanic)))\n",
        "print('Passengers older than 73 : {}'.format(len(titanic[titanic['age'] > upper_boundary])))\n",
        "print('')\n",
        "print('% of passengers older than 73 : {}'.format(len(titanic[titanic['age'] > upper_boundary]) / len(titanic) * 100))"
      ]
    },
    {
      "attachments": {},
      "cell_type": "markdown",
      "metadata": {
        "id": "DinMg4vaQXOl"
      },
      "source": [
        "There were 3 passengers older than 73 on board of the titanic, which could be considered outliers, as the majority of the population where much younger."
      ]
    },
    {
      "attachments": {},
      "cell_type": "markdown",
      "metadata": {
        "id": "VmJ3Y0ekQXOm"
      },
      "source": [
        "### Outlier detection for skewed variables"
      ]
    },
    {
      "cell_type": "code",
      "execution_count": 16,
      "metadata": {
        "id": "zuSeqy1BQXOm"
      },
      "outputs": [],
      "source": [
        "# Function to find upper and lower boundaries for skewed distributed variables\n",
        "# Let's calculate the boundaries outside which sit the outliers for skewed distributions\n",
        "# Distance passed as an argument, gives us the option to estimate 1.5 times or 3 times the IQR to calculate the boundaries.\n",
        "\n",
        "def find_skewed_boundaries(df, variable, distance):\n",
        "    IQR = df[variable].quantile(0.75) - df[variable].quantile(0.25)\n",
        "\n",
        "    lower_boundary = df[variable].quantile(0.25) - (IQR * distance)\n",
        "    upper_boundary = df[variable].quantile(0.75) + (IQR * distance)\n",
        "\n",
        "    return upper_boundary, lower_boundary"
      ]
    },
    {
      "cell_type": "code",
      "execution_count": 17,
      "metadata": {
        "colab": {
          "base_uri": "https://localhost:8080/"
        },
        "id": "bqHw-n_RQXOm",
        "outputId": "341d9001-6b5e-4ba9-e601-4390db06518b"
      },
      "outputs": [
        {
          "data": {
            "text/plain": [
              "(31.962500000000006, -8.057500000000005)"
            ]
          },
          "execution_count": 17,
          "metadata": {},
          "output_type": "execute_result"
        }
      ],
      "source": [
        "# Looking for outliers, using the interquantile proximity rule IQR * 1.5, for `LSTAT` in the boston house dataset\n",
        "\n",
        "upper_boundary, lower_boundary = find_skewed_boundaries(boston, 'LSTAT', 1.5)\n",
        "upper_boundary, lower_boundary"
      ]
    },
    {
      "cell_type": "code",
      "execution_count": 18,
      "metadata": {
        "colab": {
          "base_uri": "https://localhost:8080/"
        },
        "id": "lPofysWdQXOm",
        "outputId": "9dd9825c-cecf-4344-9315-bfbabb91e422"
      },
      "outputs": [
        {
          "name": "stdout",
          "output_type": "stream",
          "text": [
            "Total houses : 506\n",
            "Houses with LSTAT bigger than 32   : 7\n",
            "\n",
            "% houses with LSTAT bigger than 32 : 1.383399209486166\n"
          ]
        }
      ],
      "source": [
        "# Lets look at the number and percentage of outliers for `LSTAT`\n",
        "\n",
        "print('Total houses : {}'.format(len(boston)))\n",
        "print('Houses with LSTAT bigger than 32   : {}'.format(len(boston[boston['LSTAT'] > upper_boundary])))\n",
        "print('')\n",
        "print('% houses with LSTAT bigger than 32 : {}'.format(len(boston[boston['LSTAT'] > upper_boundary])/len(boston) * 100))"
      ]
    },
    {
      "attachments": {},
      "cell_type": "markdown",
      "metadata": {
        "id": "UJ3f7RH3QXOm"
      },
      "source": [
        "The upper boundary shows a value of ~32. The lower boundary is negative, however the variable `LSTAT` does not take negative values. So to calculate the outliers for LSTAT we only use the upper boundary. This coincides with what we observed in the boxplot earlier in the notebook. Outliers sit only at the right tail of LSTAT's distribution. **We observe 7 houses, 1.38 % of the dataset, with extremely high values for `LSTAT`.**"
      ]
    },
    {
      "cell_type": "code",
      "execution_count": 19,
      "metadata": {
        "colab": {
          "base_uri": "https://localhost:8080/"
        },
        "id": "MSBZXCfVQXOm",
        "outputId": "8a0b7536-62c5-44de-e8d3-459dc8d98448"
      },
      "outputs": [
        {
          "data": {
            "text/plain": [
              "(9.06963875, -5.31051125)"
            ]
          },
          "execution_count": 19,
          "metadata": {},
          "output_type": "execute_result"
        }
      ],
      "source": [
        "# Looking for outliers, using the interquantile proximity rule IQR * 1.5, for `CRIM` in the boston house dataset\n",
        "\n",
        "upper_boundary, lower_boundary = find_skewed_boundaries(boston, 'CRIM', 1.5)\n",
        "upper_boundary, lower_boundary"
      ]
    },
    {
      "cell_type": "code",
      "execution_count": 20,
      "metadata": {
        "colab": {
          "base_uri": "https://localhost:8080/"
        },
        "id": "sbHVWKxZQXOn",
        "outputId": "225d7af5-cefe-4dfc-f528-0ba1b2d4bf6d"
      },
      "outputs": [
        {
          "name": "stdout",
          "output_type": "stream",
          "text": [
            "Total houses : 506\n",
            "Houses with CRIM bigger than 9   : 66\n",
            "\n",
            "% houses with CRIM bigger than 9 : 13.043478260869565\n"
          ]
        }
      ],
      "source": [
        "# Lets look at the number and percentage of outliers for `CRIM`\n",
        "\n",
        "print('Total houses : {}'.format(len(boston)))\n",
        "print('Houses with CRIM bigger than 9   : {}'.format(len(boston[boston['CRIM'] > upper_boundary])))\n",
        "print('')\n",
        "print('% houses with CRIM bigger than 9 : {}'.format(len(boston[boston['CRIM'] > upper_boundary]) / len(boston) * 100))"
      ]
    },
    {
      "cell_type": "code",
      "execution_count": 21,
      "metadata": {
        "colab": {
          "base_uri": "https://localhost:8080/"
        },
        "id": "BcI3dDPcnslw",
        "outputId": "b26294d0-71c2-4e8f-95d9-1d1346e1a3f5"
      },
      "outputs": [
        {
          "data": {
            "text/plain": [
              "(14.462195000000001, -10.7030675)"
            ]
          },
          "execution_count": 21,
          "metadata": {},
          "output_type": "execute_result"
        }
      ],
      "source": [
        "# Looking for outliers, using the interquantile proximity rule IQR * 3, now lets looking for extremely high values for `CRIM` in the boston house dataset\n",
        "\n",
        "upper_boundary, lower_boundary = find_skewed_boundaries(boston, 'CRIM', 3)\n",
        "upper_boundary, lower_boundary"
      ]
    },
    {
      "cell_type": "code",
      "execution_count": 22,
      "metadata": {
        "colab": {
          "base_uri": "https://localhost:8080/"
        },
        "id": "FQmkmy9Qn3rG",
        "outputId": "0464fdd7-e5b1-4fed-e90e-ebf296e64dd5"
      },
      "outputs": [
        {
          "name": "stdout",
          "output_type": "stream",
          "text": [
            "Total houses : 506\n",
            "Houses with CRIM bigger than 14   : 30\n",
            "\n",
            "% houses with CRIM bigger than 14 : 5.928853754940711\n"
          ]
        }
      ],
      "source": [
        "# Lets look at the number and percentage of outliers for `CRIM`\n",
        "\n",
        "print('Total houses : {}'.format(len(boston)))\n",
        "print('Houses with CRIM bigger than 14   : {}'.format(len(boston[boston['CRIM'] > upper_boundary])))\n",
        "print('')\n",
        "print('% houses with CRIM bigger than 14 : {}'.format(len(boston[boston['CRIM'] > upper_boundary]) / len(boston) * 100))"
      ]
    },
    {
      "attachments": {},
      "cell_type": "markdown",
      "metadata": {
        "id": "8CxWz8xkQXOn"
      },
      "source": [
        "When using :\n",
        "- the 1.5 times inter-quantile range to find outliers, we find that **~13%** of the houses show unusually high crime rate areas. \n",
        "- the 3 times inter-quantile range to find outliers, we find that **~6%** of the houses show unusually high crime rate areas. \n",
        "\n",
        "For `CRIM` as well, the lower boundary is negative, so it only makes sense to use the upper boundary to calculate outliers, as the variable takes only positive values. This coincides with what we observed in `CRIM`'s boxplot earlier in this notebook."
      ]
    },
    {
      "cell_type": "code",
      "execution_count": 23,
      "metadata": {
        "colab": {
          "base_uri": "https://localhost:8080/"
        },
        "id": "e2PwtOfvQXOn",
        "outputId": "237383dc-4da0-4cba-bf7f-b690dcdbce0c"
      },
      "outputs": [
        {
          "data": {
            "text/plain": [
              "(101.4126, -62.24179999999999)"
            ]
          },
          "execution_count": 23,
          "metadata": {},
          "output_type": "execute_result"
        }
      ],
      "source": [
        "# Finally, identify outliers in `Fare` in the titanic dataset. Lets look again for extreme values using IQR * 3\n",
        "\n",
        "upper_boundary, lower_boundary = find_skewed_boundaries(titanic, 'fare', 3)\n",
        "upper_boundary, lower_boundary"
      ]
    },
    {
      "cell_type": "code",
      "execution_count": 24,
      "metadata": {
        "colab": {
          "base_uri": "https://localhost:8080/"
        },
        "id": "5a37EM-BQXOn",
        "outputId": "43a257d9-7dc3-4268-a5a6-97d96233a688"
      },
      "outputs": [
        {
          "name": "stdout",
          "output_type": "stream",
          "text": [
            "Total passengers : 1309\n",
            "Passengers who paid more than 117   : 84\n",
            "\n",
            "% passengers who paid more than 117 : 6.417112299465241\n"
          ]
        }
      ],
      "source": [
        "# Lets look at the number and percentage of passengers who paid extremely high Fares\n",
        "\n",
        "print('Total passengers : {}'.format(len(titanic)))\n",
        "print('Passengers who paid more than 117   : {}'.format(len(titanic[titanic['fare'] > upper_boundary])))\n",
        "print('')\n",
        "print('% passengers who paid more than 117 : {}'.format(len(titanic[titanic['fare'] > upper_boundary])/len(titanic) * 100))"
      ]
    },
    {
      "attachments": {},
      "cell_type": "markdown",
      "metadata": {
        "id": "MIaFcmEWQXOn"
      },
      "source": [
        "For Fare, as well as for all the other variables in this notebook which show a tail to the right, the lower boundary is negative. So we will use the upper boundary to determine the outliers. We observe that 6.4% of the values of the dataset fall above the boundary. "
      ]
    },
    {
      "attachments": {},
      "cell_type": "markdown",
      "metadata": {
        "id": "yWKCpvb6s2fm"
      },
      "source": [
        "# B. Trimming"
      ]
    },
    {
      "attachments": {},
      "cell_type": "markdown",
      "metadata": {
        "id": "01aCI9p6s9qX"
      },
      "source": [
        "## Trimming or truncation\n",
        "\n",
        "Trimming, also known as truncation, involves removing the outliers from the dataset. We only need to decide on a metric to determine outliers. As we saw in section 3, this can be the Gaussian approximation for normally distributed variables or the inter-quantile range proximity rule for skewed variables.\n",
        "\n",
        "### Advantages\n",
        "\n",
        "- quick\n",
        "\n",
        "### Limitations\n",
        "\n",
        "- outliers for one variable could contain useful information in the other variables\n",
        "- if there are outliers across many variables, we could remove a big chunk of dataset\n",
        "\n",
        "## Important\n",
        "\n",
        "Outliers should be detected AND **removed ONLY** from the training set, and NOT from the test set. So we should first divide our data set into train and tests, and remove outliers in the train set, but keep those in the test set, and measure how well our model is doing."
      ]
    },
    {
      "attachments": {},
      "cell_type": "markdown",
      "metadata": {
        "id": "m9y6VjdZtsPL"
      },
      "source": [
        "## Purpose\n",
        "\n",
        "We will see how to perform **trimming** using the Boston House Dataset."
      ]
    },
    {
      "cell_type": "code",
      "execution_count": 25,
      "metadata": {
        "colab": {
          "base_uri": "https://localhost:8080/",
          "height": 206
        },
        "id": "2CQ5Q8mafBUW",
        "outputId": "8e2cd9f3-749d-446e-c274-3c943da9f672"
      },
      "outputs": [
        {
          "data": {
            "text/html": [
              "<div>\n",
              "<style scoped>\n",
              "    .dataframe tbody tr th:only-of-type {\n",
              "        vertical-align: middle;\n",
              "    }\n",
              "\n",
              "    .dataframe tbody tr th {\n",
              "        vertical-align: top;\n",
              "    }\n",
              "\n",
              "    .dataframe thead th {\n",
              "        text-align: right;\n",
              "    }\n",
              "</style>\n",
              "<table border=\"1\" class=\"dataframe\">\n",
              "  <thead>\n",
              "    <tr style=\"text-align: right;\">\n",
              "      <th></th>\n",
              "      <th>DIS</th>\n",
              "      <th>LSTAT</th>\n",
              "      <th>CRIM</th>\n",
              "    </tr>\n",
              "  </thead>\n",
              "  <tbody>\n",
              "    <tr>\n",
              "      <th>0</th>\n",
              "      <td>4.0900</td>\n",
              "      <td>4.98</td>\n",
              "      <td>0.00632</td>\n",
              "    </tr>\n",
              "    <tr>\n",
              "      <th>1</th>\n",
              "      <td>4.9671</td>\n",
              "      <td>9.14</td>\n",
              "      <td>0.02731</td>\n",
              "    </tr>\n",
              "    <tr>\n",
              "      <th>2</th>\n",
              "      <td>4.9671</td>\n",
              "      <td>4.03</td>\n",
              "      <td>0.02729</td>\n",
              "    </tr>\n",
              "    <tr>\n",
              "      <th>3</th>\n",
              "      <td>6.0622</td>\n",
              "      <td>2.94</td>\n",
              "      <td>0.03237</td>\n",
              "    </tr>\n",
              "    <tr>\n",
              "      <th>4</th>\n",
              "      <td>6.0622</td>\n",
              "      <td>5.33</td>\n",
              "      <td>0.06905</td>\n",
              "    </tr>\n",
              "  </tbody>\n",
              "</table>\n",
              "</div>"
            ],
            "text/plain": [
              "      DIS  LSTAT     CRIM\n",
              "0  4.0900   4.98  0.00632\n",
              "1  4.9671   9.14  0.02731\n",
              "2  4.9671   4.03  0.02729\n",
              "3  6.0622   2.94  0.03237\n",
              "4  6.0622   5.33  0.06905"
            ]
          },
          "execution_count": 25,
          "metadata": {},
          "output_type": "execute_result"
        }
      ],
      "source": [
        "# Create a dataframe with the independent variables\n",
        "# Legends : \n",
        "  # - DIS      weighted distances to five Boston employment centres\n",
        "  # - LSTAT    % lower status of the population\n",
        "  # - CRIM     per capita crime rate by town\n",
        "\n",
        "boston = boston_dataset[['DIS', 'LSTAT', 'CRIM']]\n",
        "boston.head()"
      ]
    },
    {
      "cell_type": "code",
      "execution_count": 26,
      "metadata": {
        "id": "ZPAnV_ORt2Im"
      },
      "outputs": [],
      "source": [
        "# Function to create histogram and boxplot.\n",
        "# Function takes a dataframe (df) and the variable of interest as arguments\n",
        "\n",
        "def diagnostic_plots(df, variable):\n",
        "    # Define figure size\n",
        "    plt.figure(figsize=(16, 4))\n",
        "\n",
        "    # Histogram\n",
        "    plt.subplot(1, 2, 1)\n",
        "    sns.histplot(df[variable], bins=30)\n",
        "    plt.title('Histogram')\n",
        "\n",
        "    # Boxplot\n",
        "    plt.subplot(1, 2, 2)\n",
        "    sns.boxplot(y=df[variable])\n",
        "    plt.title('Boxplot')\n",
        "\n",
        "    plt.show()"
      ]
    },
    {
      "cell_type": "code",
      "execution_count": 27,
      "metadata": {
        "colab": {
          "base_uri": "https://localhost:8080/",
          "height": 1000
        },
        "id": "_5A3WBoZuDog",
        "outputId": "c4feb1e8-a4ba-46ec-cb20-b4b97a5ec789"
      },
      "outputs": [
        {
          "name": "stdout",
          "output_type": "stream",
          "text": [
            "1.0117805793009007\n",
            "0.9064600935915367\n",
            "5.223148798243851\n"
          ]
        },
        {
          "data": {
            "image/png": "[encoded data removed]",
            "text/plain": [
              "<Figure size 1600x400 with 2 Axes>"
            ]
          },
          "metadata": {},
          "output_type": "display_data"
        },
        {
          "data": {
            "image/png": "[encoded data removed]",
            "text/plain": [
              "<Figure size 1600x400 with 2 Axes>"
            ]
          },
          "metadata": {},
          "output_type": "display_data"
        },
        {
          "data": {
            "image/png": "[encoded data removed]",
            "text/plain": [
              "<Figure size 1600x400 with 2 Axes>"
            ]
          },
          "metadata": {},
          "output_type": "display_data"
        }
      ],
      "source": [
        "# Let's find outliers in `DIS`, `LSTAT`, `CRIM`\n",
        "\n",
        "print(boston[\"DIS\"].skew())\n",
        "print(boston[\"LSTAT\"].skew())\n",
        "print(boston[\"CRIM\"].skew())\n",
        "diagnostic_plots(boston, 'DIS')\n",
        "diagnostic_plots(boston, 'LSTAT')\n",
        "diagnostic_plots(boston, 'CRIM')"
      ]
    },
    {
      "attachments": {},
      "cell_type": "markdown",
      "metadata": {
        "id": "1rD3n6sbuRKK"
      },
      "source": [
        "There are outliers in all of the above variables."
      ]
    },
    {
      "cell_type": "code",
      "execution_count": 28,
      "metadata": {
        "id": "8-umbFDvuVEn"
      },
      "outputs": [],
      "source": [
        "# Function to find upper and lower boundaries for skewed distributed variables\n",
        "# Let's calculate the boundaries outside which sit the outliers for skewed distributions\n",
        "# Distance passed as an argument, gives us the option to estimate 1.5 times or 3 times the IQR to calculate the boundaries.\n",
        "\n",
        "def find_skewed_boundaries(df, variable, distance):\n",
        "    IQR = df[variable].quantile(0.75) - df[variable].quantile(0.25)\n",
        "\n",
        "    lower_boundary = df[variable].quantile(0.25) - (IQR * distance)\n",
        "    upper_boundary = df[variable].quantile(0.75) + (IQR * distance)\n",
        "\n",
        "    return upper_boundary, lower_boundary"
      ]
    },
    {
      "cell_type": "code",
      "execution_count": 29,
      "metadata": {
        "colab": {
          "base_uri": "https://localhost:8080/"
        },
        "id": "sVi1Yd4Puh0r",
        "outputId": "99254305-7a22-4f45-bd7d-bf55d4e96439"
      },
      "outputs": [
        {
          "name": "stdout",
          "output_type": "stream",
          "text": [
            "DIS_upper_limit :  9.820800000000002\n",
            "DIS_lower_limit :  -2.5322000000000005 \n",
            "\n",
            "LSTAT_upper_limit :  31.962500000000006\n",
            "LSTAT_lower_limit :  -8.057500000000005 \n",
            "\n",
            "CRIM_upper_limit :  9.06963875\n",
            "CRIM_lower_limit :  -5.31051125\n"
          ]
        }
      ],
      "source": [
        "# Limits for `DIS`\n",
        "DIS_upper_limit, DIS_lower_limit = find_skewed_boundaries(boston, 'DIS', 1.5)\n",
        "DIS_upper_limit, DIS_lower_limit\n",
        "\n",
        "# Limits for `LSTAT`\n",
        "LSTAT_upper_limit, LSTAT_lower_limit = find_skewed_boundaries(boston, 'LSTAT', 1.5)\n",
        "LSTAT_upper_limit, LSTAT_lower_limit\n",
        "\n",
        "# Limits for `CRIM`\n",
        "CRIM_upper_limit, CRIM_lower_limit = find_skewed_boundaries(boston, 'CRIM', 1.5)\n",
        "CRIM_upper_limit, CRIM_lower_limit\n",
        "\n",
        "print('DIS_upper_limit : ', DIS_upper_limit)\n",
        "print('DIS_lower_limit : ', DIS_lower_limit, '\\n')\n",
        "print('LSTAT_upper_limit : ', LSTAT_upper_limit)\n",
        "print('LSTAT_lower_limit : ', LSTAT_lower_limit, '\\n')\n",
        "print('CRIM_upper_limit : ', CRIM_upper_limit)\n",
        "print('CRIM_lower_limit : ', CRIM_lower_limit)"
      ]
    },
    {
      "cell_type": "code",
      "execution_count": 30,
      "metadata": {
        "colab": {
          "base_uri": "https://localhost:8080/"
        },
        "id": "qyrSmbVDvKpe",
        "outputId": "5da77c26-4ead-475b-f44f-cbd03a9632cf"
      },
      "outputs": [
        {
          "name": "stdout",
          "output_type": "stream",
          "text": [
            "[False False False False False False False False False False]\n"
          ]
        }
      ],
      "source": [
        "# Flag the outliers in category `DIS`\n",
        "outliers_DIS = np.where(boston['DIS'] > DIS_upper_limit, True,\n",
        "                       np.where(boston['DIS'] < DIS_lower_limit, True, False))\n",
        "\n",
        "# Flag the outliers in category `LSTAT`\n",
        "outliers_LSTAT = np.where(boston['LSTAT'] > LSTAT_upper_limit, True,\n",
        "                       np.where(boston['LSTAT'] < LSTAT_lower_limit, True, False))\n",
        "\n",
        "# Flag the outliers in category `CRIM`\n",
        "outliers_CRIM = np.where(boston['CRIM'] > CRIM_upper_limit, True,\n",
        "                       np.where(boston['CRIM'] < CRIM_lower_limit, True, False))\n",
        "\n",
        "print(outliers_DIS[:10])"
      ]
    },
    {
      "cell_type": "code",
      "execution_count": 31,
      "metadata": {
        "colab": {
          "base_uri": "https://localhost:8080/"
        },
        "id": "Sxs1WeuWvxhS",
        "outputId": "f457dad5-94b0-427b-874e-ce441f99827f"
      },
      "outputs": [
        {
          "name": "stdout",
          "output_type": "stream",
          "text": [
            "Size dataset - Before trimming :  (506, 3)\n",
            "Size dataset - After trimming  :  (434, 3)\n"
          ]
        }
      ],
      "source": [
        "# Let's trimm the dataset\n",
        "\n",
        "boston_trimmed = boston.loc[~(outliers_DIS + outliers_LSTAT + outliers_CRIM)]\n",
        "print('Size dataset - Before trimming : ', boston.shape)\n",
        "print('Size dataset - After trimming  : ', boston_trimmed.shape)"
      ]
    },
    {
      "attachments": {},
      "cell_type": "markdown",
      "metadata": {
        "id": "BSUGa0r0wDrM"
      },
      "source": [
        "We can see that using trimming, **we removed 72 rows**, from a dataset of 506 rows, this is about **~14.2%** of the data was removed. This is mostly why, we do not tend to use trimming much in machine learning. But if only a few variables present a tiny proportion of outliers, trimming could work."
      ]
    },
    {
      "cell_type": "code",
      "execution_count": 32,
      "metadata": {
        "colab": {
          "base_uri": "https://localhost:8080/",
          "height": 1000
        },
        "id": "IM_IiuRCwjn_",
        "outputId": "687aac3a-37e3-44ce-ac3c-7fed09974117"
      },
      "outputs": [
        {
          "name": "stdout",
          "output_type": "stream",
          "text": [
            "DIS - Before Trimming\n"
          ]
        },
        {
          "data": {
            "image/png": "[encoded data removed]",
            "text/plain": [
              "<Figure size 1600x400 with 2 Axes>"
            ]
          },
          "metadata": {},
          "output_type": "display_data"
        },
        {
          "name": "stdout",
          "output_type": "stream",
          "text": [
            "\n",
            "DIS - After Trimming\n"
          ]
        },
        {
          "data": {
            "image/png": "[encoded data removed]",
            "text/plain": [
              "<Figure size 1600x400 with 2 Axes>"
            ]
          },
          "metadata": {},
          "output_type": "display_data"
        },
        {
          "name": "stdout",
          "output_type": "stream",
          "text": [
            "\n",
            "LSTAT - Before Trimming\n"
          ]
        },
        {
          "data": {
            "image/png": "[encoded data removed]",
            "text/plain": [
              "<Figure size 1600x400 with 2 Axes>"
            ]
          },
          "metadata": {},
          "output_type": "display_data"
        },
        {
          "name": "stdout",
          "output_type": "stream",
          "text": [
            "\n",
            "LSTAT - After Trimming\n"
          ]
        },
        {
          "data": {
            "image/png": "[encoded data removed]",
            "text/plain": [
              "<Figure size 1600x400 with 2 Axes>"
            ]
          },
          "metadata": {},
          "output_type": "display_data"
        },
        {
          "name": "stdout",
          "output_type": "stream",
          "text": [
            "\n",
            "CRIM - Before Trimming\n"
          ]
        },
        {
          "data": {
            "image/png": "[encoded data removed]",
            "text/plain": [
              "<Figure size 1600x400 with 2 Axes>"
            ]
          },
          "metadata": {},
          "output_type": "display_data"
        },
        {
          "name": "stdout",
          "output_type": "stream",
          "text": [
            "\n",
            "CRIM - After Trimming\n"
          ]
        },
        {
          "data": {
            "image/png": "[encoded data removed]",
            "text/plain": [
              "<Figure size 1600x400 with 2 Axes>"
            ]
          },
          "metadata": {},
          "output_type": "display_data"
        }
      ],
      "source": [
        "# Let's find outliers in `DIS`, `LSTAT`, `CRIM`\n",
        "\n",
        "print('DIS - Before Trimming')\n",
        "diagnostic_plots(boston, 'DIS')\n",
        "print('\\nDIS - After Trimming')\n",
        "diagnostic_plots(boston_trimmed, 'DIS')\n",
        "\n",
        "print('\\nLSTAT - Before Trimming')\n",
        "diagnostic_plots(boston, 'LSTAT')\n",
        "print('\\nLSTAT - After Trimming')\n",
        "diagnostic_plots(boston_trimmed, 'LSTAT')\n",
        "\n",
        "print('\\nCRIM - Before Trimming')\n",
        "diagnostic_plots(boston, 'CRIM')\n",
        "print('\\nCRIM - After Trimming')\n",
        "diagnostic_plots(boston_trimmed, 'CRIM')"
      ]
    },
    {
      "attachments": {},
      "cell_type": "markdown",
      "metadata": {
        "id": "wKVj5HOcwdeF"
      },
      "source": [
        "For `LSTAT` and `CRIM`, we still see many outliers. **When we remove data points from our dataset, all the parameters of the distribution are re-calculated**, those are the mean, quantiles and inter-quantile range, therefore, in the new -trimmed- variable, values that before were not considered outliers, now are. This is an unwanted characteristic of this way of coping with outliers."
      ]
    },
    {
      "attachments": {},
      "cell_type": "markdown",
      "metadata": {
        "id": "7bcfyHXjybN6"
      },
      "source": [
        "# C. Censoring"
      ]
    },
    {
      "attachments": {},
      "cell_type": "markdown",
      "metadata": {
        "id": "F-Etsb5xydJU"
      },
      "source": [
        "## Censoring or Capping.\n",
        "\n",
        "**Censoring**, or **capping**, means capping the maximum and /or minimum of a distribution at an arbitrary value. On other words, values bigger or smaller than the arbitrarily determined ones are **censored**.\n",
        "\n",
        "Capping can be done at both tails, or just one of the tails, depending on the variable and the user.\n",
        "\n",
        "### Advantages\n",
        "\n",
        "- does not remove data\n",
        "\n",
        "### Limitations\n",
        "\n",
        "- distorts the distributions of the variables\n",
        "- distorts the relationships among variables\n",
        "\n",
        "## Important\n",
        "\n",
        "When doing capping, we tend to cap values both in train and test set. It is important to remember that the capping values MUST be derived from the train set. And then use those same values to cap the variables in the test set"
      ]
    },
    {
      "attachments": {},
      "cell_type": "markdown",
      "metadata": {
        "id": "qVRElLF64VDw"
      },
      "source": [
        "## Purpose\n",
        "\n",
        "We will see how to perform **capping** with the inter-quantile range bold textproximity rule using the Boston House Dataset"
      ]
    },
    {
      "cell_type": "code",
      "execution_count": 33,
      "metadata": {
        "colab": {
          "base_uri": "https://localhost:8080/"
        },
        "id": "2Da3-mNo4SSY",
        "outputId": "7415cc09-c3ac-4844-973b-bf7b47d1ba20"
      },
      "outputs": [
        {
          "name": "stdout",
          "output_type": "stream",
          "text": [
            "Collecting feature-engine\n",
            "  Downloading feature_engine-1.6.0-py2.py3-none-any.whl (319 kB)\n",
            "     ---------------------------------------- 0.0/319.4 kB ? eta -:--:--\n",
            "     - -------------------------------------- 10.2/319.4 kB ? eta -:--:--\n",
            "     --- --------------------------------- 30.7/319.4 kB 330.3 kB/s eta 0:00:01\n",
            "     ---- -------------------------------- 41.0/319.4 kB 330.3 kB/s eta 0:00:01\n",
            "     ---- -------------------------------- 41.0/319.4 kB 330.3 kB/s eta 0:00:01\n",
            "     ---- -------------------------------- 41.0/319.4 kB 330.3 kB/s eta 0:00:01\n",
            "     ------- ----------------------------- 61.4/319.4 kB 193.2 kB/s eta 0:00:02\n",
            "     ------- ----------------------------- 61.4/319.4 kB 193.2 kB/s eta 0:00:02\n",
            "     ------- ----------------------------- 61.4/319.4 kB 193.2 kB/s eta 0:00:02\n",
            "     ------- ----------------------------- 61.4/319.4 kB 193.2 kB/s eta 0:00:02\n",
            "     ------- ----------------------------- 61.4/319.4 kB 193.2 kB/s eta 0:00:02\n",
            "     -------- ---------------------------- 71.7/319.4 kB 126.9 kB/s eta 0:00:02\n",
            "     -------- ---------------------------- 71.7/319.4 kB 126.9 kB/s eta 0:00:02\n",
            "     -------- ---------------------------- 71.7/319.4 kB 126.9 kB/s eta 0:00:02\n",
            "     -------- ---------------------------- 71.7/319.4 kB 126.9 kB/s eta 0:00:02\n",
            "     -------- ---------------------------- 71.7/319.4 kB 126.9 kB/s eta 0:00:02\n",
            "     -------- ---------------------------- 71.7/319.4 kB 126.9 kB/s eta 0:00:02\n",
            "     ---------- -------------------------- 92.2/319.4 kB 109.2 kB/s eta 0:00:03\n",
            "     ---------- -------------------------- 92.2/319.4 kB 109.2 kB/s eta 0:00:03\n",
            "     ---------- -------------------------- 92.2/319.4 kB 109.2 kB/s eta 0:00:03\n",
            "     ---------- -------------------------- 92.2/319.4 kB 109.2 kB/s eta 0:00:03\n",
            "     ------------ ----------------------- 112.6/319.4 kB 105.8 kB/s eta 0:00:02\n",
            "     ------------ ----------------------- 112.6/319.4 kB 105.8 kB/s eta 0:00:02\n",
            "     ------------ ----------------------- 112.6/319.4 kB 105.8 kB/s eta 0:00:02\n",
            "     ------------ ----------------------- 112.6/319.4 kB 105.8 kB/s eta 0:00:02\n",
            "     ------------ ----------------------- 112.6/319.4 kB 105.8 kB/s eta 0:00:02\n",
            "     -------------- ---------------------- 122.9/319.4 kB 94.9 kB/s eta 0:00:03\n",
            "     -------------- ---------------------- 122.9/319.4 kB 94.9 kB/s eta 0:00:03\n",
            "     -------------- ---------------------- 122.9/319.4 kB 94.9 kB/s eta 0:00:03\n",
            "     -------------- ---------------------- 122.9/319.4 kB 94.9 kB/s eta 0:00:03\n",
            "     -------------- ---------------------- 122.9/319.4 kB 94.9 kB/s eta 0:00:03\n",
            "     ---------------- -------------------- 143.4/319.4 kB 93.6 kB/s eta 0:00:02\n",
            "     ---------------- -------------------- 143.4/319.4 kB 93.6 kB/s eta 0:00:02\n",
            "     ---------------- -------------------- 143.4/319.4 kB 93.6 kB/s eta 0:00:02\n",
            "     ---------------- -------------------- 143.4/319.4 kB 93.6 kB/s eta 0:00:02\n",
            "     ---------------- -------------------- 143.4/319.4 kB 93.6 kB/s eta 0:00:02\n",
            "     ----------------- ------------------- 153.6/319.4 kB 86.6 kB/s eta 0:00:02\n",
            "     ----------------- ------------------- 153.6/319.4 kB 86.6 kB/s eta 0:00:02\n",
            "     ----------------- ------------------- 153.6/319.4 kB 86.6 kB/s eta 0:00:02\n",
            "     ----------------- ------------------- 153.6/319.4 kB 86.6 kB/s eta 0:00:02\n",
            "     ----------------- ------------------- 153.6/319.4 kB 86.6 kB/s eta 0:00:02\n",
            "     -------------------- ---------------- 174.1/319.4 kB 86.0 kB/s eta 0:00:02\n",
            "     -------------------- ---------------- 174.1/319.4 kB 86.0 kB/s eta 0:00:02\n",
            "     -------------------- ---------------- 174.1/319.4 kB 86.0 kB/s eta 0:00:02\n",
            "     -------------------- ---------------- 174.1/319.4 kB 86.0 kB/s eta 0:00:02\n",
            "     ---------------------- -------------- 194.6/319.4 kB 89.4 kB/s eta 0:00:02\n",
            "     ---------------------- -------------- 194.6/319.4 kB 89.4 kB/s eta 0:00:02\n",
            "     ---------------------- -------------- 194.6/319.4 kB 89.4 kB/s eta 0:00:02\n",
            "     ---------------------- -------------- 194.6/319.4 kB 89.4 kB/s eta 0:00:02\n",
            "     ---------------------- -------------- 194.6/319.4 kB 89.4 kB/s eta 0:00:02\n",
            "     ---------------------- -------------- 194.6/319.4 kB 89.4 kB/s eta 0:00:02\n",
            "     ---------------------- -------------- 194.6/319.4 kB 89.4 kB/s eta 0:00:02\n",
            "     ---------------------- -------------- 194.6/319.4 kB 89.4 kB/s eta 0:00:02\n",
            "     ---------------------- -------------- 194.6/319.4 kB 89.4 kB/s eta 0:00:02\n",
            "     ----------------------- ------------- 204.8/319.4 kB 77.8 kB/s eta 0:00:02\n",
            "     ----------------------- ------------- 204.8/319.4 kB 77.8 kB/s eta 0:00:02\n",
            "     ----------------------- ------------- 204.8/319.4 kB 77.8 kB/s eta 0:00:02\n",
            "     ----------------------- ------------- 204.8/319.4 kB 77.8 kB/s eta 0:00:02\n",
            "     -------------------------- ---------- 225.3/319.4 kB 80.5 kB/s eta 0:00:02\n",
            "     ----------------------------- ------- 256.0/319.4 kB 89.4 kB/s eta 0:00:01\n",
            "     ----------------------------- ------- 256.0/319.4 kB 89.4 kB/s eta 0:00:01\n",
            "     ----------------------------- ------- 256.0/319.4 kB 89.4 kB/s eta 0:00:01\n",
            "     ----------------------------- ------- 256.0/319.4 kB 89.4 kB/s eta 0:00:01\n",
            "     ----------------------------- ------- 256.0/319.4 kB 89.4 kB/s eta 0:00:01\n",
            "     ----------------------------- ------- 256.0/319.4 kB 89.4 kB/s eta 0:00:01\n",
            "     ----------------------------- ------- 256.0/319.4 kB 89.4 kB/s eta 0:00:01\n",
            "     ----------------------------- ------- 256.0/319.4 kB 89.4 kB/s eta 0:00:01\n",
            "     ----------------------------- ------- 256.0/319.4 kB 89.4 kB/s eta 0:00:01\n",
            "     ----------------------------- ------- 256.0/319.4 kB 89.4 kB/s eta 0:00:01\n",
            "     ----------------------------- ------- 256.0/319.4 kB 89.4 kB/s eta 0:00:01\n",
            "     ----------------------------- ------- 256.0/319.4 kB 89.4 kB/s eta 0:00:01\n",
            "     ----------------------------- ------- 256.0/319.4 kB 89.4 kB/s eta 0:00:01\n",
            "     -------------------------------- ---- 276.5/319.4 kB 79.6 kB/s eta 0:00:01\n",
            "     -------------------------------- ---- 276.5/319.4 kB 79.6 kB/s eta 0:00:01\n",
            "     -------------------------------- ---- 276.5/319.4 kB 79.6 kB/s eta 0:00:01\n",
            "     -------------------------------- ---- 276.5/319.4 kB 79.6 kB/s eta 0:00:01\n",
            "     -------------------------------- ---- 276.5/319.4 kB 79.6 kB/s eta 0:00:01\n",
            "     --------------------------------- --- 286.7/319.4 kB 77.9 kB/s eta 0:00:01\n",
            "     --------------------------------- --- 286.7/319.4 kB 77.9 kB/s eta 0:00:01\n",
            "     --------------------------------- --- 286.7/319.4 kB 77.9 kB/s eta 0:00:01\n",
            "     --------------------------------- --- 286.7/319.4 kB 77.9 kB/s eta 0:00:01\n",
            "     ----------------------------------- - 307.2/319.4 kB 77.9 kB/s eta 0:00:01\n",
            "     ------------------------------------- 319.4/319.4 kB 78.5 kB/s eta 0:00:00\n",
            "Requirement already satisfied: numpy>=1.18.2 in c:\\users\\asus\\appdata\\local\\programs\\python\\python311\\lib\\site-packages (from feature-engine) (1.24.2)\n",
            "Requirement already satisfied: pandas>=1.0.3 in c:\\users\\asus\\appdata\\local\\programs\\python\\python311\\lib\\site-packages (from feature-engine) (1.5.3)\n",
            "Requirement already satisfied: scikit-learn>=1.0.0 in c:\\users\\asus\\appdata\\local\\programs\\python\\python311\\lib\\site-packages (from feature-engine) (1.2.2)\n",
            "Requirement already satisfied: scipy>=1.4.1 in c:\\users\\asus\\appdata\\local\\programs\\python\\python311\\lib\\site-packages (from feature-engine) (1.10.1)\n",
            "Requirement already satisfied: statsmodels>=0.11.1 in c:\\users\\asus\\appdata\\local\\programs\\python\\python311\\lib\\site-packages (from feature-engine) (0.14.0)\n",
            "Requirement already satisfied: python-dateutil>=2.8.1 in c:\\users\\asus\\appdata\\roaming\\python\\python311\\site-packages (from pandas>=1.0.3->feature-engine) (2.8.2)\n",
            "Requirement already satisfied: pytz>=2020.1 in c:\\users\\asus\\appdata\\local\\programs\\python\\python311\\lib\\site-packages (from pandas>=1.0.3->feature-engine) (2023.2)\n",
            "Requirement already satisfied: joblib>=1.1.1 in c:\\users\\asus\\appdata\\local\\programs\\python\\python311\\lib\\site-packages (from scikit-learn>=1.0.0->feature-engine) (1.2.0)\n",
            "Requirement already satisfied: threadpoolctl>=2.0.0 in c:\\users\\asus\\appdata\\local\\programs\\python\\python311\\lib\\site-packages (from scikit-learn>=1.0.0->feature-engine) (3.1.0)\n",
            "Requirement already satisfied: patsy>=0.5.2 in c:\\users\\asus\\appdata\\local\\programs\\python\\python311\\lib\\site-packages (from statsmodels>=0.11.1->feature-engine) (0.5.3)\n",
            "Requirement already satisfied: packaging>=21.3 in c:\\users\\asus\\appdata\\roaming\\python\\python311\\site-packages (from statsmodels>=0.11.1->feature-engine) (23.0)\n",
            "Requirement already satisfied: six in c:\\users\\asus\\appdata\\roaming\\python\\python311\\site-packages (from patsy>=0.5.2->statsmodels>=0.11.1->feature-engine) (1.16.0)\n",
            "Installing collected packages: feature-engine\n",
            "Successfully installed feature-engine-1.6.0\n"
          ]
        },
        {
          "name": "stderr",
          "output_type": "stream",
          "text": [
            "\n",
            "[notice] A new release of pip is available: 23.0.1 -> 23.1.2\n",
            "[notice] To update, run: python.exe -m pip install --upgrade pip\n"
          ]
        }
      ],
      "source": [
        "!pip install feature-engine\n",
        "\n",
        "from feature_engine.outliers import Winsorizer"
      ]
    },
    {
      "cell_type": "code",
      "execution_count": 34,
      "metadata": {
        "colab": {
          "base_uri": "https://localhost:8080/",
          "height": 206
        },
        "id": "Mv-9WJxEfSr-",
        "outputId": "e679e9be-96e7-43bf-bf87-6f38d76c85f0"
      },
      "outputs": [
        {
          "data": {
            "text/html": [
              "<div>\n",
              "<style scoped>\n",
              "    .dataframe tbody tr th:only-of-type {\n",
              "        vertical-align: middle;\n",
              "    }\n",
              "\n",
              "    .dataframe tbody tr th {\n",
              "        vertical-align: top;\n",
              "    }\n",
              "\n",
              "    .dataframe thead th {\n",
              "        text-align: right;\n",
              "    }\n",
              "</style>\n",
              "<table border=\"1\" class=\"dataframe\">\n",
              "  <thead>\n",
              "    <tr style=\"text-align: right;\">\n",
              "      <th></th>\n",
              "      <th>DIS</th>\n",
              "      <th>LSTAT</th>\n",
              "      <th>CRIM</th>\n",
              "    </tr>\n",
              "  </thead>\n",
              "  <tbody>\n",
              "    <tr>\n",
              "      <th>0</th>\n",
              "      <td>4.0900</td>\n",
              "      <td>4.98</td>\n",
              "      <td>0.00632</td>\n",
              "    </tr>\n",
              "    <tr>\n",
              "      <th>1</th>\n",
              "      <td>4.9671</td>\n",
              "      <td>9.14</td>\n",
              "      <td>0.02731</td>\n",
              "    </tr>\n",
              "    <tr>\n",
              "      <th>2</th>\n",
              "      <td>4.9671</td>\n",
              "      <td>4.03</td>\n",
              "      <td>0.02729</td>\n",
              "    </tr>\n",
              "    <tr>\n",
              "      <th>3</th>\n",
              "      <td>6.0622</td>\n",
              "      <td>2.94</td>\n",
              "      <td>0.03237</td>\n",
              "    </tr>\n",
              "    <tr>\n",
              "      <th>4</th>\n",
              "      <td>6.0622</td>\n",
              "      <td>5.33</td>\n",
              "      <td>0.06905</td>\n",
              "    </tr>\n",
              "  </tbody>\n",
              "</table>\n",
              "</div>"
            ],
            "text/plain": [
              "      DIS  LSTAT     CRIM\n",
              "0  4.0900   4.98  0.00632\n",
              "1  4.9671   9.14  0.02731\n",
              "2  4.9671   4.03  0.02729\n",
              "3  6.0622   2.94  0.03237\n",
              "4  6.0622   5.33  0.06905"
            ]
          },
          "execution_count": 34,
          "metadata": {},
          "output_type": "execute_result"
        }
      ],
      "source": [
        "# Create a dataframe with the independent variables\n",
        "# Legends : \n",
        "  # - DIS      weighted distances to five Boston employment centres\n",
        "  # - LSTAT    % lower status of the population\n",
        "  # - CRIM     per capita crime rate by town\n",
        "  \n",
        "boston = boston_dataset[['DIS', 'LSTAT', 'CRIM']]\n",
        "boston.head()"
      ]
    },
    {
      "cell_type": "code",
      "execution_count": 35,
      "metadata": {
        "id": "58ADlRI360vt"
      },
      "outputs": [],
      "source": [
        "# Create the capper\n",
        "\n",
        "windsoriser = Winsorizer(capping_method='iqr', # choose iqr for IQR rule boundaries or gaussian for mean and std\n",
        "                          tail='both', # cap left, right or both tails \n",
        "                          fold=1.5,\n",
        "                          variables=['DIS', 'LSTAT', 'CRIM'])\n",
        "\n",
        "windsoriser.fit(boston)\n",
        "\n",
        "boston_t = windsoriser.transform(boston)"
      ]
    },
    {
      "cell_type": "code",
      "execution_count": 36,
      "metadata": {
        "colab": {
          "base_uri": "https://localhost:8080/"
        },
        "id": "qpEw6Vxz665O",
        "outputId": "bdbc6d74-7c89-48d8-a6a1-4a431214bdef"
      },
      "outputs": [
        {
          "name": "stdout",
          "output_type": "stream",
          "text": [
            "Left Tail Caps  :  {'DIS': -2.5322000000000005, 'LSTAT': -8.057500000000005, 'CRIM': -5.31051125}\n",
            "Right Tail Caps :  {'DIS': 9.820800000000002, 'LSTAT': 31.962500000000006, 'CRIM': 9.06963875}\n"
          ]
        }
      ],
      "source": [
        "# Inspect the minimum caps for each variable\n",
        "print('Left Tail Caps  : ', windsoriser.left_tail_caps_)\n",
        "\n",
        "# Iinspect the maximum caps for each variable\n",
        "print('Right Tail Caps : ', windsoriser.right_tail_caps_)"
      ]
    },
    {
      "cell_type": "code",
      "execution_count": 37,
      "metadata": {
        "colab": {
          "base_uri": "https://localhost:8080/"
        },
        "id": "uW7l1xQi67Sm",
        "outputId": "8f2a051f-d666-4901-c0e9-f98da2f7f27a"
      },
      "outputs": [
        {
          "name": "stdout",
          "output_type": "stream",
          "text": [
            "Boston Dataframe - Before Capping\n",
            "              DIS       LSTAT        CRIM\n",
            "count  506.000000  506.000000  506.000000\n",
            "mean     3.795043   12.653063    3.613524\n",
            "std      2.105710    7.141062    8.601545\n",
            "min      1.129600    1.730000    0.006320\n",
            "25%      2.100175    6.950000    0.082045\n",
            "50%      3.207450   11.360000    0.256510\n",
            "75%      5.188425   16.955000    3.677083\n",
            "max     12.126500   37.970000   88.976200\n",
            "\n",
            "Boston Dataframe - After Capping\n",
            "              DIS       LSTAT        CRIM\n",
            "count  506.000000  506.000000  506.000000\n",
            "mean     3.783947   12.612011    2.225032\n",
            "std      2.069765    7.016829    3.313353\n",
            "min      1.129600    1.730000    0.006320\n",
            "25%      2.100175    6.950000    0.082045\n",
            "50%      3.207450   11.360000    0.256510\n",
            "75%      5.188425   16.955000    3.677083\n",
            "max      9.820800   31.962500    9.069639\n"
          ]
        }
      ],
      "source": [
        "print('Boston Dataframe - Before Capping')\n",
        "print(boston.describe())\n",
        "print('')\n",
        "print('Boston Dataframe - After Capping')\n",
        "print(boston_t.describe())"
      ]
    },
    {
      "cell_type": "code",
      "execution_count": 38,
      "metadata": {
        "colab": {
          "base_uri": "https://localhost:8080/",
          "height": 1000
        },
        "id": "rbyedVt6ghdc",
        "outputId": "5a09e2ce-551c-4e6a-afb9-e9c326e9e5ba"
      },
      "outputs": [
        {
          "name": "stdout",
          "output_type": "stream",
          "text": [
            "DIS - Before Capping\n"
          ]
        },
        {
          "data": {
            "image/png": "[encoded data removed]",
            "text/plain": [
              "<Figure size 1600x400 with 2 Axes>"
            ]
          },
          "metadata": {},
          "output_type": "display_data"
        },
        {
          "name": "stdout",
          "output_type": "stream",
          "text": [
            "\n",
            "DIS - After Capping\n"
          ]
        },
        {
          "data": {
            "image/png": "[encoded data removed]",
            "text/plain": [
              "<Figure size 1600x400 with 2 Axes>"
            ]
          },
          "metadata": {},
          "output_type": "display_data"
        },
        {
          "name": "stdout",
          "output_type": "stream",
          "text": [
            "\n",
            "LSTAT - Before Capping\n"
          ]
        },
        {
          "data": {
            "image/png": "[encoded data removed]",
            "text/plain": [
              "<Figure size 1600x400 with 2 Axes>"
            ]
          },
          "metadata": {},
          "output_type": "display_data"
        },
        {
          "name": "stdout",
          "output_type": "stream",
          "text": [
            "\n",
            "LSTAT - After Capping\n"
          ]
        },
        {
          "data": {
            "image/png": "[encoded data removed]",
            "text/plain": [
              "<Figure size 1600x400 with 2 Axes>"
            ]
          },
          "metadata": {},
          "output_type": "display_data"
        },
        {
          "name": "stdout",
          "output_type": "stream",
          "text": [
            "\n",
            "CRIM - Before Capping\n"
          ]
        },
        {
          "data": {
            "image/png": "[encoded data removed]",
            "text/plain": [
              "<Figure size 1600x400 with 2 Axes>"
            ]
          },
          "metadata": {},
          "output_type": "display_data"
        },
        {
          "name": "stdout",
          "output_type": "stream",
          "text": [
            "\n",
            "CRIM - After Capping\n"
          ]
        },
        {
          "data": {
            "image/png": "[encoded data removed]",
            "text/plain": [
              "<Figure size 1600x400 with 2 Axes>"
            ]
          },
          "metadata": {},
          "output_type": "display_data"
        }
      ],
      "source": [
        "# Let's find outliers in `DIS`, `LSTAT`, `CRIM`\n",
        "\n",
        "print('DIS - Before Capping')\n",
        "diagnostic_plots(boston, 'DIS')\n",
        "print('\\nDIS - After Capping')\n",
        "diagnostic_plots(boston_t, 'DIS')\n",
        "\n",
        "print('\\nLSTAT - Before Capping')\n",
        "diagnostic_plots(boston, 'LSTAT')\n",
        "print('\\nLSTAT - After Capping')\n",
        "diagnostic_plots(boston_t, 'LSTAT')\n",
        "\n",
        "print('\\nCRIM - Before Capping')\n",
        "diagnostic_plots(boston, 'CRIM')\n",
        "print('\\nCRIM - After Capping')\n",
        "diagnostic_plots(boston_t, 'CRIM')"
      ]
    },
    {
      "attachments": {},
      "cell_type": "markdown",
      "metadata": {
        "id": "qeHXTnfnM9mM"
      },
      "source": [
        "# E. Cardinality\n",
        "\n",
        "The values of a categorical variable are selected from a group of categories, also called labels. For example, in the variable _gender_ the categories or labels are male and female, whereas in the variable _city_ the labels can be London, Manchester, Brighton and so on.\n",
        "\n",
        "Different categorical variables contain different number of labels or categories. The variable gender contains only 2 labels, but a variable like city or postcode, can contain a huge number of different labels.\n",
        "\n",
        "The number of different labels within a categorical variable is known as cardinality. A high number of labels within a variable is known as __high cardinality__.\n",
        "\n",
        "\n",
        "### Are multiple labels in a categorical variable a problem?\n",
        "\n",
        "High cardinality may pose the following problems: \n",
        "\n",
        "- Variables with too many labels **tend to dominate** over those with only a few labels, particularly in **Tree based** algorithms.\n",
        "\n",
        "- A big number of labels within a variable may introduce noise with little, if any, information, therefore making machine learning models **prone to over-fit**.\n",
        "\n",
        "- Some of the labels may **only be present in the training data set, but not in the test set**, therefore machine learning algorithms may over-fit to the training set.\n",
        "\n",
        "- Contrarily, **some labels may appear only in the test set**, therefore leaving the machine learning algorithms unable to perform a calculation over the new (unseen) observation.\n",
        "\n",
        "\n",
        "In particular, **tree methods can be biased towards variables with lots of labels** (variables with high cardinality). Thus, their performance may be affected by high cardinality."
      ]
    },
    {
      "attachments": {},
      "cell_type": "markdown",
      "metadata": {
        "id": "OBVxviR1NAPA"
      },
      "source": [
        "## Purpose :\n",
        "\n",
        "We will :\n",
        "\n",
        "- Learn how to quantify cardinality\n",
        "- See examples of high and low cardinality variables\n",
        "- Understand the effect of cardinality when preparing train and test sets\n",
        "- Visualise the effect of cardinality on Machine Learning Model performance\n",
        "\n",
        "We will use the Titanic dataset. *(URL : https://www.openml.org/data/get_csv/16826755/phpMYEkMl)*"
      ]
    },
    {
      "cell_type": "code",
      "execution_count": 39,
      "metadata": {
        "id": "WQVI5SUFNDVg"
      },
      "outputs": [],
      "source": [
        "import pandas as pd\n",
        "import numpy as np\n",
        "\n",
        "import matplotlib.pyplot as plt\n",
        "\n",
        "from sklearn.linear_model import LogisticRegression\n",
        "from sklearn.ensemble import AdaBoostClassifier\n",
        "from sklearn.ensemble import RandomForestClassifier\n",
        "from sklearn.ensemble import GradientBoostingClassifier\n",
        "\n",
        "from sklearn.metrics import roc_auc_score\n",
        "from sklearn.model_selection import train_test_split"
      ]
    },
    {
      "cell_type": "code",
      "execution_count": 40,
      "metadata": {
        "colab": {
          "base_uri": "https://localhost:8080/",
          "height": 319
        },
        "id": "SPFpWrZMNHuM",
        "outputId": "499ed939-5cf4-4e50-99ae-4e5780e82779"
      },
      "outputs": [
        {
          "data": {
            "text/html": [
              "<div>\n",
              "<style scoped>\n",
              "    .dataframe tbody tr th:only-of-type {\n",
              "        vertical-align: middle;\n",
              "    }\n",
              "\n",
              "    .dataframe tbody tr th {\n",
              "        vertical-align: top;\n",
              "    }\n",
              "\n",
              "    .dataframe thead th {\n",
              "        text-align: right;\n",
              "    }\n",
              "</style>\n",
              "<table border=\"1\" class=\"dataframe\">\n",
              "  <thead>\n",
              "    <tr style=\"text-align: right;\">\n",
              "      <th></th>\n",
              "      <th>pclass</th>\n",
              "      <th>survived</th>\n",
              "      <th>name</th>\n",
              "      <th>sex</th>\n",
              "      <th>age</th>\n",
              "      <th>sibsp</th>\n",
              "      <th>parch</th>\n",
              "      <th>ticket</th>\n",
              "      <th>fare</th>\n",
              "      <th>cabin</th>\n",
              "      <th>embarked</th>\n",
              "      <th>boat</th>\n",
              "      <th>body</th>\n",
              "      <th>home.dest</th>\n",
              "    </tr>\n",
              "  </thead>\n",
              "  <tbody>\n",
              "    <tr>\n",
              "      <th>0</th>\n",
              "      <td>1</td>\n",
              "      <td>1</td>\n",
              "      <td>Allen, Miss. Elisabeth Walton</td>\n",
              "      <td>female</td>\n",
              "      <td>29</td>\n",
              "      <td>0</td>\n",
              "      <td>0</td>\n",
              "      <td>24160</td>\n",
              "      <td>211.3375</td>\n",
              "      <td>B5</td>\n",
              "      <td>S</td>\n",
              "      <td>2</td>\n",
              "      <td>?</td>\n",
              "      <td>St Louis, MO</td>\n",
              "    </tr>\n",
              "    <tr>\n",
              "      <th>1</th>\n",
              "      <td>1</td>\n",
              "      <td>1</td>\n",
              "      <td>Allison, Master. Hudson Trevor</td>\n",
              "      <td>male</td>\n",
              "      <td>0.9167</td>\n",
              "      <td>1</td>\n",
              "      <td>2</td>\n",
              "      <td>113781</td>\n",
              "      <td>151.55</td>\n",
              "      <td>C22 C26</td>\n",
              "      <td>S</td>\n",
              "      <td>11</td>\n",
              "      <td>?</td>\n",
              "      <td>Montreal, PQ / Chesterville, ON</td>\n",
              "    </tr>\n",
              "    <tr>\n",
              "      <th>2</th>\n",
              "      <td>1</td>\n",
              "      <td>0</td>\n",
              "      <td>Allison, Miss. Helen Loraine</td>\n",
              "      <td>female</td>\n",
              "      <td>2</td>\n",
              "      <td>1</td>\n",
              "      <td>2</td>\n",
              "      <td>113781</td>\n",
              "      <td>151.55</td>\n",
              "      <td>C22 C26</td>\n",
              "      <td>S</td>\n",
              "      <td>?</td>\n",
              "      <td>?</td>\n",
              "      <td>Montreal, PQ / Chesterville, ON</td>\n",
              "    </tr>\n",
              "    <tr>\n",
              "      <th>3</th>\n",
              "      <td>1</td>\n",
              "      <td>0</td>\n",
              "      <td>Allison, Mr. Hudson Joshua Creighton</td>\n",
              "      <td>male</td>\n",
              "      <td>30</td>\n",
              "      <td>1</td>\n",
              "      <td>2</td>\n",
              "      <td>113781</td>\n",
              "      <td>151.55</td>\n",
              "      <td>C22 C26</td>\n",
              "      <td>S</td>\n",
              "      <td>?</td>\n",
              "      <td>135</td>\n",
              "      <td>Montreal, PQ / Chesterville, ON</td>\n",
              "    </tr>\n",
              "    <tr>\n",
              "      <th>4</th>\n",
              "      <td>1</td>\n",
              "      <td>0</td>\n",
              "      <td>Allison, Mrs. Hudson J C (Bessie Waldo Daniels)</td>\n",
              "      <td>female</td>\n",
              "      <td>25</td>\n",
              "      <td>1</td>\n",
              "      <td>2</td>\n",
              "      <td>113781</td>\n",
              "      <td>151.55</td>\n",
              "      <td>C22 C26</td>\n",
              "      <td>S</td>\n",
              "      <td>?</td>\n",
              "      <td>?</td>\n",
              "      <td>Montreal, PQ / Chesterville, ON</td>\n",
              "    </tr>\n",
              "  </tbody>\n",
              "</table>\n",
              "</div>"
            ],
            "text/plain": [
              "   pclass  survived                                             name     sex  \\\n",
              "0       1         1                    Allen, Miss. Elisabeth Walton  female   \n",
              "1       1         1                   Allison, Master. Hudson Trevor    male   \n",
              "2       1         0                     Allison, Miss. Helen Loraine  female   \n",
              "3       1         0             Allison, Mr. Hudson Joshua Creighton    male   \n",
              "4       1         0  Allison, Mrs. Hudson J C (Bessie Waldo Daniels)  female   \n",
              "\n",
              "      age  sibsp  parch  ticket      fare    cabin embarked boat body  \\\n",
              "0      29      0      0   24160  211.3375       B5        S    2    ?   \n",
              "1  0.9167      1      2  113781    151.55  C22 C26        S   11    ?   \n",
              "2       2      1      2  113781    151.55  C22 C26        S    ?    ?   \n",
              "3      30      1      2  113781    151.55  C22 C26        S    ?  135   \n",
              "4      25      1      2  113781    151.55  C22 C26        S    ?    ?   \n",
              "\n",
              "                         home.dest  \n",
              "0                     St Louis, MO  \n",
              "1  Montreal, PQ / Chesterville, ON  \n",
              "2  Montreal, PQ / Chesterville, ON  \n",
              "3  Montreal, PQ / Chesterville, ON  \n",
              "4  Montreal, PQ / Chesterville, ON  "
            ]
          },
          "execution_count": 40,
          "metadata": {},
          "output_type": "execute_result"
        }
      ],
      "source": [
        "# Load the Titanic dataset\n",
        "\n",
        "url = 'https://www.openml.org/data/get_csv/16826755/phpMYEkMl'\n",
        "data = pd.read_csv(url)\n",
        "data.head()"
      ]
    },
    {
      "cell_type": "code",
      "execution_count": 41,
      "metadata": {
        "colab": {
          "base_uri": "https://localhost:8080/"
        },
        "id": "XgIbpJ7qNKrL",
        "outputId": "a5e96256-3b8b-4e33-cf6e-c9ce914828ca"
      },
      "outputs": [
        {
          "name": "stdout",
          "output_type": "stream",
          "text": [
            "<class 'pandas.core.frame.DataFrame'>\n",
            "RangeIndex: 1309 entries, 0 to 1308\n",
            "Data columns (total 14 columns):\n",
            " #   Column     Non-Null Count  Dtype \n",
            "---  ------     --------------  ----- \n",
            " 0   pclass     1309 non-null   int64 \n",
            " 1   survived   1309 non-null   int64 \n",
            " 2   name       1309 non-null   object\n",
            " 3   sex        1309 non-null   object\n",
            " 4   age        1309 non-null   object\n",
            " 5   sibsp      1309 non-null   int64 \n",
            " 6   parch      1309 non-null   int64 \n",
            " 7   ticket     1309 non-null   object\n",
            " 8   fare       1309 non-null   object\n",
            " 9   cabin      1309 non-null   object\n",
            " 10  embarked   1309 non-null   object\n",
            " 11  boat       1309 non-null   object\n",
            " 12  body       1309 non-null   object\n",
            " 13  home.dest  1309 non-null   object\n",
            "dtypes: int64(4), object(10)\n",
            "memory usage: 143.3+ KB\n"
          ]
        }
      ],
      "source": [
        "data.info()"
      ]
    },
    {
      "attachments": {},
      "cell_type": "markdown",
      "metadata": {
        "id": "pyWklbrLNNOc"
      },
      "source": [
        "Let's focus on several categorical variables in this dataset : `Name`, `Sex`, `Ticket`, `Cabin`, and `Embarked`."
      ]
    },
    {
      "cell_type": "code",
      "execution_count": 42,
      "metadata": {
        "colab": {
          "base_uri": "https://localhost:8080/"
        },
        "id": "TulVbqp2NOrJ",
        "outputId": "8e4987d8-e5a3-486b-df61-93dd2624a7cf"
      },
      "outputs": [
        {
          "name": "stdout",
          "output_type": "stream",
          "text": [
            "Number of categories in the variable Name     : 1307\n",
            "Number of categories in the variable Gender   : 2\n",
            "Number of categories in the variable Ticket   : 929\n",
            "Number of categories in the variable Cabin    : 187\n",
            "Number of categories in the variable Embarked : 4\n",
            "Total number of passengers in the Titanic.    : 1309\n"
          ]
        }
      ],
      "source": [
        "# Let's inspect the cardinality, this is the number of different labels, for the different categorical variables\n",
        "\n",
        "print('Number of categories in the variable Name     : {}'.format(len(data.name.unique())))\n",
        "print('Number of categories in the variable Gender   : {}'.format(len(data.sex.unique())))\n",
        "print('Number of categories in the variable Ticket   : {}'.format(len(data.ticket.unique())))\n",
        "print('Number of categories in the variable Cabin    : {}'.format(len(data.cabin.unique())))\n",
        "print('Number of categories in the variable Embarked : {}'.format(len(data.embarked.unique())))\n",
        "print('Total number of passengers in the Titanic.    : {}'.format(len(data)))"
      ]
    },
    {
      "attachments": {},
      "cell_type": "markdown",
      "metadata": {
        "id": "VZebv7P8NSC1"
      },
      "source": [
        "While the variable `Sex` contains only 2 categories and `Embarked` 4 (low cardinality), the variables `Ticket`, `Name` and `Cabin`, as expected, contain a huge number of different labels (high cardinality).\n",
        "\n",
        "To demonstrate the effect of high cardinality in train and test sets and machine learning performance, let's work with the variable `Cabin`. We will create a new variable to reduced cardinality."
      ]
    },
    {
      "cell_type": "code",
      "execution_count": 43,
      "metadata": {
        "colab": {
          "base_uri": "https://localhost:8080/"
        },
        "id": "ZkvusX7CNQgh",
        "outputId": "38a758e5-6357-4806-f757-2aac016a2775"
      },
      "outputs": [
        {
          "data": {
            "text/plain": [
              "array(['B5', 'C22 C26', 'E12', 'D7', 'A36', 'C101', '?', 'C62 C64', 'B35',\n",
              "       'A23', 'B58 B60', 'D15', 'C6', 'D35', 'C148', 'C97', 'B49', 'C99',\n",
              "       'C52', 'T', 'A31', 'C7', 'C103', 'D22', 'E33', 'A21', 'B10', 'B4',\n",
              "       'E40', 'B38', 'E24', 'B51 B53 B55', 'B96 B98', 'C46', 'E31', 'E8',\n",
              "       'B61', 'B77', 'A9', 'C89', 'A14', 'E58', 'E49', 'E52', 'E45',\n",
              "       'B22', 'B26', 'C85', 'E17', 'B71', 'B20', 'A34', 'C86', 'A16',\n",
              "       'A20', 'A18', 'C54', 'C45', 'D20', 'A29', 'C95', 'E25', 'C111',\n",
              "       'C23 C25 C27', 'E36', 'D34', 'D40', 'B39', 'B41', 'B102', 'C123',\n",
              "       'E63', 'C130', 'B86', 'C92', 'A5', 'C51', 'B42', 'C91', 'C125',\n",
              "       'D10 D12', 'B82 B84', 'E50', 'D33', 'C83', 'B94', 'D49', 'D45',\n",
              "       'B69', 'B11', 'E46', 'C39', 'B18', 'D11', 'C93', 'B28', 'C49',\n",
              "       'B52 B54 B56', 'E60', 'C132', 'B37', 'D21', 'D19', 'C124', 'D17',\n",
              "       'B101', 'D28', 'D6', 'D9', 'B80', 'C106', 'B79', 'C47', 'D30',\n",
              "       'C90', 'E38', 'C78', 'C30', 'C118', 'D36', 'D48', 'D47', 'C105',\n",
              "       'B36', 'B30', 'D43', 'B24', 'C2', 'C65', 'B73', 'C104', 'C110',\n",
              "       'C50', 'B3', 'A24', 'A32', 'A11', 'A10', 'B57 B59 B63 B66', 'C28',\n",
              "       'E44', 'A26', 'A6', 'A7', 'C31', 'A19', 'B45', 'E34', 'B78', 'B50',\n",
              "       'C87', 'C116', 'C55 C57', 'D50', 'E68', 'E67', 'C126', 'C68',\n",
              "       'C70', 'C53', 'B19', 'D46', 'D37', 'D26', 'C32', 'C80', 'C82',\n",
              "       'C128', 'E39 E41', 'D', 'F4', 'D56', 'F33', 'E101', 'E77', 'F2',\n",
              "       'D38', 'F', 'F G63', 'F E57', 'F E46', 'F G73', 'E121', 'F E69',\n",
              "       'E10', 'G6', 'F38'], dtype=object)"
            ]
          },
          "execution_count": 43,
          "metadata": {},
          "output_type": "execute_result"
        }
      ],
      "source": [
        "# Let's explore the values / categories of `Cabin`\n",
        "# We know from the previous cell that there are 187 different cabins, therefore the variable is highly cardinal\n",
        "data.cabin.unique()"
      ]
    },
    {
      "attachments": {},
      "cell_type": "markdown",
      "metadata": {
        "id": "Qw0wgNxnNVQU"
      },
      "source": [
        "Let's now reduce the cardinality of the variable. How? Instead of using the entire `cabin` value, we will capture only the \n",
        "**first letter**.\n",
        "\n",
        "***Rationale***: the first letter indicates the deck on which the cabin was located, and is therefore an indication of both social class status and proximity to the surface of the Titanic. Both are known to improve the probability of survival."
      ]
    },
    {
      "cell_type": "code",
      "execution_count": 44,
      "metadata": {
        "colab": {
          "base_uri": "https://localhost:8080/"
        },
        "id": "kPboHk0LNW-a",
        "outputId": "c0e2f107-36ec-4178-efa7-2bf91ee05996"
      },
      "outputs": [
        {
          "name": "stdout",
          "output_type": "stream",
          "text": [
            "     cabin Cabin_reduced\n",
            "0       B5             B\n",
            "1  C22 C26             C\n",
            "2  C22 C26             C\n",
            "3  C22 C26             C\n",
            "4  C22 C26             C\n",
            "Number of categories in the variable Cabin : 187\n",
            "Number of categories in the variable Cabin reduced : 9\n"
          ]
        }
      ],
      "source": [
        "# Let's capture the first letter of Cabin\n",
        "\n",
        "data['Cabin_reduced'] = data['cabin'].astype(str).str[0]\n",
        "\n",
        "print(data[['cabin', 'Cabin_reduced']].head())\n",
        "print('Number of categories in the variable Cabin : {}'.format(len(data.cabin.unique())))\n",
        "print('Number of categories in the variable Cabin reduced : {}'.format(len(data.Cabin_reduced.unique())))"
      ]
    },
    {
      "attachments": {},
      "cell_type": "markdown",
      "metadata": {
        "id": "o8LpnBp4NZ2M"
      },
      "source": [
        "We reduced the number of different labels from 187 to 9."
      ]
    },
    {
      "cell_type": "code",
      "execution_count": 45,
      "metadata": {
        "colab": {
          "base_uri": "https://localhost:8080/"
        },
        "id": "gkxW8GHyNYaO",
        "outputId": "6ab0ee11-08e6-4548-8a6c-80683feafebc"
      },
      "outputs": [
        {
          "data": {
            "text/plain": [
              "((916, 3), (393, 3))"
            ]
          },
          "execution_count": 45,
          "metadata": {},
          "output_type": "execute_result"
        }
      ],
      "source": [
        "# Let's separate into training and testing set in order to build machine learning models\n",
        "\n",
        "use_cols = ['cabin', 'Cabin_reduced', 'sex']\n",
        "\n",
        "X_train, X_test, y_train, y_test = train_test_split(data[use_cols], \n",
        "                                                    data['survived'],  \n",
        "                                                    test_size=0.3,\n",
        "                                                    random_state=0)\n",
        "\n",
        "X_train.shape, X_test.shape"
      ]
    },
    {
      "attachments": {},
      "cell_type": "markdown",
      "metadata": {
        "id": "D2kqHdwmNdb3"
      },
      "source": [
        "### High cardinality leads to uneven distribution of categories in train and test sets\n",
        "\n",
        "When a variable is highly cardinal, often some categories land only on the training set, or only on the testing set. If present only in the training set, they may lead to over-fitting. If present only on the testing set, the machine learning algorithm will not know how to handle them, as it has not seen them during training."
      ]
    },
    {
      "cell_type": "code",
      "execution_count": 46,
      "metadata": {
        "colab": {
          "base_uri": "https://localhost:8080/"
        },
        "id": "sLjZ0sfGNcBb",
        "outputId": "ac9f447e-c6f0-4c75-f50a-6c030a6bcfed"
      },
      "outputs": [
        {
          "name": "stdout",
          "output_type": "stream",
          "text": [
            "Total unique_to_train_set :  116\n",
            "Total unique_to_test_set  :  36\n"
          ]
        }
      ],
      "source": [
        "# Let's find out labels that only present in the training set and labels that only present in the test set\n",
        "\n",
        "unique_to_train_set = [x for x in X_train.cabin.unique() if x not in X_test.cabin.unique()]\n",
        "unique_to_test_set = [x for x in X_test.cabin.unique() if x not in X_train.cabin.unique()]\n",
        "\n",
        "print('Total unique_to_train_set : ', len(unique_to_train_set))\n",
        "print('Total unique_to_test_set  : ', len(unique_to_test_set))"
      ]
    },
    {
      "attachments": {},
      "cell_type": "markdown",
      "metadata": {
        "id": "bHqwZxyUNgYa"
      },
      "source": [
        "There are **116 Cabins only present in the training set**, and not in the testing set. Also, there are **36 Cabins that only present in the test set** but not in the train set."
      ]
    },
    {
      "attachments": {},
      "cell_type": "markdown",
      "metadata": {
        "id": "_8VcIDEHNjLd"
      },
      "source": [
        "Variables with high cardinality tend to have values (i.e., categories) present in the training set, that are not present in the test set, and vice versa. This will bring problems at the time of training (due to over-fitting) and scoring of new data (how should the model deal with unseen categories?). This problem is almost overcome by reducing the cardinality of the variable."
      ]
    },
    {
      "cell_type": "code",
      "execution_count": 47,
      "metadata": {
        "colab": {
          "base_uri": "https://localhost:8080/"
        },
        "id": "BBAo5eFSNkC4",
        "outputId": "9eecf8b4-ed60-483e-a2c1-77d49d6a045d"
      },
      "outputs": [
        {
          "name": "stdout",
          "output_type": "stream",
          "text": [
            "Total unique_to_train_set :  1\n",
            "Total unique_to_test_set  :  0\n"
          ]
        }
      ],
      "source": [
        "# Let's find out labels that only present in the training set and only present in the test set for Cabin with reduced cardinality\n",
        "\n",
        "unique_to_train_set = [\n",
        "    x for x in X_train['Cabin_reduced'].unique()\n",
        "    if x not in X_test['Cabin_reduced'].unique()\n",
        "]\n",
        "\n",
        "unique_to_test_set = [\n",
        "    x for x in X_test['Cabin_reduced'].unique()\n",
        "    if x not in X_train['Cabin_reduced'].unique()\n",
        "]\n",
        "\n",
        "print('Total unique_to_train_set : ', len(unique_to_train_set))\n",
        "print('Total unique_to_test_set  : ', len(unique_to_test_set))"
      ]
    },
    {
      "attachments": {},
      "cell_type": "markdown",
      "metadata": {
        "id": "fyx7UlXQNmId"
      },
      "source": [
        "Observe how by reducing the cardinality there is now **only 1 label in the training set** that is not present in the test set. And **no label in the test set** that is not contained in the training set as well."
      ]
    },
    {
      "attachments": {},
      "cell_type": "markdown",
      "metadata": {
        "id": "0Kvuuq8KNoe3"
      },
      "source": [
        "### Effect of cardinality on Machine Learning Model Performance\n",
        "\n",
        "In order to evaluate the effect of categorical variables in machine learning models, we will quickly replace the categories by numbers. See below."
      ]
    },
    {
      "cell_type": "code",
      "execution_count": 48,
      "metadata": {
        "colab": {
          "base_uri": "https://localhost:8080/"
        },
        "id": "G1dCzz5aNqUB",
        "outputId": "489978dc-6930-4720-c29b-05e2047b18fa"
      },
      "outputs": [
        {
          "name": "stdout",
          "output_type": "stream",
          "text": [
            "cabin_dict :  {'?': 0, 'E36': 1, 'C68': 2, 'E24': 3, 'C22 C26': 4, 'D38': 5, 'B50': 6, 'A24': 7, 'C111': 8, 'F': 9, 'C6': 10, 'C87': 11, 'E8': 12, 'B45': 13, 'C93': 14, 'D28': 15, 'D36': 16, 'C125': 17, 'B35': 18, 'T': 19, 'B73': 20, 'B57 B59 B63 B66': 21, 'A26': 22, 'A18': 23, 'B96 B98': 24, 'G6': 25, 'C78': 26, 'C101': 27, 'D9': 28, 'D33': 29, 'C128': 30, 'E50': 31, 'B26': 32, 'B69': 33, 'E121': 34, 'C123': 35, 'B94': 36, 'A34': 37, 'D': 38, 'C39': 39, 'D43': 40, 'E31': 41, 'B5': 42, 'D17': 43, 'F33': 44, 'E44': 45, 'D7': 46, 'A21': 47, 'D34': 48, 'A29': 49, 'D35': 50, 'A11': 51, 'B51 B53 B55': 52, 'D46': 53, 'E60': 54, 'C30': 55, 'D26': 56, 'E68': 57, 'A9': 58, 'B71': 59, 'D37': 60, 'F2': 61, 'C55 C57': 62, 'C89': 63, 'C124': 64, 'C23 C25 C27': 65, 'C126': 66, 'E49': 67, 'F E46': 68, 'E46': 69, 'D19': 70, 'B58 B60': 71, 'C82': 72, 'B52 B54 B56': 73, 'C92': 74, 'E45': 75, 'F G73': 76, 'C65': 77, 'E25': 78, 'B3': 79, 'D40': 80, 'C91': 81, 'B102': 82, 'B61': 83, 'F G63': 84, 'A20': 85, 'B36': 86, 'C7': 87, 'B77': 88, 'D20': 89, 'C148': 90, 'C105': 91, 'E38': 92, 'B86': 93, 'C132': 94, 'C86': 95, 'A14': 96, 'C54': 97, 'A5': 98, 'B49': 99, 'B28': 100, 'B24': 101, 'C2': 102, 'F4': 103, 'A6': 104, 'C83': 105, 'B42': 106, 'A36': 107, 'C52': 108, 'D56': 109, 'C116': 110, 'B19': 111, 'E77': 112, 'F E57': 113, 'E101': 114, 'B18': 115, 'C95': 116, 'D15': 117, 'E33': 118, 'B30': 119, 'D21': 120, 'E10': 121, 'C130': 122, 'D6': 123, 'C51': 124, 'D30': 125, 'E67': 126, 'C110': 127, 'C103': 128, 'C90': 129, 'C118': 130, 'C97': 131, 'D47': 132, 'E34': 133, 'B4': 134, 'D50': 135, 'C62 C64': 136, 'E17': 137, 'B41': 138, 'C49': 139, 'C85': 140, 'B20': 141, 'C28': 142, 'E63': 143, 'C99': 144, 'D49': 145, 'A10': 146, 'A16': 147, 'B37': 148, 'C80': 149, 'B78': 150}\n",
            "Total Cabin Unique - X_train :  151\n",
            "Total Cabin Unique - Data    :  187\n"
          ]
        }
      ],
      "source": [
        "# Let's re-map Cabin into numbers so we can use it to train ML models\n",
        "\n",
        "# I will replace each cabin by a number\n",
        "# to quickly demonstrate the effect of\n",
        "# labels on machine learning algorithms\n",
        "\n",
        "cabin_dict = {k: i for i, k in enumerate(X_train.cabin.unique(), 0)}\n",
        "print('cabin_dict : ', cabin_dict)\n",
        "print('Total Cabin Unique - X_train : ', len(X_train.cabin.unique()))\n",
        "print('Total Cabin Unique - Data    : ', len(data.cabin.unique()))"
      ]
    },
    {
      "cell_type": "code",
      "execution_count": 49,
      "metadata": {
        "colab": {
          "base_uri": "https://localhost:8080/",
          "height": 363
        },
        "id": "wuN_zZ7SNtTC",
        "outputId": "6c1970cf-def1-430a-c5ae-bdd3a9d7ce85"
      },
      "outputs": [
        {
          "data": {
            "text/html": [
              "<div>\n",
              "<style scoped>\n",
              "    .dataframe tbody tr th:only-of-type {\n",
              "        vertical-align: middle;\n",
              "    }\n",
              "\n",
              "    .dataframe tbody tr th {\n",
              "        vertical-align: top;\n",
              "    }\n",
              "\n",
              "    .dataframe thead th {\n",
              "        text-align: right;\n",
              "    }\n",
              "</style>\n",
              "<table border=\"1\" class=\"dataframe\">\n",
              "  <thead>\n",
              "    <tr style=\"text-align: right;\">\n",
              "      <th></th>\n",
              "      <th>Cabin_mapped</th>\n",
              "      <th>cabin</th>\n",
              "    </tr>\n",
              "  </thead>\n",
              "  <tbody>\n",
              "    <tr>\n",
              "      <th>501</th>\n",
              "      <td>0</td>\n",
              "      <td>?</td>\n",
              "    </tr>\n",
              "    <tr>\n",
              "      <th>588</th>\n",
              "      <td>0</td>\n",
              "      <td>?</td>\n",
              "    </tr>\n",
              "    <tr>\n",
              "      <th>402</th>\n",
              "      <td>0</td>\n",
              "      <td>?</td>\n",
              "    </tr>\n",
              "    <tr>\n",
              "      <th>1193</th>\n",
              "      <td>0</td>\n",
              "      <td>?</td>\n",
              "    </tr>\n",
              "    <tr>\n",
              "      <th>686</th>\n",
              "      <td>0</td>\n",
              "      <td>?</td>\n",
              "    </tr>\n",
              "    <tr>\n",
              "      <th>971</th>\n",
              "      <td>0</td>\n",
              "      <td>?</td>\n",
              "    </tr>\n",
              "    <tr>\n",
              "      <th>117</th>\n",
              "      <td>1</td>\n",
              "      <td>E36</td>\n",
              "    </tr>\n",
              "    <tr>\n",
              "      <th>540</th>\n",
              "      <td>0</td>\n",
              "      <td>?</td>\n",
              "    </tr>\n",
              "    <tr>\n",
              "      <th>294</th>\n",
              "      <td>2</td>\n",
              "      <td>C68</td>\n",
              "    </tr>\n",
              "    <tr>\n",
              "      <th>261</th>\n",
              "      <td>3</td>\n",
              "      <td>E24</td>\n",
              "    </tr>\n",
              "  </tbody>\n",
              "</table>\n",
              "</div>"
            ],
            "text/plain": [
              "      Cabin_mapped cabin\n",
              "501              0     ?\n",
              "588              0     ?\n",
              "402              0     ?\n",
              "1193             0     ?\n",
              "686              0     ?\n",
              "971              0     ?\n",
              "117              1   E36\n",
              "540              0     ?\n",
              "294              2   C68\n",
              "261              3   E24"
            ]
          },
          "execution_count": 49,
          "metadata": {},
          "output_type": "execute_result"
        }
      ],
      "source": [
        "# Replace the labels in Cabin, using the dict `cabin_dict` created above\n",
        "X_train.loc[:, 'Cabin_mapped'] = X_train.loc[:, 'cabin'].map(cabin_dict)\n",
        "X_test.loc[:, 'Cabin_mapped'] = X_test.loc[:, 'cabin'].map(cabin_dict)\n",
        "\n",
        "X_train[['Cabin_mapped', 'cabin']].head(10)"
      ]
    },
    {
      "cell_type": "code",
      "execution_count": 50,
      "metadata": {
        "colab": {
          "base_uri": "https://localhost:8080/",
          "height": 363
        },
        "id": "2Wf8EKsBNvBe",
        "outputId": "8a784e32-5949-4b27-a344-89e05afeb7b7"
      },
      "outputs": [
        {
          "data": {
            "text/html": [
              "<div>\n",
              "<style scoped>\n",
              "    .dataframe tbody tr th:only-of-type {\n",
              "        vertical-align: middle;\n",
              "    }\n",
              "\n",
              "    .dataframe tbody tr th {\n",
              "        vertical-align: top;\n",
              "    }\n",
              "\n",
              "    .dataframe thead th {\n",
              "        text-align: right;\n",
              "    }\n",
              "</style>\n",
              "<table border=\"1\" class=\"dataframe\">\n",
              "  <thead>\n",
              "    <tr style=\"text-align: right;\">\n",
              "      <th></th>\n",
              "      <th>cabin</th>\n",
              "      <th>Cabin_reduced</th>\n",
              "      <th>sex</th>\n",
              "      <th>Cabin_mapped</th>\n",
              "    </tr>\n",
              "  </thead>\n",
              "  <tbody>\n",
              "    <tr>\n",
              "      <th>501</th>\n",
              "      <td>?</td>\n",
              "      <td>?</td>\n",
              "      <td>female</td>\n",
              "      <td>0</td>\n",
              "    </tr>\n",
              "    <tr>\n",
              "      <th>588</th>\n",
              "      <td>?</td>\n",
              "      <td>?</td>\n",
              "      <td>female</td>\n",
              "      <td>0</td>\n",
              "    </tr>\n",
              "    <tr>\n",
              "      <th>402</th>\n",
              "      <td>?</td>\n",
              "      <td>?</td>\n",
              "      <td>female</td>\n",
              "      <td>0</td>\n",
              "    </tr>\n",
              "    <tr>\n",
              "      <th>1193</th>\n",
              "      <td>?</td>\n",
              "      <td>?</td>\n",
              "      <td>male</td>\n",
              "      <td>0</td>\n",
              "    </tr>\n",
              "    <tr>\n",
              "      <th>686</th>\n",
              "      <td>?</td>\n",
              "      <td>?</td>\n",
              "      <td>female</td>\n",
              "      <td>0</td>\n",
              "    </tr>\n",
              "    <tr>\n",
              "      <th>971</th>\n",
              "      <td>?</td>\n",
              "      <td>?</td>\n",
              "      <td>male</td>\n",
              "      <td>0</td>\n",
              "    </tr>\n",
              "    <tr>\n",
              "      <th>117</th>\n",
              "      <td>E36</td>\n",
              "      <td>E</td>\n",
              "      <td>female</td>\n",
              "      <td>1</td>\n",
              "    </tr>\n",
              "    <tr>\n",
              "      <th>540</th>\n",
              "      <td>?</td>\n",
              "      <td>?</td>\n",
              "      <td>female</td>\n",
              "      <td>0</td>\n",
              "    </tr>\n",
              "    <tr>\n",
              "      <th>294</th>\n",
              "      <td>C68</td>\n",
              "      <td>C</td>\n",
              "      <td>male</td>\n",
              "      <td>2</td>\n",
              "    </tr>\n",
              "    <tr>\n",
              "      <th>261</th>\n",
              "      <td>E24</td>\n",
              "      <td>E</td>\n",
              "      <td>male</td>\n",
              "      <td>3</td>\n",
              "    </tr>\n",
              "  </tbody>\n",
              "</table>\n",
              "</div>"
            ],
            "text/plain": [
              "     cabin Cabin_reduced     sex  Cabin_mapped\n",
              "501      ?             ?  female             0\n",
              "588      ?             ?  female             0\n",
              "402      ?             ?  female             0\n",
              "1193     ?             ?    male             0\n",
              "686      ?             ?  female             0\n",
              "971      ?             ?    male             0\n",
              "117    E36             E  female             1\n",
              "540      ?             ?  female             0\n",
              "294    C68             C    male             2\n",
              "261    E24             E    male             3"
            ]
          },
          "execution_count": 50,
          "metadata": {},
          "output_type": "execute_result"
        }
      ],
      "source": [
        "# Display First 10 Data in `X_train`\n",
        "X_train.head(10)"
      ]
    },
    {
      "attachments": {},
      "cell_type": "markdown",
      "metadata": {
        "id": "xZ2xyGrFNwej"
      },
      "source": [
        "We see how NaN takes the value 0 in the new variable, E36 takes the value 1, C68 takes the value 2, and so on."
      ]
    },
    {
      "cell_type": "code",
      "execution_count": 51,
      "metadata": {
        "colab": {
          "base_uri": "https://localhost:8080/"
        },
        "id": "i1GjGlnNNxHe",
        "outputId": "b2796db5-6f6b-47b2-b3a4-a28ac5df8ee8"
      },
      "outputs": [
        {
          "name": "stdout",
          "output_type": "stream",
          "text": [
            "Before Replace\n",
            "     Cabin_reduced cabin\n",
            "501              ?     ?\n",
            "588              ?     ?\n",
            "402              ?     ?\n",
            "1193             ?     ?\n",
            "686              ?     ?\n",
            "971              ?     ?\n",
            "117              E   E36\n",
            "540              ?     ?\n",
            "294              C   C68\n",
            "261              E   E24\n",
            "\n",
            "After Replace\n",
            "      Cabin_reduced cabin\n",
            "501               0     ?\n",
            "588               0     ?\n",
            "402               0     ?\n",
            "1193              0     ?\n",
            "686               0     ?\n",
            "971               0     ?\n",
            "117               1   E36\n",
            "540               0     ?\n",
            "294               2   C68\n",
            "261               1   E24\n",
            "\n"
          ]
        },
        {
          "name": "stderr",
          "output_type": "stream",
          "text": [
            "C:\\Users\\ASUS\\AppData\\Local\\Temp\\ipykernel_3960\\800770103.py:11: DeprecationWarning: In a future version, `df.iloc[:, i] = newvals` will attempt to set the values inplace instead of always setting a new array. To retain the old behavior, use either `df[df.columns[i]] = newvals` or, if columns are non-unique, `df.isetitem(i, newvals)`\n",
            "  X_train.loc[:, 'Cabin_reduced'] = X_train.loc[:, 'Cabin_reduced'].map(cabin_dict)\n",
            "C:\\Users\\ASUS\\AppData\\Local\\Temp\\ipykernel_3960\\800770103.py:12: DeprecationWarning: In a future version, `df.iloc[:, i] = newvals` will attempt to set the values inplace instead of always setting a new array. To retain the old behavior, use either `df[df.columns[i]] = newvals` or, if columns are non-unique, `df.isetitem(i, newvals)`\n",
            "  X_test.loc[:, 'Cabin_reduced'] = X_test.loc[:, 'Cabin_reduced'].map(cabin_dict)\n"
          ]
        }
      ],
      "source": [
        "# Now we will replace the letters in the reduced cabin variable (`Cabin_reduced`) with the same procedure\n",
        "\n",
        "# Create replace dictionary\n",
        "cabin_dict = {k: i for i, k in enumerate(X_train['Cabin_reduced'].unique(), 0)}\n",
        "\n",
        "print('Before Replace')\n",
        "print(X_train[['Cabin_reduced', 'cabin']].head(10))\n",
        "print('')\n",
        "\n",
        "# Replace labels by numbers with dictionary\n",
        "X_train.loc[:, 'Cabin_reduced'] = X_train.loc[:, 'Cabin_reduced'].map(cabin_dict)\n",
        "X_test.loc[:, 'Cabin_reduced'] = X_test.loc[:, 'Cabin_reduced'].map(cabin_dict)\n",
        "\n",
        "print('After Replace')\n",
        "print(X_train[['Cabin_reduced', 'cabin']].head(10))\n",
        "print('')"
      ]
    },
    {
      "cell_type": "code",
      "execution_count": 52,
      "metadata": {
        "colab": {
          "base_uri": "https://localhost:8080/",
          "height": 363
        },
        "id": "GoIlYm1hN1Re",
        "outputId": "b5c96908-bf0f-49a7-e96c-46f6c165cbe2"
      },
      "outputs": [
        {
          "data": {
            "text/html": [
              "<div>\n",
              "<style scoped>\n",
              "    .dataframe tbody tr th:only-of-type {\n",
              "        vertical-align: middle;\n",
              "    }\n",
              "\n",
              "    .dataframe tbody tr th {\n",
              "        vertical-align: top;\n",
              "    }\n",
              "\n",
              "    .dataframe thead th {\n",
              "        text-align: right;\n",
              "    }\n",
              "</style>\n",
              "<table border=\"1\" class=\"dataframe\">\n",
              "  <thead>\n",
              "    <tr style=\"text-align: right;\">\n",
              "      <th></th>\n",
              "      <th>cabin</th>\n",
              "      <th>Cabin_reduced</th>\n",
              "      <th>sex</th>\n",
              "      <th>Cabin_mapped</th>\n",
              "    </tr>\n",
              "  </thead>\n",
              "  <tbody>\n",
              "    <tr>\n",
              "      <th>501</th>\n",
              "      <td>?</td>\n",
              "      <td>0</td>\n",
              "      <td>female</td>\n",
              "      <td>0</td>\n",
              "    </tr>\n",
              "    <tr>\n",
              "      <th>588</th>\n",
              "      <td>?</td>\n",
              "      <td>0</td>\n",
              "      <td>female</td>\n",
              "      <td>0</td>\n",
              "    </tr>\n",
              "    <tr>\n",
              "      <th>402</th>\n",
              "      <td>?</td>\n",
              "      <td>0</td>\n",
              "      <td>female</td>\n",
              "      <td>0</td>\n",
              "    </tr>\n",
              "    <tr>\n",
              "      <th>1193</th>\n",
              "      <td>?</td>\n",
              "      <td>0</td>\n",
              "      <td>male</td>\n",
              "      <td>0</td>\n",
              "    </tr>\n",
              "    <tr>\n",
              "      <th>686</th>\n",
              "      <td>?</td>\n",
              "      <td>0</td>\n",
              "      <td>female</td>\n",
              "      <td>0</td>\n",
              "    </tr>\n",
              "    <tr>\n",
              "      <th>971</th>\n",
              "      <td>?</td>\n",
              "      <td>0</td>\n",
              "      <td>male</td>\n",
              "      <td>0</td>\n",
              "    </tr>\n",
              "    <tr>\n",
              "      <th>117</th>\n",
              "      <td>E36</td>\n",
              "      <td>1</td>\n",
              "      <td>female</td>\n",
              "      <td>1</td>\n",
              "    </tr>\n",
              "    <tr>\n",
              "      <th>540</th>\n",
              "      <td>?</td>\n",
              "      <td>0</td>\n",
              "      <td>female</td>\n",
              "      <td>0</td>\n",
              "    </tr>\n",
              "    <tr>\n",
              "      <th>294</th>\n",
              "      <td>C68</td>\n",
              "      <td>2</td>\n",
              "      <td>male</td>\n",
              "      <td>2</td>\n",
              "    </tr>\n",
              "    <tr>\n",
              "      <th>261</th>\n",
              "      <td>E24</td>\n",
              "      <td>1</td>\n",
              "      <td>male</td>\n",
              "      <td>3</td>\n",
              "    </tr>\n",
              "  </tbody>\n",
              "</table>\n",
              "</div>"
            ],
            "text/plain": [
              "     cabin  Cabin_reduced     sex  Cabin_mapped\n",
              "501      ?              0  female             0\n",
              "588      ?              0  female             0\n",
              "402      ?              0  female             0\n",
              "1193     ?              0    male             0\n",
              "686      ?              0  female             0\n",
              "971      ?              0    male             0\n",
              "117    E36              1  female             1\n",
              "540      ?              0  female             0\n",
              "294    C68              2    male             2\n",
              "261    E24              1    male             3"
            ]
          },
          "execution_count": 52,
          "metadata": {},
          "output_type": "execute_result"
        }
      ],
      "source": [
        "# Display First 10 Data in `X_train`\n",
        "X_train.head(10)"
      ]
    },
    {
      "attachments": {},
      "cell_type": "markdown",
      "metadata": {
        "id": "1pxe3Di8N4B1"
      },
      "source": [
        "We see now that E36 and E24 take the same number, 1, because we are capturing only the letter. They both start with E."
      ]
    },
    {
      "cell_type": "code",
      "execution_count": 53,
      "metadata": {
        "colab": {
          "base_uri": "https://localhost:8080/"
        },
        "id": "YV3IX_Z0N5Qy",
        "outputId": "075aa02d-7132-4c20-aee3-33845fa8cc59"
      },
      "outputs": [
        {
          "name": "stderr",
          "output_type": "stream",
          "text": [
            "C:\\Users\\ASUS\\AppData\\Local\\Temp\\ipykernel_3960\\1300005932.py:3: DeprecationWarning: In a future version, `df.iloc[:, i] = newvals` will attempt to set the values inplace instead of always setting a new array. To retain the old behavior, use either `df[df.columns[i]] = newvals` or, if columns are non-unique, `df.isetitem(i, newvals)`\n",
            "  X_train.loc[:, 'sex'] = X_train.loc[:, 'sex'].map({'male': 0, 'female': 1})\n",
            "C:\\Users\\ASUS\\AppData\\Local\\Temp\\ipykernel_3960\\1300005932.py:4: DeprecationWarning: In a future version, `df.iloc[:, i] = newvals` will attempt to set the values inplace instead of always setting a new array. To retain the old behavior, use either `df[df.columns[i]] = newvals` or, if columns are non-unique, `df.isetitem(i, newvals)`\n",
            "  X_test.loc[:, 'sex'] = X_test.loc[:, 'sex'].map({'male': 0, 'female': 1})\n"
          ]
        },
        {
          "data": {
            "text/plain": [
              "501     1\n",
              "588     1\n",
              "402     1\n",
              "1193    0\n",
              "686     1\n",
              "Name: sex, dtype: int64"
            ]
          },
          "execution_count": 53,
          "metadata": {},
          "output_type": "execute_result"
        }
      ],
      "source": [
        "# Re-map the categorical variable `Sex` into numbers\n",
        "\n",
        "X_train.loc[:, 'sex'] = X_train.loc[:, 'sex'].map({'male': 0, 'female': 1})\n",
        "X_test.loc[:, 'sex'] = X_test.loc[:, 'sex'].map({'male': 0, 'female': 1})\n",
        "\n",
        "X_train.sex.head()"
      ]
    },
    {
      "cell_type": "code",
      "execution_count": 54,
      "metadata": {
        "colab": {
          "base_uri": "https://localhost:8080/"
        },
        "id": "xHUCJB_hN6dc",
        "outputId": "29ca1f58-0413-4667-b980-e02070930b08"
      },
      "outputs": [
        {
          "data": {
            "text/plain": [
              "Cabin_mapped     0\n",
              "Cabin_reduced    0\n",
              "sex              0\n",
              "dtype: int64"
            ]
          },
          "execution_count": 54,
          "metadata": {},
          "output_type": "execute_result"
        }
      ],
      "source": [
        "# Check if there are missing values in these variables\n",
        "\n",
        "X_train[['Cabin_mapped', 'Cabin_reduced', 'sex']].isnull().sum()"
      ]
    },
    {
      "cell_type": "code",
      "execution_count": 55,
      "metadata": {
        "colab": {
          "base_uri": "https://localhost:8080/"
        },
        "id": "6kY61--5N8RF",
        "outputId": "3ccdeb33-28f3-4c00-dce2-931e6840b24b"
      },
      "outputs": [
        {
          "data": {
            "text/plain": [
              "Cabin_mapped     42\n",
              "Cabin_reduced     0\n",
              "sex               0\n",
              "dtype: int64"
            ]
          },
          "execution_count": 55,
          "metadata": {},
          "output_type": "execute_result"
        }
      ],
      "source": [
        "X_test[['Cabin_mapped', 'Cabin_reduced', 'sex']].isnull().sum()"
      ]
    },
    {
      "cell_type": "code",
      "execution_count": 56,
      "metadata": {
        "colab": {
          "base_uri": "https://localhost:8080/",
          "height": 1000
        },
        "id": "C8DoOOx3N_KC",
        "outputId": "eab41c70-f8d2-4adb-e1cb-d4a8b4818733"
      },
      "outputs": [
        {
          "data": {
            "text/html": [
              "<div>\n",
              "<style scoped>\n",
              "    .dataframe tbody tr th:only-of-type {\n",
              "        vertical-align: middle;\n",
              "    }\n",
              "\n",
              "    .dataframe tbody tr th {\n",
              "        vertical-align: top;\n",
              "    }\n",
              "\n",
              "    .dataframe thead th {\n",
              "        text-align: right;\n",
              "    }\n",
              "</style>\n",
              "<table border=\"1\" class=\"dataframe\">\n",
              "  <thead>\n",
              "    <tr style=\"text-align: right;\">\n",
              "      <th></th>\n",
              "      <th>cabin</th>\n",
              "      <th>Cabin_reduced</th>\n",
              "      <th>sex</th>\n",
              "      <th>Cabin_mapped</th>\n",
              "    </tr>\n",
              "  </thead>\n",
              "  <tbody>\n",
              "    <tr>\n",
              "      <th>5</th>\n",
              "      <td>E12</td>\n",
              "      <td>1</td>\n",
              "      <td>0</td>\n",
              "      <td>NaN</td>\n",
              "    </tr>\n",
              "    <tr>\n",
              "      <th>231</th>\n",
              "      <td>C104</td>\n",
              "      <td>2</td>\n",
              "      <td>0</td>\n",
              "      <td>NaN</td>\n",
              "    </tr>\n",
              "    <tr>\n",
              "      <th>31</th>\n",
              "      <td>A31</td>\n",
              "      <td>5</td>\n",
              "      <td>0</td>\n",
              "      <td>NaN</td>\n",
              "    </tr>\n",
              "    <tr>\n",
              "      <th>161</th>\n",
              "      <td>D11</td>\n",
              "      <td>3</td>\n",
              "      <td>1</td>\n",
              "      <td>NaN</td>\n",
              "    </tr>\n",
              "    <tr>\n",
              "      <th>215</th>\n",
              "      <td>D48</td>\n",
              "      <td>3</td>\n",
              "      <td>0</td>\n",
              "      <td>NaN</td>\n",
              "    </tr>\n",
              "    <tr>\n",
              "      <th>141</th>\n",
              "      <td>D10 D12</td>\n",
              "      <td>3</td>\n",
              "      <td>1</td>\n",
              "      <td>NaN</td>\n",
              "    </tr>\n",
              "    <tr>\n",
              "      <th>45</th>\n",
              "      <td>B38</td>\n",
              "      <td>4</td>\n",
              "      <td>0</td>\n",
              "      <td>NaN</td>\n",
              "    </tr>\n",
              "    <tr>\n",
              "      <th>152</th>\n",
              "      <td>D45</td>\n",
              "      <td>3</td>\n",
              "      <td>0</td>\n",
              "      <td>NaN</td>\n",
              "    </tr>\n",
              "    <tr>\n",
              "      <th>233</th>\n",
              "      <td>C50</td>\n",
              "      <td>2</td>\n",
              "      <td>1</td>\n",
              "      <td>NaN</td>\n",
              "    </tr>\n",
              "    <tr>\n",
              "      <th>268</th>\n",
              "      <td>C31</td>\n",
              "      <td>2</td>\n",
              "      <td>0</td>\n",
              "      <td>NaN</td>\n",
              "    </tr>\n",
              "    <tr>\n",
              "      <th>142</th>\n",
              "      <td>B82 B84</td>\n",
              "      <td>4</td>\n",
              "      <td>0</td>\n",
              "      <td>NaN</td>\n",
              "    </tr>\n",
              "    <tr>\n",
              "      <th>241</th>\n",
              "      <td>A32</td>\n",
              "      <td>5</td>\n",
              "      <td>0</td>\n",
              "      <td>NaN</td>\n",
              "    </tr>\n",
              "    <tr>\n",
              "      <th>298</th>\n",
              "      <td>C53</td>\n",
              "      <td>2</td>\n",
              "      <td>0</td>\n",
              "      <td>NaN</td>\n",
              "    </tr>\n",
              "    <tr>\n",
              "      <th>39</th>\n",
              "      <td>B10</td>\n",
              "      <td>4</td>\n",
              "      <td>0</td>\n",
              "      <td>NaN</td>\n",
              "    </tr>\n",
              "    <tr>\n",
              "      <th>295</th>\n",
              "      <td>C70</td>\n",
              "      <td>2</td>\n",
              "      <td>0</td>\n",
              "      <td>NaN</td>\n",
              "    </tr>\n",
              "    <tr>\n",
              "      <th>14</th>\n",
              "      <td>A23</td>\n",
              "      <td>5</td>\n",
              "      <td>0</td>\n",
              "      <td>NaN</td>\n",
              "    </tr>\n",
              "    <tr>\n",
              "      <th>254</th>\n",
              "      <td>C106</td>\n",
              "      <td>2</td>\n",
              "      <td>0</td>\n",
              "      <td>NaN</td>\n",
              "    </tr>\n",
              "    <tr>\n",
              "      <th>61</th>\n",
              "      <td>C46</td>\n",
              "      <td>2</td>\n",
              "      <td>1</td>\n",
              "      <td>NaN</td>\n",
              "    </tr>\n",
              "    <tr>\n",
              "      <th>75</th>\n",
              "      <td>E58</td>\n",
              "      <td>1</td>\n",
              "      <td>0</td>\n",
              "      <td>NaN</td>\n",
              "    </tr>\n",
              "    <tr>\n",
              "      <th>140</th>\n",
              "      <td>D10 D12</td>\n",
              "      <td>3</td>\n",
              "      <td>0</td>\n",
              "      <td>NaN</td>\n",
              "    </tr>\n",
              "    <tr>\n",
              "      <th>156</th>\n",
              "      <td>B11</td>\n",
              "      <td>4</td>\n",
              "      <td>0</td>\n",
              "      <td>NaN</td>\n",
              "    </tr>\n",
              "    <tr>\n",
              "      <th>270</th>\n",
              "      <td>C31</td>\n",
              "      <td>2</td>\n",
              "      <td>1</td>\n",
              "      <td>NaN</td>\n",
              "    </tr>\n",
              "    <tr>\n",
              "      <th>1122</th>\n",
              "      <td>F E69</td>\n",
              "      <td>6</td>\n",
              "      <td>1</td>\n",
              "      <td>NaN</td>\n",
              "    </tr>\n",
              "    <tr>\n",
              "      <th>192</th>\n",
              "      <td>B80</td>\n",
              "      <td>4</td>\n",
              "      <td>1</td>\n",
              "      <td>NaN</td>\n",
              "    </tr>\n",
              "    <tr>\n",
              "      <th>319</th>\n",
              "      <td>E39 E41</td>\n",
              "      <td>1</td>\n",
              "      <td>1</td>\n",
              "      <td>NaN</td>\n",
              "    </tr>\n",
              "    <tr>\n",
              "      <th>34</th>\n",
              "      <td>D22</td>\n",
              "      <td>3</td>\n",
              "      <td>0</td>\n",
              "      <td>NaN</td>\n",
              "    </tr>\n",
              "    <tr>\n",
              "      <th>194</th>\n",
              "      <td>C106</td>\n",
              "      <td>2</td>\n",
              "      <td>0</td>\n",
              "      <td>NaN</td>\n",
              "    </tr>\n",
              "    <tr>\n",
              "      <th>44</th>\n",
              "      <td>E40</td>\n",
              "      <td>1</td>\n",
              "      <td>1</td>\n",
              "      <td>NaN</td>\n",
              "    </tr>\n",
              "    <tr>\n",
              "      <th>269</th>\n",
              "      <td>A19</td>\n",
              "      <td>5</td>\n",
              "      <td>0</td>\n",
              "      <td>NaN</td>\n",
              "    </tr>\n",
              "    <tr>\n",
              "      <th>322</th>\n",
              "      <td>C32</td>\n",
              "      <td>2</td>\n",
              "      <td>1</td>\n",
              "      <td>NaN</td>\n",
              "    </tr>\n",
              "    <tr>\n",
              "      <th>195</th>\n",
              "      <td>B79</td>\n",
              "      <td>4</td>\n",
              "      <td>1</td>\n",
              "      <td>NaN</td>\n",
              "    </tr>\n",
              "    <tr>\n",
              "      <th>308</th>\n",
              "      <td>C32</td>\n",
              "      <td>2</td>\n",
              "      <td>1</td>\n",
              "      <td>NaN</td>\n",
              "    </tr>\n",
              "    <tr>\n",
              "      <th>103</th>\n",
              "      <td>C45</td>\n",
              "      <td>2</td>\n",
              "      <td>1</td>\n",
              "      <td>NaN</td>\n",
              "    </tr>\n",
              "    <tr>\n",
              "      <th>60</th>\n",
              "      <td>C46</td>\n",
              "      <td>2</td>\n",
              "      <td>0</td>\n",
              "      <td>NaN</td>\n",
              "    </tr>\n",
              "    <tr>\n",
              "      <th>82</th>\n",
              "      <td>B22</td>\n",
              "      <td>4</td>\n",
              "      <td>1</td>\n",
              "      <td>NaN</td>\n",
              "    </tr>\n",
              "    <tr>\n",
              "      <th>122</th>\n",
              "      <td>B39</td>\n",
              "      <td>4</td>\n",
              "      <td>1</td>\n",
              "      <td>NaN</td>\n",
              "    </tr>\n",
              "    <tr>\n",
              "      <th>196</th>\n",
              "      <td>C47</td>\n",
              "      <td>2</td>\n",
              "      <td>0</td>\n",
              "      <td>NaN</td>\n",
              "    </tr>\n",
              "    <tr>\n",
              "      <th>183</th>\n",
              "      <td>B101</td>\n",
              "      <td>4</td>\n",
              "      <td>0</td>\n",
              "      <td>NaN</td>\n",
              "    </tr>\n",
              "    <tr>\n",
              "      <th>81</th>\n",
              "      <td>B22</td>\n",
              "      <td>4</td>\n",
              "      <td>0</td>\n",
              "      <td>NaN</td>\n",
              "    </tr>\n",
              "    <tr>\n",
              "      <th>267</th>\n",
              "      <td>A7</td>\n",
              "      <td>5</td>\n",
              "      <td>0</td>\n",
              "      <td>NaN</td>\n",
              "    </tr>\n",
              "    <tr>\n",
              "      <th>77</th>\n",
              "      <td>E52</td>\n",
              "      <td>1</td>\n",
              "      <td>0</td>\n",
              "      <td>NaN</td>\n",
              "    </tr>\n",
              "    <tr>\n",
              "      <th>1249</th>\n",
              "      <td>F38</td>\n",
              "      <td>6</td>\n",
              "      <td>0</td>\n",
              "      <td>NaN</td>\n",
              "    </tr>\n",
              "  </tbody>\n",
              "</table>\n",
              "</div>"
            ],
            "text/plain": [
              "        cabin  Cabin_reduced  sex  Cabin_mapped\n",
              "5         E12              1    0           NaN\n",
              "231      C104              2    0           NaN\n",
              "31        A31              5    0           NaN\n",
              "161       D11              3    1           NaN\n",
              "215       D48              3    0           NaN\n",
              "141   D10 D12              3    1           NaN\n",
              "45        B38              4    0           NaN\n",
              "152       D45              3    0           NaN\n",
              "233       C50              2    1           NaN\n",
              "268       C31              2    0           NaN\n",
              "142   B82 B84              4    0           NaN\n",
              "241       A32              5    0           NaN\n",
              "298       C53              2    0           NaN\n",
              "39        B10              4    0           NaN\n",
              "295       C70              2    0           NaN\n",
              "14        A23              5    0           NaN\n",
              "254      C106              2    0           NaN\n",
              "61        C46              2    1           NaN\n",
              "75        E58              1    0           NaN\n",
              "140   D10 D12              3    0           NaN\n",
              "156       B11              4    0           NaN\n",
              "270       C31              2    1           NaN\n",
              "1122    F E69              6    1           NaN\n",
              "192       B80              4    1           NaN\n",
              "319   E39 E41              1    1           NaN\n",
              "34        D22              3    0           NaN\n",
              "194      C106              2    0           NaN\n",
              "44        E40              1    1           NaN\n",
              "269       A19              5    0           NaN\n",
              "322       C32              2    1           NaN\n",
              "195       B79              4    1           NaN\n",
              "308       C32              2    1           NaN\n",
              "103       C45              2    1           NaN\n",
              "60        C46              2    0           NaN\n",
              "82        B22              4    1           NaN\n",
              "122       B39              4    1           NaN\n",
              "196       C47              2    0           NaN\n",
              "183      B101              4    0           NaN\n",
              "81        B22              4    0           NaN\n",
              "267        A7              5    0           NaN\n",
              "77        E52              1    0           NaN\n",
              "1249      F38              6    0           NaN"
            ]
          },
          "execution_count": 56,
          "metadata": {},
          "output_type": "execute_result"
        }
      ],
      "source": [
        "# Display row in `X_test` that contains missing values\n",
        "X_test[X_test.isna().any(axis=1)]"
      ]
    },
    {
      "attachments": {},
      "cell_type": "markdown",
      "metadata": {
        "id": "WwXHrksbOCC1"
      },
      "source": [
        "In the test set, there are now **42 missing values** for the highly cardinal variable. These were introduced when encoding the categories into numbers. How? **Many categories exist only in the test set.** Thus, when we created our encoding dictionary using only the train set, we did not generate a number to replace those labels present only in the test set. As a consequence, they were encoded as NaN. For now, let's fill those missing values with 0."
      ]
    },
    {
      "cell_type": "code",
      "execution_count": 57,
      "metadata": {
        "colab": {
          "base_uri": "https://localhost:8080/",
          "height": 363
        },
        "id": "eNedsl23OBEd",
        "outputId": "a3997c88-1b45-4122-b259-64580851514f"
      },
      "outputs": [
        {
          "data": {
            "text/html": [
              "<div>\n",
              "<style scoped>\n",
              "    .dataframe tbody tr th:only-of-type {\n",
              "        vertical-align: middle;\n",
              "    }\n",
              "\n",
              "    .dataframe tbody tr th {\n",
              "        vertical-align: top;\n",
              "    }\n",
              "\n",
              "    .dataframe thead th {\n",
              "        text-align: right;\n",
              "    }\n",
              "</style>\n",
              "<table border=\"1\" class=\"dataframe\">\n",
              "  <thead>\n",
              "    <tr style=\"text-align: right;\">\n",
              "      <th></th>\n",
              "      <th>cabin</th>\n",
              "      <th>Cabin_reduced</th>\n",
              "      <th>sex</th>\n",
              "      <th>Cabin_mapped</th>\n",
              "    </tr>\n",
              "  </thead>\n",
              "  <tbody>\n",
              "    <tr>\n",
              "      <th>501</th>\n",
              "      <td>?</td>\n",
              "      <td>0</td>\n",
              "      <td>1</td>\n",
              "      <td>0</td>\n",
              "    </tr>\n",
              "    <tr>\n",
              "      <th>588</th>\n",
              "      <td>?</td>\n",
              "      <td>0</td>\n",
              "      <td>1</td>\n",
              "      <td>0</td>\n",
              "    </tr>\n",
              "    <tr>\n",
              "      <th>402</th>\n",
              "      <td>?</td>\n",
              "      <td>0</td>\n",
              "      <td>1</td>\n",
              "      <td>0</td>\n",
              "    </tr>\n",
              "    <tr>\n",
              "      <th>1193</th>\n",
              "      <td>?</td>\n",
              "      <td>0</td>\n",
              "      <td>0</td>\n",
              "      <td>0</td>\n",
              "    </tr>\n",
              "    <tr>\n",
              "      <th>686</th>\n",
              "      <td>?</td>\n",
              "      <td>0</td>\n",
              "      <td>1</td>\n",
              "      <td>0</td>\n",
              "    </tr>\n",
              "    <tr>\n",
              "      <th>971</th>\n",
              "      <td>?</td>\n",
              "      <td>0</td>\n",
              "      <td>0</td>\n",
              "      <td>0</td>\n",
              "    </tr>\n",
              "    <tr>\n",
              "      <th>117</th>\n",
              "      <td>E36</td>\n",
              "      <td>1</td>\n",
              "      <td>1</td>\n",
              "      <td>1</td>\n",
              "    </tr>\n",
              "    <tr>\n",
              "      <th>540</th>\n",
              "      <td>?</td>\n",
              "      <td>0</td>\n",
              "      <td>1</td>\n",
              "      <td>0</td>\n",
              "    </tr>\n",
              "    <tr>\n",
              "      <th>294</th>\n",
              "      <td>C68</td>\n",
              "      <td>2</td>\n",
              "      <td>0</td>\n",
              "      <td>2</td>\n",
              "    </tr>\n",
              "    <tr>\n",
              "      <th>261</th>\n",
              "      <td>E24</td>\n",
              "      <td>1</td>\n",
              "      <td>0</td>\n",
              "      <td>3</td>\n",
              "    </tr>\n",
              "  </tbody>\n",
              "</table>\n",
              "</div>"
            ],
            "text/plain": [
              "     cabin  Cabin_reduced  sex  Cabin_mapped\n",
              "501      ?              0    1             0\n",
              "588      ?              0    1             0\n",
              "402      ?              0    1             0\n",
              "1193     ?              0    0             0\n",
              "686      ?              0    1             0\n",
              "971      ?              0    0             0\n",
              "117    E36              1    1             1\n",
              "540      ?              0    1             0\n",
              "294    C68              2    0             2\n",
              "261    E24              1    0             3"
            ]
          },
          "execution_count": 57,
          "metadata": {},
          "output_type": "execute_result"
        }
      ],
      "source": [
        "# Display X_train\n",
        "X_train.head(10)"
      ]
    },
    {
      "attachments": {},
      "cell_type": "markdown",
      "metadata": {
        "id": "NYAGxr0-OGds"
      },
      "source": [
        "### Random Forests"
      ]
    },
    {
      "cell_type": "code",
      "execution_count": 58,
      "metadata": {
        "colab": {
          "base_uri": "https://localhost:8080/"
        },
        "id": "Z3rZxkm0OEj3",
        "outputId": "459b3b82-22d6-40d6-e59e-b2f74201a47b"
      },
      "outputs": [
        {
          "name": "stdout",
          "output_type": "stream",
          "text": [
            "Train set\n",
            "Random Forests roc-auc: 0.8561832352985574\n",
            "Test set\n",
            "Random Forests roc-auc: 0.7707953099939163\n"
          ]
        }
      ],
      "source": [
        "# Model built on data with high cardinality for cabin\n",
        "\n",
        "# Call the model\n",
        "rf = RandomForestClassifier(n_estimators=200, random_state=39)\n",
        "\n",
        "# Train the model\n",
        "rf.fit(X_train[['Cabin_mapped', 'sex']], y_train)\n",
        "\n",
        "# Make predictions on train and test set\n",
        "pred_train = rf.predict_proba(X_train[['Cabin_mapped', 'sex']])\n",
        "pred_test = rf.predict_proba(X_test[['Cabin_mapped', 'sex']].fillna(0))\n",
        "\n",
        "print('Train set')\n",
        "print('Random Forests roc-auc: {}'.format(roc_auc_score(y_train, pred_train[:,1])))\n",
        "print('Test set')\n",
        "print('Random Forests roc-auc: {}'.format(roc_auc_score(y_test, pred_test[:,1])))"
      ]
    },
    {
      "attachments": {},
      "cell_type": "markdown",
      "metadata": {
        "id": "Tzfhwqe9OK-s"
      },
      "source": [
        "We observe that the performance of the Random Forests on the training set is quite superior to its performance in the test set. This indicates that the model is over-fitting, which means that it does a great job at predicting the outcome on the dataset it was trained on, but it lacks the power to generalise the prediction to unseen data."
      ]
    },
    {
      "cell_type": "code",
      "execution_count": 59,
      "metadata": {
        "colab": {
          "base_uri": "https://localhost:8080/"
        },
        "id": "FOJ1hk_IOLly",
        "outputId": "34277df1-aee5-45e0-87f9-a4f5e5869e5a"
      },
      "outputs": [
        {
          "name": "stdout",
          "output_type": "stream",
          "text": [
            "Train set\n",
            "Random Forests roc-auc: 0.8163420365403872\n",
            "Test set\n",
            "Random Forests roc-auc: 0.8017670482827277\n"
          ]
        }
      ],
      "source": [
        "# Model built on data with low cardinality for cabin\n",
        "\n",
        "# Call the model\n",
        "rf = RandomForestClassifier(n_estimators=200, random_state=39)\n",
        "\n",
        "# Train the model\n",
        "rf.fit(X_train[['Cabin_reduced', 'sex']], y_train)\n",
        "\n",
        "# Make predictions on train and test set\n",
        "pred_train = rf.predict_proba(X_train[['Cabin_reduced', 'sex']])\n",
        "pred_test = rf.predict_proba(X_test[['Cabin_reduced', 'sex']])\n",
        "\n",
        "print('Train set')\n",
        "print('Random Forests roc-auc: {}'.format(roc_auc_score(y_train, pred_train[:,1])))\n",
        "print('Test set')\n",
        "print('Random Forests roc-auc: {}'.format(roc_auc_score(y_test, pred_test[:,1])))"
      ]
    },
    {
      "attachments": {},
      "cell_type": "markdown",
      "metadata": {
        "id": "ciJD35reONol"
      },
      "source": [
        "We can see now that the Random Forests no longer over-fit to the training set. In addition, the model is much better at generalising the predictions (compare the roc-auc of this model on the test set vs the roc-auc of the model above also in the test set: 0.81 vs 0.80).\n",
        "\n",
        "**Given a same model, with identical hyper-parameters, high cardinality may cause the model to over-fit**."
      ]
    },
    {
      "attachments": {},
      "cell_type": "markdown",
      "metadata": {
        "id": "x-IGcQW4OUmW"
      },
      "source": [
        "### Logistic Regression"
      ]
    },
    {
      "cell_type": "code",
      "execution_count": 60,
      "metadata": {
        "colab": {
          "base_uri": "https://localhost:8080/"
        },
        "id": "zFCJYE3ROV9X",
        "outputId": "1ece8d96-85e6-4ebc-9a52-1b5e989dabf0"
      },
      "outputs": [
        {
          "name": "stdout",
          "output_type": "stream",
          "text": [
            "Train set\n",
            "Logistic regression roc-auc: 0.8135594926008485\n",
            "Test set\n",
            "Logistic regression roc-auc: 0.7744732039157127\n"
          ]
        }
      ],
      "source": [
        "# Model build on data with plenty of categories in Cabin variable\n",
        "\n",
        "# Call the model\n",
        "logit = LogisticRegression(random_state=44, solver='lbfgs')\n",
        "\n",
        "# Train the model\n",
        "logit.fit(X_train[['Cabin_mapped', 'sex']], y_train)\n",
        "\n",
        "# Make predictions on train and test set\n",
        "pred_train = logit.predict_proba(X_train[['Cabin_mapped', 'sex']])\n",
        "pred_test = logit.predict_proba(X_test[['Cabin_mapped', 'sex']].fillna(0))\n",
        "\n",
        "print('Train set')\n",
        "print('Logistic regression roc-auc: {}'.format(roc_auc_score(y_train, pred_train[:,1])))\n",
        "print('Test set')\n",
        "print('Logistic regression roc-auc: {}'.format(roc_auc_score(y_test, pred_test[:,1])))"
      ]
    },
    {
      "cell_type": "code",
      "execution_count": 61,
      "metadata": {
        "colab": {
          "base_uri": "https://localhost:8080/"
        },
        "id": "RLO5BXStOXeC",
        "outputId": "b4b7226c-728a-4bef-85c7-abb061c74f8b"
      },
      "outputs": [
        {
          "name": "stdout",
          "output_type": "stream",
          "text": [
            "Train set\n",
            "Logistic regression roc-auc: 0.8123468468695123\n",
            "Test set\n",
            "Logistic regression roc-auc: 0.8008268347989602\n"
          ]
        }
      ],
      "source": [
        "# Model build on data with fewer categories in Cabin Variable\n",
        "\n",
        "# Call the model\n",
        "logit = LogisticRegression(random_state=44, solver='lbfgs')\n",
        "\n",
        "# Train the model\n",
        "logit.fit(X_train[['Cabin_reduced', 'sex']], y_train)\n",
        "\n",
        "# Make predictions on train and test set\n",
        "pred_train = logit.predict_proba(X_train[['Cabin_reduced', 'sex']])\n",
        "pred_test = logit.predict_proba(X_test[['Cabin_reduced', 'sex']].fillna(0))\n",
        "\n",
        "print('Train set')\n",
        "print('Logistic regression roc-auc: {}'.format(roc_auc_score(y_train, pred_train[:,1])))\n",
        "print('Test set')\n",
        "print('Logistic regression roc-auc: {}'.format(roc_auc_score(y_test, pred_test[:,1])))"
      ]
    },
    {
      "attachments": {},
      "cell_type": "markdown",
      "metadata": {
        "id": "B6GBPnhdOY8k"
      },
      "source": [
        "We can draw the same conclusion for Logistic Regression : **reducing the cardinality improves the performance and generalisation of the algorithm**."
      ]
    }
  ],
  "metadata": {
    "colab": {
      "provenance": [],
      "toc_visible": true
    },
    "kernelspec": {
      "display_name": "Python 3",
      "name": "python3"
    },
    "language_info": {
      "codemirror_mode": {
        "name": "ipython",
        "version": 3
      },
      "file_extension": ".py",
      "mimetype": "text/x-python",
      "name": "python",
      "nbconvert_exporter": "python",
      "pygments_lexer": "ipython3",
      "version": "3.11.2"
    },
    "toc": {
      "base_numbering": 1,
      "nav_menu": {},
      "number_sections": true,
      "sideBar": true,
      "skip_h1_title": false,
      "title_cell": "Table of Contents",
      "title_sidebar": "Contents",
      "toc_cell": false,
      "toc_position": {},
      "toc_section_display": "block",
      "toc_window_display": true
    }
  },
  "nbformat": 4,
  "nbformat_minor": 0
}
